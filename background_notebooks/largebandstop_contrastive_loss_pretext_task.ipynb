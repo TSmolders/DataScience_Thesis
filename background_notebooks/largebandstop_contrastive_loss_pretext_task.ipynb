{
 "cells": [
  {
   "cell_type": "markdown",
   "metadata": {},
   "source": [
    "# AIM: Learn and extract features with different pretext tasks"
   ]
  },
  {
   "cell_type": "code",
   "execution_count": 1,
   "metadata": {
    "execution": {
     "iopub.execute_input": "2024-10-21T09:39:19.473430Z",
     "iopub.status.busy": "2024-10-21T09:39:19.473283Z",
     "iopub.status.idle": "2024-10-21T09:39:22.213270Z",
     "shell.execute_reply": "2024-10-21T09:39:22.212722Z",
     "shell.execute_reply.started": "2024-10-21T09:39:19.473413Z"
    }
   },
   "outputs": [],
   "source": [
    "import numpy as np\n",
    "import pandas as pd\n",
    "import mne\n",
    "import lightning.pytorch as pl\n",
    "import torch\n",
    "import torch.nn.functional as F\n",
    "import torch.nn as nn\n",
    "from torchmetrics import F1Score, Accuracy\n",
    "import random\n",
    "import os\n",
    "import matplotlib.pyplot as plt\n",
    "from sklearn.model_selection import train_test_split, StratifiedGroupKFold\n",
    "import itertools\n",
    "from torch.utils.data import Dataset, DataLoader, Subset\n",
    "from lightning.pytorch import Trainer\n",
    "from lightning.pytorch.callbacks import EarlyStopping, ModelCheckpoint\n",
    "from lightning.pytorch.loggers import CSVLogger\n",
    "from sklearn.metrics import f1_score, classification_report, confusion_matrix, ConfusionMatrixDisplay\n",
    "import warnings\n",
    "%matplotlib inline\n",
    "\n",
    "# prevent extensive logging\n",
    "mne.set_log_level('WARNING')"
   ]
  },
  {
   "cell_type": "code",
   "execution_count": 2,
   "metadata": {
    "execution": {
     "iopub.execute_input": "2024-10-21T09:39:22.214564Z",
     "iopub.status.busy": "2024-10-21T09:39:22.214293Z",
     "iopub.status.idle": "2024-10-21T09:39:22.218373Z",
     "shell.execute_reply": "2024-10-21T09:39:22.217881Z",
     "shell.execute_reply.started": "2024-10-21T09:39:22.214545Z"
    }
   },
   "outputs": [
    {
     "name": "stdout",
     "output_type": "stream",
     "text": [
      "2.4.1\n",
      "90100\n"
     ]
    }
   ],
   "source": [
    "print(torch.__version__)\n",
    "print(torch.backends.cudnn.version())"
   ]
  },
  {
   "cell_type": "code",
   "execution_count": 3,
   "metadata": {
    "execution": {
     "iopub.execute_input": "2024-10-21T09:39:22.219030Z",
     "iopub.status.busy": "2024-10-21T09:39:22.218876Z",
     "iopub.status.idle": "2024-10-21T09:39:22.226694Z",
     "shell.execute_reply": "2024-10-21T09:39:22.226218Z",
     "shell.execute_reply.started": "2024-10-21T09:39:22.219014Z"
    }
   },
   "outputs": [
    {
     "name": "stdout",
     "output_type": "stream",
     "text": [
      "Working directory is set to: /data/storage_thesis_tuur\n"
     ]
    }
   ],
   "source": [
    "# set working dir\n",
    "print(f'Working directory is set to: {os.getcwd()}')\n",
    "# path to the epoched data\n",
    "data_path = r\"thesis_epoched_data/EC\""
   ]
  },
  {
   "cell_type": "markdown",
   "metadata": {},
   "source": [
    "## Functions & classes:"
   ]
  },
  {
   "cell_type": "code",
   "execution_count": 4,
   "metadata": {
    "execution": {
     "iopub.execute_input": "2024-10-21T09:39:22.227755Z",
     "iopub.status.busy": "2024-10-21T09:39:22.227599Z",
     "iopub.status.idle": "2024-10-21T09:39:22.289506Z",
     "shell.execute_reply": "2024-10-21T09:39:22.289043Z",
     "shell.execute_reply.started": "2024-10-21T09:39:22.227739Z"
    }
   },
   "outputs": [],
   "source": [
    "def get_participant_ids(eeg_dir, epoch_dir=False):\n",
    "    \"\"\"\n",
    "    Function to get all participant ids from EEG data directory\n",
    "    :param eeg_dir: directory where EEG data is stored\n",
    "    :param epoch_dir: whether the data that we want to retrieve is from the epoch directory or from the raw EEG data directory\n",
    "    :return: list of participant ids\n",
    "    \"\"\"\n",
    "    participant_ids = []\n",
    "    if epoch_dir == False:\n",
    "        for subdir, dirs, files in os.walk(eeg_dir): # iterate through all files\n",
    "            for file in files:\n",
    "                if 'ses-1' in file and '.npy' in file and 'BAD' not in file: # filter first session, .npy files, and non-bad files\n",
    "                    participant_id = file.split('_')[0] # extract participant id\n",
    "                    if participant_id not in participant_ids:\n",
    "                        participant_ids.append(participant_id)\n",
    "    else:\n",
    "        participant_ids = [file.split('.')[0] for file in os.listdir(eeg_dir) if '.pt' in file]\n",
    "        \n",
    "    return participant_ids\n",
    "\n",
    "\n",
    "def train_pretext_model(pretext_task_title,\n",
    "                        pretext_task,\n",
    "                        loss,\n",
    "                        max_epochs,\n",
    "                        data_train,\n",
    "                        data_val,\n",
    "                        batch_size,\n",
    "                        learning_rate=0.001,\n",
    "                        dropout=0.25,\n",
    "                        weight_decay=0,\n",
    "                        store_weights=(True, True),\n",
    "                        num_extracted_features=100,\n",
    "                        pretext_model='EEGNet'):\n",
    "    \"\"\"\n",
    "    Function to train the pretext model\n",
    "    :param pretext_task_title: title (string) describing the specific pretext task for saving the model weights\n",
    "    :param pretext_task: pretext task (string) for correct storing of logs ['withinRP', 'acrossRP', 'acrossSub', 'contrastive_loss']\n",
    "    :param loss: loss (string) for selecting the right model architecture ['soft_margin_loss', 'bce_loss', 'contrastive_loss']\n",
    "    :param max_epochs: maximum number of epochs to train the model\n",
    "    :param data_train: training data\n",
    "    :param data_val: validation data\n",
    "    :param batch_size: batch size\n",
    "    :param learning_rate: learning rate\n",
    "    :param dropout: dropout rate\n",
    "    :param weight_decay: weight decay\n",
    "    :param store_weights: whether to store the weights of the fully trained model and the best checkpoint model\n",
    "    :param num_extracted_features: number of features to extract\n",
    "    :param pretext_model: model to use for the pretext task (EEGNet or ShallowNet)\n",
    "    :return: trained model loaded with best checkpoint\n",
    "    \"\"\"\n",
    "    ## DEFINE THE MODEL CLASS (HAS TO BE DEFINED WITHIN THE FUNCTION TO AVOID ERRORS)\n",
    "    \n",
    "    ## ENCODER ARCHITECTURES (EEGNet and ShallowNet)\n",
    "\n",
    "    # create Conv2d with max norm constraint\n",
    "    class Conv2dWithConstraint(nn.Conv2d):\n",
    "        def __init__(self, *args, max_norm: int = 1, **kwargs):\n",
    "            self.max_norm = max_norm\n",
    "            super(Conv2dWithConstraint, self).__init__(*args, **kwargs)\n",
    "\n",
    "        def forward(self, x: torch.Tensor) -> torch.Tensor:\n",
    "            self.weight.data = torch.renorm(self.weight.data, p=2, dim=0, maxnorm=self.max_norm)\n",
    "            return super(Conv2dWithConstraint, self).forward(x)\n",
    "        \n",
    "    class EEGNet(nn.Module):\n",
    "        \"\"\"\n",
    "        Code taken and adjusted from pytorch implementation of EEGNet\n",
    "        url: https://github.com/torcheeg/torcheeg/blob/v1.1.0/torcheeg/models/cnn/eegnet.py#L5\n",
    "        \"\"\"\n",
    "        def __init__(self,\n",
    "                    num_extracted_features: int = num_extracted_features, # number of features to extract  ## QUESTION\n",
    "                    chunk_size: int = 1244, # number of data points in each EEG chunk\n",
    "                    num_electrodes: int = 26, # number of EEG electrodes\n",
    "                    F1: int = 8, # number of filters in first convolutional layer\n",
    "                    F2: int = 16, # number of filters in second convolutional layer\n",
    "                    D: int = 2, # depth multiplier\n",
    "                    kernel_1: int = 64, # the filter size of block 1 (half of sfreq (125 Hz)) ## QUESTION \n",
    "                    kernel_2: int = 16, # the filter size of block 2 (one eight of sfreq (500 Hz)) ## QUESTION\n",
    "                    dropout: float = 0.25): # dropout rate\n",
    "            super(EEGNet, self).__init__()\n",
    "            self.F1 = F1\n",
    "            self.F2 = F2\n",
    "            self.D = D\n",
    "            self.chunk_size = chunk_size\n",
    "            self.num_extracted_features = num_extracted_features\n",
    "            self.num_electrodes = num_electrodes\n",
    "            self.kernel_1 = kernel_1\n",
    "            self.kernel_2 = kernel_2\n",
    "            self.dropout = dropout\n",
    "\n",
    "            self.block1 = nn.Sequential(\n",
    "                nn.Conv2d(1, self.F1, (1, self.kernel_1), stride=1, padding=(0, self.kernel_1 // 2), bias=False),\n",
    "                nn.BatchNorm2d(self.F1, momentum=0.01, affine=True, eps=1e-3),\n",
    "                Conv2dWithConstraint(self.F1,\n",
    "                                    self.F1 * self.D, (self.num_electrodes, 1),\n",
    "                                    max_norm=1,\n",
    "                                    stride=1,\n",
    "                                    padding=(0, 0),\n",
    "                                    groups=self.F1,\n",
    "                                    bias=False), nn.BatchNorm2d(self.F1 * self.D, momentum=0.01, affine=True, eps=1e-3),\n",
    "                nn.ELU(), nn.AvgPool2d((1, 4), stride=4), nn.Dropout(p=dropout))\n",
    "\n",
    "            self.block2 = nn.Sequential(\n",
    "                nn.Conv2d(self.F1 * self.D,\n",
    "                        self.F1 * self.D, (1, self.kernel_2),\n",
    "                        stride=1,\n",
    "                        padding=(0, self.kernel_2 // 2),\n",
    "                        bias=False,\n",
    "                        groups=self.F1 * self.D),\n",
    "                nn.Conv2d(self.F1 * self.D, self.F2, 1, padding=(0, 0), groups=1, bias=False, stride=1),\n",
    "                nn.BatchNorm2d(self.F2, momentum=0.01, affine=True, eps=1e-3), nn.ELU(), nn.AvgPool2d((1, 8), stride=8),\n",
    "                nn.Dropout(p=dropout))\n",
    "\n",
    "            self.lin = nn.Linear(self.feature_dim(), num_extracted_features, bias=False)\n",
    "\n",
    "\n",
    "        def feature_dim(self):\n",
    "            # function to calculate the number of features after the convolutional blocks\n",
    "            with torch.no_grad():\n",
    "                mock_eeg = torch.zeros(1, 1, self.num_electrodes, self.chunk_size)\n",
    "\n",
    "                mock_eeg = self.block1(mock_eeg)\n",
    "                mock_eeg = self.block2(mock_eeg)\n",
    "\n",
    "            return self.F2 * mock_eeg.shape[3]\n",
    "\n",
    "        def forward(self, x: torch.Tensor) -> torch.Tensor:\n",
    "            x = self.block1(x)\n",
    "            x = self.block2(x)\n",
    "            x = x.flatten(start_dim=1)\n",
    "            x = self.lin(x)\n",
    "            return x\n",
    "        \n",
    "    class ShallowNet(nn.Module):\n",
    "        \"\"\"\n",
    "        Pytorch implementation of the ShallowNet Encoder.\n",
    "        Code taken and adjusted from:\n",
    "        https://github.com/MedMaxLab/selfEEG/blob/024402ba4bde95051d86ab2524cc71105bfd5c25/selfeeg/models/zoo.py#L693\n",
    "        \"\"\"\n",
    "\n",
    "        def __init__(self,\n",
    "                    samples=1244,\n",
    "                    chans=26, # number of EEG channels\n",
    "                    F=40, # number of output filters in the temporal convolution layer\n",
    "                    K1=25, # length of the temporal convolutional layer\n",
    "                    pool=75, # temporal pooling kernel size\n",
    "                    dropout=0.2, # dropout probability\n",
    "                    num_extracted_features=num_extracted_features # number of features to extract\n",
    "                    ):\n",
    "\n",
    "            super(ShallowNet, self).__init__()\n",
    "            self.conv1 = nn.Conv2d(1, F, (1, K1), stride=(1, 1))\n",
    "            self.conv2 = nn.Conv2d(F, F, (chans, 1), stride=(1, 1))\n",
    "            self.batch1 = nn.BatchNorm2d(F)\n",
    "            self.pool2 = nn.AvgPool2d((1, pool), stride=(1, 15))\n",
    "            self.flatten2 = nn.Flatten()\n",
    "            self.drop1 = nn.Dropout(dropout)\n",
    "            self.lin = nn.Linear(\n",
    "                F * ((samples - K1 + 1 - pool) // 15 + 1), num_extracted_features\n",
    "            )\n",
    "\n",
    "        def forward(self, x):\n",
    "            x = self.conv1(x)\n",
    "            x = self.conv2(x)\n",
    "            x = self.batch1(x)\n",
    "            x = torch.square(x)\n",
    "            x = self.pool2(x)\n",
    "            x = torch.log(torch.clamp(x, 1e-7, 10000))\n",
    "            x = self.flatten2(x)\n",
    "            x = self.drop1(x)\n",
    "            x = self.lin(x)\n",
    "\n",
    "            return x\n",
    "        \n",
    "    ## CONTRASTIVE LOSS PRETEXT TASK ARCHITECTURE\n",
    "        \n",
    "    if pretext_model == 'EEGNet' and loss == 'contrastive_loss':\n",
    "        class PretextModel(pl.LightningModule):\n",
    "            def __init__(self, num_extracted_features=num_extracted_features, dropout=0.25, weight_decay=0.00, learning_rate=0.001):\n",
    "                super(PretextModel, self).__init__()\n",
    "                self.weight_decay = weight_decay\n",
    "                self.learning_rate = learning_rate\n",
    "                # feature extractors\n",
    "                self.EEGNet = EEGNet(num_extracted_features=num_extracted_features, dropout=dropout)\n",
    "                \n",
    "                # mlp projection head\n",
    "                self.linear = nn.Linear(num_extracted_features, num_extracted_features)\n",
    "\n",
    "            def forward(self, x1: torch.Tensor, x2) -> torch.Tensor:\n",
    "                x1 = self.EEGNet(x1) # forward pass through EEGNet for first sample\n",
    "                x2 = self.EEGNet(x2) # forward pass through EEGNet for second sample\n",
    "                ## TODO: SHOULD I ADD ANOTHER LINEAR LAYER HERE FIRST?\n",
    "                x1 = F.relu(x1)\n",
    "                x2 = F.relu(x2)\n",
    "                z1 = self.linear(x1) # forward pass through linear layer\n",
    "                z2 = self.linear(x2)\n",
    "                \n",
    "                return z1, z2\n",
    "            \n",
    "            def training_step(self, train_batch, batch_idx):\n",
    "                x = train_batch[0]\n",
    "                y = train_batch[1]\n",
    "                y = y.float()\n",
    "                x1 = x[:, 0, :, :].unsqueeze(1).float()\n",
    "                x2 = x[:, 1, :, :].unsqueeze(1).float()\n",
    "                z1, z2 = self.forward(x1, x2)\n",
    "                loss = self.contrastive_loss(z1, z2, y)\n",
    "                self.log('train_loss', loss, on_epoch=True, prog_bar=True)\n",
    "                # self.log('train_f1', self.train_f1(y_hat, y), prog_bar=True, on_epoch=True)\n",
    "                return loss\n",
    "            \n",
    "            def validation_step(self, val_batch, batch_idx):\n",
    "                x = val_batch[0]\n",
    "                # print(x.shape)\n",
    "                y = val_batch[1]\n",
    "                y = y.float()\n",
    "                # print(y)\n",
    "                x1 = x[:, 0, :, :].unsqueeze(1).float()\n",
    "                x2 = x[:, 1, :, :].unsqueeze(1).float()\n",
    "                z1, z2 = self.forward(x1, x2)\n",
    "                # print(f'{z1.shape=}')\n",
    "                # print(f'{z2.shape=}')\n",
    "                # print(f'{y.shape=}')\n",
    "                loss = self.contrastive_loss(z1, z2, y)\n",
    "                self.log('val_loss', loss, prog_bar=True, on_epoch=True)\n",
    "                # self.log('val_f1', self.val_f1(y_hat, y), prog_bar=True, on_epoch=True)\n",
    "                return loss\n",
    "            \n",
    "            def test_step(self, test_batch, batch_idx):\n",
    "                x = test_batch[0]\n",
    "                y = test_batch[1]\n",
    "                y = y.float()\n",
    "                x1 = x[:, 0, :, :].unsqueeze(1).float()\n",
    "                x2 = x[:, 1, :, :].unsqueeze(1).float()\n",
    "                z1, z2 = self.forward(x1, x2)\n",
    "                loss = self.contrastive_loss(z1, z2, y)\n",
    "                self.log('test_loss', loss, prog_bar=True)\n",
    "                # self.log('test_f1', self.val_f1(y_hat, y), prog_bar=True)\n",
    "                return loss\n",
    "            \n",
    "            def configure_optimizers(self):\n",
    "                optimizer = torch.optim.Adam(self.parameters(), lr=self.learning_rate, betas=(0.9, 0.999), weight_decay=self.weight_decay) # default hyperparameters (used in EEGNet paper)\n",
    "                return optimizer\n",
    "            \n",
    "            def contrastive_loss(self, z1, z2, y, temperature=0.1):\n",
    "                # application of NT-Xent loss https://theaisummer.com/simclr/\n",
    "                batch_size = z1.shape[0]\n",
    "                # first L2 normalization ## TODO: Not sure if necessary, considering already regularization with cosine_similarity\n",
    "                # z1 = F.normalize(z1, p=2, dim=1)\n",
    "                # z2 = F.normalize(z2, p=2, dim=1)\n",
    "\n",
    "                representations = torch.cat([z1, z2], dim=0) # [2 X batch_size, n_features]\n",
    "                similarity_matrix = F.cosine_similarity(representations.unsqueeze(1), representations.unsqueeze(0), dim=2) # [batch_size X views, batch_size X views]\n",
    "\n",
    "                # index positive and negative pairs\n",
    "                sim_ij = torch.diag(similarity_matrix, batch_size)\n",
    "                sim_ji = torch.diag(similarity_matrix, -batch_size)\n",
    "                positives = torch.cat([sim_ij, sim_ji], dim=0)\n",
    "\n",
    "                mask = (~torch.eye(batch_size * 2, batch_size * 2, dtype=bool)).float()\n",
    "                # move mask to same device as similarity_matrix\n",
    "                mask = mask.to(similarity_matrix.device)\n",
    "\n",
    "                # exclude positive pairs from similarity matrix\n",
    "                negatives = similarity_matrix * mask\n",
    "\n",
    "                nominator = torch.exp(positives / temperature)\n",
    "                denominator = torch.sum(torch.exp(negatives / temperature), dim=1)\n",
    "                all_losses = -torch.log(nominator / denominator)\n",
    "                loss = torch.sum(all_losses) / (2 * batch_size)\n",
    "                return loss\n",
    "\n",
    "    elif pretext_model == 'ShallowNet' and loss == 'contrastive_loss':\n",
    "        class PretextModel(pl.LightningModule):\n",
    "            def __init__(self, num_extracted_features=num_extracted_features, dropout=0.25, weight_decay=0.00, learning_rate=0.001):\n",
    "                super(PretextModel, self).__init__()\n",
    "                self.weight_decay = weight_decay\n",
    "                self.learning_rate = learning_rate\n",
    "                # feature extractors\n",
    "                self.ShallowNet = ShallowNet(num_extracted_features=num_extracted_features, dropout=dropout)\n",
    "                \n",
    "                # mlp projection head\n",
    "                self.linear = nn.Linear(num_extracted_features, num_extracted_features)\n",
    "\n",
    "            def forward(self, x1: torch.Tensor, x2) -> torch.Tensor:\n",
    "                x1 = self.ShallowNet(x1) # forward pass through ShallowNet for first sample\n",
    "                x2 = self.ShallowNet(x2) # forward pass through ShallowNet for second sample\n",
    "                ## TODO: SHOULD I ADD ANOTHER LINEAR LAYER HERE FIRST?\n",
    "                x1 = F.relu(x1)\n",
    "                x2 = F.relu(x2)\n",
    "                z1 = self.linear(x1) # forward pass through linear layer\n",
    "                z2 = self.linear(x2)\n",
    "                \n",
    "                return z1, z2\n",
    "            \n",
    "            def training_step(self, train_batch, batch_idx):\n",
    "                x = train_batch[0]\n",
    "                y = train_batch[1]\n",
    "                y = y.float()\n",
    "                x1 = x[:, 0, :, :].unsqueeze(1).float()\n",
    "                x2 = x[:, 1, :, :].unsqueeze(1).float()\n",
    "                z1, z2 = self.forward(x1, x2)\n",
    "                loss = self.contrastive_loss(z1, z2, y)\n",
    "                self.log('train_loss', loss, on_epoch=True, prog_bar=True)\n",
    "                # self.log('train_f1', self.train_f1(y_hat, y), prog_bar=True, on_epoch=True)\n",
    "                return loss\n",
    "            \n",
    "            def validation_step(self, val_batch, batch_idx):\n",
    "                x = val_batch[0]\n",
    "                # print(x.shape)\n",
    "                y = val_batch[1]\n",
    "                y = y.float()\n",
    "                # print(y)\n",
    "                x1 = x[:, 0, :, :].unsqueeze(1).float()\n",
    "                x2 = x[:, 1, :, :].unsqueeze(1).float()\n",
    "                z1, z2 = self.forward(x1, x2)\n",
    "                # print(f'{z1.shape=}')\n",
    "                # print(f'{z2.shape=}')\n",
    "                # print(f'{y.shape=}')\n",
    "                loss = self.contrastive_loss(z1, z2, y)\n",
    "                self.log('val_loss', loss, prog_bar=True, on_epoch=True)\n",
    "                # self.log('val_f1', self.val_f1(y_hat, y), prog_bar=True, on_epoch=True)\n",
    "                return loss\n",
    "            \n",
    "            def test_step(self, test_batch, batch_idx):\n",
    "                x = test_batch[0]\n",
    "                y = test_batch[1]\n",
    "                y = y.float()\n",
    "                x1 = x[:, 0, :, :].unsqueeze(1).float()\n",
    "                x2 = x[:, 1, :, :].unsqueeze(1).float()\n",
    "                z1, z2 = self.forward(x1, x2)\n",
    "                loss = self.contrastive_loss(z1, z2, y)\n",
    "                self.log('test_loss', loss, prog_bar=True)\n",
    "                # self.log('test_f1', self.val_f1(y_hat, y), prog_bar=True)\n",
    "                return loss\n",
    "            \n",
    "            def configure_optimizers(self):\n",
    "                optimizer = torch.optim.Adam(self.parameters(), lr=self.learning_rate, betas=(0.9, 0.999), weight_decay=self.weight_decay) # default hyperparameters (used in EEGNet paper)\n",
    "                return optimizer\n",
    "            \n",
    "            def contrastive_loss(self, z1, z2, y, temperature=0.1):\n",
    "                # application of NT-Xent loss https://theaisummer.com/simclr/\n",
    "                batch_size = z1.shape[0]\n",
    "                # first L2 normalization ## TODO: Not sure if necessary, considering already regularization with cosine_similarity\n",
    "                # z1 = F.normalize(z1, p=2, dim=1)\n",
    "                # z2 = F.normalize(z2, p=2, dim=1)\n",
    "\n",
    "                representations = torch.cat([z1, z2], dim=0) # [2 X batch_size, n_features]\n",
    "                similarity_matrix = F.cosine_similarity(representations.unsqueeze(1), representations.unsqueeze(0), dim=2) # [batch_size X views, batch_size X views]\n",
    "\n",
    "                # index positive and negative pairs\n",
    "                sim_ij = torch.diag(similarity_matrix, batch_size)\n",
    "                sim_ji = torch.diag(similarity_matrix, -batch_size)\n",
    "                positives = torch.cat([sim_ij, sim_ji], dim=0)\n",
    "\n",
    "                mask = (~torch.eye(batch_size * 2, batch_size * 2, dtype=bool)).float()\n",
    "                # move mask to same device as similarity_matrix\n",
    "                mask = mask.to(similarity_matrix.device)\n",
    "\n",
    "                # exclude positive pairs from similarity matrix\n",
    "                negatives = similarity_matrix * mask\n",
    "\n",
    "                nominator = torch.exp(positives / temperature)\n",
    "                denominator = torch.sum(torch.exp(negatives / temperature), dim=1)\n",
    "                all_losses = -torch.log(nominator / denominator)\n",
    "                loss = torch.sum(all_losses) / (2 * batch_size)\n",
    "                return loss\n",
    "            \n",
    "    ## BCE LOSS PRETEXT TASK ARCHITECTURE\n",
    "\n",
    "    elif pretext_model == 'EEGNet' and loss == 'bce_loss':\n",
    "        class PretextModel(pl.LightningModule):\n",
    "            def __init__(self, num_extracted_features=num_extracted_features, dropout=0.25, weight_decay=0.00, learning_rate=0.001):\n",
    "                super(PretextModel, self).__init__()\n",
    "                self.weight_decay = weight_decay\n",
    "                self.learning_rate = learning_rate\n",
    "                # feature extractors\n",
    "                self.EEGNet = EEGNet(num_extracted_features=num_extracted_features, dropout=dropout)\n",
    "                \n",
    "                # linear discriminate layer\n",
    "                self.linear = nn.Linear(num_extracted_features, 1)\n",
    "\n",
    "                # add metrics\n",
    "                self.train_f1 = F1Score(task='multiclass', num_classes=2, average='macro')\n",
    "                self.val_f1 = F1Score(task='multiclass', num_classes=2, average='macro')\n",
    "\n",
    "            def forward(self, x1: torch.Tensor, x2) -> torch.Tensor:\n",
    "                x1 = self.EEGNet(x1) # forward pass through EEGNet for first sample\n",
    "                x2 = self.EEGNet(x2) # forward pass through EEGNet for second sample\n",
    "                z = torch.abs(x1 - x2) # calculate the absolute difference between the two feature vectors (contrastive module)\n",
    "                x = self.linear(z) # forward pass through linear layer\n",
    "                return x\n",
    "            \n",
    "            def training_step(self, train_batch, batch_idx):\n",
    "                x = train_batch[0]\n",
    "                y = train_batch[1]\n",
    "                y = y.float()\n",
    "                x1 = x[:, 0, :, :].unsqueeze(1).float()\n",
    "                x2 = x[:, 1, :, :].unsqueeze(1).float()\n",
    "                logits = self.forward(x1, x2)\n",
    "                logits = logits.view(-1)\n",
    "                loss = F.binary_cross_entropy_with_logits(logits, y)\n",
    "                y_hat = F.sigmoid(logits)\n",
    "                y_hat = torch.where(y_hat > 0.5, 1, 0)\n",
    "                self.log('train_loss', loss, on_epoch=True, prog_bar=True)\n",
    "                self.log('train_f1', self.train_f1(y_hat, y), prog_bar=True, on_epoch=True)\n",
    "                return loss\n",
    "            \n",
    "            def validation_step(self, val_batch, batch_idx):\n",
    "                x = val_batch[0]\n",
    "                y = val_batch[1]\n",
    "                y = y.float()\n",
    "                x1 = x[:, 0, :, :].unsqueeze(1).float()\n",
    "                x2 = x[:, 1, :, :].unsqueeze(1).float()\n",
    "                logits = self.forward(x1, x2)\n",
    "                logits = logits.view(-1)\n",
    "                loss = F.binary_cross_entropy_with_logits(logits, y)\n",
    "                y_hat = F.sigmoid(logits)\n",
    "                y_hat = torch.where(y_hat > 0.5, 1, 0)\n",
    "                self.log('val_loss', loss, prog_bar=True, on_epoch=True)\n",
    "                self.log('val_f1', self.val_f1(y_hat, y), prog_bar=True, on_epoch=True)\n",
    "                return loss\n",
    "            \n",
    "            def test_step(self, test_batch, batch_idx):\n",
    "                x = test_batch[0]\n",
    "                y = test_batch[1]\n",
    "                y = y.float()\n",
    "                x1 = x[:, 0, :, :].unsqueeze(1).float()\n",
    "                x2 = x[:, 1, :, :].unsqueeze(1).float()\n",
    "                logits = self.forward(x1, x2)\n",
    "                logits = logits.view(-1)\n",
    "                loss = F.binary_cross_entropy_with_logits(logits, y)\n",
    "                y_hat = F.sigmoid(logits)\n",
    "                y_hat = torch.where(y_hat > 0.5, 1, 0)\n",
    "                self.log('test_loss', loss, prog_bar=True)\n",
    "                self.log('test_f1', self.val_f1(y_hat, y), prog_bar=True)\n",
    "                return loss\n",
    "            \n",
    "            def predict_step(self, batch):\n",
    "                x = batch[0]\n",
    "                x1 = x[:, 0, :, :].unsqueeze(1).float()\n",
    "                x2 = x[:, 1, :, :].unsqueeze(1).float()\n",
    "                logits = self.forward(x1, x2)\n",
    "                logits = logits.view(-1)\n",
    "                y_hat = F.sigmoid(logits)\n",
    "                y_hat = torch.where(y_hat > 0.5, 1, 0)\n",
    "                return y_hat\n",
    "            \n",
    "            def configure_optimizers(self):\n",
    "                optimizer = torch.optim.Adam(self.parameters(), lr=self.learning_rate, betas=(0.9, 0.999), weight_decay=self.weight_decay) # default hyperparameters (used in EEGNet paper)\n",
    "                return optimizer\n",
    "\n",
    "    elif pretext_model == 'ShallowNet' and loss == 'bce_loss':\n",
    "        class PretextModel(pl.LightningModule):\n",
    "            def __init__(self, num_extracted_features=num_extracted_features, dropout=0.25, weight_decay=0.00, learning_rate=0.001):\n",
    "                super(PretextModel, self).__init__()\n",
    "                self.weight_decay = weight_decay\n",
    "                self.learning_rate = learning_rate\n",
    "                # feature extractors\n",
    "                self.ShallowNet = ShallowNet(num_extracted_features=num_extracted_features, dropout=dropout)\n",
    "                \n",
    "                # linear discriminate layer\n",
    "                self.linear = nn.Linear(num_extracted_features, 1)\n",
    "\n",
    "                # add metrics\n",
    "                self.train_f1 = F1Score(task='multiclass', num_classes=2, average='macro')\n",
    "                self.val_f1 = F1Score(task='multiclass', num_classes=2, average='macro')\n",
    "\n",
    "            def forward(self, x1: torch.Tensor, x2) -> torch.Tensor:\n",
    "                x1 = self.ShallowNet(x1) # forward pass through ShallowNet for first sample\n",
    "                x2 = self.ShallowNet(x2) # forward pass through ShallowNet for second sample\n",
    "                z = torch.abs(x1 - x2) # calculate the absolute difference between the two feature vectors (contrastive module)\n",
    "                x = self.linear(z) # forward pass through linear layer\n",
    "                return x\n",
    "            \n",
    "            def training_step(self, train_batch, batch_idx):\n",
    "                x = train_batch[0]\n",
    "                y = train_batch[1]\n",
    "                y = y.float()\n",
    "                x1 = x[:, 0, :, :].unsqueeze(1).float()\n",
    "                x2 = x[:, 1, :, :].unsqueeze(1).float()\n",
    "                logits = self.forward(x1, x2)\n",
    "                logits = logits.view(-1)\n",
    "                loss = F.binary_cross_entropy_with_logits(logits, y)\n",
    "                y_hat = F.sigmoid(logits)\n",
    "                y_hat = torch.where(y_hat > 0.5, 1, 0)\n",
    "                self.log('train_loss', loss, on_epoch=True, prog_bar=True)\n",
    "                self.log('train_f1', self.train_f1(y_hat, y), prog_bar=True, on_epoch=True)\n",
    "                return loss\n",
    "            \n",
    "            def validation_step(self, val_batch, batch_idx):\n",
    "                x = val_batch[0]\n",
    "                y = val_batch[1]\n",
    "                y = y.float()\n",
    "                x1 = x[:, 0, :, :].unsqueeze(1).float()\n",
    "                x2 = x[:, 1, :, :].unsqueeze(1).float()\n",
    "                logits = self.forward(x1, x2)\n",
    "                logits = logits.view(-1)\n",
    "                loss = F.binary_cross_entropy_with_logits(logits, y)\n",
    "                y_hat = F.sigmoid(logits)\n",
    "                y_hat = torch.where(y_hat > 0.5, 1, 0)\n",
    "                self.log('val_loss', loss, prog_bar=True, on_epoch=True)\n",
    "                self.log('val_f1', self.val_f1(y_hat, y), prog_bar=True, on_epoch=True)\n",
    "                return loss\n",
    "            \n",
    "            def test_step(self, test_batch, batch_idx):\n",
    "                x = test_batch[0]\n",
    "                y = test_batch[1]\n",
    "                y = y.float()\n",
    "                x1 = x[:, 0, :, :].unsqueeze(1).float()\n",
    "                x2 = x[:, 1, :, :].unsqueeze(1).float()\n",
    "                logits = self.forward(x1, x2)\n",
    "                logits = logits.view(-1)\n",
    "                loss = F.binary_cross_entropy_with_logits(logits, y)\n",
    "                y_hat = F.sigmoid(logits)\n",
    "                y_hat = torch.where(y_hat > 0.5, 1, 0)\n",
    "                self.log('test_loss', loss, prog_bar=True)\n",
    "                self.log('test_f1', self.val_f1(y_hat, y), prog_bar=True)\n",
    "                return loss\n",
    "            \n",
    "            def predict_step(self, batch):\n",
    "                x = batch[0]\n",
    "                x1 = x[:, 0, :, :].unsqueeze(1).float()\n",
    "                x2 = x[:, 1, :, :].unsqueeze(1).float()\n",
    "                logits = self.forward(x1, x2)\n",
    "                logits = logits.view(-1)\n",
    "                y_hat = F.sigmoid(logits)\n",
    "                y_hat = torch.where(y_hat > 0.5, 1, 0)\n",
    "                return y_hat\n",
    "            \n",
    "            def configure_optimizers(self):\n",
    "                optimizer = torch.optim.Adam(self.parameters(), lr=self.learning_rate, betas=(0.9, 0.999), weight_decay=self.weight_decay) # default hyperparameters (used in EEGNet paper)\n",
    "                return optimizer\n",
    "\n",
    "    ## SOFT MARGIN LOSS PRETEXT TASK ARCHITECTURE\n",
    "    if pretext_model == 'EEGNet' and loss == 'soft_margin_loss':\n",
    "        class PretextModel(pl.LightningModule):\n",
    "            def __init__(self, num_extracted_features=num_extracted_features, dropout=0.25, weight_decay=0.00, learning_rate=0.001):\n",
    "                super(PretextModel, self).__init__()\n",
    "                self.weight_decay = weight_decay\n",
    "                self.learning_rate = learning_rate\n",
    "                # feature extractors\n",
    "                self.EEGNet = EEGNet(num_extracted_features=num_extracted_features, dropout=dropout)\n",
    "                \n",
    "                # linear discriminate layer\n",
    "                self.linear = nn.Linear(num_extracted_features, 1)\n",
    "\n",
    "                # add metrics\n",
    "                self.train_f1 = F1Score(task='multiclass', num_classes=2, average='macro')\n",
    "                self.val_f1 = F1Score(task='multiclass', num_classes=2, average='macro')\n",
    "\n",
    "            def forward(self, x1: torch.Tensor, x2) -> torch.Tensor:\n",
    "                x1 = self.EEGNet(x1) # forward pass through EEGNet for first sample\n",
    "                x2 = self.EEGNet(x2) # forward pass through EEGNet for second sample\n",
    "                z = torch.abs(x1 - x2) # calculate the absolute difference between the two feature vectors (contrastive module)\n",
    "                x = self.linear(z) # forward pass through linear layer\n",
    "                return x\n",
    "            \n",
    "            def training_step(self, train_batch, batch_idx):\n",
    "                x = train_batch[0]\n",
    "                y = train_batch[1]\n",
    "                y = y\n",
    "                x1 = x[:, 0, :, :].unsqueeze(1).float()\n",
    "                x2 = x[:, 1, :, :].unsqueeze(1).float()\n",
    "                logits = self.forward(x1, x2)\n",
    "                logits = logits.view(-1)\n",
    "                loss = F.soft_margin_loss(logits, y, reduce='sum')\n",
    "                y = torch.where(y == -1, 0, y)\n",
    "                y_hat = F.sigmoid(logits)\n",
    "                y_hat = torch.where(y_hat > 0.5, 1, 0)\n",
    "                self.log('train_loss', loss, on_epoch=True, prog_bar=True)\n",
    "                self.log('train_f1', self.train_f1(y_hat, y), prog_bar=True, on_epoch=True)\n",
    "                return loss\n",
    "            \n",
    "            def validation_step(self, val_batch, batch_idx):\n",
    "                x = val_batch[0]\n",
    "                y = val_batch[1]\n",
    "                y = y\n",
    "                x1 = x[:, 0, :, :].unsqueeze(1).float()\n",
    "                x2 = x[:, 1, :, :].unsqueeze(1).float()\n",
    "                logits = self.forward(x1, x2)\n",
    "                logits = logits.view(-1)\n",
    "                loss = F.soft_margin_loss(logits, y, reduce='sum')\n",
    "                y = torch.where(y == -1, 0, y)\n",
    "                y_hat = F.sigmoid(logits)\n",
    "                y_hat = torch.where(y_hat > 0.5, 1, 0)\n",
    "                self.log('val_loss', loss, prog_bar=True, on_epoch=True)\n",
    "                self.log('val_f1', self.val_f1(y_hat, y), prog_bar=True, on_epoch=True)\n",
    "                return loss\n",
    "            \n",
    "            def test_step(self, test_batch, batch_idx):\n",
    "                x = test_batch[0]\n",
    "                y = test_batch[1]\n",
    "                y = y\n",
    "                x1 = x[:, 0, :, :].unsqueeze(1).float()\n",
    "                x2 = x[:, 1, :, :].unsqueeze(1).float()\n",
    "                logits = self.forward(x1, x2)\n",
    "                logits = logits.view(-1)\n",
    "                loss = F.soft_margin_loss(logits, y, reduce='sum')\n",
    "                y = torch.where(y == -1, 0, y)\n",
    "                y_hat = F.sigmoid(logits)\n",
    "                y_hat = torch.where(y_hat > 0.5, 1, 0)\n",
    "                self.log('test_loss', loss, prog_bar=True)\n",
    "                self.log('test_f1', self.val_f1(y_hat, y), prog_bar=True)\n",
    "                return loss\n",
    "            \n",
    "            def predict_step(self, batch):\n",
    "                x = batch[0]\n",
    "                x1 = x[:, 0, :, :].unsqueeze(1).float()\n",
    "                x2 = x[:, 1, :, :].unsqueeze(1).float()\n",
    "                logits = self.forward(x1, x2)\n",
    "                logits = logits.view(-1)\n",
    "                y_hat = F.sigmoid(logits)\n",
    "                y_hat = torch.where(y_hat > 0.5, 1, 0)\n",
    "                return y_hat\n",
    "            \n",
    "            def configure_optimizers(self):\n",
    "                optimizer = torch.optim.Adam(self.parameters(), lr=self.learning_rate, betas=(0.9, 0.999), weight_decay=self.weight_decay) # default hyperparameters (used in EEGNet paper)\n",
    "                return optimizer\n",
    "\n",
    "    if pretext_model == 'ShallowNet' and loss == 'soft_margin_loss':\n",
    "        class PretextModel(pl.LightningModule):\n",
    "            def __init__(self, num_extracted_features=num_extracted_features, dropout=0.25, weight_decay=0.00, learning_rate=0.001):\n",
    "                super(PretextModel, self).__init__()\n",
    "                self.weight_decay = weight_decay\n",
    "                self.learning_rate = learning_rate\n",
    "                # feature extractors\n",
    "                self.ShallowNet = ShallowNet(num_extracted_features=num_extracted_features, dropout=dropout)\n",
    "                \n",
    "                # linear discriminate layer\n",
    "                self.linear = nn.Linear(num_extracted_features, 1)\n",
    "\n",
    "                # add metrics\n",
    "                self.train_f1 = F1Score(task='multiclass', num_classes=2, average='macro')\n",
    "                self.val_f1 = F1Score(task='multiclass', num_classes=2, average='macro')\n",
    "\n",
    "            def forward(self, x1: torch.Tensor, x2) -> torch.Tensor:\n",
    "                x1 = self.ShallowNet(x1) # forward pass through ShallowNet for first sample\n",
    "                x2 = self.ShallowNet(x2) # forward pass through ShallowNet for second sample\n",
    "                z = torch.abs(x1 - x2) # calculate the absolute difference between the two feature vectors (contrastive module)\n",
    "                x = self.linear(z) # forward pass through linear layer\n",
    "                return x\n",
    "            \n",
    "            def training_step(self, train_batch, batch_idx):\n",
    "                x = train_batch[0]\n",
    "                y = train_batch[1]\n",
    "                y = y\n",
    "                x1 = x[:, 0, :, :].unsqueeze(1).float()\n",
    "                x2 = x[:, 1, :, :].unsqueeze(1).float()\n",
    "                logits = self.forward(x1, x2)\n",
    "                logits = logits.view(-1)\n",
    "                loss = F.soft_margin_loss(logits, y, reduce='sum')\n",
    "                y = torch.where(y == -1, 0, y)\n",
    "                y_hat = F.sigmoid(logits)\n",
    "                y_hat = torch.where(y_hat > 0.5, 1, 0)\n",
    "                self.log('train_loss', loss, on_epoch=True, prog_bar=True)\n",
    "                self.log('train_f1', self.train_f1(y_hat, y), prog_bar=True, on_epoch=True)\n",
    "                return loss\n",
    "            \n",
    "            def validation_step(self, val_batch, batch_idx):\n",
    "                x = val_batch[0]\n",
    "                y = val_batch[1]\n",
    "                y = y\n",
    "                x1 = x[:, 0, :, :].unsqueeze(1).float()\n",
    "                x2 = x[:, 1, :, :].unsqueeze(1).float()\n",
    "                logits = self.forward(x1, x2)\n",
    "                logits = logits.view(-1)\n",
    "                loss = F.soft_margin_loss(logits, y, reduce='sum')\n",
    "                y = torch.where(y == -1, 0, y)\n",
    "                y_hat = F.sigmoid(logits)\n",
    "                y_hat = torch.where(y_hat > 0.5, 1, 0)\n",
    "                self.log('val_loss', loss, prog_bar=True, on_epoch=True)\n",
    "                self.log('val_f1', self.val_f1(y_hat, y), prog_bar=True, on_epoch=True)\n",
    "                return loss\n",
    "            \n",
    "            def test_step(self, test_batch, batch_idx):\n",
    "                x = test_batch[0]\n",
    "                y = test_batch[1]\n",
    "                y = y\n",
    "                x1 = x[:, 0, :, :].unsqueeze(1).float()\n",
    "                x2 = x[:, 1, :, :].unsqueeze(1).float()\n",
    "                logits = self.forward(x1, x2)\n",
    "                logits = logits.view(-1)\n",
    "                loss = F.soft_margin_loss(logits, y, reduce='sum')\n",
    "                y = torch.where(y == -1, 0, y)\n",
    "                y_hat = F.sigmoid(logits)\n",
    "                y_hat = torch.where(y_hat > 0.5, 1, 0)\n",
    "                self.log('test_loss', loss, prog_bar=True)\n",
    "                self.log('test_f1', self.val_f1(y_hat, y), prog_bar=True)\n",
    "                return loss\n",
    "            \n",
    "            def predict_step(self, batch):\n",
    "                x = batch[0]\n",
    "                x1 = x[:, 0, :, :].unsqueeze(1).float()\n",
    "                x2 = x[:, 1, :, :].unsqueeze(1).float()\n",
    "                logits = self.forward(x1, x2)\n",
    "                logits = logits.view(-1)\n",
    "                y_hat = F.sigmoid(logits)\n",
    "                y_hat = torch.where(y_hat > 0.5, 1, 0)\n",
    "                return y_hat\n",
    "            \n",
    "            def configure_optimizers(self):\n",
    "                optimizer = torch.optim.Adam(self.parameters(), lr=self.learning_rate, betas=(0.9, 0.999), weight_decay=self.weight_decay) # default hyperparameters (used in EEGNet paper)\n",
    "                return optimizer\n",
    "\n",
    "    # remove particular warnings\n",
    "    warnings.filterwarnings(\"ignore\", \".*Consider increasing the value of the `num_workers` argument*\")\n",
    "    warnings.filterwarnings(\"ignore\", \".*Trying to infer the `batch_size` from an ambiguous collection*\")\n",
    "\n",
    "    if pretext_task == 'withinRP':\n",
    "        log_folder = 'withinRP_pretext_task'\n",
    "    if pretext_task == 'acrossRP':\n",
    "        log_folder = 'acrossRP_pretext_task'\n",
    "    if pretext_task == 'acrossSub':\n",
    "        log_folder = 'acrossSub_pretext_task'\n",
    "    if pretext_task == 'contrastive_loss':\n",
    "        log_folder = 'contrastive_loss_pretext_task'\n",
    "\n",
    "    logger = CSVLogger(\"logs\", name=log_folder) # log results to csv file\n",
    "    torch.set_float32_matmul_precision('high') # for use of tensor cores\n",
    "    # create pretext model\n",
    "    model = PretextModel(learning_rate=learning_rate, dropout=dropout, weight_decay=weight_decay, num_extracted_features=num_extracted_features)\n",
    "    \n",
    "    # create data loaders\n",
    "    train_loader = DataLoader(data_train, batch_size=batch_size, shuffle=True)\n",
    "    val_loader = DataLoader(data_val, batch_size=batch_size, shuffle=False)\n",
    "    \n",
    "    checkpoint_callback = ModelCheckpoint(monitor='val_loss',\n",
    "                                    mode='max',\n",
    "                                    save_top_k=3,\n",
    "                                    filename='{epoch}-{train_loss:.2f}-{train_f1:.2f}-{val_loss:.2f}-{val_f1:.2f}',\n",
    "                                    )\n",
    "\n",
    "    trainer = Trainer(\n",
    "        precision='16-mixed',\n",
    "        accelerator='gpu',\n",
    "        devices=1,\n",
    "        max_epochs=max_epochs,\n",
    "        callbacks=checkpoint_callback,\n",
    "        enable_progress_bar=True,\n",
    "        enable_model_summary=True,\n",
    "        enable_checkpointing=True,\n",
    "        logger=logger,\n",
    "        log_every_n_steps=5,\n",
    "    )\n",
    "\n",
    "    trainer.fit(model, train_loader, val_loader)\n",
    "\n",
    "    if store_weights[0]:\n",
    "        torch.save(model.state_dict(), f'pretext_model_weights/fullytrained_{pretext_task_title}_weights.pt')\n",
    "    \n",
    "    # load best model checkpoint\n",
    "    print(f\"Best model checkpoint path: {checkpoint_callback.best_model_path}\")\n",
    "    best_model = PretextModel.load_from_checkpoint(checkpoint_callback.best_model_path, strict=False)\n",
    "    \n",
    "    if store_weights[1]:\n",
    "        torch.save(best_model.state_dict(), f'pretext_model_weights/{pretext_task_title}_weights.pt')\n",
    "\n",
    "    return best_model\n",
    "\n",
    "def plot_training_curves(metrics_path):\n",
    "    \"\"\"\n",
    "    Function to plot training curves from csv log file\n",
    "    :param metrics_path: path to the csv file containing the model diagnostics\n",
    "    :return:\n",
    "    \"\"\"\n",
    "    fig, axs = plt.subplots(2, 1, figsize=(10, 10))\n",
    "\n",
    "    metrics = pd.read_csv(metrics_path)\n",
    "\n",
    "    # Check if 'train_f1_epoch' and 'val_f1' columns exist\n",
    "    if 'train_f1_epoch' in metrics.columns and 'val_f1' in metrics.columns:\n",
    "        train_f1_epoch = metrics['train_f1_epoch'].dropna()\n",
    "        val_f1 = metrics['val_f1'].dropna()\n",
    "        axs[0].plot(train_f1_epoch, label='Train F1 Score')\n",
    "        axs[0].plot(val_f1, label='Validation F1 Score')\n",
    "        axs[0].set_title('F1 Score')\n",
    "        axs[0].set_xlabel('Epoch')\n",
    "        axs[0].set_ylabel('F1 Score')\n",
    "        axs[0].legend()\n",
    "    else:\n",
    "        print(\"F1 score columns not found in the metrics file.\")\n",
    "\n",
    "    # Check if 'train_loss' and 'val_loss' columns exist\n",
    "    if 'train_loss_epoch' in metrics.columns and 'val_loss' in metrics.columns:\n",
    "        train_loss = metrics['train_loss_epoch'].dropna()\n",
    "        val_loss = metrics['val_loss'].dropna()\n",
    "        axs[1].plot(train_loss, label='Train Loss')\n",
    "        axs[1].plot(val_loss, label='Validation Loss')\n",
    "        axs[1].set_title('Loss')\n",
    "        axs[1].set_xlabel('Epoch')\n",
    "        axs[1].set_ylabel('Loss')\n",
    "        axs[1].legend()\n",
    "    else:\n",
    "        print(\"Loss columns not found in the metrics file.\")\n",
    "\n",
    "    plt.tight_layout()\n",
    "    plt.show()\n",
    "\n",
    "    return\n",
    "\n",
    "def evaluate_pretext_model(model, data_test, test_labels, pretext_task, soft_margin_loss=False, batch_size=None):\n",
    "    \"\"\"\n",
    "    Function to evaluate the pretext model\n",
    "    :param model: trained model\n",
    "    :param data_test: test data\n",
    "    :param test_labels: test labels\n",
    "    :param pretext_task: pretext task str to select right class labels for plots ['withinRP', 'acrossRP', 'acrossSub']\n",
    "    :param soft_margin_loss: whether model uses soft margin loss\n",
    "    :param batch_size: batch size\n",
    "    :return: test results\n",
    "    \"\"\"\n",
    "    if batch_size is None:\n",
    "        batch_size = len(data_test)\n",
    "        \n",
    "    # obtain predictions on test set and plot confusion matrix\n",
    "    test_loader = DataLoader(data_test, batch_size=batch_size, shuffle=False,\n",
    "                                drop_last=True)\n",
    "\n",
    "    # model = PretextModel.load_from_checkpoint(r'D:\\Documents\\Master_Data_Science\\Thesis\\thesis_code\\DataScience_Thesis\\logs\\pretext_task\\version_15\\checkpoints\\epoch=45-train_loss=54.10-train_f1=0.67-val_loss=106.12-val_f1=0.72.ckpt')\n",
    "\n",
    "    trainer = Trainer(accelerator='gpu', devices=1, enable_progress_bar=False, enable_model_summary=False, logger=False, enable_checkpointing=False)\n",
    "    trainer.test(model, test_loader)\n",
    "\n",
    "    # compute confusion matrix and classification report with sklearn of best model checkpoint\n",
    "    from sklearn.metrics import f1_score, classification_report, confusion_matrix, ConfusionMatrixDisplay\n",
    "    y_pred = trainer.predict(model, test_loader)\n",
    "    y_pred = np.concatenate(y_pred).flatten()\n",
    "    y = np.array(test_labels)\n",
    "    if soft_margin_loss:\n",
    "        y = np.where(y == -1, 0, y)\n",
    "\n",
    "    if pretext_task == 'withinRP' or pretext_task == 'acrossRP':\n",
    "        class_labels = ['Separate', 'Adjacent']\n",
    "    if pretext_task == 'acrossSub':\n",
    "        class_labels = ['Across subjects', 'Within subject']\n",
    "        \n",
    "    print('classification report:\\n', classification_report(y, y_pred, target_names=class_labels))\n",
    "    print('F1-score:\\n', f1_score(y, y_pred, average=\"macro\"))\n",
    "    print('Accuracy:\\n', (y == y_pred).sum() / len(y))\n",
    "    cm = confusion_matrix(y, y_pred)\n",
    "    ConfusionMatrixDisplay(confusion_matrix=cm, display_labels=class_labels).plot(cmap = 'Blues', values_format = 'd', colorbar=False)\n",
    "    plt.grid(False)\n",
    "\n",
    "    return"
   ]
  },
  {
   "cell_type": "markdown",
   "metadata": {},
   "source": [
    "### Dataset classes"
   ]
  },
  {
   "cell_type": "markdown",
   "metadata": {},
   "source": [
    "#### Within Subject Relative Positioning Dataset"
   ]
  },
  {
   "cell_type": "code",
   "execution_count": 5,
   "metadata": {
    "execution": {
     "iopub.execute_input": "2024-10-21T09:39:22.290702Z",
     "iopub.status.busy": "2024-10-21T09:39:22.290546Z",
     "iopub.status.idle": "2024-10-21T09:39:22.298528Z",
     "shell.execute_reply": "2024-10-21T09:39:22.298085Z",
     "shell.execute_reply.started": "2024-10-21T09:39:22.290687Z"
    }
   },
   "outputs": [],
   "source": [
    "class RPDataset(Dataset):\n",
    "    def __init__(self, participant_ids, data_path, subsample=True, tpos=1, device='cpu', soft_margin_loss=False):\n",
    "        \"\"\"\n",
    "        Dataset for the Relative Positioning task. Obtains all combinations of two epochs per participant.\n",
    "        :param participant_ids: List of participant IDs\n",
    "        :param data_path: Path to the directory containing the preprocessed EEG data\n",
    "        :param subsample: Whether to subsample the dataset for class balance or not\n",
    "        :param tpos: Time/index difference of the epochs in which the epochs are considered adjacent\n",
    "        :param device: Device to store the data ('cpu' or 'cuda')\n",
    "        :param soft_margin_loss: Whether the model uses soft margin loss (needs [-1, 1] labels)\n",
    "        \"\"\"\n",
    "        self.participant_ids = participant_ids\n",
    "        self.data_path = data_path\n",
    "        self.subsample = subsample\n",
    "        self.tpos = tpos\n",
    "        self.device = device\n",
    "        self.soft_margin_loss = soft_margin_loss\n",
    "        self.sampled_epochs_indices_id = []\n",
    "        self.labels = []\n",
    "        self.data_cache = {}\n",
    "        self._load_data()\n",
    "\n",
    "    def _load_data(self):\n",
    "        for participant_id in self.participant_ids:\n",
    "            # Load the data for the participant\n",
    "            data = torch.load(os.path.join(self.data_path, f\"{participant_id}.pt\"))\n",
    "            # Move data to the specified device\n",
    "            data = torch.tensor(data)\n",
    "            data = data.to(self.device)\n",
    "            self.data_cache[participant_id] = data\n",
    "            # Generate all combinations of two epochs for this participant\n",
    "            self.sample_all_combinations(participant_id, len(data), soft_margin_loss=self.soft_margin_loss)\n",
    "\n",
    "    def sample_all_combinations(self, participant_id, num_epochs, soft_margin_loss=False):\n",
    "        \"\"\"\n",
    "        Sample all combinations of two epochs for a participant\n",
    "        \"\"\"\n",
    "        all_combinations = list(itertools.combinations(range(num_epochs), 2))\n",
    "        if soft_margin_loss:\n",
    "            # use -1 if the epochs are not adjacent, 1 if they are\n",
    "            labels = [1 if abs(i - j) <= self.tpos else -1 for i, j in all_combinations]\n",
    "        else:\n",
    "            # use 0 if the epochs are not adjacent, 1 if they are\n",
    "            labels = [1 if abs(i - j) <= self.tpos else 0 for i, j in all_combinations]\n",
    "        if self.subsample:\n",
    "            # Subsample the combinations and labels\n",
    "            sampled_indices = self.subsample_combinations(labels, soft_margin_loss=self.soft_margin_loss)\n",
    "        else:\n",
    "            # Use all combinations\n",
    "            sampled_indices = range(len(all_combinations))\n",
    "\n",
    "        # Store the combinations and labels\n",
    "        for idx in sampled_indices:\n",
    "            i, j = all_combinations[idx]\n",
    "            label = labels[idx]\n",
    "            self.sampled_epochs_indices_id.append((participant_id, i, j, label))\n",
    "            self.labels.append(label)\n",
    "\n",
    "    def subsample_combinations(self, labels, soft_margin_loss=False):\n",
    "        \"\"\"\n",
    "        Subsamples the combinations to ensure class balance\n",
    "        \"\"\"\n",
    "        # Identify indices of samples with labels -1/0 and 1\n",
    "        if soft_margin_loss:\n",
    "            indices_0 = [idx for idx, label in enumerate(labels) if label == -1]\n",
    "        else:\n",
    "            indices_0 = [idx for idx, label in enumerate(labels) if label == 0]\n",
    "        indices_1 = [idx for idx, label in enumerate(labels) if label == 1]\n",
    "\n",
    "        # Determine the smaller count between the two labels\n",
    "        min_count = min(len(indices_0), len(indices_1))\n",
    "\n",
    "        # Randomly sample indices from both labels to ensure they have the same count\n",
    "        np.random.seed(42)  # For reproducibility\n",
    "        sampled_indices_0 = np.random.choice(indices_0, min_count, replace=False)\n",
    "        sampled_indices_1 = np.random.choice(indices_1, min_count, replace=False)\n",
    "\n",
    "        # Combine the sampled indices\n",
    "        sampled_indices = np.concatenate((sampled_indices_0, sampled_indices_1))\n",
    "        return sampled_indices\n",
    "\n",
    "    def __len__(self):\n",
    "        return len(self.sampled_epochs_indices_id)\n",
    "\n",
    "    def __getitem__(self, idx):\n",
    "        participant_id, i, j, label = self.sampled_epochs_indices_id[idx]\n",
    "        data = self.data_cache[participant_id]\n",
    "        sampled_epochs = data[[i, j]]\n",
    "        # Convert to PyTorch tensor if it's a NumPy array\n",
    "        if isinstance(sampled_epochs, np.ndarray):\n",
    "            sampled_epochs = torch.tensor(sampled_epochs)\n",
    "        # Transfer data to GPU in batches\n",
    "        sampled_epochs = sampled_epochs.to('cuda')\n",
    "        return sampled_epochs, label, participant_id"
   ]
  },
  {
   "cell_type": "markdown",
   "metadata": {},
   "source": [
    "#### Across Subject Relative Positioning Dataset"
   ]
  },
  {
   "cell_type": "code",
   "execution_count": 6,
   "metadata": {
    "execution": {
     "iopub.execute_input": "2024-10-21T09:39:22.299194Z",
     "iopub.status.busy": "2024-10-21T09:39:22.299030Z",
     "iopub.status.idle": "2024-10-21T09:39:22.307425Z",
     "shell.execute_reply": "2024-10-21T09:39:22.306969Z",
     "shell.execute_reply.started": "2024-10-21T09:39:22.299170Z"
    }
   },
   "outputs": [],
   "source": [
    "class Across_Subject_RPDataset(Dataset):\n",
    "    def __init__(self, participant_ids, data_path, subsample=True, tpos=1, device='cpu', n_samples=2, soft_margin_loss=False):\n",
    "        \"\"\"\n",
    "        Dataset for the Relative Positioning task. Obtains n combinations of two epochs between all groups of two participants.\n",
    "        :param participant_ids: List of participant IDs\n",
    "        :param data_path: Path to the directory containing the preprocessed EEG data\n",
    "        :param subsample: Whether to subsample the dataset for class balance or not\n",
    "        :param tpos: Time/index difference of the epochs in which the epochs are considered adjacent\n",
    "        :param device: Device to store the data ('cpu' or 'cuda')\n",
    "        :param n_samples: Number of samples for each label (adjacent/separate) to generate for each participant combination\n",
    "        :param soft_margin_loss: Whether to use soft margin loss for the pretext task (needs [-1, 1] labels)\n",
    "        \"\"\"\n",
    "        self.participant_ids = participant_ids\n",
    "        self.data_path = data_path\n",
    "        self.subsample = subsample\n",
    "        self.tpos = tpos\n",
    "        self.device = device\n",
    "        self.n_samples = n_samples\n",
    "        self.soft_margin_loss = soft_margin_loss\n",
    "        self.sampled_epochs_indices_id = []\n",
    "        self.data_cache = {}\n",
    "        self.labels = []\n",
    "        self._load_data()\n",
    "\n",
    "    def _load_data(self):\n",
    "        epoch_data = {}\n",
    "        for participant_id in self.participant_ids:\n",
    "            # Load the data for the participant\n",
    "            data = torch.load(os.path.join(self.data_path, f\"{participant_id}.pt\"))\n",
    "            # Move data to the specified device\n",
    "            data = torch.tensor(data)\n",
    "            data = data.to(self.device)\n",
    "            self.data_cache[participant_id] = data\n",
    "        # Generate n combinations of two epochs between two participants\n",
    "        self.sample_across_subject_combinations(self.data_cache, n=self.n_samples, soft_margin_loss=self.soft_margin_loss)\n",
    "    \n",
    "    def sample_across_subject_combinations(self, data_cache, n, soft_margin_loss=False):\n",
    "        all_participant_combinations = list(itertools.combinations(self.participant_ids, 2)) # all combinations of participants\n",
    "        warning_displayed = False  # Flag to track if the warning has been displayed\n",
    "\n",
    "        for participant_id_1, participant_id_2 in all_participant_combinations: \n",
    "            data_1 = self.data_cache[participant_id_1]\n",
    "            data_2 = self.data_cache[participant_id_2]\n",
    "            num_epochs_1 = data_1.shape[0]\n",
    "            num_epochs_2 = data_2.shape[0]\n",
    "            # Get all combinations of indices between data_1 and data_2\n",
    "            all_combinations = list(itertools.product(range(num_epochs_1), range(num_epochs_2)))\n",
    "            \n",
    "            # Filter combinations based on the difference between indices\n",
    "            adjacent_combinations = [comb for comb in all_combinations if abs(comb[0] - comb[1]) <= self.tpos and comb[0] != comb[1]]\n",
    "            separate_combinations = [comb for comb in all_combinations if abs(comb[0] - comb[1]) > self.tpos]\n",
    "            # Sample n combinations from each filtered set\n",
    "            sampled_adjacent_combinations = random.sample(adjacent_combinations,\n",
    "                                                        min(n, len(adjacent_combinations)))\n",
    "            sampled_separate_combinations = random.sample(separate_combinations,\n",
    "                                                     min(n, len(separate_combinations)))\n",
    "            \n",
    "            if n > len(adjacent_combinations) and not warning_displayed:\n",
    "                print(f\"Warning: asking for {n} adjacent samples, but only {len(adjacent_combinations)} adjacent samples available between two participants.\")\n",
    "                print(\"This will result in class imbalance.\")\n",
    "                warning_displayed = True  # Set the flag to True after displaying the warning\n",
    "\n",
    "            # Store the combinations and labels\n",
    "            for i, j in sampled_adjacent_combinations:\n",
    "                self.sampled_epochs_indices_id.append((participant_id_1, participant_id_2, i, j, 1))\n",
    "                self.labels.append(1)\n",
    "            if soft_margin_loss:\n",
    "                for i, j in sampled_separate_combinations:\n",
    "                    self.sampled_epochs_indices_id.append((participant_id_1, participant_id_2, i, j, -1))\n",
    "                    self.labels.append(-1)\n",
    "            else:\n",
    "                for i, j in sampled_separate_combinations:\n",
    "                    self.sampled_epochs_indices_id.append((participant_id_1, participant_id_2, i, j, 0))\n",
    "                    self.labels.append(0)\n",
    "\n",
    "    def __len__(self):\n",
    "        return len(self.sampled_epochs_indices_id)\n",
    "\n",
    "    def __getitem__(self, idx):\n",
    "        participant_id_1, participant_id_2, i, j, label = self.sampled_epochs_indices_id[idx]\n",
    "        # Load the data for the participant on-the-fly\n",
    "        data_1 = self.data_cache[participant_id_1]\n",
    "        data_2 = self.data_cache[participant_id_2]\n",
    "        epoch_1 = data_1[i]\n",
    "        epoch_2 = data_2[j]\n",
    "        sampled_epochs = torch.stack([epoch_1, epoch_2])\n",
    "        # Convert to PyTorch tensor if it's a NumPy array\n",
    "        if isinstance(sampled_epochs, np.ndarray):\n",
    "            sampled_epochs = torch.tensor(sampled_epochs)\n",
    "        # Transfer data to GPU in batches\n",
    "        sampled_epochs = sampled_epochs.to('cuda')\n",
    "        return sampled_epochs, label"
   ]
  },
  {
   "cell_type": "markdown",
   "metadata": {},
   "source": [
    "#### Across Subject Dataset"
   ]
  },
  {
   "cell_type": "code",
   "execution_count": 7,
   "metadata": {
    "execution": {
     "iopub.execute_input": "2024-10-21T09:39:22.308120Z",
     "iopub.status.busy": "2024-10-21T09:39:22.307964Z",
     "iopub.status.idle": "2024-10-21T09:39:22.315961Z",
     "shell.execute_reply": "2024-10-21T09:39:22.315509Z",
     "shell.execute_reply.started": "2024-10-21T09:39:22.308105Z"
    }
   },
   "outputs": [],
   "source": [
    "class Across_Subject_Dataset(Dataset):\n",
    "    def __init__(self, participant_ids, data_path, device='cpu', n_samples=2, soft_margin_loss=False):\n",
    "        \"\"\"\n",
    "        Dataset for the across subject task. Obtains n combinations of two epochs within a participant and between participants.\n",
    "        And learns to predict if the two epochs are from the same participant or not.\n",
    "        :param participant_ids: List of participant IDs\n",
    "        :param data_path: Path to the directory containing the preprocessed EEG data\n",
    "        :param device: Device to store the data ('cpu' or 'cuda')\n",
    "        :param n_samples: Number of samples for each label (adjacent/separate) to generate for each participant combination\n",
    "        :param soft_margin_loss: Whether to use soft margin loss or not (needs [-1, 1] labels)\n",
    "        \"\"\"\n",
    "        self.participant_ids = participant_ids\n",
    "        self.data_path = data_path\n",
    "        self.device = device\n",
    "        self.n_samples = n_samples\n",
    "        self.soft_margin_loss = soft_margin_loss\n",
    "        self.sampled_epochs_indices_id = []\n",
    "        self.data_cache = {}\n",
    "        self.labels = []\n",
    "        self._load_data()\n",
    "\n",
    "    def _load_data(self):\n",
    "        epoch_data = {}\n",
    "        for participant_id in self.participant_ids:\n",
    "            # Load the data for the participant\n",
    "            data = torch.load(os.path.join(self.data_path, f\"{participant_id}.pt\"))\n",
    "            # Move data to the specified device\n",
    "            data = torch.tensor(data)\n",
    "            data = data.to(self.device)\n",
    "            self.data_cache[participant_id] = data\n",
    "        # Generate n combinations of two epochs between two participants\n",
    "        self.sample_epochs_combinations(self.data_cache, n=self.n_samples, soft_margin_loss=self.soft_margin_loss)\n",
    "    \n",
    "    def sample_epochs_combinations(self, data_cache, n, soft_margin_loss=False):\n",
    "        for participant in data_cache.keys():\n",
    "            data = data_cache[participant]\n",
    "            n_epochs = data.shape[0]\n",
    "\n",
    "            # sample n pairs of epochs from the same participant\n",
    "            within_subject_combos = [comb for comb in itertools.combinations(range(n_epochs), 2)]\n",
    "\n",
    "            # adjust n if there are not enough within subject samples\n",
    "            if n > len(within_subject_combos):\n",
    "                print(f\"Warning: asking for {n} within subject samples, but only {len(within_subject_combos)} within subject samples available within participant {participant}.\")\n",
    "                print(f\"{len(within_subject_combos)} will be sampled instead of {n}.\")\n",
    "                adj_n = len(within_subject_combos)\n",
    "            else:\n",
    "                adj_n = n\n",
    "\n",
    "            for i, j in random.sample(within_subject_combos, adj_n): # ensure that the same pair is not sampled twice\n",
    "                self.sampled_epochs_indices_id.append((participant, participant, i, j, 1))\n",
    "                self.labels.append(1)\n",
    "            \n",
    "            # sample n pairs of epochs from the participant and another participant\n",
    "            for other_participant in random.sample([p for p in data_cache.keys() if p != participant], adj_n):\n",
    "                other_n_epochs = data_cache[other_participant].shape[0]\n",
    "                between_subject_combos = list(itertools.product(range(n_epochs), range(other_n_epochs)))\n",
    "                i, j = random.choice(between_subject_combos)\n",
    "                if soft_margin_loss:\n",
    "                    self.sampled_epochs_indices_id.append((participant, other_participant, i, j, -1))  \n",
    "                    self.labels.append(-1)\n",
    "                else:\n",
    "                    self.sampled_epochs_indices_id.append((participant, other_participant, i, j, 0))  \n",
    "                    self.labels.append(0)\n",
    "            \n",
    "            # delete variables to free up memory\n",
    "            del within_subject_combos\n",
    "            del between_subject_combos\n",
    "\n",
    "        return\n",
    "\n",
    "    def __len__(self):\n",
    "        return len(self.sampled_epochs_indices_id)\n",
    "\n",
    "    def __getitem__(self, idx):\n",
    "        participant_id_1, participant_id_2, i, j, label = self.sampled_epochs_indices_id[idx]\n",
    "        # Load the data for the participant on-the-fly\n",
    "        if participant_id_1 == participant_id_2:\n",
    "            data = self.data_cache[participant_id_1]\n",
    "            sampled_epochs = torch.stack([data[i], data[j]])\n",
    "        if participant_id_1 != participant_id_2:\n",
    "            data_1 = self.data_cache[participant_id_1]\n",
    "            data_2 = self.data_cache[participant_id_2]\n",
    "            epoch_1 = data_1[i]\n",
    "            epoch_2 = data_2[j]\n",
    "            sampled_epochs = torch.stack([epoch_1, epoch_2])\n",
    "        # Convert to PyTorch tensor if it's a NumPy array\n",
    "        if isinstance(sampled_epochs, np.ndarray):\n",
    "            sampled_epochs = torch.tensor(sampled_epochs)\n",
    "        # Transfer data to GPU in batches\n",
    "        sampled_epochs = sampled_epochs.to('cuda')\n",
    "        return sampled_epochs, label"
   ]
  },
  {
   "cell_type": "markdown",
   "metadata": {},
   "source": [
    "#### Contrastive Loss Dataset"
   ]
  },
  {
   "cell_type": "code",
   "execution_count": 8,
   "metadata": {
    "execution": {
     "iopub.execute_input": "2024-10-21T09:39:22.316660Z",
     "iopub.status.busy": "2024-10-21T09:39:22.316508Z",
     "iopub.status.idle": "2024-10-21T09:39:22.326396Z",
     "shell.execute_reply": "2024-10-21T09:39:22.325949Z",
     "shell.execute_reply.started": "2024-10-21T09:39:22.316644Z"
    }
   },
   "outputs": [],
   "source": [
    "class Contrastive_Loss_Dataset(Dataset):\n",
    "    def __init__(self, participant_ids, data_path, device='cpu', n_samples=1):\n",
    "        \"\"\"\n",
    "        Dataset for the pretext task with contrastive loss and neurologist recommended augmentations. \n",
    "        For each participant samples n epochs on which two random augmentations are applied.\n",
    "        The samples are then used to learn to predict if two augmentations were derived from the same original epoch,\n",
    "        or two different epochs.\n",
    "        :param participant_ids: List of participant IDs\n",
    "        :param data_path: Path to the directory containing the preprocessed EEG data\n",
    "        :param device: Device to store the data ('cpu' or 'cuda')\n",
    "        :param n_samples: Number of epochs to sample from each participant\n",
    "        :param neg_samples: Number of negative samples to create for each positive sample\n",
    "        \"\"\"\n",
    "        self.participant_ids = participant_ids\n",
    "        self.data_path = data_path\n",
    "        self.device = device\n",
    "        self.n_samples = n_samples\n",
    "        self.sampled_epochs_indices_id = []\n",
    "        self.data_cache = {}\n",
    "        self.labels = []\n",
    "        self._load_data()\n",
    "\n",
    "        self.available_augmentations = {\n",
    "            \"amplitude_scale\": [0.5, 2], \n",
    "            # \"time_shift\": [-50, 50], \n",
    "            # \"DC_shift\": [-10, 10], \n",
    "            \"zero-masking\": [0, 150], \n",
    "            \"additive_Gaussian_noise\": [0, 0.2], \n",
    "            \"band-stop_filter\": [4.8, 59], # max is nyquist frequency\n",
    "        }\n",
    "\n",
    "        self.NUM_AUGMENTATIONS = 1 # number of augmentations to apply to each epoch\n",
    "        self.TEMPORAL_LEN = 1244 # length of the EEG signal\n",
    "        self.SFREQ = 125 # sampling frequency of the EEG signal ## QUESTION: SHOULD I USE ORIGINAL SFREQ OR DOWNSAMPLED 125 HZ\n",
    "\n",
    "    def _load_data(self):\n",
    "        epoch_data = {}\n",
    "        for participant_id in self.participant_ids:\n",
    "            # Load the data for the participant\n",
    "            data = torch.load(os.path.join(self.data_path, f\"{participant_id}.pt\"))\n",
    "            # Move data to the specified device\n",
    "            data = torch.tensor(data)\n",
    "            data = data.to(self.device)\n",
    "            self.data_cache[participant_id] = data\n",
    "        # sample n epochs from each participant\n",
    "        self.sample_epochs(self.data_cache, n=self.n_samples)\n",
    "    \n",
    "    def sample_epochs(self, data_cache, n):\n",
    "        for participant in data_cache.keys():\n",
    "            data = data_cache[participant]\n",
    "            n_epochs = data.shape[0]\n",
    "            sampled_epochs_indices = random.sample(range(n_epochs), n)\n",
    "            for sampled_epoch_idx in sampled_epochs_indices:\n",
    "                self.sampled_epochs_indices_id.append((participant, sampled_epoch_idx))\n",
    "        return\n",
    "    \n",
    "    def get_augmentation_set(self):\n",
    "        # taken and adjusted from https://github.com/zacharycbrown/ssl_baselines_for_biosignal_feature_extraction/blob/main/data_loaders.py#L535\n",
    "        augmentation_set = []\n",
    "        selected_augmentations = random.sample(list(self.available_augmentations.keys()), self.NUM_AUGMENTATIONS)\n",
    "        assert len(selected_augmentations) == self.NUM_AUGMENTATIONS\n",
    "\n",
    "        for aug in selected_augmentations:\n",
    "            if aug in ['amplitude_scale', 'DC_shift', 'additive_Gaussian_noise', 'band-stop_filter']: # augmentation that requires float val\n",
    "                aug_param = random.uniform(self.available_augmentations[aug][0], self.available_augmentations[aug][1])\n",
    "            elif aug in ['time_shift', 'zero-masking']: # augmentation that requires int val\n",
    "                aug_param = random.randint(self.available_augmentations[aug][0], self.available_augmentations[aug][1])\n",
    "                if aug == 'zero-masking':\n",
    "                    aug_param = [aug_param, random.randint(0, self.TEMPORAL_LEN-aug_param)]\n",
    "            else:\n",
    "                raise NotImplementedError(f\"Augmentation {aug} not implemented\")\n",
    "            \n",
    "            if aug == 'band-stop_filter': # somehow getting a value higher than given range\n",
    "                if aug_param > 59:\n",
    "                    print(f'band_stop_filter: {aug_param=}')\n",
    "            augmentation_set.append((aug, aug_param))\n",
    "        return augmentation_set\n",
    "            \n",
    "    def apply_augmentation(self, sampled_epoch, augmentation):\n",
    "        # apply augmentation to the sampled epoch with shape [n_channels, n_samples] ## QUESTION: IN CASE OF MULTIPLE AUGMENTATIONS WHICH FIRST?\n",
    "        for aug in augmentation: # apply each augmentation\n",
    "            if aug[0] == 'amplitude_scale':\n",
    "                sampled_epoch = sampled_epoch * aug[1]\n",
    "\n",
    "            elif aug[0] == 'time_shift':\n",
    "                sampled_epoch = torch.roll(sampled_epoch, aug[1], dims=1)\n",
    "\n",
    "            elif aug[0] == 'DC_shift':\n",
    "                sampled_epoch = sampled_epoch + aug[1]\n",
    "\n",
    "            elif aug[0] == 'zero-masking':\n",
    "                start_point = aug[1][1]\n",
    "                end_point = start_point + aug[1][0]\n",
    "                sampled_epoch[:, start_point:end_point] = 0\n",
    "\n",
    "            elif aug[0] == 'additive_Gaussian_noise':\n",
    "                sampled_epoch = sampled_epoch + torch.randn_like(sampled_epoch) * aug[1]\n",
    "\n",
    "            elif aug[0] == 'band-stop_filter':\n",
    "                # Convert to NumPy array for notch_filter\n",
    "                sampled_epoch_np = sampled_epoch.cpu().numpy()\n",
    "                filtered_epoch_np = mne.filter.notch_filter(sampled_epoch_np, Fs=self.SFREQ, freqs=aug[1], notch_widths=2)\n",
    "                # Convert back to PyTorch tensor\n",
    "                sampled_epoch = torch.tensor(filtered_epoch_np, device=self.device)\n",
    "\n",
    "            else:\n",
    "                raise NotImplementedError(f\"Augmentation {aug[0]} not implemented\")\n",
    "        augmented_epoch = sampled_epoch\n",
    "        return augmented_epoch # shape [n_channels, n_samples]\n",
    "\n",
    "    def __len__(self):\n",
    "        return len(self.sampled_epochs_indices_id)\n",
    "\n",
    "    def __getitem__(self, idx):\n",
    "        participant_id, i = self.sampled_epochs_indices_id[idx]\n",
    "        data = self.data_cache[participant_id]\n",
    "        sampled_epoch = data[i]\n",
    "        # create positive pair\n",
    "        augmentation_set_1 = self.get_augmentation_set()\n",
    "        augmentation_set_2 = self.get_augmentation_set()\n",
    "        augmented_epoch_1 = self.apply_augmentation(sampled_epoch, augmentation_set_1)\n",
    "        augmented_epoch_2 = self.apply_augmentation(sampled_epoch, augmentation_set_2)\n",
    "        augmented_epochs = torch.stack([augmented_epoch_1, augmented_epoch_2]) # shape [2, n_channels, n_samples]\n",
    "        # Convert to PyTorch tensor if it's a NumPy array\n",
    "        if isinstance(augmented_epochs, np.ndarray):\n",
    "            augmented_epochs = torch.tensor(augmented_epochs)\n",
    "        # Transfer data to GPU in batches\n",
    "        augmented_epochs = augmented_epochs.to(self.device)\n",
    "        # Create a positive pair (label 1)\n",
    "        positive_pair = (augmented_epochs, torch.tensor(1.0, device=self.device))\n",
    "\n",
    "        return positive_pair"
   ]
  },
  {
   "cell_type": "markdown",
   "metadata": {},
   "source": [
    "# Training pretext models"
   ]
  },
  {
   "cell_type": "markdown",
   "metadata": {},
   "source": [
    "## 4. Contrastive Loss Pretext Task"
   ]
  },
  {
   "cell_type": "markdown",
   "metadata": {},
   "source": [
    "#### Data loading & splitting"
   ]
  },
  {
   "cell_type": "code",
   "execution_count": 9,
   "metadata": {
    "execution": {
     "iopub.execute_input": "2024-10-21T09:39:22.327117Z",
     "iopub.status.busy": "2024-10-21T09:39:22.326960Z",
     "iopub.status.idle": "2024-10-21T09:39:48.396854Z",
     "shell.execute_reply": "2024-10-21T09:39:48.396380Z",
     "shell.execute_reply.started": "2024-10-21T09:39:22.327102Z"
    }
   },
   "outputs": [
    {
     "name": "stderr",
     "output_type": "stream",
     "text": [
      "/tmp/ipykernel_32210/3637105079.py:40: FutureWarning: You are using `torch.load` with `weights_only=False` (the current default value), which uses the default pickle module implicitly. It is possible to construct malicious pickle data which will execute arbitrary code during unpickling (See https://github.com/pytorch/pytorch/blob/main/SECURITY.md#untrusted-models for more details). In a future release, the default value for `weights_only` will be flipped to `True`. This limits the functions that could be executed during unpickling. Arbitrary objects will no longer be allowed to be loaded via this mode unless they are explicitly allowlisted by the user via `torch.serialization.add_safe_globals`. We recommend you start setting `weights_only=True` for any use case where you don't have full control of the loaded file. Please open an issue on GitHub for any issues related to this experimental feature.\n",
      "  data = torch.load(os.path.join(self.data_path, f\"{participant_id}.pt\"))\n"
     ]
    },
    {
     "name": "stdout",
     "output_type": "stream",
     "text": [
      "1244\n",
      "pairs.shape=torch.Size([5, 2, 26, 1244])\n",
      "labels.shape=torch.Size([5])\n",
      "Unique labels: (tensor([1.], device='cuda:0'), tensor([5], device='cuda:0'))\n",
      "labels=tensor([1., 1., 1., 1., 1.], device='cuda:0')\n"
     ]
    }
   ],
   "source": [
    "participant_ids = get_participant_ids(data_path, epoch_dir=True)\n",
    "# sample_ids = random.sample(participant_ids, 100)                                          \n",
    "dataset = Contrastive_Loss_Dataset(participant_ids, data_path, device='cuda', n_samples=1)\n",
    "print(len(dataset))\n",
    "\n",
    "# Create a DataLoader to check input\n",
    "dataloader = DataLoader(dataset, batch_size=5, shuffle=True)\n",
    "\n",
    "# Iterate through the DataLoader\n",
    "for batch in dataloader:\n",
    "    pairs, labels = batch\n",
    "    \n",
    "    # Unpack pairs and labels\n",
    "    print(f'{pairs.shape=}')\n",
    "    print(f'{labels.shape=}')\n",
    "    print(f'Unique labels: {torch.unique(labels, return_counts=True)}')\n",
    "    print(f'{labels=}')\n",
    "    break\n",
    "\n",
    "del dataloader"
   ]
  },
  {
   "cell_type": "code",
   "execution_count": 10,
   "metadata": {
    "execution": {
     "iopub.execute_input": "2024-10-21T09:39:48.397809Z",
     "iopub.status.busy": "2024-10-21T09:39:48.397452Z",
     "iopub.status.idle": "2024-10-21T09:39:48.406854Z",
     "shell.execute_reply": "2024-10-21T09:39:48.406458Z",
     "shell.execute_reply.started": "2024-10-21T09:39:48.397788Z"
    }
   },
   "outputs": [
    {
     "name": "stdout",
     "output_type": "stream",
     "text": [
      "Train: 910, Val: 228, Test: 106\n"
     ]
    }
   ],
   "source": [
    "# First obtain indices of the train/val/test sets to limit code rerun time\n",
    "# obtain indices of the replication set in dataset as test set (participants starting with 'sub-19')\n",
    "replication_indices = [idx for idx, sample in enumerate(dataset.sampled_epochs_indices_id) if sample[0].startswith('sub-19')]\n",
    "# obtain the rest of the indices as train and validation set\n",
    "trainval_indices = [idx for idx in range(len(dataset)) if idx not in replication_indices]\n",
    "\n",
    "groups = [dataset.sampled_epochs_indices_id[idx][0] for idx in trainval_indices]\n",
    "\n",
    "# stratified group kfold split\n",
    "from sklearn.model_selection import GroupKFold\n",
    "sgkf = GroupKFold(n_splits=5)\n",
    "\n",
    "# Split the train and validation set into train and validation set\n",
    "for train_idx, val_idx in sgkf.split(trainval_indices, groups=groups):\n",
    "    train_indices = [trainval_indices[i] for i in train_idx]\n",
    "    val_indices = [trainval_indices[i] for i in val_idx]\n",
    "    break  # We only need the first split\n",
    "\n",
    "# obtain actual train, val, test splits\n",
    "# Create subsets using the indices\n",
    "data_train = Subset(dataset, train_indices)\n",
    "data_val = Subset(dataset, val_indices)\n",
    "data_test = Subset(dataset, replication_indices)\n",
    "\n",
    "print(f\"Train: {len(data_train)}, Val: {len(data_val)}, Test: {len(data_test)}\")"
   ]
  },
  {
   "cell_type": "markdown",
   "metadata": {},
   "source": [
    "#### Training pretext model"
   ]
  },
  {
   "cell_type": "code",
   "execution_count": 11,
   "metadata": {
    "execution": {
     "iopub.execute_input": "2024-10-21T09:39:48.407976Z",
     "iopub.status.busy": "2024-10-21T09:39:48.407315Z",
     "iopub.status.idle": "2024-10-21T10:03:08.025798Z",
     "shell.execute_reply": "2024-10-21T10:03:08.025200Z",
     "shell.execute_reply.started": "2024-10-21T09:39:48.407956Z"
    }
   },
   "outputs": [
    {
     "name": "stderr",
     "output_type": "stream",
     "text": [
      "Using 16bit Automatic Mixed Precision (AMP)\n",
      "GPU available: True (cuda), used: True\n",
      "TPU available: False, using: 0 TPU cores\n",
      "HPU available: False, using: 0 HPUs\n",
      "LOCAL_RANK: 0 - CUDA_VISIBLE_DEVICES: [0]\n",
      "\n",
      "  | Name       | Type       | Params | Mode \n",
      "--------------------------------------------------\n",
      "0 | ShallowNet | ShallowNet | 350 K  | train\n",
      "1 | linear     | Linear     | 10.1 K | train\n",
      "--------------------------------------------------\n",
      "360 K     Trainable params\n",
      "0         Non-trainable params\n",
      "360 K     Total params\n",
      "1.444     Total estimated model params size (MB)\n",
      "9         Modules in train mode\n",
      "0         Modules in eval mode\n"
     ]
    },
    {
     "data": {
      "application/vnd.jupyter.widget-view+json": {
       "model_id": "c0549657d2e944ba9837ea43ca6c0def",
       "version_major": 2,
       "version_minor": 0
      },
      "text/plain": [
       "Sanity Checking: |          | 0/? [00:00<?, ?it/s]"
      ]
     },
     "metadata": {},
     "output_type": "display_data"
    },
    {
     "name": "stderr",
     "output_type": "stream",
     "text": [
      "/home/tsmolders/.conda/envs/py3117/lib/python3.11/site-packages/lightning/pytorch/loops/fit_loop.py:298: The number of training batches (1) is smaller than the logging interval Trainer(log_every_n_steps=5). Set a lower value for log_every_n_steps if you want to see logs for the training epoch.\n"
     ]
    },
    {
     "data": {
      "application/vnd.jupyter.widget-view+json": {
       "model_id": "424b35ce58044158801387553a7dcaa6",
       "version_major": 2,
       "version_minor": 0
      },
      "text/plain": [
       "Training: |          | 0/? [00:00<?, ?it/s]"
      ]
     },
     "metadata": {},
     "output_type": "display_data"
    },
    {
     "data": {
      "application/vnd.jupyter.widget-view+json": {
       "model_id": "e3bbd2378a054e3d9391835b34f7cc81",
       "version_major": 2,
       "version_minor": 0
      },
      "text/plain": [
       "Validation: |          | 0/? [00:00<?, ?it/s]"
      ]
     },
     "metadata": {},
     "output_type": "display_data"
    },
    {
     "data": {
      "application/vnd.jupyter.widget-view+json": {
       "model_id": "f6fa786d113a4936a33abe64a36373bc",
       "version_major": 2,
       "version_minor": 0
      },
      "text/plain": [
       "Validation: |          | 0/? [00:00<?, ?it/s]"
      ]
     },
     "metadata": {},
     "output_type": "display_data"
    },
    {
     "data": {
      "application/vnd.jupyter.widget-view+json": {
       "model_id": "c2fdf26b56884a89a1a25cfe40b082cb",
       "version_major": 2,
       "version_minor": 0
      },
      "text/plain": [
       "Validation: |          | 0/? [00:00<?, ?it/s]"
      ]
     },
     "metadata": {},
     "output_type": "display_data"
    },
    {
     "data": {
      "application/vnd.jupyter.widget-view+json": {
       "model_id": "070bfd5a3ccf478a9953b35642f9809a",
       "version_major": 2,
       "version_minor": 0
      },
      "text/plain": [
       "Validation: |          | 0/? [00:00<?, ?it/s]"
      ]
     },
     "metadata": {},
     "output_type": "display_data"
    },
    {
     "data": {
      "application/vnd.jupyter.widget-view+json": {
       "model_id": "d95e3c2010814198a0785177b4aa431c",
       "version_major": 2,
       "version_minor": 0
      },
      "text/plain": [
       "Validation: |          | 0/? [00:00<?, ?it/s]"
      ]
     },
     "metadata": {},
     "output_type": "display_data"
    },
    {
     "data": {
      "application/vnd.jupyter.widget-view+json": {
       "model_id": "fe1e920524044e33bcf92e63eaaff70f",
       "version_major": 2,
       "version_minor": 0
      },
      "text/plain": [
       "Validation: |          | 0/? [00:00<?, ?it/s]"
      ]
     },
     "metadata": {},
     "output_type": "display_data"
    },
    {
     "data": {
      "application/vnd.jupyter.widget-view+json": {
       "model_id": "aaf2211c28e3475db40372b84e726227",
       "version_major": 2,
       "version_minor": 0
      },
      "text/plain": [
       "Validation: |          | 0/? [00:00<?, ?it/s]"
      ]
     },
     "metadata": {},
     "output_type": "display_data"
    },
    {
     "data": {
      "application/vnd.jupyter.widget-view+json": {
       "model_id": "4ea58035c4d94b78919208b35267e563",
       "version_major": 2,
       "version_minor": 0
      },
      "text/plain": [
       "Validation: |          | 0/? [00:00<?, ?it/s]"
      ]
     },
     "metadata": {},
     "output_type": "display_data"
    },
    {
     "data": {
      "application/vnd.jupyter.widget-view+json": {
       "model_id": "f9ac68522e8d4d65ab696488230eb0dd",
       "version_major": 2,
       "version_minor": 0
      },
      "text/plain": [
       "Validation: |          | 0/? [00:00<?, ?it/s]"
      ]
     },
     "metadata": {},
     "output_type": "display_data"
    },
    {
     "data": {
      "application/vnd.jupyter.widget-view+json": {
       "model_id": "7360827f060246d09b0a6b8bb67aa531",
       "version_major": 2,
       "version_minor": 0
      },
      "text/plain": [
       "Validation: |          | 0/? [00:00<?, ?it/s]"
      ]
     },
     "metadata": {},
     "output_type": "display_data"
    },
    {
     "data": {
      "application/vnd.jupyter.widget-view+json": {
       "model_id": "eb5d12ecb2374847b07e94a1f9b81b3a",
       "version_major": 2,
       "version_minor": 0
      },
      "text/plain": [
       "Validation: |          | 0/? [00:00<?, ?it/s]"
      ]
     },
     "metadata": {},
     "output_type": "display_data"
    },
    {
     "data": {
      "application/vnd.jupyter.widget-view+json": {
       "model_id": "6e570098dae04272b602b4cf65e4aea8",
       "version_major": 2,
       "version_minor": 0
      },
      "text/plain": [
       "Validation: |          | 0/? [00:00<?, ?it/s]"
      ]
     },
     "metadata": {},
     "output_type": "display_data"
    },
    {
     "data": {
      "application/vnd.jupyter.widget-view+json": {
       "model_id": "86b7c60529474b91b27149f4d4c5a7e4",
       "version_major": 2,
       "version_minor": 0
      },
      "text/plain": [
       "Validation: |          | 0/? [00:00<?, ?it/s]"
      ]
     },
     "metadata": {},
     "output_type": "display_data"
    },
    {
     "data": {
      "application/vnd.jupyter.widget-view+json": {
       "model_id": "409889aa20c549e783c70b9eff95270e",
       "version_major": 2,
       "version_minor": 0
      },
      "text/plain": [
       "Validation: |          | 0/? [00:00<?, ?it/s]"
      ]
     },
     "metadata": {},
     "output_type": "display_data"
    },
    {
     "data": {
      "application/vnd.jupyter.widget-view+json": {
       "model_id": "fd0522450ce04b62acb4bdef001cb874",
       "version_major": 2,
       "version_minor": 0
      },
      "text/plain": [
       "Validation: |          | 0/? [00:00<?, ?it/s]"
      ]
     },
     "metadata": {},
     "output_type": "display_data"
    },
    {
     "data": {
      "application/vnd.jupyter.widget-view+json": {
       "model_id": "a745a36dd5ed4da392d3db9ba0d7f685",
       "version_major": 2,
       "version_minor": 0
      },
      "text/plain": [
       "Validation: |          | 0/? [00:00<?, ?it/s]"
      ]
     },
     "metadata": {},
     "output_type": "display_data"
    },
    {
     "data": {
      "application/vnd.jupyter.widget-view+json": {
       "model_id": "ef6e72b3b5644823b926a07feb258479",
       "version_major": 2,
       "version_minor": 0
      },
      "text/plain": [
       "Validation: |          | 0/? [00:00<?, ?it/s]"
      ]
     },
     "metadata": {},
     "output_type": "display_data"
    },
    {
     "data": {
      "application/vnd.jupyter.widget-view+json": {
       "model_id": "f70c7cfa3d2e4082be51c790c185dfc0",
       "version_major": 2,
       "version_minor": 0
      },
      "text/plain": [
       "Validation: |          | 0/? [00:00<?, ?it/s]"
      ]
     },
     "metadata": {},
     "output_type": "display_data"
    },
    {
     "data": {
      "application/vnd.jupyter.widget-view+json": {
       "model_id": "133ecc74402b49b9be306b0c59f67767",
       "version_major": 2,
       "version_minor": 0
      },
      "text/plain": [
       "Validation: |          | 0/? [00:00<?, ?it/s]"
      ]
     },
     "metadata": {},
     "output_type": "display_data"
    },
    {
     "data": {
      "application/vnd.jupyter.widget-view+json": {
       "model_id": "eb1fed8c8da744e29f2a440b0ce366e8",
       "version_major": 2,
       "version_minor": 0
      },
      "text/plain": [
       "Validation: |          | 0/? [00:00<?, ?it/s]"
      ]
     },
     "metadata": {},
     "output_type": "display_data"
    },
    {
     "data": {
      "application/vnd.jupyter.widget-view+json": {
       "model_id": "5743ca0414a54ece95d55f4d1bad13b5",
       "version_major": 2,
       "version_minor": 0
      },
      "text/plain": [
       "Validation: |          | 0/? [00:00<?, ?it/s]"
      ]
     },
     "metadata": {},
     "output_type": "display_data"
    },
    {
     "data": {
      "application/vnd.jupyter.widget-view+json": {
       "model_id": "623564fbd2604dadb42a58e1dfac4593",
       "version_major": 2,
       "version_minor": 0
      },
      "text/plain": [
       "Validation: |          | 0/? [00:00<?, ?it/s]"
      ]
     },
     "metadata": {},
     "output_type": "display_data"
    },
    {
     "data": {
      "application/vnd.jupyter.widget-view+json": {
       "model_id": "77e6e2ef26794e249df7e1bca937b2d7",
       "version_major": 2,
       "version_minor": 0
      },
      "text/plain": [
       "Validation: |          | 0/? [00:00<?, ?it/s]"
      ]
     },
     "metadata": {},
     "output_type": "display_data"
    },
    {
     "data": {
      "application/vnd.jupyter.widget-view+json": {
       "model_id": "0fd6774ebeb24d86aaf5cab163926624",
       "version_major": 2,
       "version_minor": 0
      },
      "text/plain": [
       "Validation: |          | 0/? [00:00<?, ?it/s]"
      ]
     },
     "metadata": {},
     "output_type": "display_data"
    },
    {
     "data": {
      "application/vnd.jupyter.widget-view+json": {
       "model_id": "d6da8e09d78a42ddbfd32db64e2d6c21",
       "version_major": 2,
       "version_minor": 0
      },
      "text/plain": [
       "Validation: |          | 0/? [00:00<?, ?it/s]"
      ]
     },
     "metadata": {},
     "output_type": "display_data"
    },
    {
     "data": {
      "application/vnd.jupyter.widget-view+json": {
       "model_id": "21fb86fa535248a08076c97432e48532",
       "version_major": 2,
       "version_minor": 0
      },
      "text/plain": [
       "Validation: |          | 0/? [00:00<?, ?it/s]"
      ]
     },
     "metadata": {},
     "output_type": "display_data"
    },
    {
     "data": {
      "application/vnd.jupyter.widget-view+json": {
       "model_id": "37beaa3c1ba4470aa6c104c3e10262c2",
       "version_major": 2,
       "version_minor": 0
      },
      "text/plain": [
       "Validation: |          | 0/? [00:00<?, ?it/s]"
      ]
     },
     "metadata": {},
     "output_type": "display_data"
    },
    {
     "data": {
      "application/vnd.jupyter.widget-view+json": {
       "model_id": "64cc563c58be4a80b8633d6f27592cfa",
       "version_major": 2,
       "version_minor": 0
      },
      "text/plain": [
       "Validation: |          | 0/? [00:00<?, ?it/s]"
      ]
     },
     "metadata": {},
     "output_type": "display_data"
    },
    {
     "data": {
      "application/vnd.jupyter.widget-view+json": {
       "model_id": "bbe973e322ac4201b1d02c04dda59521",
       "version_major": 2,
       "version_minor": 0
      },
      "text/plain": [
       "Validation: |          | 0/? [00:00<?, ?it/s]"
      ]
     },
     "metadata": {},
     "output_type": "display_data"
    },
    {
     "data": {
      "application/vnd.jupyter.widget-view+json": {
       "model_id": "63b6d44a2f7149068749d4b260fae9f2",
       "version_major": 2,
       "version_minor": 0
      },
      "text/plain": [
       "Validation: |          | 0/? [00:00<?, ?it/s]"
      ]
     },
     "metadata": {},
     "output_type": "display_data"
    },
    {
     "data": {
      "application/vnd.jupyter.widget-view+json": {
       "model_id": "6cbe061d2e5a4f09abaa284a12cfb4a6",
       "version_major": 2,
       "version_minor": 0
      },
      "text/plain": [
       "Validation: |          | 0/? [00:00<?, ?it/s]"
      ]
     },
     "metadata": {},
     "output_type": "display_data"
    },
    {
     "data": {
      "application/vnd.jupyter.widget-view+json": {
       "model_id": "60e2b162a97c466683db533e5919ede7",
       "version_major": 2,
       "version_minor": 0
      },
      "text/plain": [
       "Validation: |          | 0/? [00:00<?, ?it/s]"
      ]
     },
     "metadata": {},
     "output_type": "display_data"
    },
    {
     "data": {
      "application/vnd.jupyter.widget-view+json": {
       "model_id": "1a1295ba42f14e5f88c42f7ba220ff01",
       "version_major": 2,
       "version_minor": 0
      },
      "text/plain": [
       "Validation: |          | 0/? [00:00<?, ?it/s]"
      ]
     },
     "metadata": {},
     "output_type": "display_data"
    },
    {
     "data": {
      "application/vnd.jupyter.widget-view+json": {
       "model_id": "81aabc721a0c4245b4417530ee0dd528",
       "version_major": 2,
       "version_minor": 0
      },
      "text/plain": [
       "Validation: |          | 0/? [00:00<?, ?it/s]"
      ]
     },
     "metadata": {},
     "output_type": "display_data"
    },
    {
     "data": {
      "application/vnd.jupyter.widget-view+json": {
       "model_id": "62d9c8e762a14a438614087effe61126",
       "version_major": 2,
       "version_minor": 0
      },
      "text/plain": [
       "Validation: |          | 0/? [00:00<?, ?it/s]"
      ]
     },
     "metadata": {},
     "output_type": "display_data"
    },
    {
     "data": {
      "application/vnd.jupyter.widget-view+json": {
       "model_id": "1160b1c0d93f47cc92e3c4e4e5c1d0c7",
       "version_major": 2,
       "version_minor": 0
      },
      "text/plain": [
       "Validation: |          | 0/? [00:00<?, ?it/s]"
      ]
     },
     "metadata": {},
     "output_type": "display_data"
    },
    {
     "data": {
      "application/vnd.jupyter.widget-view+json": {
       "model_id": "bff2dcf26ad8455d849debb7c75e3780",
       "version_major": 2,
       "version_minor": 0
      },
      "text/plain": [
       "Validation: |          | 0/? [00:00<?, ?it/s]"
      ]
     },
     "metadata": {},
     "output_type": "display_data"
    },
    {
     "data": {
      "application/vnd.jupyter.widget-view+json": {
       "model_id": "7f4e68590f1e4a55b2b843ce1bf43a63",
       "version_major": 2,
       "version_minor": 0
      },
      "text/plain": [
       "Validation: |          | 0/? [00:00<?, ?it/s]"
      ]
     },
     "metadata": {},
     "output_type": "display_data"
    },
    {
     "data": {
      "application/vnd.jupyter.widget-view+json": {
       "model_id": "c2e842eaae1944258f6349163eb939b0",
       "version_major": 2,
       "version_minor": 0
      },
      "text/plain": [
       "Validation: |          | 0/? [00:00<?, ?it/s]"
      ]
     },
     "metadata": {},
     "output_type": "display_data"
    },
    {
     "data": {
      "application/vnd.jupyter.widget-view+json": {
       "model_id": "c3ce1f3400964364a5b4263280adb807",
       "version_major": 2,
       "version_minor": 0
      },
      "text/plain": [
       "Validation: |          | 0/? [00:00<?, ?it/s]"
      ]
     },
     "metadata": {},
     "output_type": "display_data"
    },
    {
     "data": {
      "application/vnd.jupyter.widget-view+json": {
       "model_id": "eb8012ff51884e9b94764ae0bf6bd401",
       "version_major": 2,
       "version_minor": 0
      },
      "text/plain": [
       "Validation: |          | 0/? [00:00<?, ?it/s]"
      ]
     },
     "metadata": {},
     "output_type": "display_data"
    },
    {
     "data": {
      "application/vnd.jupyter.widget-view+json": {
       "model_id": "acd8ffb870e942a5ad2c3a5e30cb2bc1",
       "version_major": 2,
       "version_minor": 0
      },
      "text/plain": [
       "Validation: |          | 0/? [00:00<?, ?it/s]"
      ]
     },
     "metadata": {},
     "output_type": "display_data"
    },
    {
     "data": {
      "application/vnd.jupyter.widget-view+json": {
       "model_id": "d0df66930c494d76b361b44930eddc99",
       "version_major": 2,
       "version_minor": 0
      },
      "text/plain": [
       "Validation: |          | 0/? [00:00<?, ?it/s]"
      ]
     },
     "metadata": {},
     "output_type": "display_data"
    },
    {
     "data": {
      "application/vnd.jupyter.widget-view+json": {
       "model_id": "b57a367f43f34de98ff513737936d65b",
       "version_major": 2,
       "version_minor": 0
      },
      "text/plain": [
       "Validation: |          | 0/? [00:00<?, ?it/s]"
      ]
     },
     "metadata": {},
     "output_type": "display_data"
    },
    {
     "data": {
      "application/vnd.jupyter.widget-view+json": {
       "model_id": "b722390b1c664422b0cbda85a279f15f",
       "version_major": 2,
       "version_minor": 0
      },
      "text/plain": [
       "Validation: |          | 0/? [00:00<?, ?it/s]"
      ]
     },
     "metadata": {},
     "output_type": "display_data"
    },
    {
     "data": {
      "application/vnd.jupyter.widget-view+json": {
       "model_id": "73a1a48f086b4c1a8e19436d4a5fd16f",
       "version_major": 2,
       "version_minor": 0
      },
      "text/plain": [
       "Validation: |          | 0/? [00:00<?, ?it/s]"
      ]
     },
     "metadata": {},
     "output_type": "display_data"
    },
    {
     "data": {
      "application/vnd.jupyter.widget-view+json": {
       "model_id": "f73a7c1ce75847cb9defc74bd4aad283",
       "version_major": 2,
       "version_minor": 0
      },
      "text/plain": [
       "Validation: |          | 0/? [00:00<?, ?it/s]"
      ]
     },
     "metadata": {},
     "output_type": "display_data"
    },
    {
     "data": {
      "application/vnd.jupyter.widget-view+json": {
       "model_id": "fdbf9b26dc4a490ebdb606d1dfd70051",
       "version_major": 2,
       "version_minor": 0
      },
      "text/plain": [
       "Validation: |          | 0/? [00:00<?, ?it/s]"
      ]
     },
     "metadata": {},
     "output_type": "display_data"
    },
    {
     "data": {
      "application/vnd.jupyter.widget-view+json": {
       "model_id": "be695bcc6aaa4bb2891f230aa6208307",
       "version_major": 2,
       "version_minor": 0
      },
      "text/plain": [
       "Validation: |          | 0/? [00:00<?, ?it/s]"
      ]
     },
     "metadata": {},
     "output_type": "display_data"
    },
    {
     "data": {
      "application/vnd.jupyter.widget-view+json": {
       "model_id": "26b149a67c154eb0a2c8c3f8cac8781e",
       "version_major": 2,
       "version_minor": 0
      },
      "text/plain": [
       "Validation: |          | 0/? [00:00<?, ?it/s]"
      ]
     },
     "metadata": {},
     "output_type": "display_data"
    },
    {
     "data": {
      "application/vnd.jupyter.widget-view+json": {
       "model_id": "7810ab522cd14e449b78b0692d23f426",
       "version_major": 2,
       "version_minor": 0
      },
      "text/plain": [
       "Validation: |          | 0/? [00:00<?, ?it/s]"
      ]
     },
     "metadata": {},
     "output_type": "display_data"
    },
    {
     "data": {
      "application/vnd.jupyter.widget-view+json": {
       "model_id": "e5af62966d824e449a719c169f1a1117",
       "version_major": 2,
       "version_minor": 0
      },
      "text/plain": [
       "Validation: |          | 0/? [00:00<?, ?it/s]"
      ]
     },
     "metadata": {},
     "output_type": "display_data"
    },
    {
     "data": {
      "application/vnd.jupyter.widget-view+json": {
       "model_id": "4df3dc6a047c42d69768ed03a5d85b7d",
       "version_major": 2,
       "version_minor": 0
      },
      "text/plain": [
       "Validation: |          | 0/? [00:00<?, ?it/s]"
      ]
     },
     "metadata": {},
     "output_type": "display_data"
    },
    {
     "data": {
      "application/vnd.jupyter.widget-view+json": {
       "model_id": "f8e9d13e25fa4f45a5698b80ba524ef9",
       "version_major": 2,
       "version_minor": 0
      },
      "text/plain": [
       "Validation: |          | 0/? [00:00<?, ?it/s]"
      ]
     },
     "metadata": {},
     "output_type": "display_data"
    },
    {
     "data": {
      "application/vnd.jupyter.widget-view+json": {
       "model_id": "65545ff352134f1eb56e960b0e09db38",
       "version_major": 2,
       "version_minor": 0
      },
      "text/plain": [
       "Validation: |          | 0/? [00:00<?, ?it/s]"
      ]
     },
     "metadata": {},
     "output_type": "display_data"
    },
    {
     "data": {
      "application/vnd.jupyter.widget-view+json": {
       "model_id": "9de486989c554c6fa310b05c2afeb1f0",
       "version_major": 2,
       "version_minor": 0
      },
      "text/plain": [
       "Validation: |          | 0/? [00:00<?, ?it/s]"
      ]
     },
     "metadata": {},
     "output_type": "display_data"
    },
    {
     "data": {
      "application/vnd.jupyter.widget-view+json": {
       "model_id": "45d60e28e4254c0fa4fd0331f2f89347",
       "version_major": 2,
       "version_minor": 0
      },
      "text/plain": [
       "Validation: |          | 0/? [00:00<?, ?it/s]"
      ]
     },
     "metadata": {},
     "output_type": "display_data"
    },
    {
     "data": {
      "application/vnd.jupyter.widget-view+json": {
       "model_id": "f60285d814c64add9f67a768685c0c9d",
       "version_major": 2,
       "version_minor": 0
      },
      "text/plain": [
       "Validation: |          | 0/? [00:00<?, ?it/s]"
      ]
     },
     "metadata": {},
     "output_type": "display_data"
    },
    {
     "data": {
      "application/vnd.jupyter.widget-view+json": {
       "model_id": "f38e83d5213243a2a24eac0bb74fb557",
       "version_major": 2,
       "version_minor": 0
      },
      "text/plain": [
       "Validation: |          | 0/? [00:00<?, ?it/s]"
      ]
     },
     "metadata": {},
     "output_type": "display_data"
    },
    {
     "data": {
      "application/vnd.jupyter.widget-view+json": {
       "model_id": "f1a53dde991a4d3f9e731a083958b864",
       "version_major": 2,
       "version_minor": 0
      },
      "text/plain": [
       "Validation: |          | 0/? [00:00<?, ?it/s]"
      ]
     },
     "metadata": {},
     "output_type": "display_data"
    },
    {
     "data": {
      "application/vnd.jupyter.widget-view+json": {
       "model_id": "deee06c9310d42288684d6ecf4cbdee7",
       "version_major": 2,
       "version_minor": 0
      },
      "text/plain": [
       "Validation: |          | 0/? [00:00<?, ?it/s]"
      ]
     },
     "metadata": {},
     "output_type": "display_data"
    },
    {
     "data": {
      "application/vnd.jupyter.widget-view+json": {
       "model_id": "3a67625ed5404c309f8a8572ea2de76b",
       "version_major": 2,
       "version_minor": 0
      },
      "text/plain": [
       "Validation: |          | 0/? [00:00<?, ?it/s]"
      ]
     },
     "metadata": {},
     "output_type": "display_data"
    },
    {
     "data": {
      "application/vnd.jupyter.widget-view+json": {
       "model_id": "281488f578a34501bad3f2a2546a0b56",
       "version_major": 2,
       "version_minor": 0
      },
      "text/plain": [
       "Validation: |          | 0/? [00:00<?, ?it/s]"
      ]
     },
     "metadata": {},
     "output_type": "display_data"
    },
    {
     "data": {
      "application/vnd.jupyter.widget-view+json": {
       "model_id": "d9fef92b4af64ffd94843bfe2891f2eb",
       "version_major": 2,
       "version_minor": 0
      },
      "text/plain": [
       "Validation: |          | 0/? [00:00<?, ?it/s]"
      ]
     },
     "metadata": {},
     "output_type": "display_data"
    },
    {
     "data": {
      "application/vnd.jupyter.widget-view+json": {
       "model_id": "dc948c0be1b14eb0b90fed80a978e558",
       "version_major": 2,
       "version_minor": 0
      },
      "text/plain": [
       "Validation: |          | 0/? [00:00<?, ?it/s]"
      ]
     },
     "metadata": {},
     "output_type": "display_data"
    },
    {
     "data": {
      "application/vnd.jupyter.widget-view+json": {
       "model_id": "e3a49fd9676c4ab2a5c7abc3526edd4b",
       "version_major": 2,
       "version_minor": 0
      },
      "text/plain": [
       "Validation: |          | 0/? [00:00<?, ?it/s]"
      ]
     },
     "metadata": {},
     "output_type": "display_data"
    },
    {
     "data": {
      "application/vnd.jupyter.widget-view+json": {
       "model_id": "2755b41a20ab472f8505ecd4b9314635",
       "version_major": 2,
       "version_minor": 0
      },
      "text/plain": [
       "Validation: |          | 0/? [00:00<?, ?it/s]"
      ]
     },
     "metadata": {},
     "output_type": "display_data"
    },
    {
     "data": {
      "application/vnd.jupyter.widget-view+json": {
       "model_id": "0977b03588584e53b7a0077bc694efed",
       "version_major": 2,
       "version_minor": 0
      },
      "text/plain": [
       "Validation: |          | 0/? [00:00<?, ?it/s]"
      ]
     },
     "metadata": {},
     "output_type": "display_data"
    },
    {
     "data": {
      "application/vnd.jupyter.widget-view+json": {
       "model_id": "43c3abf2e96f40828db1361b72c762a5",
       "version_major": 2,
       "version_minor": 0
      },
      "text/plain": [
       "Validation: |          | 0/? [00:00<?, ?it/s]"
      ]
     },
     "metadata": {},
     "output_type": "display_data"
    },
    {
     "data": {
      "application/vnd.jupyter.widget-view+json": {
       "model_id": "a11c7cfcd28d4f9182928761fba984ca",
       "version_major": 2,
       "version_minor": 0
      },
      "text/plain": [
       "Validation: |          | 0/? [00:00<?, ?it/s]"
      ]
     },
     "metadata": {},
     "output_type": "display_data"
    },
    {
     "data": {
      "application/vnd.jupyter.widget-view+json": {
       "model_id": "2f5042beb89d470fbc7badd894c1cb0f",
       "version_major": 2,
       "version_minor": 0
      },
      "text/plain": [
       "Validation: |          | 0/? [00:00<?, ?it/s]"
      ]
     },
     "metadata": {},
     "output_type": "display_data"
    },
    {
     "data": {
      "application/vnd.jupyter.widget-view+json": {
       "model_id": "eb19c861910b42f691cfdca76847e7b6",
       "version_major": 2,
       "version_minor": 0
      },
      "text/plain": [
       "Validation: |          | 0/? [00:00<?, ?it/s]"
      ]
     },
     "metadata": {},
     "output_type": "display_data"
    },
    {
     "data": {
      "application/vnd.jupyter.widget-view+json": {
       "model_id": "3a59fdd85d4f4c3e806fdf2f6c136185",
       "version_major": 2,
       "version_minor": 0
      },
      "text/plain": [
       "Validation: |          | 0/? [00:00<?, ?it/s]"
      ]
     },
     "metadata": {},
     "output_type": "display_data"
    },
    {
     "data": {
      "application/vnd.jupyter.widget-view+json": {
       "model_id": "aef170714e274679a94198de19569c60",
       "version_major": 2,
       "version_minor": 0
      },
      "text/plain": [
       "Validation: |          | 0/? [00:00<?, ?it/s]"
      ]
     },
     "metadata": {},
     "output_type": "display_data"
    },
    {
     "data": {
      "application/vnd.jupyter.widget-view+json": {
       "model_id": "86cad8565804421094492f1be0d61a3c",
       "version_major": 2,
       "version_minor": 0
      },
      "text/plain": [
       "Validation: |          | 0/? [00:00<?, ?it/s]"
      ]
     },
     "metadata": {},
     "output_type": "display_data"
    },
    {
     "data": {
      "application/vnd.jupyter.widget-view+json": {
       "model_id": "8f00b19f4ba241389ad477ea64e08f5c",
       "version_major": 2,
       "version_minor": 0
      },
      "text/plain": [
       "Validation: |          | 0/? [00:00<?, ?it/s]"
      ]
     },
     "metadata": {},
     "output_type": "display_data"
    },
    {
     "data": {
      "application/vnd.jupyter.widget-view+json": {
       "model_id": "03aa545b38ae4a31b88a2f42b3c1ed01",
       "version_major": 2,
       "version_minor": 0
      },
      "text/plain": [
       "Validation: |          | 0/? [00:00<?, ?it/s]"
      ]
     },
     "metadata": {},
     "output_type": "display_data"
    },
    {
     "data": {
      "application/vnd.jupyter.widget-view+json": {
       "model_id": "b853aa0d652e447cabb140d58527930e",
       "version_major": 2,
       "version_minor": 0
      },
      "text/plain": [
       "Validation: |          | 0/? [00:00<?, ?it/s]"
      ]
     },
     "metadata": {},
     "output_type": "display_data"
    },
    {
     "data": {
      "application/vnd.jupyter.widget-view+json": {
       "model_id": "7e8f7a1ca2df4cc98028540667ac8827",
       "version_major": 2,
       "version_minor": 0
      },
      "text/plain": [
       "Validation: |          | 0/? [00:00<?, ?it/s]"
      ]
     },
     "metadata": {},
     "output_type": "display_data"
    },
    {
     "data": {
      "application/vnd.jupyter.widget-view+json": {
       "model_id": "09a2f476c67f42e1b7ce9014741bfa0d",
       "version_major": 2,
       "version_minor": 0
      },
      "text/plain": [
       "Validation: |          | 0/? [00:00<?, ?it/s]"
      ]
     },
     "metadata": {},
     "output_type": "display_data"
    },
    {
     "data": {
      "application/vnd.jupyter.widget-view+json": {
       "model_id": "380318ce245e46edbe05d297cb3fc0b6",
       "version_major": 2,
       "version_minor": 0
      },
      "text/plain": [
       "Validation: |          | 0/? [00:00<?, ?it/s]"
      ]
     },
     "metadata": {},
     "output_type": "display_data"
    },
    {
     "data": {
      "application/vnd.jupyter.widget-view+json": {
       "model_id": "72b1f63459c942d1b97826b2bce2cbe9",
       "version_major": 2,
       "version_minor": 0
      },
      "text/plain": [
       "Validation: |          | 0/? [00:00<?, ?it/s]"
      ]
     },
     "metadata": {},
     "output_type": "display_data"
    },
    {
     "data": {
      "application/vnd.jupyter.widget-view+json": {
       "model_id": "8e54809611a448cfbe1365021665db36",
       "version_major": 2,
       "version_minor": 0
      },
      "text/plain": [
       "Validation: |          | 0/? [00:00<?, ?it/s]"
      ]
     },
     "metadata": {},
     "output_type": "display_data"
    },
    {
     "data": {
      "application/vnd.jupyter.widget-view+json": {
       "model_id": "4037e828fe9d442189f59ae88ab003de",
       "version_major": 2,
       "version_minor": 0
      },
      "text/plain": [
       "Validation: |          | 0/? [00:00<?, ?it/s]"
      ]
     },
     "metadata": {},
     "output_type": "display_data"
    },
    {
     "data": {
      "application/vnd.jupyter.widget-view+json": {
       "model_id": "14e9f7d3057a47f1a27407f0417c9f9e",
       "version_major": 2,
       "version_minor": 0
      },
      "text/plain": [
       "Validation: |          | 0/? [00:00<?, ?it/s]"
      ]
     },
     "metadata": {},
     "output_type": "display_data"
    },
    {
     "data": {
      "application/vnd.jupyter.widget-view+json": {
       "model_id": "b8e32eedfdd2434a867ed01103c54fdc",
       "version_major": 2,
       "version_minor": 0
      },
      "text/plain": [
       "Validation: |          | 0/? [00:00<?, ?it/s]"
      ]
     },
     "metadata": {},
     "output_type": "display_data"
    },
    {
     "data": {
      "application/vnd.jupyter.widget-view+json": {
       "model_id": "ee07e6f1b67e47a9a801f1122b22a2e0",
       "version_major": 2,
       "version_minor": 0
      },
      "text/plain": [
       "Validation: |          | 0/? [00:00<?, ?it/s]"
      ]
     },
     "metadata": {},
     "output_type": "display_data"
    },
    {
     "data": {
      "application/vnd.jupyter.widget-view+json": {
       "model_id": "16298d10b8544a8eb2bfe0396c1fdfa7",
       "version_major": 2,
       "version_minor": 0
      },
      "text/plain": [
       "Validation: |          | 0/? [00:00<?, ?it/s]"
      ]
     },
     "metadata": {},
     "output_type": "display_data"
    },
    {
     "data": {
      "application/vnd.jupyter.widget-view+json": {
       "model_id": "3f34663b6fea47679335e08ab1a2a866",
       "version_major": 2,
       "version_minor": 0
      },
      "text/plain": [
       "Validation: |          | 0/? [00:00<?, ?it/s]"
      ]
     },
     "metadata": {},
     "output_type": "display_data"
    },
    {
     "data": {
      "application/vnd.jupyter.widget-view+json": {
       "model_id": "26d8098c734c4a1a95eae0eda92add5e",
       "version_major": 2,
       "version_minor": 0
      },
      "text/plain": [
       "Validation: |          | 0/? [00:00<?, ?it/s]"
      ]
     },
     "metadata": {},
     "output_type": "display_data"
    },
    {
     "data": {
      "application/vnd.jupyter.widget-view+json": {
       "model_id": "bcd7ece9f33b434f88b15439694904e9",
       "version_major": 2,
       "version_minor": 0
      },
      "text/plain": [
       "Validation: |          | 0/? [00:00<?, ?it/s]"
      ]
     },
     "metadata": {},
     "output_type": "display_data"
    },
    {
     "data": {
      "application/vnd.jupyter.widget-view+json": {
       "model_id": "5c2fb53445924ad2be40e0dfbff7e40a",
       "version_major": 2,
       "version_minor": 0
      },
      "text/plain": [
       "Validation: |          | 0/? [00:00<?, ?it/s]"
      ]
     },
     "metadata": {},
     "output_type": "display_data"
    },
    {
     "data": {
      "application/vnd.jupyter.widget-view+json": {
       "model_id": "820edd5e1ddf4e99a89a7f41d5bceb64",
       "version_major": 2,
       "version_minor": 0
      },
      "text/plain": [
       "Validation: |          | 0/? [00:00<?, ?it/s]"
      ]
     },
     "metadata": {},
     "output_type": "display_data"
    },
    {
     "data": {
      "application/vnd.jupyter.widget-view+json": {
       "model_id": "aea184c95f4d43b2b89e1d7846bf56b8",
       "version_major": 2,
       "version_minor": 0
      },
      "text/plain": [
       "Validation: |          | 0/? [00:00<?, ?it/s]"
      ]
     },
     "metadata": {},
     "output_type": "display_data"
    },
    {
     "data": {
      "application/vnd.jupyter.widget-view+json": {
       "model_id": "e10ab9b5f766486ca52a1a37660a641f",
       "version_major": 2,
       "version_minor": 0
      },
      "text/plain": [
       "Validation: |          | 0/? [00:00<?, ?it/s]"
      ]
     },
     "metadata": {},
     "output_type": "display_data"
    },
    {
     "data": {
      "application/vnd.jupyter.widget-view+json": {
       "model_id": "080340ee8fc54506ac173094f30ebb9f",
       "version_major": 2,
       "version_minor": 0
      },
      "text/plain": [
       "Validation: |          | 0/? [00:00<?, ?it/s]"
      ]
     },
     "metadata": {},
     "output_type": "display_data"
    },
    {
     "data": {
      "application/vnd.jupyter.widget-view+json": {
       "model_id": "d03fe873e7f64c1c9b63d64a3627ebb1",
       "version_major": 2,
       "version_minor": 0
      },
      "text/plain": [
       "Validation: |          | 0/? [00:00<?, ?it/s]"
      ]
     },
     "metadata": {},
     "output_type": "display_data"
    },
    {
     "data": {
      "application/vnd.jupyter.widget-view+json": {
       "model_id": "23f1f5d2d2eb4b96bcdc40923360733c",
       "version_major": 2,
       "version_minor": 0
      },
      "text/plain": [
       "Validation: |          | 0/? [00:00<?, ?it/s]"
      ]
     },
     "metadata": {},
     "output_type": "display_data"
    },
    {
     "data": {
      "application/vnd.jupyter.widget-view+json": {
       "model_id": "6afa5f8e0f764295bc348ab23603b8f5",
       "version_major": 2,
       "version_minor": 0
      },
      "text/plain": [
       "Validation: |          | 0/? [00:00<?, ?it/s]"
      ]
     },
     "metadata": {},
     "output_type": "display_data"
    },
    {
     "data": {
      "application/vnd.jupyter.widget-view+json": {
       "model_id": "5d2d0538c22f435ca9100a0fe41e8662",
       "version_major": 2,
       "version_minor": 0
      },
      "text/plain": [
       "Validation: |          | 0/? [00:00<?, ?it/s]"
      ]
     },
     "metadata": {},
     "output_type": "display_data"
    },
    {
     "data": {
      "application/vnd.jupyter.widget-view+json": {
       "model_id": "cf6e0201cc0148fc8f7880cf9aa0972e",
       "version_major": 2,
       "version_minor": 0
      },
      "text/plain": [
       "Validation: |          | 0/? [00:00<?, ?it/s]"
      ]
     },
     "metadata": {},
     "output_type": "display_data"
    },
    {
     "data": {
      "application/vnd.jupyter.widget-view+json": {
       "model_id": "6968315b662b46a3af39e61568e0bc93",
       "version_major": 2,
       "version_minor": 0
      },
      "text/plain": [
       "Validation: |          | 0/? [00:00<?, ?it/s]"
      ]
     },
     "metadata": {},
     "output_type": "display_data"
    },
    {
     "data": {
      "application/vnd.jupyter.widget-view+json": {
       "model_id": "b1bcb58fef0f4147ad314817601214ca",
       "version_major": 2,
       "version_minor": 0
      },
      "text/plain": [
       "Validation: |          | 0/? [00:00<?, ?it/s]"
      ]
     },
     "metadata": {},
     "output_type": "display_data"
    },
    {
     "data": {
      "application/vnd.jupyter.widget-view+json": {
       "model_id": "3ac152cae0424f599c081c925ce84094",
       "version_major": 2,
       "version_minor": 0
      },
      "text/plain": [
       "Validation: |          | 0/? [00:00<?, ?it/s]"
      ]
     },
     "metadata": {},
     "output_type": "display_data"
    },
    {
     "data": {
      "application/vnd.jupyter.widget-view+json": {
       "model_id": "d69d16492e94494abe5e63807135a609",
       "version_major": 2,
       "version_minor": 0
      },
      "text/plain": [
       "Validation: |          | 0/? [00:00<?, ?it/s]"
      ]
     },
     "metadata": {},
     "output_type": "display_data"
    },
    {
     "data": {
      "application/vnd.jupyter.widget-view+json": {
       "model_id": "a881d7f64127461c99cbe21fd36d1f4f",
       "version_major": 2,
       "version_minor": 0
      },
      "text/plain": [
       "Validation: |          | 0/? [00:00<?, ?it/s]"
      ]
     },
     "metadata": {},
     "output_type": "display_data"
    },
    {
     "data": {
      "application/vnd.jupyter.widget-view+json": {
       "model_id": "2e746bf35630431bbe68119ac1d4494a",
       "version_major": 2,
       "version_minor": 0
      },
      "text/plain": [
       "Validation: |          | 0/? [00:00<?, ?it/s]"
      ]
     },
     "metadata": {},
     "output_type": "display_data"
    },
    {
     "data": {
      "application/vnd.jupyter.widget-view+json": {
       "model_id": "28acf5589fcd415f99b72f3fe1aa915a",
       "version_major": 2,
       "version_minor": 0
      },
      "text/plain": [
       "Validation: |          | 0/? [00:00<?, ?it/s]"
      ]
     },
     "metadata": {},
     "output_type": "display_data"
    },
    {
     "data": {
      "application/vnd.jupyter.widget-view+json": {
       "model_id": "c4039b7ff55f467d9fbe70fdddafa4eb",
       "version_major": 2,
       "version_minor": 0
      },
      "text/plain": [
       "Validation: |          | 0/? [00:00<?, ?it/s]"
      ]
     },
     "metadata": {},
     "output_type": "display_data"
    },
    {
     "data": {
      "application/vnd.jupyter.widget-view+json": {
       "model_id": "052d09c7864a45cea69f77a5e390fad3",
       "version_major": 2,
       "version_minor": 0
      },
      "text/plain": [
       "Validation: |          | 0/? [00:00<?, ?it/s]"
      ]
     },
     "metadata": {},
     "output_type": "display_data"
    },
    {
     "data": {
      "application/vnd.jupyter.widget-view+json": {
       "model_id": "4c012b40c532416fa165b8fe5a73c97c",
       "version_major": 2,
       "version_minor": 0
      },
      "text/plain": [
       "Validation: |          | 0/? [00:00<?, ?it/s]"
      ]
     },
     "metadata": {},
     "output_type": "display_data"
    },
    {
     "data": {
      "application/vnd.jupyter.widget-view+json": {
       "model_id": "2c5e28fc530f4c05bb40bf9fb0081679",
       "version_major": 2,
       "version_minor": 0
      },
      "text/plain": [
       "Validation: |          | 0/? [00:00<?, ?it/s]"
      ]
     },
     "metadata": {},
     "output_type": "display_data"
    },
    {
     "data": {
      "application/vnd.jupyter.widget-view+json": {
       "model_id": "3a94ae677412480d9f409b8e1a98c1a7",
       "version_major": 2,
       "version_minor": 0
      },
      "text/plain": [
       "Validation: |          | 0/? [00:00<?, ?it/s]"
      ]
     },
     "metadata": {},
     "output_type": "display_data"
    },
    {
     "data": {
      "application/vnd.jupyter.widget-view+json": {
       "model_id": "d522ca2b9d104f3e864bf4ceb81d2068",
       "version_major": 2,
       "version_minor": 0
      },
      "text/plain": [
       "Validation: |          | 0/? [00:00<?, ?it/s]"
      ]
     },
     "metadata": {},
     "output_type": "display_data"
    },
    {
     "data": {
      "application/vnd.jupyter.widget-view+json": {
       "model_id": "aca39edbad214edfb8cc4a00ed10bdb0",
       "version_major": 2,
       "version_minor": 0
      },
      "text/plain": [
       "Validation: |          | 0/? [00:00<?, ?it/s]"
      ]
     },
     "metadata": {},
     "output_type": "display_data"
    },
    {
     "data": {
      "application/vnd.jupyter.widget-view+json": {
       "model_id": "cf6aca778d834c899e71ac7b19d5747b",
       "version_major": 2,
       "version_minor": 0
      },
      "text/plain": [
       "Validation: |          | 0/? [00:00<?, ?it/s]"
      ]
     },
     "metadata": {},
     "output_type": "display_data"
    },
    {
     "data": {
      "application/vnd.jupyter.widget-view+json": {
       "model_id": "416e302ff76b42c19a92dc14bccb7ea0",
       "version_major": 2,
       "version_minor": 0
      },
      "text/plain": [
       "Validation: |          | 0/? [00:00<?, ?it/s]"
      ]
     },
     "metadata": {},
     "output_type": "display_data"
    },
    {
     "data": {
      "application/vnd.jupyter.widget-view+json": {
       "model_id": "e0ca63d969f54779840800287e1bc71a",
       "version_major": 2,
       "version_minor": 0
      },
      "text/plain": [
       "Validation: |          | 0/? [00:00<?, ?it/s]"
      ]
     },
     "metadata": {},
     "output_type": "display_data"
    },
    {
     "data": {
      "application/vnd.jupyter.widget-view+json": {
       "model_id": "ee6c95c6ee554d2e8edb03c1a7e9584e",
       "version_major": 2,
       "version_minor": 0
      },
      "text/plain": [
       "Validation: |          | 0/? [00:00<?, ?it/s]"
      ]
     },
     "metadata": {},
     "output_type": "display_data"
    },
    {
     "data": {
      "application/vnd.jupyter.widget-view+json": {
       "model_id": "a22b13988a0042e0867d0a0894e6bb9d",
       "version_major": 2,
       "version_minor": 0
      },
      "text/plain": [
       "Validation: |          | 0/? [00:00<?, ?it/s]"
      ]
     },
     "metadata": {},
     "output_type": "display_data"
    },
    {
     "data": {
      "application/vnd.jupyter.widget-view+json": {
       "model_id": "80d302c69474452186af3b3c72c772dc",
       "version_major": 2,
       "version_minor": 0
      },
      "text/plain": [
       "Validation: |          | 0/? [00:00<?, ?it/s]"
      ]
     },
     "metadata": {},
     "output_type": "display_data"
    },
    {
     "data": {
      "application/vnd.jupyter.widget-view+json": {
       "model_id": "469298bedd5547a0aff0bad906081d7e",
       "version_major": 2,
       "version_minor": 0
      },
      "text/plain": [
       "Validation: |          | 0/? [00:00<?, ?it/s]"
      ]
     },
     "metadata": {},
     "output_type": "display_data"
    },
    {
     "data": {
      "application/vnd.jupyter.widget-view+json": {
       "model_id": "dfbef7ad59d04717abec6a806bda4724",
       "version_major": 2,
       "version_minor": 0
      },
      "text/plain": [
       "Validation: |          | 0/? [00:00<?, ?it/s]"
      ]
     },
     "metadata": {},
     "output_type": "display_data"
    },
    {
     "data": {
      "application/vnd.jupyter.widget-view+json": {
       "model_id": "a78086703a67423eb8f3e09f7537bba5",
       "version_major": 2,
       "version_minor": 0
      },
      "text/plain": [
       "Validation: |          | 0/? [00:00<?, ?it/s]"
      ]
     },
     "metadata": {},
     "output_type": "display_data"
    },
    {
     "data": {
      "application/vnd.jupyter.widget-view+json": {
       "model_id": "15a2df63d1d04dcda8275cf793e16afa",
       "version_major": 2,
       "version_minor": 0
      },
      "text/plain": [
       "Validation: |          | 0/? [00:00<?, ?it/s]"
      ]
     },
     "metadata": {},
     "output_type": "display_data"
    },
    {
     "data": {
      "application/vnd.jupyter.widget-view+json": {
       "model_id": "94c52d94a4154e7eac842e006bf40239",
       "version_major": 2,
       "version_minor": 0
      },
      "text/plain": [
       "Validation: |          | 0/? [00:00<?, ?it/s]"
      ]
     },
     "metadata": {},
     "output_type": "display_data"
    },
    {
     "data": {
      "application/vnd.jupyter.widget-view+json": {
       "model_id": "23a0594abec64b3ab64269db8d49874d",
       "version_major": 2,
       "version_minor": 0
      },
      "text/plain": [
       "Validation: |          | 0/? [00:00<?, ?it/s]"
      ]
     },
     "metadata": {},
     "output_type": "display_data"
    },
    {
     "data": {
      "application/vnd.jupyter.widget-view+json": {
       "model_id": "59a82daa55e14d38b6bb4a82c2baf5cc",
       "version_major": 2,
       "version_minor": 0
      },
      "text/plain": [
       "Validation: |          | 0/? [00:00<?, ?it/s]"
      ]
     },
     "metadata": {},
     "output_type": "display_data"
    },
    {
     "data": {
      "application/vnd.jupyter.widget-view+json": {
       "model_id": "97a40fb3457d4f3c8be0ed6e2ca81966",
       "version_major": 2,
       "version_minor": 0
      },
      "text/plain": [
       "Validation: |          | 0/? [00:00<?, ?it/s]"
      ]
     },
     "metadata": {},
     "output_type": "display_data"
    },
    {
     "data": {
      "application/vnd.jupyter.widget-view+json": {
       "model_id": "517efb9597964e3cb899327d1b8c0b6f",
       "version_major": 2,
       "version_minor": 0
      },
      "text/plain": [
       "Validation: |          | 0/? [00:00<?, ?it/s]"
      ]
     },
     "metadata": {},
     "output_type": "display_data"
    },
    {
     "data": {
      "application/vnd.jupyter.widget-view+json": {
       "model_id": "706f270b175f4659b931f83591f044d8",
       "version_major": 2,
       "version_minor": 0
      },
      "text/plain": [
       "Validation: |          | 0/? [00:00<?, ?it/s]"
      ]
     },
     "metadata": {},
     "output_type": "display_data"
    },
    {
     "data": {
      "application/vnd.jupyter.widget-view+json": {
       "model_id": "9f64b03fdc7a4122890450d2e164175e",
       "version_major": 2,
       "version_minor": 0
      },
      "text/plain": [
       "Validation: |          | 0/? [00:00<?, ?it/s]"
      ]
     },
     "metadata": {},
     "output_type": "display_data"
    },
    {
     "data": {
      "application/vnd.jupyter.widget-view+json": {
       "model_id": "f804c6630b744668abd2e219b4e1fd43",
       "version_major": 2,
       "version_minor": 0
      },
      "text/plain": [
       "Validation: |          | 0/? [00:00<?, ?it/s]"
      ]
     },
     "metadata": {},
     "output_type": "display_data"
    },
    {
     "data": {
      "application/vnd.jupyter.widget-view+json": {
       "model_id": "f31d5d483ee6421eb971d74034ecdb65",
       "version_major": 2,
       "version_minor": 0
      },
      "text/plain": [
       "Validation: |          | 0/? [00:00<?, ?it/s]"
      ]
     },
     "metadata": {},
     "output_type": "display_data"
    },
    {
     "data": {
      "application/vnd.jupyter.widget-view+json": {
       "model_id": "d7c8f779b47b454e94bcbbf9cdb037c2",
       "version_major": 2,
       "version_minor": 0
      },
      "text/plain": [
       "Validation: |          | 0/? [00:00<?, ?it/s]"
      ]
     },
     "metadata": {},
     "output_type": "display_data"
    },
    {
     "data": {
      "application/vnd.jupyter.widget-view+json": {
       "model_id": "b30fe19e091c4b2ebbb93b0951d1bca8",
       "version_major": 2,
       "version_minor": 0
      },
      "text/plain": [
       "Validation: |          | 0/? [00:00<?, ?it/s]"
      ]
     },
     "metadata": {},
     "output_type": "display_data"
    },
    {
     "data": {
      "application/vnd.jupyter.widget-view+json": {
       "model_id": "e74379ccd5ec4e4797fa0424d0d56952",
       "version_major": 2,
       "version_minor": 0
      },
      "text/plain": [
       "Validation: |          | 0/? [00:00<?, ?it/s]"
      ]
     },
     "metadata": {},
     "output_type": "display_data"
    },
    {
     "data": {
      "application/vnd.jupyter.widget-view+json": {
       "model_id": "e48a530e25a14dbeb4c24132f70c06ed",
       "version_major": 2,
       "version_minor": 0
      },
      "text/plain": [
       "Validation: |          | 0/? [00:00<?, ?it/s]"
      ]
     },
     "metadata": {},
     "output_type": "display_data"
    },
    {
     "data": {
      "application/vnd.jupyter.widget-view+json": {
       "model_id": "181e4485a9784268bc7bfb92e6b1aba9",
       "version_major": 2,
       "version_minor": 0
      },
      "text/plain": [
       "Validation: |          | 0/? [00:00<?, ?it/s]"
      ]
     },
     "metadata": {},
     "output_type": "display_data"
    },
    {
     "data": {
      "application/vnd.jupyter.widget-view+json": {
       "model_id": "98f37b6edd50416e988ef29d2b9821e1",
       "version_major": 2,
       "version_minor": 0
      },
      "text/plain": [
       "Validation: |          | 0/? [00:00<?, ?it/s]"
      ]
     },
     "metadata": {},
     "output_type": "display_data"
    },
    {
     "data": {
      "application/vnd.jupyter.widget-view+json": {
       "model_id": "9f7ea60dd33745ac84f7fc5d950a9be3",
       "version_major": 2,
       "version_minor": 0
      },
      "text/plain": [
       "Validation: |          | 0/? [00:00<?, ?it/s]"
      ]
     },
     "metadata": {},
     "output_type": "display_data"
    },
    {
     "data": {
      "application/vnd.jupyter.widget-view+json": {
       "model_id": "88b08164d2d74d92941e671e532f55c6",
       "version_major": 2,
       "version_minor": 0
      },
      "text/plain": [
       "Validation: |          | 0/? [00:00<?, ?it/s]"
      ]
     },
     "metadata": {},
     "output_type": "display_data"
    },
    {
     "data": {
      "application/vnd.jupyter.widget-view+json": {
       "model_id": "3ab6ebe87bc3464ca9e88eedb054ba03",
       "version_major": 2,
       "version_minor": 0
      },
      "text/plain": [
       "Validation: |          | 0/? [00:00<?, ?it/s]"
      ]
     },
     "metadata": {},
     "output_type": "display_data"
    },
    {
     "data": {
      "application/vnd.jupyter.widget-view+json": {
       "model_id": "4cecf002a22b43b596f2eb54476b24b0",
       "version_major": 2,
       "version_minor": 0
      },
      "text/plain": [
       "Validation: |          | 0/? [00:00<?, ?it/s]"
      ]
     },
     "metadata": {},
     "output_type": "display_data"
    },
    {
     "data": {
      "application/vnd.jupyter.widget-view+json": {
       "model_id": "7fb907670627476384c528e165c56219",
       "version_major": 2,
       "version_minor": 0
      },
      "text/plain": [
       "Validation: |          | 0/? [00:00<?, ?it/s]"
      ]
     },
     "metadata": {},
     "output_type": "display_data"
    },
    {
     "data": {
      "application/vnd.jupyter.widget-view+json": {
       "model_id": "0089035cd267469f9319972046013694",
       "version_major": 2,
       "version_minor": 0
      },
      "text/plain": [
       "Validation: |          | 0/? [00:00<?, ?it/s]"
      ]
     },
     "metadata": {},
     "output_type": "display_data"
    },
    {
     "data": {
      "application/vnd.jupyter.widget-view+json": {
       "model_id": "3134c32f62e24876bcabde7a04fb01de",
       "version_major": 2,
       "version_minor": 0
      },
      "text/plain": [
       "Validation: |          | 0/? [00:00<?, ?it/s]"
      ]
     },
     "metadata": {},
     "output_type": "display_data"
    },
    {
     "data": {
      "application/vnd.jupyter.widget-view+json": {
       "model_id": "e2e58466297c4909bb7709e863b47f89",
       "version_major": 2,
       "version_minor": 0
      },
      "text/plain": [
       "Validation: |          | 0/? [00:00<?, ?it/s]"
      ]
     },
     "metadata": {},
     "output_type": "display_data"
    },
    {
     "data": {
      "application/vnd.jupyter.widget-view+json": {
       "model_id": "8a84570702104031ae3d9897d1d39865",
       "version_major": 2,
       "version_minor": 0
      },
      "text/plain": [
       "Validation: |          | 0/? [00:00<?, ?it/s]"
      ]
     },
     "metadata": {},
     "output_type": "display_data"
    },
    {
     "data": {
      "application/vnd.jupyter.widget-view+json": {
       "model_id": "eb6686a886014cc5b8a422f34566823c",
       "version_major": 2,
       "version_minor": 0
      },
      "text/plain": [
       "Validation: |          | 0/? [00:00<?, ?it/s]"
      ]
     },
     "metadata": {},
     "output_type": "display_data"
    },
    {
     "data": {
      "application/vnd.jupyter.widget-view+json": {
       "model_id": "81d5ae3bc9b7423ab72453db26b8397e",
       "version_major": 2,
       "version_minor": 0
      },
      "text/plain": [
       "Validation: |          | 0/? [00:00<?, ?it/s]"
      ]
     },
     "metadata": {},
     "output_type": "display_data"
    },
    {
     "data": {
      "application/vnd.jupyter.widget-view+json": {
       "model_id": "c86685b8ce8d4676bf3ef86df6df3235",
       "version_major": 2,
       "version_minor": 0
      },
      "text/plain": [
       "Validation: |          | 0/? [00:00<?, ?it/s]"
      ]
     },
     "metadata": {},
     "output_type": "display_data"
    },
    {
     "data": {
      "application/vnd.jupyter.widget-view+json": {
       "model_id": "6032b984f5804d75af9fc957dc30d29e",
       "version_major": 2,
       "version_minor": 0
      },
      "text/plain": [
       "Validation: |          | 0/? [00:00<?, ?it/s]"
      ]
     },
     "metadata": {},
     "output_type": "display_data"
    },
    {
     "data": {
      "application/vnd.jupyter.widget-view+json": {
       "model_id": "086392bdd37f4675a91be088a3799d05",
       "version_major": 2,
       "version_minor": 0
      },
      "text/plain": [
       "Validation: |          | 0/? [00:00<?, ?it/s]"
      ]
     },
     "metadata": {},
     "output_type": "display_data"
    },
    {
     "data": {
      "application/vnd.jupyter.widget-view+json": {
       "model_id": "b3066ac7bc7b4e9081464526dd9b2e22",
       "version_major": 2,
       "version_minor": 0
      },
      "text/plain": [
       "Validation: |          | 0/? [00:00<?, ?it/s]"
      ]
     },
     "metadata": {},
     "output_type": "display_data"
    },
    {
     "data": {
      "application/vnd.jupyter.widget-view+json": {
       "model_id": "26afc4e29049462db46e8a1febec9708",
       "version_major": 2,
       "version_minor": 0
      },
      "text/plain": [
       "Validation: |          | 0/? [00:00<?, ?it/s]"
      ]
     },
     "metadata": {},
     "output_type": "display_data"
    },
    {
     "data": {
      "application/vnd.jupyter.widget-view+json": {
       "model_id": "67f2e5f02af54a7c95c155d8d1f17760",
       "version_major": 2,
       "version_minor": 0
      },
      "text/plain": [
       "Validation: |          | 0/? [00:00<?, ?it/s]"
      ]
     },
     "metadata": {},
     "output_type": "display_data"
    },
    {
     "data": {
      "application/vnd.jupyter.widget-view+json": {
       "model_id": "876d220089b142b985a0d330259acc39",
       "version_major": 2,
       "version_minor": 0
      },
      "text/plain": [
       "Validation: |          | 0/? [00:00<?, ?it/s]"
      ]
     },
     "metadata": {},
     "output_type": "display_data"
    },
    {
     "data": {
      "application/vnd.jupyter.widget-view+json": {
       "model_id": "3b7d9c0693524076a5d79004e03b26e8",
       "version_major": 2,
       "version_minor": 0
      },
      "text/plain": [
       "Validation: |          | 0/? [00:00<?, ?it/s]"
      ]
     },
     "metadata": {},
     "output_type": "display_data"
    },
    {
     "data": {
      "application/vnd.jupyter.widget-view+json": {
       "model_id": "4e83d4fb7995409cb7f786538373e1e8",
       "version_major": 2,
       "version_minor": 0
      },
      "text/plain": [
       "Validation: |          | 0/? [00:00<?, ?it/s]"
      ]
     },
     "metadata": {},
     "output_type": "display_data"
    },
    {
     "data": {
      "application/vnd.jupyter.widget-view+json": {
       "model_id": "f30ade0d92b84744ae08105aad490184",
       "version_major": 2,
       "version_minor": 0
      },
      "text/plain": [
       "Validation: |          | 0/? [00:00<?, ?it/s]"
      ]
     },
     "metadata": {},
     "output_type": "display_data"
    },
    {
     "data": {
      "application/vnd.jupyter.widget-view+json": {
       "model_id": "433a79ebf0454363849d9482cc9ee122",
       "version_major": 2,
       "version_minor": 0
      },
      "text/plain": [
       "Validation: |          | 0/? [00:00<?, ?it/s]"
      ]
     },
     "metadata": {},
     "output_type": "display_data"
    },
    {
     "data": {
      "application/vnd.jupyter.widget-view+json": {
       "model_id": "221c9c3ff548481da7fd23394f75d774",
       "version_major": 2,
       "version_minor": 0
      },
      "text/plain": [
       "Validation: |          | 0/? [00:00<?, ?it/s]"
      ]
     },
     "metadata": {},
     "output_type": "display_data"
    },
    {
     "data": {
      "application/vnd.jupyter.widget-view+json": {
       "model_id": "5ead181ffbe84b51aa69d12cd04cc7b1",
       "version_major": 2,
       "version_minor": 0
      },
      "text/plain": [
       "Validation: |          | 0/? [00:00<?, ?it/s]"
      ]
     },
     "metadata": {},
     "output_type": "display_data"
    },
    {
     "data": {
      "application/vnd.jupyter.widget-view+json": {
       "model_id": "7fcd3e733ac5478588b3a71410eda0ef",
       "version_major": 2,
       "version_minor": 0
      },
      "text/plain": [
       "Validation: |          | 0/? [00:00<?, ?it/s]"
      ]
     },
     "metadata": {},
     "output_type": "display_data"
    },
    {
     "data": {
      "application/vnd.jupyter.widget-view+json": {
       "model_id": "c2bcd8c3779b466da27b210b021c368f",
       "version_major": 2,
       "version_minor": 0
      },
      "text/plain": [
       "Validation: |          | 0/? [00:00<?, ?it/s]"
      ]
     },
     "metadata": {},
     "output_type": "display_data"
    },
    {
     "data": {
      "application/vnd.jupyter.widget-view+json": {
       "model_id": "c0675d82a9724870aa51bd09f2ec9350",
       "version_major": 2,
       "version_minor": 0
      },
      "text/plain": [
       "Validation: |          | 0/? [00:00<?, ?it/s]"
      ]
     },
     "metadata": {},
     "output_type": "display_data"
    },
    {
     "data": {
      "application/vnd.jupyter.widget-view+json": {
       "model_id": "dded21f474c24d16b06b3627d04f9a8a",
       "version_major": 2,
       "version_minor": 0
      },
      "text/plain": [
       "Validation: |          | 0/? [00:00<?, ?it/s]"
      ]
     },
     "metadata": {},
     "output_type": "display_data"
    },
    {
     "data": {
      "application/vnd.jupyter.widget-view+json": {
       "model_id": "fc094a8660044161bfda2c37b8932418",
       "version_major": 2,
       "version_minor": 0
      },
      "text/plain": [
       "Validation: |          | 0/? [00:00<?, ?it/s]"
      ]
     },
     "metadata": {},
     "output_type": "display_data"
    },
    {
     "data": {
      "application/vnd.jupyter.widget-view+json": {
       "model_id": "d0616b0bf7bc49d68e4ffc6de582ea23",
       "version_major": 2,
       "version_minor": 0
      },
      "text/plain": [
       "Validation: |          | 0/? [00:00<?, ?it/s]"
      ]
     },
     "metadata": {},
     "output_type": "display_data"
    },
    {
     "data": {
      "application/vnd.jupyter.widget-view+json": {
       "model_id": "66a0cb64bf9e42aebaab0b00ef38cefa",
       "version_major": 2,
       "version_minor": 0
      },
      "text/plain": [
       "Validation: |          | 0/? [00:00<?, ?it/s]"
      ]
     },
     "metadata": {},
     "output_type": "display_data"
    },
    {
     "data": {
      "application/vnd.jupyter.widget-view+json": {
       "model_id": "59a8ca73d3854df2963f93cfeb93ddf1",
       "version_major": 2,
       "version_minor": 0
      },
      "text/plain": [
       "Validation: |          | 0/? [00:00<?, ?it/s]"
      ]
     },
     "metadata": {},
     "output_type": "display_data"
    },
    {
     "data": {
      "application/vnd.jupyter.widget-view+json": {
       "model_id": "2dc1971cea0e4520bec05226146e709f",
       "version_major": 2,
       "version_minor": 0
      },
      "text/plain": [
       "Validation: |          | 0/? [00:00<?, ?it/s]"
      ]
     },
     "metadata": {},
     "output_type": "display_data"
    },
    {
     "data": {
      "application/vnd.jupyter.widget-view+json": {
       "model_id": "8743cec3ac954131ad52427173ccf4c2",
       "version_major": 2,
       "version_minor": 0
      },
      "text/plain": [
       "Validation: |          | 0/? [00:00<?, ?it/s]"
      ]
     },
     "metadata": {},
     "output_type": "display_data"
    },
    {
     "data": {
      "application/vnd.jupyter.widget-view+json": {
       "model_id": "4f0c4642d72740febb9ad721522cad0a",
       "version_major": 2,
       "version_minor": 0
      },
      "text/plain": [
       "Validation: |          | 0/? [00:00<?, ?it/s]"
      ]
     },
     "metadata": {},
     "output_type": "display_data"
    },
    {
     "data": {
      "application/vnd.jupyter.widget-view+json": {
       "model_id": "a2f369806c544dddb11c87924ca03cc4",
       "version_major": 2,
       "version_minor": 0
      },
      "text/plain": [
       "Validation: |          | 0/? [00:00<?, ?it/s]"
      ]
     },
     "metadata": {},
     "output_type": "display_data"
    },
    {
     "data": {
      "application/vnd.jupyter.widget-view+json": {
       "model_id": "2a1969dabe424069b2a5e2a1a124dc9b",
       "version_major": 2,
       "version_minor": 0
      },
      "text/plain": [
       "Validation: |          | 0/? [00:00<?, ?it/s]"
      ]
     },
     "metadata": {},
     "output_type": "display_data"
    },
    {
     "data": {
      "application/vnd.jupyter.widget-view+json": {
       "model_id": "01c4d892c7414224b8cad1024b9dcab8",
       "version_major": 2,
       "version_minor": 0
      },
      "text/plain": [
       "Validation: |          | 0/? [00:00<?, ?it/s]"
      ]
     },
     "metadata": {},
     "output_type": "display_data"
    },
    {
     "data": {
      "application/vnd.jupyter.widget-view+json": {
       "model_id": "5cf6dce5a36b40d1ab0b215130080b63",
       "version_major": 2,
       "version_minor": 0
      },
      "text/plain": [
       "Validation: |          | 0/? [00:00<?, ?it/s]"
      ]
     },
     "metadata": {},
     "output_type": "display_data"
    },
    {
     "data": {
      "application/vnd.jupyter.widget-view+json": {
       "model_id": "15d1dec4ea284db5aba7a80eedd331c5",
       "version_major": 2,
       "version_minor": 0
      },
      "text/plain": [
       "Validation: |          | 0/? [00:00<?, ?it/s]"
      ]
     },
     "metadata": {},
     "output_type": "display_data"
    },
    {
     "data": {
      "application/vnd.jupyter.widget-view+json": {
       "model_id": "d98dcde1e51a4439b7ad75d6e9fa9520",
       "version_major": 2,
       "version_minor": 0
      },
      "text/plain": [
       "Validation: |          | 0/? [00:00<?, ?it/s]"
      ]
     },
     "metadata": {},
     "output_type": "display_data"
    },
    {
     "data": {
      "application/vnd.jupyter.widget-view+json": {
       "model_id": "5a6f453b0e1a4875befad28f450d6ab9",
       "version_major": 2,
       "version_minor": 0
      },
      "text/plain": [
       "Validation: |          | 0/? [00:00<?, ?it/s]"
      ]
     },
     "metadata": {},
     "output_type": "display_data"
    },
    {
     "data": {
      "application/vnd.jupyter.widget-view+json": {
       "model_id": "7c998c219b6b42de872356fa551acb76",
       "version_major": 2,
       "version_minor": 0
      },
      "text/plain": [
       "Validation: |          | 0/? [00:00<?, ?it/s]"
      ]
     },
     "metadata": {},
     "output_type": "display_data"
    },
    {
     "data": {
      "application/vnd.jupyter.widget-view+json": {
       "model_id": "e6afa4eccf964b90a32e7bb7cf7357c3",
       "version_major": 2,
       "version_minor": 0
      },
      "text/plain": [
       "Validation: |          | 0/? [00:00<?, ?it/s]"
      ]
     },
     "metadata": {},
     "output_type": "display_data"
    },
    {
     "data": {
      "application/vnd.jupyter.widget-view+json": {
       "model_id": "6d6024b936514d51be57e4db14c2b0f2",
       "version_major": 2,
       "version_minor": 0
      },
      "text/plain": [
       "Validation: |          | 0/? [00:00<?, ?it/s]"
      ]
     },
     "metadata": {},
     "output_type": "display_data"
    },
    {
     "data": {
      "application/vnd.jupyter.widget-view+json": {
       "model_id": "834554f48f2c47be945077c926c445e4",
       "version_major": 2,
       "version_minor": 0
      },
      "text/plain": [
       "Validation: |          | 0/? [00:00<?, ?it/s]"
      ]
     },
     "metadata": {},
     "output_type": "display_data"
    },
    {
     "data": {
      "application/vnd.jupyter.widget-view+json": {
       "model_id": "7e2ab6e4a35642e69f0b11b475474252",
       "version_major": 2,
       "version_minor": 0
      },
      "text/plain": [
       "Validation: |          | 0/? [00:00<?, ?it/s]"
      ]
     },
     "metadata": {},
     "output_type": "display_data"
    },
    {
     "data": {
      "application/vnd.jupyter.widget-view+json": {
       "model_id": "8a0fe8e2f67040459f05268bdee7ee92",
       "version_major": 2,
       "version_minor": 0
      },
      "text/plain": [
       "Validation: |          | 0/? [00:00<?, ?it/s]"
      ]
     },
     "metadata": {},
     "output_type": "display_data"
    },
    {
     "data": {
      "application/vnd.jupyter.widget-view+json": {
       "model_id": "55a9360c4f2445378dbf024f6d27950b",
       "version_major": 2,
       "version_minor": 0
      },
      "text/plain": [
       "Validation: |          | 0/? [00:00<?, ?it/s]"
      ]
     },
     "metadata": {},
     "output_type": "display_data"
    },
    {
     "data": {
      "application/vnd.jupyter.widget-view+json": {
       "model_id": "35cf333a478d4245b972a04354c7b7bd",
       "version_major": 2,
       "version_minor": 0
      },
      "text/plain": [
       "Validation: |          | 0/? [00:00<?, ?it/s]"
      ]
     },
     "metadata": {},
     "output_type": "display_data"
    },
    {
     "data": {
      "application/vnd.jupyter.widget-view+json": {
       "model_id": "73a24f9a3043431586294d3a12ed2bb1",
       "version_major": 2,
       "version_minor": 0
      },
      "text/plain": [
       "Validation: |          | 0/? [00:00<?, ?it/s]"
      ]
     },
     "metadata": {},
     "output_type": "display_data"
    },
    {
     "data": {
      "application/vnd.jupyter.widget-view+json": {
       "model_id": "c819118f522147ff9d4a8dbe05a66610",
       "version_major": 2,
       "version_minor": 0
      },
      "text/plain": [
       "Validation: |          | 0/? [00:00<?, ?it/s]"
      ]
     },
     "metadata": {},
     "output_type": "display_data"
    },
    {
     "data": {
      "application/vnd.jupyter.widget-view+json": {
       "model_id": "385358c4ea2d42e9a22754245d14722b",
       "version_major": 2,
       "version_minor": 0
      },
      "text/plain": [
       "Validation: |          | 0/? [00:00<?, ?it/s]"
      ]
     },
     "metadata": {},
     "output_type": "display_data"
    },
    {
     "data": {
      "application/vnd.jupyter.widget-view+json": {
       "model_id": "2b3789e8e92c43049d7f462c15e47d77",
       "version_major": 2,
       "version_minor": 0
      },
      "text/plain": [
       "Validation: |          | 0/? [00:00<?, ?it/s]"
      ]
     },
     "metadata": {},
     "output_type": "display_data"
    },
    {
     "data": {
      "application/vnd.jupyter.widget-view+json": {
       "model_id": "61d8988b5cfa42fda510fd8c3b0736d6",
       "version_major": 2,
       "version_minor": 0
      },
      "text/plain": [
       "Validation: |          | 0/? [00:00<?, ?it/s]"
      ]
     },
     "metadata": {},
     "output_type": "display_data"
    },
    {
     "data": {
      "application/vnd.jupyter.widget-view+json": {
       "model_id": "b778f166f47b4f64bf8479ac157bcc52",
       "version_major": 2,
       "version_minor": 0
      },
      "text/plain": [
       "Validation: |          | 0/? [00:00<?, ?it/s]"
      ]
     },
     "metadata": {},
     "output_type": "display_data"
    },
    {
     "data": {
      "application/vnd.jupyter.widget-view+json": {
       "model_id": "eb6daa8ffbe34e58ade74e75dfcbdebb",
       "version_major": 2,
       "version_minor": 0
      },
      "text/plain": [
       "Validation: |          | 0/? [00:00<?, ?it/s]"
      ]
     },
     "metadata": {},
     "output_type": "display_data"
    },
    {
     "data": {
      "application/vnd.jupyter.widget-view+json": {
       "model_id": "721488d52d2347f6bb0fe0c321681df0",
       "version_major": 2,
       "version_minor": 0
      },
      "text/plain": [
       "Validation: |          | 0/? [00:00<?, ?it/s]"
      ]
     },
     "metadata": {},
     "output_type": "display_data"
    },
    {
     "data": {
      "application/vnd.jupyter.widget-view+json": {
       "model_id": "6f74af59a4454edc9a5e2bea760728c0",
       "version_major": 2,
       "version_minor": 0
      },
      "text/plain": [
       "Validation: |          | 0/? [00:00<?, ?it/s]"
      ]
     },
     "metadata": {},
     "output_type": "display_data"
    },
    {
     "data": {
      "application/vnd.jupyter.widget-view+json": {
       "model_id": "ac1f08ea97184ce880c805f9fc4280da",
       "version_major": 2,
       "version_minor": 0
      },
      "text/plain": [
       "Validation: |          | 0/? [00:00<?, ?it/s]"
      ]
     },
     "metadata": {},
     "output_type": "display_data"
    },
    {
     "data": {
      "application/vnd.jupyter.widget-view+json": {
       "model_id": "98e01232b792471b864b377c9c57f915",
       "version_major": 2,
       "version_minor": 0
      },
      "text/plain": [
       "Validation: |          | 0/? [00:00<?, ?it/s]"
      ]
     },
     "metadata": {},
     "output_type": "display_data"
    },
    {
     "data": {
      "application/vnd.jupyter.widget-view+json": {
       "model_id": "b59a41713e6b431ab90a003e9c7719ac",
       "version_major": 2,
       "version_minor": 0
      },
      "text/plain": [
       "Validation: |          | 0/? [00:00<?, ?it/s]"
      ]
     },
     "metadata": {},
     "output_type": "display_data"
    },
    {
     "data": {
      "application/vnd.jupyter.widget-view+json": {
       "model_id": "3cab698dd02f44e1aacd5ca63e81129f",
       "version_major": 2,
       "version_minor": 0
      },
      "text/plain": [
       "Validation: |          | 0/? [00:00<?, ?it/s]"
      ]
     },
     "metadata": {},
     "output_type": "display_data"
    },
    {
     "data": {
      "application/vnd.jupyter.widget-view+json": {
       "model_id": "753fb2e10a104b88ae8f8dc49643643e",
       "version_major": 2,
       "version_minor": 0
      },
      "text/plain": [
       "Validation: |          | 0/? [00:00<?, ?it/s]"
      ]
     },
     "metadata": {},
     "output_type": "display_data"
    },
    {
     "data": {
      "application/vnd.jupyter.widget-view+json": {
       "model_id": "de392814d8854abd80339234a63a19b8",
       "version_major": 2,
       "version_minor": 0
      },
      "text/plain": [
       "Validation: |          | 0/? [00:00<?, ?it/s]"
      ]
     },
     "metadata": {},
     "output_type": "display_data"
    },
    {
     "data": {
      "application/vnd.jupyter.widget-view+json": {
       "model_id": "9411bb1014fa4334ada76a4f864004bf",
       "version_major": 2,
       "version_minor": 0
      },
      "text/plain": [
       "Validation: |          | 0/? [00:00<?, ?it/s]"
      ]
     },
     "metadata": {},
     "output_type": "display_data"
    },
    {
     "data": {
      "application/vnd.jupyter.widget-view+json": {
       "model_id": "4d64bc4b5ce341f99c3c5802df8eb686",
       "version_major": 2,
       "version_minor": 0
      },
      "text/plain": [
       "Validation: |          | 0/? [00:00<?, ?it/s]"
      ]
     },
     "metadata": {},
     "output_type": "display_data"
    },
    {
     "data": {
      "application/vnd.jupyter.widget-view+json": {
       "model_id": "d04d0c74af8f49bd8f33e7c0616d1c98",
       "version_major": 2,
       "version_minor": 0
      },
      "text/plain": [
       "Validation: |          | 0/? [00:00<?, ?it/s]"
      ]
     },
     "metadata": {},
     "output_type": "display_data"
    },
    {
     "data": {
      "application/vnd.jupyter.widget-view+json": {
       "model_id": "d113089f09864d69b277d00cf2136e7d",
       "version_major": 2,
       "version_minor": 0
      },
      "text/plain": [
       "Validation: |          | 0/? [00:00<?, ?it/s]"
      ]
     },
     "metadata": {},
     "output_type": "display_data"
    },
    {
     "data": {
      "application/vnd.jupyter.widget-view+json": {
       "model_id": "12a2d7a778f14a25b89ed4fb1d83343e",
       "version_major": 2,
       "version_minor": 0
      },
      "text/plain": [
       "Validation: |          | 0/? [00:00<?, ?it/s]"
      ]
     },
     "metadata": {},
     "output_type": "display_data"
    },
    {
     "data": {
      "application/vnd.jupyter.widget-view+json": {
       "model_id": "dd6b8654b9c4451293272786699c5aea",
       "version_major": 2,
       "version_minor": 0
      },
      "text/plain": [
       "Validation: |          | 0/? [00:00<?, ?it/s]"
      ]
     },
     "metadata": {},
     "output_type": "display_data"
    },
    {
     "data": {
      "application/vnd.jupyter.widget-view+json": {
       "model_id": "882bcf38552c43a39a014fd2a877cda4",
       "version_major": 2,
       "version_minor": 0
      },
      "text/plain": [
       "Validation: |          | 0/? [00:00<?, ?it/s]"
      ]
     },
     "metadata": {},
     "output_type": "display_data"
    },
    {
     "data": {
      "application/vnd.jupyter.widget-view+json": {
       "model_id": "0049ed3dc0e240b2b1d0a9c0d9624a92",
       "version_major": 2,
       "version_minor": 0
      },
      "text/plain": [
       "Validation: |          | 0/? [00:00<?, ?it/s]"
      ]
     },
     "metadata": {},
     "output_type": "display_data"
    },
    {
     "data": {
      "application/vnd.jupyter.widget-view+json": {
       "model_id": "d55ab7d49165422aba32c9ca1f30eb59",
       "version_major": 2,
       "version_minor": 0
      },
      "text/plain": [
       "Validation: |          | 0/? [00:00<?, ?it/s]"
      ]
     },
     "metadata": {},
     "output_type": "display_data"
    },
    {
     "data": {
      "application/vnd.jupyter.widget-view+json": {
       "model_id": "05debe74323b4d0eb1b3e2000ea917d4",
       "version_major": 2,
       "version_minor": 0
      },
      "text/plain": [
       "Validation: |          | 0/? [00:00<?, ?it/s]"
      ]
     },
     "metadata": {},
     "output_type": "display_data"
    },
    {
     "data": {
      "application/vnd.jupyter.widget-view+json": {
       "model_id": "d7bfff71ec8a45d0aca164f370231257",
       "version_major": 2,
       "version_minor": 0
      },
      "text/plain": [
       "Validation: |          | 0/? [00:00<?, ?it/s]"
      ]
     },
     "metadata": {},
     "output_type": "display_data"
    },
    {
     "data": {
      "application/vnd.jupyter.widget-view+json": {
       "model_id": "95bf7f4cc62b4ef5af80e2a3433da08f",
       "version_major": 2,
       "version_minor": 0
      },
      "text/plain": [
       "Validation: |          | 0/? [00:00<?, ?it/s]"
      ]
     },
     "metadata": {},
     "output_type": "display_data"
    },
    {
     "data": {
      "application/vnd.jupyter.widget-view+json": {
       "model_id": "3f01f536922e443e84be1edcf1a4e5a9",
       "version_major": 2,
       "version_minor": 0
      },
      "text/plain": [
       "Validation: |          | 0/? [00:00<?, ?it/s]"
      ]
     },
     "metadata": {},
     "output_type": "display_data"
    },
    {
     "data": {
      "application/vnd.jupyter.widget-view+json": {
       "model_id": "5ae5ce2375474283a778f50678407988",
       "version_major": 2,
       "version_minor": 0
      },
      "text/plain": [
       "Validation: |          | 0/? [00:00<?, ?it/s]"
      ]
     },
     "metadata": {},
     "output_type": "display_data"
    },
    {
     "data": {
      "application/vnd.jupyter.widget-view+json": {
       "model_id": "ad8a1523ba6548c8becf3b9e0991bf40",
       "version_major": 2,
       "version_minor": 0
      },
      "text/plain": [
       "Validation: |          | 0/? [00:00<?, ?it/s]"
      ]
     },
     "metadata": {},
     "output_type": "display_data"
    },
    {
     "data": {
      "application/vnd.jupyter.widget-view+json": {
       "model_id": "69d6e7dec04749a1a734a734a859b7b1",
       "version_major": 2,
       "version_minor": 0
      },
      "text/plain": [
       "Validation: |          | 0/? [00:00<?, ?it/s]"
      ]
     },
     "metadata": {},
     "output_type": "display_data"
    },
    {
     "data": {
      "application/vnd.jupyter.widget-view+json": {
       "model_id": "c8d40d0ac3184bd3ab498eb6eb2c42f4",
       "version_major": 2,
       "version_minor": 0
      },
      "text/plain": [
       "Validation: |          | 0/? [00:00<?, ?it/s]"
      ]
     },
     "metadata": {},
     "output_type": "display_data"
    },
    {
     "data": {
      "application/vnd.jupyter.widget-view+json": {
       "model_id": "23439701154a4e97b55a905ee36872c0",
       "version_major": 2,
       "version_minor": 0
      },
      "text/plain": [
       "Validation: |          | 0/? [00:00<?, ?it/s]"
      ]
     },
     "metadata": {},
     "output_type": "display_data"
    },
    {
     "data": {
      "application/vnd.jupyter.widget-view+json": {
       "model_id": "bea258b343f74467be304b4c8e907cb2",
       "version_major": 2,
       "version_minor": 0
      },
      "text/plain": [
       "Validation: |          | 0/? [00:00<?, ?it/s]"
      ]
     },
     "metadata": {},
     "output_type": "display_data"
    },
    {
     "data": {
      "application/vnd.jupyter.widget-view+json": {
       "model_id": "af26e69646cc43fc89090eedaa7f548c",
       "version_major": 2,
       "version_minor": 0
      },
      "text/plain": [
       "Validation: |          | 0/? [00:00<?, ?it/s]"
      ]
     },
     "metadata": {},
     "output_type": "display_data"
    },
    {
     "data": {
      "application/vnd.jupyter.widget-view+json": {
       "model_id": "b543f3e0717a4905a515fc52245cf405",
       "version_major": 2,
       "version_minor": 0
      },
      "text/plain": [
       "Validation: |          | 0/? [00:00<?, ?it/s]"
      ]
     },
     "metadata": {},
     "output_type": "display_data"
    },
    {
     "data": {
      "application/vnd.jupyter.widget-view+json": {
       "model_id": "43ebf16bb1ff416cb6acbd21640d167d",
       "version_major": 2,
       "version_minor": 0
      },
      "text/plain": [
       "Validation: |          | 0/? [00:00<?, ?it/s]"
      ]
     },
     "metadata": {},
     "output_type": "display_data"
    },
    {
     "data": {
      "application/vnd.jupyter.widget-view+json": {
       "model_id": "282b0ffe353e49e388ad06377e411609",
       "version_major": 2,
       "version_minor": 0
      },
      "text/plain": [
       "Validation: |          | 0/? [00:00<?, ?it/s]"
      ]
     },
     "metadata": {},
     "output_type": "display_data"
    },
    {
     "data": {
      "application/vnd.jupyter.widget-view+json": {
       "model_id": "787f8178f4924ca98caba0a01a8e39ee",
       "version_major": 2,
       "version_minor": 0
      },
      "text/plain": [
       "Validation: |          | 0/? [00:00<?, ?it/s]"
      ]
     },
     "metadata": {},
     "output_type": "display_data"
    },
    {
     "data": {
      "application/vnd.jupyter.widget-view+json": {
       "model_id": "bf192f1e019c4a5b9435c93589f2c20e",
       "version_major": 2,
       "version_minor": 0
      },
      "text/plain": [
       "Validation: |          | 0/? [00:00<?, ?it/s]"
      ]
     },
     "metadata": {},
     "output_type": "display_data"
    },
    {
     "data": {
      "application/vnd.jupyter.widget-view+json": {
       "model_id": "e5448c88c3d14732a39cce9bbe0d56d6",
       "version_major": 2,
       "version_minor": 0
      },
      "text/plain": [
       "Validation: |          | 0/? [00:00<?, ?it/s]"
      ]
     },
     "metadata": {},
     "output_type": "display_data"
    },
    {
     "data": {
      "application/vnd.jupyter.widget-view+json": {
       "model_id": "2734137b6f724062b1bcb519e4820900",
       "version_major": 2,
       "version_minor": 0
      },
      "text/plain": [
       "Validation: |          | 0/? [00:00<?, ?it/s]"
      ]
     },
     "metadata": {},
     "output_type": "display_data"
    },
    {
     "data": {
      "application/vnd.jupyter.widget-view+json": {
       "model_id": "e229d3709f40438681c9ce537a81f3e0",
       "version_major": 2,
       "version_minor": 0
      },
      "text/plain": [
       "Validation: |          | 0/? [00:00<?, ?it/s]"
      ]
     },
     "metadata": {},
     "output_type": "display_data"
    },
    {
     "data": {
      "application/vnd.jupyter.widget-view+json": {
       "model_id": "b24ba673c3994c3abf448938a2d8bae8",
       "version_major": 2,
       "version_minor": 0
      },
      "text/plain": [
       "Validation: |          | 0/? [00:00<?, ?it/s]"
      ]
     },
     "metadata": {},
     "output_type": "display_data"
    },
    {
     "data": {
      "application/vnd.jupyter.widget-view+json": {
       "model_id": "95e6b27bb9b74253a61979f584473aed",
       "version_major": 2,
       "version_minor": 0
      },
      "text/plain": [
       "Validation: |          | 0/? [00:00<?, ?it/s]"
      ]
     },
     "metadata": {},
     "output_type": "display_data"
    },
    {
     "data": {
      "application/vnd.jupyter.widget-view+json": {
       "model_id": "7103aa4193344ae2be117fa5cd6df534",
       "version_major": 2,
       "version_minor": 0
      },
      "text/plain": [
       "Validation: |          | 0/? [00:00<?, ?it/s]"
      ]
     },
     "metadata": {},
     "output_type": "display_data"
    },
    {
     "data": {
      "application/vnd.jupyter.widget-view+json": {
       "model_id": "6b8cb458c9904d83a438794e2566c4f9",
       "version_major": 2,
       "version_minor": 0
      },
      "text/plain": [
       "Validation: |          | 0/? [00:00<?, ?it/s]"
      ]
     },
     "metadata": {},
     "output_type": "display_data"
    },
    {
     "data": {
      "application/vnd.jupyter.widget-view+json": {
       "model_id": "b32df31d51a347dab585434b710f2955",
       "version_major": 2,
       "version_minor": 0
      },
      "text/plain": [
       "Validation: |          | 0/? [00:00<?, ?it/s]"
      ]
     },
     "metadata": {},
     "output_type": "display_data"
    },
    {
     "data": {
      "application/vnd.jupyter.widget-view+json": {
       "model_id": "4192fbb4a65845fb9dd083e5c6294a43",
       "version_major": 2,
       "version_minor": 0
      },
      "text/plain": [
       "Validation: |          | 0/? [00:00<?, ?it/s]"
      ]
     },
     "metadata": {},
     "output_type": "display_data"
    },
    {
     "data": {
      "application/vnd.jupyter.widget-view+json": {
       "model_id": "3ed13753dc9b4e3393c64d8346cee4be",
       "version_major": 2,
       "version_minor": 0
      },
      "text/plain": [
       "Validation: |          | 0/? [00:00<?, ?it/s]"
      ]
     },
     "metadata": {},
     "output_type": "display_data"
    },
    {
     "data": {
      "application/vnd.jupyter.widget-view+json": {
       "model_id": "b4ac75fea35a497c893404898ac35c0b",
       "version_major": 2,
       "version_minor": 0
      },
      "text/plain": [
       "Validation: |          | 0/? [00:00<?, ?it/s]"
      ]
     },
     "metadata": {},
     "output_type": "display_data"
    },
    {
     "data": {
      "application/vnd.jupyter.widget-view+json": {
       "model_id": "2f663b6a745040b8b5d20a3c17c896c6",
       "version_major": 2,
       "version_minor": 0
      },
      "text/plain": [
       "Validation: |          | 0/? [00:00<?, ?it/s]"
      ]
     },
     "metadata": {},
     "output_type": "display_data"
    },
    {
     "data": {
      "application/vnd.jupyter.widget-view+json": {
       "model_id": "bb73010c0b134932b3ec3012d00d3452",
       "version_major": 2,
       "version_minor": 0
      },
      "text/plain": [
       "Validation: |          | 0/? [00:00<?, ?it/s]"
      ]
     },
     "metadata": {},
     "output_type": "display_data"
    },
    {
     "data": {
      "application/vnd.jupyter.widget-view+json": {
       "model_id": "6c39b89fa5f04bcc8046d741e626b8f0",
       "version_major": 2,
       "version_minor": 0
      },
      "text/plain": [
       "Validation: |          | 0/? [00:00<?, ?it/s]"
      ]
     },
     "metadata": {},
     "output_type": "display_data"
    },
    {
     "data": {
      "application/vnd.jupyter.widget-view+json": {
       "model_id": "12be595353da4963bc508af490aea324",
       "version_major": 2,
       "version_minor": 0
      },
      "text/plain": [
       "Validation: |          | 0/? [00:00<?, ?it/s]"
      ]
     },
     "metadata": {},
     "output_type": "display_data"
    },
    {
     "data": {
      "application/vnd.jupyter.widget-view+json": {
       "model_id": "b1f073a47a4b4e5d9a0c56fbce41aafb",
       "version_major": 2,
       "version_minor": 0
      },
      "text/plain": [
       "Validation: |          | 0/? [00:00<?, ?it/s]"
      ]
     },
     "metadata": {},
     "output_type": "display_data"
    },
    {
     "data": {
      "application/vnd.jupyter.widget-view+json": {
       "model_id": "cf0fa3ce3ec548a593ab6f1a84151e43",
       "version_major": 2,
       "version_minor": 0
      },
      "text/plain": [
       "Validation: |          | 0/? [00:00<?, ?it/s]"
      ]
     },
     "metadata": {},
     "output_type": "display_data"
    },
    {
     "data": {
      "application/vnd.jupyter.widget-view+json": {
       "model_id": "6520b51bdbcf40dfb8cab7024a36daf2",
       "version_major": 2,
       "version_minor": 0
      },
      "text/plain": [
       "Validation: |          | 0/? [00:00<?, ?it/s]"
      ]
     },
     "metadata": {},
     "output_type": "display_data"
    },
    {
     "data": {
      "application/vnd.jupyter.widget-view+json": {
       "model_id": "f76fc381864e48eabbe68055ac381f82",
       "version_major": 2,
       "version_minor": 0
      },
      "text/plain": [
       "Validation: |          | 0/? [00:00<?, ?it/s]"
      ]
     },
     "metadata": {},
     "output_type": "display_data"
    },
    {
     "data": {
      "application/vnd.jupyter.widget-view+json": {
       "model_id": "aa0b99ed179e40f4b80808140a36a33a",
       "version_major": 2,
       "version_minor": 0
      },
      "text/plain": [
       "Validation: |          | 0/? [00:00<?, ?it/s]"
      ]
     },
     "metadata": {},
     "output_type": "display_data"
    },
    {
     "data": {
      "application/vnd.jupyter.widget-view+json": {
       "model_id": "14c12ff4133245cfa6e0f0d2851d39c8",
       "version_major": 2,
       "version_minor": 0
      },
      "text/plain": [
       "Validation: |          | 0/? [00:00<?, ?it/s]"
      ]
     },
     "metadata": {},
     "output_type": "display_data"
    },
    {
     "data": {
      "application/vnd.jupyter.widget-view+json": {
       "model_id": "f182f09847ad4c36beef294f8e6c9ae6",
       "version_major": 2,
       "version_minor": 0
      },
      "text/plain": [
       "Validation: |          | 0/? [00:00<?, ?it/s]"
      ]
     },
     "metadata": {},
     "output_type": "display_data"
    },
    {
     "data": {
      "application/vnd.jupyter.widget-view+json": {
       "model_id": "e4d9dd0e769c4e6b9129bc6c95d2fb43",
       "version_major": 2,
       "version_minor": 0
      },
      "text/plain": [
       "Validation: |          | 0/? [00:00<?, ?it/s]"
      ]
     },
     "metadata": {},
     "output_type": "display_data"
    },
    {
     "data": {
      "application/vnd.jupyter.widget-view+json": {
       "model_id": "dce78ff75ac14aa18d9e65245ababf60",
       "version_major": 2,
       "version_minor": 0
      },
      "text/plain": [
       "Validation: |          | 0/? [00:00<?, ?it/s]"
      ]
     },
     "metadata": {},
     "output_type": "display_data"
    },
    {
     "data": {
      "application/vnd.jupyter.widget-view+json": {
       "model_id": "075e8f92565945398fc6e80cf2b9c015",
       "version_major": 2,
       "version_minor": 0
      },
      "text/plain": [
       "Validation: |          | 0/? [00:00<?, ?it/s]"
      ]
     },
     "metadata": {},
     "output_type": "display_data"
    },
    {
     "data": {
      "application/vnd.jupyter.widget-view+json": {
       "model_id": "98423a2bc5df410e8cf9a4a92cdac379",
       "version_major": 2,
       "version_minor": 0
      },
      "text/plain": [
       "Validation: |          | 0/? [00:00<?, ?it/s]"
      ]
     },
     "metadata": {},
     "output_type": "display_data"
    },
    {
     "data": {
      "application/vnd.jupyter.widget-view+json": {
       "model_id": "5e08ce163c2d4d8eaf7e776c05d55ebf",
       "version_major": 2,
       "version_minor": 0
      },
      "text/plain": [
       "Validation: |          | 0/? [00:00<?, ?it/s]"
      ]
     },
     "metadata": {},
     "output_type": "display_data"
    },
    {
     "data": {
      "application/vnd.jupyter.widget-view+json": {
       "model_id": "a1d2afe74e8d44df9b656db7a2341912",
       "version_major": 2,
       "version_minor": 0
      },
      "text/plain": [
       "Validation: |          | 0/? [00:00<?, ?it/s]"
      ]
     },
     "metadata": {},
     "output_type": "display_data"
    },
    {
     "data": {
      "application/vnd.jupyter.widget-view+json": {
       "model_id": "5b3b38b734834644a1433f486f13e93a",
       "version_major": 2,
       "version_minor": 0
      },
      "text/plain": [
       "Validation: |          | 0/? [00:00<?, ?it/s]"
      ]
     },
     "metadata": {},
     "output_type": "display_data"
    },
    {
     "data": {
      "application/vnd.jupyter.widget-view+json": {
       "model_id": "e9c3b717ebc04b9496225c065abdbf34",
       "version_major": 2,
       "version_minor": 0
      },
      "text/plain": [
       "Validation: |          | 0/? [00:00<?, ?it/s]"
      ]
     },
     "metadata": {},
     "output_type": "display_data"
    },
    {
     "data": {
      "application/vnd.jupyter.widget-view+json": {
       "model_id": "499f127d2fee459d8f8806f7c8823ad0",
       "version_major": 2,
       "version_minor": 0
      },
      "text/plain": [
       "Validation: |          | 0/? [00:00<?, ?it/s]"
      ]
     },
     "metadata": {},
     "output_type": "display_data"
    },
    {
     "data": {
      "application/vnd.jupyter.widget-view+json": {
       "model_id": "40570c9cbbb04cd7838fc8ba33dcfdf5",
       "version_major": 2,
       "version_minor": 0
      },
      "text/plain": [
       "Validation: |          | 0/? [00:00<?, ?it/s]"
      ]
     },
     "metadata": {},
     "output_type": "display_data"
    },
    {
     "data": {
      "application/vnd.jupyter.widget-view+json": {
       "model_id": "316e6ed1022048b19b9e15e3f98bcd3c",
       "version_major": 2,
       "version_minor": 0
      },
      "text/plain": [
       "Validation: |          | 0/? [00:00<?, ?it/s]"
      ]
     },
     "metadata": {},
     "output_type": "display_data"
    },
    {
     "data": {
      "application/vnd.jupyter.widget-view+json": {
       "model_id": "de389a5dc2234debb4d7aca9bb158ced",
       "version_major": 2,
       "version_minor": 0
      },
      "text/plain": [
       "Validation: |          | 0/? [00:00<?, ?it/s]"
      ]
     },
     "metadata": {},
     "output_type": "display_data"
    },
    {
     "data": {
      "application/vnd.jupyter.widget-view+json": {
       "model_id": "bc239257afb84b1081dde112136070b5",
       "version_major": 2,
       "version_minor": 0
      },
      "text/plain": [
       "Validation: |          | 0/? [00:00<?, ?it/s]"
      ]
     },
     "metadata": {},
     "output_type": "display_data"
    },
    {
     "data": {
      "application/vnd.jupyter.widget-view+json": {
       "model_id": "2c55b94a44064475b2b8d412895ed49d",
       "version_major": 2,
       "version_minor": 0
      },
      "text/plain": [
       "Validation: |          | 0/? [00:00<?, ?it/s]"
      ]
     },
     "metadata": {},
     "output_type": "display_data"
    },
    {
     "data": {
      "application/vnd.jupyter.widget-view+json": {
       "model_id": "e7215939b72c4c44acd7e5adf0b71c09",
       "version_major": 2,
       "version_minor": 0
      },
      "text/plain": [
       "Validation: |          | 0/? [00:00<?, ?it/s]"
      ]
     },
     "metadata": {},
     "output_type": "display_data"
    },
    {
     "data": {
      "application/vnd.jupyter.widget-view+json": {
       "model_id": "9b3d0a1db34441ee98b4c70c0641dbf9",
       "version_major": 2,
       "version_minor": 0
      },
      "text/plain": [
       "Validation: |          | 0/? [00:00<?, ?it/s]"
      ]
     },
     "metadata": {},
     "output_type": "display_data"
    },
    {
     "data": {
      "application/vnd.jupyter.widget-view+json": {
       "model_id": "628ddeba9d26433e91e5c483fb955c9c",
       "version_major": 2,
       "version_minor": 0
      },
      "text/plain": [
       "Validation: |          | 0/? [00:00<?, ?it/s]"
      ]
     },
     "metadata": {},
     "output_type": "display_data"
    },
    {
     "data": {
      "application/vnd.jupyter.widget-view+json": {
       "model_id": "d7f81141bc0642b582f44dc2be64c019",
       "version_major": 2,
       "version_minor": 0
      },
      "text/plain": [
       "Validation: |          | 0/? [00:00<?, ?it/s]"
      ]
     },
     "metadata": {},
     "output_type": "display_data"
    },
    {
     "data": {
      "application/vnd.jupyter.widget-view+json": {
       "model_id": "0ec890fef5f745b291c7a4914bd98552",
       "version_major": 2,
       "version_minor": 0
      },
      "text/plain": [
       "Validation: |          | 0/? [00:00<?, ?it/s]"
      ]
     },
     "metadata": {},
     "output_type": "display_data"
    },
    {
     "data": {
      "application/vnd.jupyter.widget-view+json": {
       "model_id": "331e0bf627a74bfaa89de84cd74540de",
       "version_major": 2,
       "version_minor": 0
      },
      "text/plain": [
       "Validation: |          | 0/? [00:00<?, ?it/s]"
      ]
     },
     "metadata": {},
     "output_type": "display_data"
    },
    {
     "data": {
      "application/vnd.jupyter.widget-view+json": {
       "model_id": "7bbaa71652c6456f8ac2c3c2e8d7588a",
       "version_major": 2,
       "version_minor": 0
      },
      "text/plain": [
       "Validation: |          | 0/? [00:00<?, ?it/s]"
      ]
     },
     "metadata": {},
     "output_type": "display_data"
    },
    {
     "data": {
      "application/vnd.jupyter.widget-view+json": {
       "model_id": "f3b6cb8996b04effb65713ade25bcc36",
       "version_major": 2,
       "version_minor": 0
      },
      "text/plain": [
       "Validation: |          | 0/? [00:00<?, ?it/s]"
      ]
     },
     "metadata": {},
     "output_type": "display_data"
    },
    {
     "data": {
      "application/vnd.jupyter.widget-view+json": {
       "model_id": "bd380e132ba741448ad0f148cfa915ec",
       "version_major": 2,
       "version_minor": 0
      },
      "text/plain": [
       "Validation: |          | 0/? [00:00<?, ?it/s]"
      ]
     },
     "metadata": {},
     "output_type": "display_data"
    },
    {
     "data": {
      "application/vnd.jupyter.widget-view+json": {
       "model_id": "b54e3ede75f24c48a5c57c29986ff93b",
       "version_major": 2,
       "version_minor": 0
      },
      "text/plain": [
       "Validation: |          | 0/? [00:00<?, ?it/s]"
      ]
     },
     "metadata": {},
     "output_type": "display_data"
    },
    {
     "data": {
      "application/vnd.jupyter.widget-view+json": {
       "model_id": "03d9bcd5a6354a92a0e6ac059ef97087",
       "version_major": 2,
       "version_minor": 0
      },
      "text/plain": [
       "Validation: |          | 0/? [00:00<?, ?it/s]"
      ]
     },
     "metadata": {},
     "output_type": "display_data"
    },
    {
     "data": {
      "application/vnd.jupyter.widget-view+json": {
       "model_id": "7052e5d9443641e79ff780b96da07607",
       "version_major": 2,
       "version_minor": 0
      },
      "text/plain": [
       "Validation: |          | 0/? [00:00<?, ?it/s]"
      ]
     },
     "metadata": {},
     "output_type": "display_data"
    },
    {
     "data": {
      "application/vnd.jupyter.widget-view+json": {
       "model_id": "e9cbf29a4fdf47a283fe4d80761a7539",
       "version_major": 2,
       "version_minor": 0
      },
      "text/plain": [
       "Validation: |          | 0/? [00:00<?, ?it/s]"
      ]
     },
     "metadata": {},
     "output_type": "display_data"
    },
    {
     "data": {
      "application/vnd.jupyter.widget-view+json": {
       "model_id": "2d3001203dd6447691ca6e6288b64160",
       "version_major": 2,
       "version_minor": 0
      },
      "text/plain": [
       "Validation: |          | 0/? [00:00<?, ?it/s]"
      ]
     },
     "metadata": {},
     "output_type": "display_data"
    },
    {
     "data": {
      "application/vnd.jupyter.widget-view+json": {
       "model_id": "b908d87df3cc4b9583bb08e7186fb613",
       "version_major": 2,
       "version_minor": 0
      },
      "text/plain": [
       "Validation: |          | 0/? [00:00<?, ?it/s]"
      ]
     },
     "metadata": {},
     "output_type": "display_data"
    },
    {
     "data": {
      "application/vnd.jupyter.widget-view+json": {
       "model_id": "16fdbabe644e4b538c30cd0213c3acf2",
       "version_major": 2,
       "version_minor": 0
      },
      "text/plain": [
       "Validation: |          | 0/? [00:00<?, ?it/s]"
      ]
     },
     "metadata": {},
     "output_type": "display_data"
    },
    {
     "data": {
      "application/vnd.jupyter.widget-view+json": {
       "model_id": "6475e3f1d4da4a4584083ad06d28f2f8",
       "version_major": 2,
       "version_minor": 0
      },
      "text/plain": [
       "Validation: |          | 0/? [00:00<?, ?it/s]"
      ]
     },
     "metadata": {},
     "output_type": "display_data"
    },
    {
     "data": {
      "application/vnd.jupyter.widget-view+json": {
       "model_id": "bdcbc2178b97481798aa58657f7b48f1",
       "version_major": 2,
       "version_minor": 0
      },
      "text/plain": [
       "Validation: |          | 0/? [00:00<?, ?it/s]"
      ]
     },
     "metadata": {},
     "output_type": "display_data"
    },
    {
     "data": {
      "application/vnd.jupyter.widget-view+json": {
       "model_id": "5181f6f2ba6845c7b5308d656959a4a5",
       "version_major": 2,
       "version_minor": 0
      },
      "text/plain": [
       "Validation: |          | 0/? [00:00<?, ?it/s]"
      ]
     },
     "metadata": {},
     "output_type": "display_data"
    },
    {
     "data": {
      "application/vnd.jupyter.widget-view+json": {
       "model_id": "0c8f00be685a4e6e937629ff97d6250d",
       "version_major": 2,
       "version_minor": 0
      },
      "text/plain": [
       "Validation: |          | 0/? [00:00<?, ?it/s]"
      ]
     },
     "metadata": {},
     "output_type": "display_data"
    },
    {
     "data": {
      "application/vnd.jupyter.widget-view+json": {
       "model_id": "46f4ccf2fea5417fa76711fd84b37001",
       "version_major": 2,
       "version_minor": 0
      },
      "text/plain": [
       "Validation: |          | 0/? [00:00<?, ?it/s]"
      ]
     },
     "metadata": {},
     "output_type": "display_data"
    },
    {
     "data": {
      "application/vnd.jupyter.widget-view+json": {
       "model_id": "40e5d672196d49729840d77991d8ddad",
       "version_major": 2,
       "version_minor": 0
      },
      "text/plain": [
       "Validation: |          | 0/? [00:00<?, ?it/s]"
      ]
     },
     "metadata": {},
     "output_type": "display_data"
    },
    {
     "data": {
      "application/vnd.jupyter.widget-view+json": {
       "model_id": "3cc52c6e5f7e4bd4afae1a0619f60d8f",
       "version_major": 2,
       "version_minor": 0
      },
      "text/plain": [
       "Validation: |          | 0/? [00:00<?, ?it/s]"
      ]
     },
     "metadata": {},
     "output_type": "display_data"
    },
    {
     "data": {
      "application/vnd.jupyter.widget-view+json": {
       "model_id": "890ba53722fd4cd78b7721b7b1d1bc1e",
       "version_major": 2,
       "version_minor": 0
      },
      "text/plain": [
       "Validation: |          | 0/? [00:00<?, ?it/s]"
      ]
     },
     "metadata": {},
     "output_type": "display_data"
    },
    {
     "data": {
      "application/vnd.jupyter.widget-view+json": {
       "model_id": "6a2df93c95834239a917209a1eec1017",
       "version_major": 2,
       "version_minor": 0
      },
      "text/plain": [
       "Validation: |          | 0/? [00:00<?, ?it/s]"
      ]
     },
     "metadata": {},
     "output_type": "display_data"
    },
    {
     "data": {
      "application/vnd.jupyter.widget-view+json": {
       "model_id": "c51b8792b547428e9aec4c0100b1fabe",
       "version_major": 2,
       "version_minor": 0
      },
      "text/plain": [
       "Validation: |          | 0/? [00:00<?, ?it/s]"
      ]
     },
     "metadata": {},
     "output_type": "display_data"
    },
    {
     "data": {
      "application/vnd.jupyter.widget-view+json": {
       "model_id": "575eabe7d0524d8686020c79da347115",
       "version_major": 2,
       "version_minor": 0
      },
      "text/plain": [
       "Validation: |          | 0/? [00:00<?, ?it/s]"
      ]
     },
     "metadata": {},
     "output_type": "display_data"
    },
    {
     "data": {
      "application/vnd.jupyter.widget-view+json": {
       "model_id": "51a3e8b7b54d4f4e90e5a818aced3c3f",
       "version_major": 2,
       "version_minor": 0
      },
      "text/plain": [
       "Validation: |          | 0/? [00:00<?, ?it/s]"
      ]
     },
     "metadata": {},
     "output_type": "display_data"
    },
    {
     "data": {
      "application/vnd.jupyter.widget-view+json": {
       "model_id": "abb12fb6760c46c6a29aa302a1c3a301",
       "version_major": 2,
       "version_minor": 0
      },
      "text/plain": [
       "Validation: |          | 0/? [00:00<?, ?it/s]"
      ]
     },
     "metadata": {},
     "output_type": "display_data"
    },
    {
     "data": {
      "application/vnd.jupyter.widget-view+json": {
       "model_id": "9975f85f2e10424fbb4ef2caffc3d567",
       "version_major": 2,
       "version_minor": 0
      },
      "text/plain": [
       "Validation: |          | 0/? [00:00<?, ?it/s]"
      ]
     },
     "metadata": {},
     "output_type": "display_data"
    },
    {
     "data": {
      "application/vnd.jupyter.widget-view+json": {
       "model_id": "7fab4e5b817f4c7282c8fe8ceb4e22bf",
       "version_major": 2,
       "version_minor": 0
      },
      "text/plain": [
       "Validation: |          | 0/? [00:00<?, ?it/s]"
      ]
     },
     "metadata": {},
     "output_type": "display_data"
    },
    {
     "data": {
      "application/vnd.jupyter.widget-view+json": {
       "model_id": "4e96cd93101844ae884dee552bb0bd57",
       "version_major": 2,
       "version_minor": 0
      },
      "text/plain": [
       "Validation: |          | 0/? [00:00<?, ?it/s]"
      ]
     },
     "metadata": {},
     "output_type": "display_data"
    },
    {
     "data": {
      "application/vnd.jupyter.widget-view+json": {
       "model_id": "26bf12cf66a94cf2ace2301a527db145",
       "version_major": 2,
       "version_minor": 0
      },
      "text/plain": [
       "Validation: |          | 0/? [00:00<?, ?it/s]"
      ]
     },
     "metadata": {},
     "output_type": "display_data"
    },
    {
     "data": {
      "application/vnd.jupyter.widget-view+json": {
       "model_id": "1a1ee97f6904491cbd6531746cd321e0",
       "version_major": 2,
       "version_minor": 0
      },
      "text/plain": [
       "Validation: |          | 0/? [00:00<?, ?it/s]"
      ]
     },
     "metadata": {},
     "output_type": "display_data"
    },
    {
     "name": "stderr",
     "output_type": "stream",
     "text": [
      "`Trainer.fit` stopped: `max_epochs=300` reached.\n"
     ]
    },
    {
     "name": "stdout",
     "output_type": "stream",
     "text": [
      "Best model checkpoint path: logs/contrastive_loss_pretext_task/version_3/checkpoints/epoch=0-train_loss=6.29-train_f1=0.00-val_loss=5.54-val_f1=0.00.ckpt\n"
     ]
    }
   ],
   "source": [
    "# train pretext model with default parameters\n",
    "model = train_pretext_model(\n",
    "    pretext_task_title='largerfilter_contrastive_loss_ShallowNet_pretext_model',\n",
    "    pretext_task='contrastive_loss',\n",
    "    max_epochs=300,\n",
    "    data_train=data_train,\n",
    "    data_val=data_val,\n",
    "    batch_size=1244,\n",
    "    learning_rate=0.001,\n",
    "    dropout=0.25,\n",
    "    weight_decay=0,\n",
    "    store_weights=(True, True),\n",
    "    pretext_model='ShallowNet',\n",
    "    loss='contrastive_loss',\n",
    ")"
   ]
  },
  {
   "cell_type": "code",
   "execution_count": 12,
   "metadata": {
    "execution": {
     "iopub.execute_input": "2024-10-21T10:03:08.028372Z",
     "iopub.status.busy": "2024-10-21T10:03:08.028050Z",
     "iopub.status.idle": "2024-10-21T10:03:08.231901Z",
     "shell.execute_reply": "2024-10-21T10:03:08.231400Z",
     "shell.execute_reply.started": "2024-10-21T10:03:08.028354Z"
    }
   },
   "outputs": [
    {
     "name": "stdout",
     "output_type": "stream",
     "text": [
      "F1 score columns not found in the metrics file.\n"
     ]
    },
    {
     "data": {
      "image/png": "[encoded data removed]",
      "text/plain": [
       "<Figure size 1000x1000 with 2 Axes>"
      ]
     },
     "metadata": {},
     "output_type": "display_data"
    }
   ],
   "source": [
    "# plot training curves\n",
    "plot_training_curves('logs/contrastive_loss_pretext_task/version_3/metrics.csv')"
   ]
  },
  {
   "cell_type": "code",
   "execution_count": 13,
   "metadata": {
    "execution": {
     "iopub.execute_input": "2024-10-21T10:03:08.232845Z",
     "iopub.status.busy": "2024-10-21T10:03:08.232689Z",
     "iopub.status.idle": "2024-10-21T10:03:08.237302Z",
     "shell.execute_reply": "2024-10-21T10:03:08.236880Z",
     "shell.execute_reply.started": "2024-10-21T10:03:08.232829Z"
    }
   },
   "outputs": [],
   "source": [
    "# clear GPU memory after training the model\n",
    "del dataset\n",
    "del data_train\n",
    "del data_val\n",
    "del data_test\n",
    "torch.cuda.empty_cache()"
   ]
  }
 ],
 "metadata": {
  "kernelspec": {
   "display_name": "py3117",
   "language": "python",
   "name": "py3117"
  },
  "language_info": {
   "codemirror_mode": {
    "name": "ipython",
    "version": 3
   },
   "file_extension": ".py",
   "mimetype": "text/x-python",
   "name": "python",
   "nbconvert_exporter": "python",
   "pygments_lexer": "ipython3",
   "version": "3.11.7"
  }
 },
 "nbformat": 4,
 "nbformat_minor": 4
}
