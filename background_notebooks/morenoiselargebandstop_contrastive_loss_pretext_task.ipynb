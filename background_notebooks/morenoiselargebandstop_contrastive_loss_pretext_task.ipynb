{
 "cells": [
  {
   "cell_type": "markdown",
   "metadata": {},
   "source": [
    "# AIM: Learn and extract features with different pretext tasks"
   ]
  },
  {
   "cell_type": "code",
   "execution_count": 1,
   "metadata": {
    "execution": {
     "iopub.execute_input": "2024-10-25T08:23:18.549506Z",
     "iopub.status.busy": "2024-10-25T08:23:18.549338Z",
     "iopub.status.idle": "2024-10-25T08:23:21.262079Z",
     "shell.execute_reply": "2024-10-25T08:23:21.261596Z",
     "shell.execute_reply.started": "2024-10-25T08:23:18.549487Z"
    }
   },
   "outputs": [],
   "source": [
    "import numpy as np\n",
    "import pandas as pd\n",
    "import mne\n",
    "import lightning.pytorch as pl\n",
    "import torch\n",
    "import torch.nn.functional as F\n",
    "import torch.nn as nn\n",
    "from torchmetrics import F1Score, Accuracy\n",
    "import random\n",
    "import os\n",
    "import matplotlib.pyplot as plt\n",
    "from sklearn.model_selection import train_test_split, StratifiedGroupKFold\n",
    "import itertools\n",
    "from torch.utils.data import Dataset, DataLoader, Subset\n",
    "from lightning.pytorch import Trainer\n",
    "from lightning.pytorch.callbacks import EarlyStopping, ModelCheckpoint\n",
    "from lightning.pytorch.loggers import CSVLogger\n",
    "from sklearn.metrics import f1_score, classification_report, confusion_matrix, ConfusionMatrixDisplay\n",
    "import warnings\n",
    "%matplotlib inline\n",
    "\n",
    "# prevent extensive logging\n",
    "mne.set_log_level('WARNING')"
   ]
  },
  {
   "cell_type": "code",
   "execution_count": 2,
   "metadata": {
    "execution": {
     "iopub.execute_input": "2024-10-25T08:23:21.263550Z",
     "iopub.status.busy": "2024-10-25T08:23:21.262844Z",
     "iopub.status.idle": "2024-10-25T08:23:21.266897Z",
     "shell.execute_reply": "2024-10-25T08:23:21.266492Z",
     "shell.execute_reply.started": "2024-10-25T08:23:21.263526Z"
    }
   },
   "outputs": [
    {
     "name": "stdout",
     "output_type": "stream",
     "text": [
      "2.4.1\n",
      "90100\n"
     ]
    }
   ],
   "source": [
    "print(torch.__version__)\n",
    "print(torch.backends.cudnn.version())"
   ]
  },
  {
   "cell_type": "code",
   "execution_count": 3,
   "metadata": {
    "execution": {
     "iopub.execute_input": "2024-10-25T08:23:21.267803Z",
     "iopub.status.busy": "2024-10-25T08:23:21.267347Z",
     "iopub.status.idle": "2024-10-25T08:23:21.274638Z",
     "shell.execute_reply": "2024-10-25T08:23:21.274262Z",
     "shell.execute_reply.started": "2024-10-25T08:23:21.267785Z"
    }
   },
   "outputs": [
    {
     "name": "stdout",
     "output_type": "stream",
     "text": [
      "Working directory is set to: /data/storage_thesis_tuur\n"
     ]
    }
   ],
   "source": [
    "# set working dir\n",
    "print(f'Working directory is set to: {os.getcwd()}')\n",
    "# path to the epoched data\n",
    "data_path = r\"thesis_epoched_data/EC\""
   ]
  },
  {
   "cell_type": "markdown",
   "metadata": {},
   "source": [
    "## Functions & classes:"
   ]
  },
  {
   "cell_type": "code",
   "execution_count": 4,
   "metadata": {
    "execution": {
     "iopub.execute_input": "2024-10-25T08:23:21.275589Z",
     "iopub.status.busy": "2024-10-25T08:23:21.275340Z",
     "iopub.status.idle": "2024-10-25T08:23:21.340737Z",
     "shell.execute_reply": "2024-10-25T08:23:21.340237Z",
     "shell.execute_reply.started": "2024-10-25T08:23:21.275572Z"
    }
   },
   "outputs": [],
   "source": [
    "def get_participant_ids(eeg_dir, epoch_dir=False):\n",
    "    \"\"\"\n",
    "    Function to get all participant ids from EEG data directory\n",
    "    :param eeg_dir: directory where EEG data is stored\n",
    "    :param epoch_dir: whether the data that we want to retrieve is from the epoch directory or from the raw EEG data directory\n",
    "    :return: list of participant ids\n",
    "    \"\"\"\n",
    "    participant_ids = []\n",
    "    if epoch_dir == False:\n",
    "        for subdir, dirs, files in os.walk(eeg_dir): # iterate through all files\n",
    "            for file in files:\n",
    "                if 'ses-1' in file and '.npy' in file and 'BAD' not in file: # filter first session, .npy files, and non-bad files\n",
    "                    participant_id = file.split('_')[0] # extract participant id\n",
    "                    if participant_id not in participant_ids:\n",
    "                        participant_ids.append(participant_id)\n",
    "    else:\n",
    "        participant_ids = [file.split('.')[0] for file in os.listdir(eeg_dir) if '.pt' in file]\n",
    "        \n",
    "    return participant_ids\n",
    "\n",
    "\n",
    "def train_pretext_model(pretext_task_title,\n",
    "                        pretext_task,\n",
    "                        loss,\n",
    "                        max_epochs,\n",
    "                        data_train,\n",
    "                        data_val,\n",
    "                        batch_size,\n",
    "                        learning_rate=0.001,\n",
    "                        dropout=0.25,\n",
    "                        weight_decay=0,\n",
    "                        store_weights=(True, True),\n",
    "                        num_extracted_features=100,\n",
    "                        pretext_model='EEGNet'):\n",
    "    \"\"\"\n",
    "    Function to train the pretext model\n",
    "    :param pretext_task_title: title (string) describing the specific pretext task for saving the model weights\n",
    "    :param pretext_task: pretext task (string) for correct storing of logs ['withinRP', 'acrossRP', 'acrossSub', 'contrastive_loss']\n",
    "    :param loss: loss (string) for selecting the right model architecture ['soft_margin_loss', 'bce_loss', 'contrastive_loss']\n",
    "    :param max_epochs: maximum number of epochs to train the model\n",
    "    :param data_train: training data\n",
    "    :param data_val: validation data\n",
    "    :param batch_size: batch size\n",
    "    :param learning_rate: learning rate\n",
    "    :param dropout: dropout rate\n",
    "    :param weight_decay: weight decay\n",
    "    :param store_weights: whether to store the weights of the fully trained model and the best checkpoint model\n",
    "    :param num_extracted_features: number of features to extract\n",
    "    :param pretext_model: model to use for the pretext task (EEGNet or ShallowNet)\n",
    "    :return: trained model loaded with best checkpoint\n",
    "    \"\"\"\n",
    "    ## DEFINE THE MODEL CLASS (HAS TO BE DEFINED WITHIN THE FUNCTION TO AVOID ERRORS)\n",
    "    \n",
    "    ## ENCODER ARCHITECTURES (EEGNet and ShallowNet)\n",
    "\n",
    "    # create Conv2d with max norm constraint\n",
    "    class Conv2dWithConstraint(nn.Conv2d):\n",
    "        def __init__(self, *args, max_norm: int = 1, **kwargs):\n",
    "            self.max_norm = max_norm\n",
    "            super(Conv2dWithConstraint, self).__init__(*args, **kwargs)\n",
    "\n",
    "        def forward(self, x: torch.Tensor) -> torch.Tensor:\n",
    "            self.weight.data = torch.renorm(self.weight.data, p=2, dim=0, maxnorm=self.max_norm)\n",
    "            return super(Conv2dWithConstraint, self).forward(x)\n",
    "        \n",
    "    class EEGNet(nn.Module):\n",
    "        \"\"\"\n",
    "        Code taken and adjusted from pytorch implementation of EEGNet\n",
    "        url: https://github.com/torcheeg/torcheeg/blob/v1.1.0/torcheeg/models/cnn/eegnet.py#L5\n",
    "        \"\"\"\n",
    "        def __init__(self,\n",
    "                    num_extracted_features: int = num_extracted_features, # number of features to extract  ## QUESTION\n",
    "                    chunk_size: int = 1244, # number of data points in each EEG chunk\n",
    "                    num_electrodes: int = 26, # number of EEG electrodes\n",
    "                    F1: int = 8, # number of filters in first convolutional layer\n",
    "                    F2: int = 16, # number of filters in second convolutional layer\n",
    "                    D: int = 2, # depth multiplier\n",
    "                    kernel_1: int = 64, # the filter size of block 1 (half of sfreq (125 Hz)) ## QUESTION \n",
    "                    kernel_2: int = 16, # the filter size of block 2 (one eight of sfreq (500 Hz)) ## QUESTION\n",
    "                    dropout: float = 0.25): # dropout rate\n",
    "            super(EEGNet, self).__init__()\n",
    "            self.F1 = F1\n",
    "            self.F2 = F2\n",
    "            self.D = D\n",
    "            self.chunk_size = chunk_size\n",
    "            self.num_extracted_features = num_extracted_features\n",
    "            self.num_electrodes = num_electrodes\n",
    "            self.kernel_1 = kernel_1\n",
    "            self.kernel_2 = kernel_2\n",
    "            self.dropout = dropout\n",
    "\n",
    "            self.block1 = nn.Sequential(\n",
    "                nn.Conv2d(1, self.F1, (1, self.kernel_1), stride=1, padding=(0, self.kernel_1 // 2), bias=False),\n",
    "                nn.BatchNorm2d(self.F1, momentum=0.01, affine=True, eps=1e-3),\n",
    "                Conv2dWithConstraint(self.F1,\n",
    "                                    self.F1 * self.D, (self.num_electrodes, 1),\n",
    "                                    max_norm=1,\n",
    "                                    stride=1,\n",
    "                                    padding=(0, 0),\n",
    "                                    groups=self.F1,\n",
    "                                    bias=False), nn.BatchNorm2d(self.F1 * self.D, momentum=0.01, affine=True, eps=1e-3),\n",
    "                nn.ELU(), nn.AvgPool2d((1, 4), stride=4), nn.Dropout(p=dropout))\n",
    "\n",
    "            self.block2 = nn.Sequential(\n",
    "                nn.Conv2d(self.F1 * self.D,\n",
    "                        self.F1 * self.D, (1, self.kernel_2),\n",
    "                        stride=1,\n",
    "                        padding=(0, self.kernel_2 // 2),\n",
    "                        bias=False,\n",
    "                        groups=self.F1 * self.D),\n",
    "                nn.Conv2d(self.F1 * self.D, self.F2, 1, padding=(0, 0), groups=1, bias=False, stride=1),\n",
    "                nn.BatchNorm2d(self.F2, momentum=0.01, affine=True, eps=1e-3), nn.ELU(), nn.AvgPool2d((1, 8), stride=8),\n",
    "                nn.Dropout(p=dropout))\n",
    "\n",
    "            self.lin = nn.Linear(self.feature_dim(), num_extracted_features, bias=False)\n",
    "\n",
    "\n",
    "        def feature_dim(self):\n",
    "            # function to calculate the number of features after the convolutional blocks\n",
    "            with torch.no_grad():\n",
    "                mock_eeg = torch.zeros(1, 1, self.num_electrodes, self.chunk_size)\n",
    "\n",
    "                mock_eeg = self.block1(mock_eeg)\n",
    "                mock_eeg = self.block2(mock_eeg)\n",
    "\n",
    "            return self.F2 * mock_eeg.shape[3]\n",
    "\n",
    "        def forward(self, x: torch.Tensor) -> torch.Tensor:\n",
    "            x = self.block1(x)\n",
    "            x = self.block2(x)\n",
    "            x = x.flatten(start_dim=1)\n",
    "            x = self.lin(x)\n",
    "            return x\n",
    "        \n",
    "    class ShallowNet(nn.Module):\n",
    "        \"\"\"\n",
    "        Pytorch implementation of the ShallowNet Encoder.\n",
    "        Code taken and adjusted from:\n",
    "        https://github.com/MedMaxLab/selfEEG/blob/024402ba4bde95051d86ab2524cc71105bfd5c25/selfeeg/models/zoo.py#L693\n",
    "        \"\"\"\n",
    "\n",
    "        def __init__(self,\n",
    "                    samples=1244,\n",
    "                    chans=26, # number of EEG channels\n",
    "                    F=40, # number of output filters in the temporal convolution layer\n",
    "                    K1=25, # length of the temporal convolutional layer\n",
    "                    pool=75, # temporal pooling kernel size\n",
    "                    dropout=0.2, # dropout probability\n",
    "                    num_extracted_features=num_extracted_features # number of features to extract\n",
    "                    ):\n",
    "\n",
    "            super(ShallowNet, self).__init__()\n",
    "            self.conv1 = nn.Conv2d(1, F, (1, K1), stride=(1, 1))\n",
    "            self.conv2 = nn.Conv2d(F, F, (chans, 1), stride=(1, 1))\n",
    "            self.batch1 = nn.BatchNorm2d(F)\n",
    "            self.pool2 = nn.AvgPool2d((1, pool), stride=(1, 15))\n",
    "            self.flatten2 = nn.Flatten()\n",
    "            self.drop1 = nn.Dropout(dropout)\n",
    "            self.lin = nn.Linear(\n",
    "                F * ((samples - K1 + 1 - pool) // 15 + 1), num_extracted_features\n",
    "            )\n",
    "\n",
    "        def forward(self, x):\n",
    "            x = self.conv1(x)\n",
    "            x = self.conv2(x)\n",
    "            x = self.batch1(x)\n",
    "            x = torch.square(x)\n",
    "            x = self.pool2(x)\n",
    "            x = torch.log(torch.clamp(x, 1e-7, 10000))\n",
    "            x = self.flatten2(x)\n",
    "            x = self.drop1(x)\n",
    "            x = self.lin(x)\n",
    "\n",
    "            return x\n",
    "        \n",
    "    ## CONTRASTIVE LOSS PRETEXT TASK ARCHITECTURE\n",
    "        \n",
    "    if pretext_model == 'EEGNet' and loss == 'contrastive_loss':\n",
    "        class PretextModel(pl.LightningModule):\n",
    "            def __init__(self, num_extracted_features=num_extracted_features, dropout=0.25, weight_decay=0.00, learning_rate=0.001):\n",
    "                super(PretextModel, self).__init__()\n",
    "                self.weight_decay = weight_decay\n",
    "                self.learning_rate = learning_rate\n",
    "                # feature extractors\n",
    "                self.EEGNet = EEGNet(num_extracted_features=num_extracted_features, dropout=dropout)\n",
    "                \n",
    "                # mlp projection head\n",
    "                self.linear = nn.Linear(num_extracted_features, num_extracted_features)\n",
    "\n",
    "            def forward(self, x1: torch.Tensor, x2) -> torch.Tensor:\n",
    "                x1 = self.EEGNet(x1) # forward pass through EEGNet for first sample\n",
    "                x2 = self.EEGNet(x2) # forward pass through EEGNet for second sample\n",
    "                ## TODO: SHOULD I ADD ANOTHER LINEAR LAYER HERE FIRST?\n",
    "                x1 = F.relu(x1)\n",
    "                x2 = F.relu(x2)\n",
    "                z1 = self.linear(x1) # forward pass through linear layer\n",
    "                z2 = self.linear(x2)\n",
    "                \n",
    "                return z1, z2\n",
    "            \n",
    "            def training_step(self, train_batch, batch_idx):\n",
    "                x = train_batch[0]\n",
    "                y = train_batch[1]\n",
    "                y = y.float()\n",
    "                x1 = x[:, 0, :, :].unsqueeze(1).float()\n",
    "                x2 = x[:, 1, :, :].unsqueeze(1).float()\n",
    "                z1, z2 = self.forward(x1, x2)\n",
    "                loss = self.contrastive_loss(z1, z2, y)\n",
    "                self.log('train_loss', loss, on_epoch=True, prog_bar=True)\n",
    "                # self.log('train_f1', self.train_f1(y_hat, y), prog_bar=True, on_epoch=True)\n",
    "                return loss\n",
    "            \n",
    "            def validation_step(self, val_batch, batch_idx):\n",
    "                x = val_batch[0]\n",
    "                # print(x.shape)\n",
    "                y = val_batch[1]\n",
    "                y = y.float()\n",
    "                # print(y)\n",
    "                x1 = x[:, 0, :, :].unsqueeze(1).float()\n",
    "                x2 = x[:, 1, :, :].unsqueeze(1).float()\n",
    "                z1, z2 = self.forward(x1, x2)\n",
    "                # print(f'{z1.shape=}')\n",
    "                # print(f'{z2.shape=}')\n",
    "                # print(f'{y.shape=}')\n",
    "                loss = self.contrastive_loss(z1, z2, y)\n",
    "                self.log('val_loss', loss, prog_bar=True, on_epoch=True)\n",
    "                # self.log('val_f1', self.val_f1(y_hat, y), prog_bar=True, on_epoch=True)\n",
    "                return loss\n",
    "            \n",
    "            def test_step(self, test_batch, batch_idx):\n",
    "                x = test_batch[0]\n",
    "                y = test_batch[1]\n",
    "                y = y.float()\n",
    "                x1 = x[:, 0, :, :].unsqueeze(1).float()\n",
    "                x2 = x[:, 1, :, :].unsqueeze(1).float()\n",
    "                z1, z2 = self.forward(x1, x2)\n",
    "                loss = self.contrastive_loss(z1, z2, y)\n",
    "                self.log('test_loss', loss, prog_bar=True)\n",
    "                # self.log('test_f1', self.val_f1(y_hat, y), prog_bar=True)\n",
    "                return loss\n",
    "            \n",
    "            def configure_optimizers(self):\n",
    "                optimizer = torch.optim.Adam(self.parameters(), lr=self.learning_rate, betas=(0.9, 0.999), weight_decay=self.weight_decay) # default hyperparameters (used in EEGNet paper)\n",
    "                return optimizer\n",
    "            \n",
    "            def contrastive_loss(self, z1, z2, y, temperature=0.1):\n",
    "                # application of NT-Xent loss https://theaisummer.com/simclr/\n",
    "                batch_size = z1.shape[0]\n",
    "                # first L2 normalization ## TODO: Not sure if necessary, considering already regularization with cosine_similarity\n",
    "                # z1 = F.normalize(z1, p=2, dim=1)\n",
    "                # z2 = F.normalize(z2, p=2, dim=1)\n",
    "\n",
    "                representations = torch.cat([z1, z2], dim=0) # [2 X batch_size, n_features]\n",
    "                similarity_matrix = F.cosine_similarity(representations.unsqueeze(1), representations.unsqueeze(0), dim=2) # [batch_size X views, batch_size X views]\n",
    "\n",
    "                # index positive and negative pairs\n",
    "                sim_ij = torch.diag(similarity_matrix, batch_size)\n",
    "                sim_ji = torch.diag(similarity_matrix, -batch_size)\n",
    "                positives = torch.cat([sim_ij, sim_ji], dim=0)\n",
    "\n",
    "                mask = (~torch.eye(batch_size * 2, batch_size * 2, dtype=bool)).float()\n",
    "                # move mask to same device as similarity_matrix\n",
    "                mask = mask.to(similarity_matrix.device)\n",
    "\n",
    "                # exclude positive pairs from similarity matrix\n",
    "                negatives = similarity_matrix * mask\n",
    "\n",
    "                nominator = torch.exp(positives / temperature)\n",
    "                denominator = torch.sum(torch.exp(negatives / temperature), dim=1)\n",
    "                all_losses = -torch.log(nominator / denominator)\n",
    "                loss = torch.sum(all_losses) / (2 * batch_size)\n",
    "                return loss\n",
    "\n",
    "    elif pretext_model == 'ShallowNet' and loss == 'contrastive_loss':\n",
    "        class PretextModel(pl.LightningModule):\n",
    "            def __init__(self, num_extracted_features=num_extracted_features, dropout=0.25, weight_decay=0.00, learning_rate=0.001):\n",
    "                super(PretextModel, self).__init__()\n",
    "                self.weight_decay = weight_decay\n",
    "                self.learning_rate = learning_rate\n",
    "                # feature extractors\n",
    "                self.ShallowNet = ShallowNet(num_extracted_features=num_extracted_features, dropout=dropout)\n",
    "                \n",
    "                # mlp projection head\n",
    "                self.linear = nn.Linear(num_extracted_features, num_extracted_features)\n",
    "\n",
    "            def forward(self, x1: torch.Tensor, x2) -> torch.Tensor:\n",
    "                x1 = self.ShallowNet(x1) # forward pass through ShallowNet for first sample\n",
    "                x2 = self.ShallowNet(x2) # forward pass through ShallowNet for second sample\n",
    "                ## TODO: SHOULD I ADD ANOTHER LINEAR LAYER HERE FIRST?\n",
    "                x1 = F.relu(x1)\n",
    "                x2 = F.relu(x2)\n",
    "                z1 = self.linear(x1) # forward pass through linear layer\n",
    "                z2 = self.linear(x2)\n",
    "                \n",
    "                return z1, z2\n",
    "            \n",
    "            def training_step(self, train_batch, batch_idx):\n",
    "                x = train_batch[0]\n",
    "                y = train_batch[1]\n",
    "                y = y.float()\n",
    "                x1 = x[:, 0, :, :].unsqueeze(1).float()\n",
    "                x2 = x[:, 1, :, :].unsqueeze(1).float()\n",
    "                z1, z2 = self.forward(x1, x2)\n",
    "                loss = self.contrastive_loss(z1, z2, y)\n",
    "                self.log('train_loss', loss, on_epoch=True, prog_bar=True)\n",
    "                # self.log('train_f1', self.train_f1(y_hat, y), prog_bar=True, on_epoch=True)\n",
    "                return loss\n",
    "            \n",
    "            def validation_step(self, val_batch, batch_idx):\n",
    "                x = val_batch[0]\n",
    "                # print(x.shape)\n",
    "                y = val_batch[1]\n",
    "                y = y.float()\n",
    "                # print(y)\n",
    "                x1 = x[:, 0, :, :].unsqueeze(1).float()\n",
    "                x2 = x[:, 1, :, :].unsqueeze(1).float()\n",
    "                z1, z2 = self.forward(x1, x2)\n",
    "                # print(f'{z1.shape=}')\n",
    "                # print(f'{z2.shape=}')\n",
    "                # print(f'{y.shape=}')\n",
    "                loss = self.contrastive_loss(z1, z2, y)\n",
    "                self.log('val_loss', loss, prog_bar=True, on_epoch=True)\n",
    "                # self.log('val_f1', self.val_f1(y_hat, y), prog_bar=True, on_epoch=True)\n",
    "                return loss\n",
    "            \n",
    "            def test_step(self, test_batch, batch_idx):\n",
    "                x = test_batch[0]\n",
    "                y = test_batch[1]\n",
    "                y = y.float()\n",
    "                x1 = x[:, 0, :, :].unsqueeze(1).float()\n",
    "                x2 = x[:, 1, :, :].unsqueeze(1).float()\n",
    "                z1, z2 = self.forward(x1, x2)\n",
    "                loss = self.contrastive_loss(z1, z2, y)\n",
    "                self.log('test_loss', loss, prog_bar=True)\n",
    "                # self.log('test_f1', self.val_f1(y_hat, y), prog_bar=True)\n",
    "                return loss\n",
    "            \n",
    "            def configure_optimizers(self):\n",
    "                optimizer = torch.optim.Adam(self.parameters(), lr=self.learning_rate, betas=(0.9, 0.999), weight_decay=self.weight_decay) # default hyperparameters (used in EEGNet paper)\n",
    "                return optimizer\n",
    "            \n",
    "            def contrastive_loss(self, z1, z2, y, temperature=0.1):\n",
    "                # application of NT-Xent loss https://theaisummer.com/simclr/\n",
    "                batch_size = z1.shape[0]\n",
    "                # first L2 normalization ## TODO: Not sure if necessary, considering already regularization with cosine_similarity\n",
    "                # z1 = F.normalize(z1, p=2, dim=1)\n",
    "                # z2 = F.normalize(z2, p=2, dim=1)\n",
    "\n",
    "                representations = torch.cat([z1, z2], dim=0) # [2 X batch_size, n_features]\n",
    "                similarity_matrix = F.cosine_similarity(representations.unsqueeze(1), representations.unsqueeze(0), dim=2) # [batch_size X views, batch_size X views]\n",
    "\n",
    "                # index positive and negative pairs\n",
    "                sim_ij = torch.diag(similarity_matrix, batch_size)\n",
    "                sim_ji = torch.diag(similarity_matrix, -batch_size)\n",
    "                positives = torch.cat([sim_ij, sim_ji], dim=0)\n",
    "\n",
    "                mask = (~torch.eye(batch_size * 2, batch_size * 2, dtype=bool)).float()\n",
    "                # move mask to same device as similarity_matrix\n",
    "                mask = mask.to(similarity_matrix.device)\n",
    "\n",
    "                # exclude positive pairs from similarity matrix\n",
    "                negatives = similarity_matrix * mask\n",
    "\n",
    "                nominator = torch.exp(positives / temperature)\n",
    "                denominator = torch.sum(torch.exp(negatives / temperature), dim=1)\n",
    "                all_losses = -torch.log(nominator / denominator)\n",
    "                loss = torch.sum(all_losses) / (2 * batch_size)\n",
    "                return loss\n",
    "            \n",
    "    ## BCE LOSS PRETEXT TASK ARCHITECTURE\n",
    "\n",
    "    elif pretext_model == 'EEGNet' and loss == 'bce_loss':\n",
    "        class PretextModel(pl.LightningModule):\n",
    "            def __init__(self, num_extracted_features=num_extracted_features, dropout=0.25, weight_decay=0.00, learning_rate=0.001):\n",
    "                super(PretextModel, self).__init__()\n",
    "                self.weight_decay = weight_decay\n",
    "                self.learning_rate = learning_rate\n",
    "                # feature extractors\n",
    "                self.EEGNet = EEGNet(num_extracted_features=num_extracted_features, dropout=dropout)\n",
    "                \n",
    "                # linear discriminate layer\n",
    "                self.linear = nn.Linear(num_extracted_features, 1)\n",
    "\n",
    "                # add metrics\n",
    "                self.train_f1 = F1Score(task='multiclass', num_classes=2, average='macro')\n",
    "                self.val_f1 = F1Score(task='multiclass', num_classes=2, average='macro')\n",
    "\n",
    "            def forward(self, x1: torch.Tensor, x2) -> torch.Tensor:\n",
    "                x1 = self.EEGNet(x1) # forward pass through EEGNet for first sample\n",
    "                x2 = self.EEGNet(x2) # forward pass through EEGNet for second sample\n",
    "                z = torch.abs(x1 - x2) # calculate the absolute difference between the two feature vectors (contrastive module)\n",
    "                x = self.linear(z) # forward pass through linear layer\n",
    "                return x\n",
    "            \n",
    "            def training_step(self, train_batch, batch_idx):\n",
    "                x = train_batch[0]\n",
    "                y = train_batch[1]\n",
    "                y = y.float()\n",
    "                x1 = x[:, 0, :, :].unsqueeze(1).float()\n",
    "                x2 = x[:, 1, :, :].unsqueeze(1).float()\n",
    "                logits = self.forward(x1, x2)\n",
    "                logits = logits.view(-1)\n",
    "                loss = F.binary_cross_entropy_with_logits(logits, y)\n",
    "                y_hat = F.sigmoid(logits)\n",
    "                y_hat = torch.where(y_hat > 0.5, 1, 0)\n",
    "                self.log('train_loss', loss, on_epoch=True, prog_bar=True)\n",
    "                self.log('train_f1', self.train_f1(y_hat, y), prog_bar=True, on_epoch=True)\n",
    "                return loss\n",
    "            \n",
    "            def validation_step(self, val_batch, batch_idx):\n",
    "                x = val_batch[0]\n",
    "                y = val_batch[1]\n",
    "                y = y.float()\n",
    "                x1 = x[:, 0, :, :].unsqueeze(1).float()\n",
    "                x2 = x[:, 1, :, :].unsqueeze(1).float()\n",
    "                logits = self.forward(x1, x2)\n",
    "                logits = logits.view(-1)\n",
    "                loss = F.binary_cross_entropy_with_logits(logits, y)\n",
    "                y_hat = F.sigmoid(logits)\n",
    "                y_hat = torch.where(y_hat > 0.5, 1, 0)\n",
    "                self.log('val_loss', loss, prog_bar=True, on_epoch=True)\n",
    "                self.log('val_f1', self.val_f1(y_hat, y), prog_bar=True, on_epoch=True)\n",
    "                return loss\n",
    "            \n",
    "            def test_step(self, test_batch, batch_idx):\n",
    "                x = test_batch[0]\n",
    "                y = test_batch[1]\n",
    "                y = y.float()\n",
    "                x1 = x[:, 0, :, :].unsqueeze(1).float()\n",
    "                x2 = x[:, 1, :, :].unsqueeze(1).float()\n",
    "                logits = self.forward(x1, x2)\n",
    "                logits = logits.view(-1)\n",
    "                loss = F.binary_cross_entropy_with_logits(logits, y)\n",
    "                y_hat = F.sigmoid(logits)\n",
    "                y_hat = torch.where(y_hat > 0.5, 1, 0)\n",
    "                self.log('test_loss', loss, prog_bar=True)\n",
    "                self.log('test_f1', self.val_f1(y_hat, y), prog_bar=True)\n",
    "                return loss\n",
    "            \n",
    "            def predict_step(self, batch):\n",
    "                x = batch[0]\n",
    "                x1 = x[:, 0, :, :].unsqueeze(1).float()\n",
    "                x2 = x[:, 1, :, :].unsqueeze(1).float()\n",
    "                logits = self.forward(x1, x2)\n",
    "                logits = logits.view(-1)\n",
    "                y_hat = F.sigmoid(logits)\n",
    "                y_hat = torch.where(y_hat > 0.5, 1, 0)\n",
    "                return y_hat\n",
    "            \n",
    "            def configure_optimizers(self):\n",
    "                optimizer = torch.optim.Adam(self.parameters(), lr=self.learning_rate, betas=(0.9, 0.999), weight_decay=self.weight_decay) # default hyperparameters (used in EEGNet paper)\n",
    "                return optimizer\n",
    "\n",
    "    elif pretext_model == 'ShallowNet' and loss == 'bce_loss':\n",
    "        class PretextModel(pl.LightningModule):\n",
    "            def __init__(self, num_extracted_features=num_extracted_features, dropout=0.25, weight_decay=0.00, learning_rate=0.001):\n",
    "                super(PretextModel, self).__init__()\n",
    "                self.weight_decay = weight_decay\n",
    "                self.learning_rate = learning_rate\n",
    "                # feature extractors\n",
    "                self.ShallowNet = ShallowNet(num_extracted_features=num_extracted_features, dropout=dropout)\n",
    "                \n",
    "                # linear discriminate layer\n",
    "                self.linear = nn.Linear(num_extracted_features, 1)\n",
    "\n",
    "                # add metrics\n",
    "                self.train_f1 = F1Score(task='multiclass', num_classes=2, average='macro')\n",
    "                self.val_f1 = F1Score(task='multiclass', num_classes=2, average='macro')\n",
    "\n",
    "            def forward(self, x1: torch.Tensor, x2) -> torch.Tensor:\n",
    "                x1 = self.ShallowNet(x1) # forward pass through ShallowNet for first sample\n",
    "                x2 = self.ShallowNet(x2) # forward pass through ShallowNet for second sample\n",
    "                z = torch.abs(x1 - x2) # calculate the absolute difference between the two feature vectors (contrastive module)\n",
    "                x = self.linear(z) # forward pass through linear layer\n",
    "                return x\n",
    "            \n",
    "            def training_step(self, train_batch, batch_idx):\n",
    "                x = train_batch[0]\n",
    "                y = train_batch[1]\n",
    "                y = y.float()\n",
    "                x1 = x[:, 0, :, :].unsqueeze(1).float()\n",
    "                x2 = x[:, 1, :, :].unsqueeze(1).float()\n",
    "                logits = self.forward(x1, x2)\n",
    "                logits = logits.view(-1)\n",
    "                loss = F.binary_cross_entropy_with_logits(logits, y)\n",
    "                y_hat = F.sigmoid(logits)\n",
    "                y_hat = torch.where(y_hat > 0.5, 1, 0)\n",
    "                self.log('train_loss', loss, on_epoch=True, prog_bar=True)\n",
    "                self.log('train_f1', self.train_f1(y_hat, y), prog_bar=True, on_epoch=True)\n",
    "                return loss\n",
    "            \n",
    "            def validation_step(self, val_batch, batch_idx):\n",
    "                x = val_batch[0]\n",
    "                y = val_batch[1]\n",
    "                y = y.float()\n",
    "                x1 = x[:, 0, :, :].unsqueeze(1).float()\n",
    "                x2 = x[:, 1, :, :].unsqueeze(1).float()\n",
    "                logits = self.forward(x1, x2)\n",
    "                logits = logits.view(-1)\n",
    "                loss = F.binary_cross_entropy_with_logits(logits, y)\n",
    "                y_hat = F.sigmoid(logits)\n",
    "                y_hat = torch.where(y_hat > 0.5, 1, 0)\n",
    "                self.log('val_loss', loss, prog_bar=True, on_epoch=True)\n",
    "                self.log('val_f1', self.val_f1(y_hat, y), prog_bar=True, on_epoch=True)\n",
    "                return loss\n",
    "            \n",
    "            def test_step(self, test_batch, batch_idx):\n",
    "                x = test_batch[0]\n",
    "                y = test_batch[1]\n",
    "                y = y.float()\n",
    "                x1 = x[:, 0, :, :].unsqueeze(1).float()\n",
    "                x2 = x[:, 1, :, :].unsqueeze(1).float()\n",
    "                logits = self.forward(x1, x2)\n",
    "                logits = logits.view(-1)\n",
    "                loss = F.binary_cross_entropy_with_logits(logits, y)\n",
    "                y_hat = F.sigmoid(logits)\n",
    "                y_hat = torch.where(y_hat > 0.5, 1, 0)\n",
    "                self.log('test_loss', loss, prog_bar=True)\n",
    "                self.log('test_f1', self.val_f1(y_hat, y), prog_bar=True)\n",
    "                return loss\n",
    "            \n",
    "            def predict_step(self, batch):\n",
    "                x = batch[0]\n",
    "                x1 = x[:, 0, :, :].unsqueeze(1).float()\n",
    "                x2 = x[:, 1, :, :].unsqueeze(1).float()\n",
    "                logits = self.forward(x1, x2)\n",
    "                logits = logits.view(-1)\n",
    "                y_hat = F.sigmoid(logits)\n",
    "                y_hat = torch.where(y_hat > 0.5, 1, 0)\n",
    "                return y_hat\n",
    "            \n",
    "            def configure_optimizers(self):\n",
    "                optimizer = torch.optim.Adam(self.parameters(), lr=self.learning_rate, betas=(0.9, 0.999), weight_decay=self.weight_decay) # default hyperparameters (used in EEGNet paper)\n",
    "                return optimizer\n",
    "\n",
    "    ## SOFT MARGIN LOSS PRETEXT TASK ARCHITECTURE\n",
    "    if pretext_model == 'EEGNet' and loss == 'soft_margin_loss':\n",
    "        class PretextModel(pl.LightningModule):\n",
    "            def __init__(self, num_extracted_features=num_extracted_features, dropout=0.25, weight_decay=0.00, learning_rate=0.001):\n",
    "                super(PretextModel, self).__init__()\n",
    "                self.weight_decay = weight_decay\n",
    "                self.learning_rate = learning_rate\n",
    "                # feature extractors\n",
    "                self.EEGNet = EEGNet(num_extracted_features=num_extracted_features, dropout=dropout)\n",
    "                \n",
    "                # linear discriminate layer\n",
    "                self.linear = nn.Linear(num_extracted_features, 1)\n",
    "\n",
    "                # add metrics\n",
    "                self.train_f1 = F1Score(task='multiclass', num_classes=2, average='macro')\n",
    "                self.val_f1 = F1Score(task='multiclass', num_classes=2, average='macro')\n",
    "\n",
    "            def forward(self, x1: torch.Tensor, x2) -> torch.Tensor:\n",
    "                x1 = self.EEGNet(x1) # forward pass through EEGNet for first sample\n",
    "                x2 = self.EEGNet(x2) # forward pass through EEGNet for second sample\n",
    "                z = torch.abs(x1 - x2) # calculate the absolute difference between the two feature vectors (contrastive module)\n",
    "                x = self.linear(z) # forward pass through linear layer\n",
    "                return x\n",
    "            \n",
    "            def training_step(self, train_batch, batch_idx):\n",
    "                x = train_batch[0]\n",
    "                y = train_batch[1]\n",
    "                y = y\n",
    "                x1 = x[:, 0, :, :].unsqueeze(1).float()\n",
    "                x2 = x[:, 1, :, :].unsqueeze(1).float()\n",
    "                logits = self.forward(x1, x2)\n",
    "                logits = logits.view(-1)\n",
    "                loss = F.soft_margin_loss(logits, y, reduce='sum')\n",
    "                y = torch.where(y == -1, 0, y)\n",
    "                y_hat = F.sigmoid(logits)\n",
    "                y_hat = torch.where(y_hat > 0.5, 1, 0)\n",
    "                self.log('train_loss', loss, on_epoch=True, prog_bar=True)\n",
    "                self.log('train_f1', self.train_f1(y_hat, y), prog_bar=True, on_epoch=True)\n",
    "                return loss\n",
    "            \n",
    "            def validation_step(self, val_batch, batch_idx):\n",
    "                x = val_batch[0]\n",
    "                y = val_batch[1]\n",
    "                y = y\n",
    "                x1 = x[:, 0, :, :].unsqueeze(1).float()\n",
    "                x2 = x[:, 1, :, :].unsqueeze(1).float()\n",
    "                logits = self.forward(x1, x2)\n",
    "                logits = logits.view(-1)\n",
    "                loss = F.soft_margin_loss(logits, y, reduce='sum')\n",
    "                y = torch.where(y == -1, 0, y)\n",
    "                y_hat = F.sigmoid(logits)\n",
    "                y_hat = torch.where(y_hat > 0.5, 1, 0)\n",
    "                self.log('val_loss', loss, prog_bar=True, on_epoch=True)\n",
    "                self.log('val_f1', self.val_f1(y_hat, y), prog_bar=True, on_epoch=True)\n",
    "                return loss\n",
    "            \n",
    "            def test_step(self, test_batch, batch_idx):\n",
    "                x = test_batch[0]\n",
    "                y = test_batch[1]\n",
    "                y = y\n",
    "                x1 = x[:, 0, :, :].unsqueeze(1).float()\n",
    "                x2 = x[:, 1, :, :].unsqueeze(1).float()\n",
    "                logits = self.forward(x1, x2)\n",
    "                logits = logits.view(-1)\n",
    "                loss = F.soft_margin_loss(logits, y, reduce='sum')\n",
    "                y = torch.where(y == -1, 0, y)\n",
    "                y_hat = F.sigmoid(logits)\n",
    "                y_hat = torch.where(y_hat > 0.5, 1, 0)\n",
    "                self.log('test_loss', loss, prog_bar=True)\n",
    "                self.log('test_f1', self.val_f1(y_hat, y), prog_bar=True)\n",
    "                return loss\n",
    "            \n",
    "            def predict_step(self, batch):\n",
    "                x = batch[0]\n",
    "                x1 = x[:, 0, :, :].unsqueeze(1).float()\n",
    "                x2 = x[:, 1, :, :].unsqueeze(1).float()\n",
    "                logits = self.forward(x1, x2)\n",
    "                logits = logits.view(-1)\n",
    "                y_hat = F.sigmoid(logits)\n",
    "                y_hat = torch.where(y_hat > 0.5, 1, 0)\n",
    "                return y_hat\n",
    "            \n",
    "            def configure_optimizers(self):\n",
    "                optimizer = torch.optim.Adam(self.parameters(), lr=self.learning_rate, betas=(0.9, 0.999), weight_decay=self.weight_decay) # default hyperparameters (used in EEGNet paper)\n",
    "                return optimizer\n",
    "\n",
    "    if pretext_model == 'ShallowNet' and loss == 'soft_margin_loss':\n",
    "        class PretextModel(pl.LightningModule):\n",
    "            def __init__(self, num_extracted_features=num_extracted_features, dropout=0.25, weight_decay=0.00, learning_rate=0.001):\n",
    "                super(PretextModel, self).__init__()\n",
    "                self.weight_decay = weight_decay\n",
    "                self.learning_rate = learning_rate\n",
    "                # feature extractors\n",
    "                self.ShallowNet = ShallowNet(num_extracted_features=num_extracted_features, dropout=dropout)\n",
    "                \n",
    "                # linear discriminate layer\n",
    "                self.linear = nn.Linear(num_extracted_features, 1)\n",
    "\n",
    "                # add metrics\n",
    "                self.train_f1 = F1Score(task='multiclass', num_classes=2, average='macro')\n",
    "                self.val_f1 = F1Score(task='multiclass', num_classes=2, average='macro')\n",
    "\n",
    "            def forward(self, x1: torch.Tensor, x2) -> torch.Tensor:\n",
    "                x1 = self.ShallowNet(x1) # forward pass through ShallowNet for first sample\n",
    "                x2 = self.ShallowNet(x2) # forward pass through ShallowNet for second sample\n",
    "                z = torch.abs(x1 - x2) # calculate the absolute difference between the two feature vectors (contrastive module)\n",
    "                x = self.linear(z) # forward pass through linear layer\n",
    "                return x\n",
    "            \n",
    "            def training_step(self, train_batch, batch_idx):\n",
    "                x = train_batch[0]\n",
    "                y = train_batch[1]\n",
    "                y = y\n",
    "                x1 = x[:, 0, :, :].unsqueeze(1).float()\n",
    "                x2 = x[:, 1, :, :].unsqueeze(1).float()\n",
    "                logits = self.forward(x1, x2)\n",
    "                logits = logits.view(-1)\n",
    "                loss = F.soft_margin_loss(logits, y, reduce='sum')\n",
    "                y = torch.where(y == -1, 0, y)\n",
    "                y_hat = F.sigmoid(logits)\n",
    "                y_hat = torch.where(y_hat > 0.5, 1, 0)\n",
    "                self.log('train_loss', loss, on_epoch=True, prog_bar=True)\n",
    "                self.log('train_f1', self.train_f1(y_hat, y), prog_bar=True, on_epoch=True)\n",
    "                return loss\n",
    "            \n",
    "            def validation_step(self, val_batch, batch_idx):\n",
    "                x = val_batch[0]\n",
    "                y = val_batch[1]\n",
    "                y = y\n",
    "                x1 = x[:, 0, :, :].unsqueeze(1).float()\n",
    "                x2 = x[:, 1, :, :].unsqueeze(1).float()\n",
    "                logits = self.forward(x1, x2)\n",
    "                logits = logits.view(-1)\n",
    "                loss = F.soft_margin_loss(logits, y, reduce='sum')\n",
    "                y = torch.where(y == -1, 0, y)\n",
    "                y_hat = F.sigmoid(logits)\n",
    "                y_hat = torch.where(y_hat > 0.5, 1, 0)\n",
    "                self.log('val_loss', loss, prog_bar=True, on_epoch=True)\n",
    "                self.log('val_f1', self.val_f1(y_hat, y), prog_bar=True, on_epoch=True)\n",
    "                return loss\n",
    "            \n",
    "            def test_step(self, test_batch, batch_idx):\n",
    "                x = test_batch[0]\n",
    "                y = test_batch[1]\n",
    "                y = y\n",
    "                x1 = x[:, 0, :, :].unsqueeze(1).float()\n",
    "                x2 = x[:, 1, :, :].unsqueeze(1).float()\n",
    "                logits = self.forward(x1, x2)\n",
    "                logits = logits.view(-1)\n",
    "                loss = F.soft_margin_loss(logits, y, reduce='sum')\n",
    "                y = torch.where(y == -1, 0, y)\n",
    "                y_hat = F.sigmoid(logits)\n",
    "                y_hat = torch.where(y_hat > 0.5, 1, 0)\n",
    "                self.log('test_loss', loss, prog_bar=True)\n",
    "                self.log('test_f1', self.val_f1(y_hat, y), prog_bar=True)\n",
    "                return loss\n",
    "            \n",
    "            def predict_step(self, batch):\n",
    "                x = batch[0]\n",
    "                x1 = x[:, 0, :, :].unsqueeze(1).float()\n",
    "                x2 = x[:, 1, :, :].unsqueeze(1).float()\n",
    "                logits = self.forward(x1, x2)\n",
    "                logits = logits.view(-1)\n",
    "                y_hat = F.sigmoid(logits)\n",
    "                y_hat = torch.where(y_hat > 0.5, 1, 0)\n",
    "                return y_hat\n",
    "            \n",
    "            def configure_optimizers(self):\n",
    "                optimizer = torch.optim.Adam(self.parameters(), lr=self.learning_rate, betas=(0.9, 0.999), weight_decay=self.weight_decay) # default hyperparameters (used in EEGNet paper)\n",
    "                return optimizer\n",
    "\n",
    "    # remove particular warnings\n",
    "    warnings.filterwarnings(\"ignore\", \".*Consider increasing the value of the `num_workers` argument*\")\n",
    "    warnings.filterwarnings(\"ignore\", \".*Trying to infer the `batch_size` from an ambiguous collection*\")\n",
    "\n",
    "    if pretext_task == 'withinRP':\n",
    "        log_folder = 'withinRP_pretext_task'\n",
    "    if pretext_task == 'acrossRP':\n",
    "        log_folder = 'acrossRP_pretext_task'\n",
    "    if pretext_task == 'acrossSub':\n",
    "        log_folder = 'acrossSub_pretext_task'\n",
    "    if pretext_task == 'contrastive_loss':\n",
    "        log_folder = 'contrastive_loss_pretext_task'\n",
    "\n",
    "    logger = CSVLogger(\"logs\", name=log_folder) # log results to csv file\n",
    "    torch.set_float32_matmul_precision('high') # for use of tensor cores\n",
    "    # create pretext model\n",
    "    model = PretextModel(learning_rate=learning_rate, dropout=dropout, weight_decay=weight_decay, num_extracted_features=num_extracted_features)\n",
    "    \n",
    "    # create data loaders\n",
    "    train_loader = DataLoader(data_train, batch_size=batch_size, shuffle=True)\n",
    "    val_loader = DataLoader(data_val, batch_size=batch_size, shuffle=False)\n",
    "    \n",
    "    checkpoint_callback = ModelCheckpoint(monitor='val_loss',\n",
    "                                    mode='max',\n",
    "                                    save_top_k=3,\n",
    "                                    filename='{epoch}-{train_loss:.2f}-{train_f1:.2f}-{val_loss:.2f}-{val_f1:.2f}',\n",
    "                                    )\n",
    "\n",
    "    trainer = Trainer(\n",
    "        precision='16-mixed',\n",
    "        accelerator='gpu',\n",
    "        devices=1,\n",
    "        max_epochs=max_epochs,\n",
    "        callbacks=checkpoint_callback,\n",
    "        enable_progress_bar=True,\n",
    "        enable_model_summary=True,\n",
    "        enable_checkpointing=True,\n",
    "        logger=logger,\n",
    "        log_every_n_steps=5,\n",
    "    )\n",
    "\n",
    "    trainer.fit(model, train_loader, val_loader)\n",
    "\n",
    "    if store_weights[0]:\n",
    "        torch.save(model.state_dict(), f'pretext_model_weights/fullytrained_{pretext_task_title}_weights.pt')\n",
    "    \n",
    "    # load best model checkpoint\n",
    "    print(f\"Best model checkpoint path: {checkpoint_callback.best_model_path}\")\n",
    "    best_model = PretextModel.load_from_checkpoint(checkpoint_callback.best_model_path, strict=False)\n",
    "    \n",
    "    if store_weights[1]:\n",
    "        torch.save(best_model.state_dict(), f'pretext_model_weights/{pretext_task_title}_weights.pt')\n",
    "\n",
    "    return best_model\n",
    "\n",
    "def plot_training_curves(metrics_path):\n",
    "    \"\"\"\n",
    "    Function to plot training curves from csv log file\n",
    "    :param metrics_path: path to the csv file containing the model diagnostics\n",
    "    :return:\n",
    "    \"\"\"\n",
    "    fig, axs = plt.subplots(2, 1, figsize=(10, 10))\n",
    "\n",
    "    metrics = pd.read_csv(metrics_path)\n",
    "\n",
    "    # Check if 'train_f1_epoch' and 'val_f1' columns exist\n",
    "    if 'train_f1_epoch' in metrics.columns and 'val_f1' in metrics.columns:\n",
    "        train_f1_epoch = metrics['train_f1_epoch'].dropna()\n",
    "        val_f1 = metrics['val_f1'].dropna()\n",
    "        axs[0].plot(train_f1_epoch, label='Train F1 Score')\n",
    "        axs[0].plot(val_f1, label='Validation F1 Score')\n",
    "        axs[0].set_title('F1 Score')\n",
    "        axs[0].set_xlabel('Epoch')\n",
    "        axs[0].set_ylabel('F1 Score')\n",
    "        axs[0].legend()\n",
    "    else:\n",
    "        print(\"F1 score columns not found in the metrics file.\")\n",
    "\n",
    "    # Check if 'train_loss' and 'val_loss' columns exist\n",
    "    if 'train_loss_epoch' in metrics.columns and 'val_loss' in metrics.columns:\n",
    "        train_loss = metrics['train_loss_epoch'].dropna()\n",
    "        val_loss = metrics['val_loss'].dropna()\n",
    "        axs[1].plot(train_loss, label='Train Loss')\n",
    "        axs[1].plot(val_loss, label='Validation Loss')\n",
    "        axs[1].set_title('Loss')\n",
    "        axs[1].set_xlabel('Epoch')\n",
    "        axs[1].set_ylabel('Loss')\n",
    "        axs[1].legend()\n",
    "    else:\n",
    "        print(\"Loss columns not found in the metrics file.\")\n",
    "\n",
    "    plt.tight_layout()\n",
    "    plt.show()\n",
    "\n",
    "    return\n",
    "\n",
    "def evaluate_pretext_model(model, data_test, test_labels, pretext_task, soft_margin_loss=False, batch_size=None):\n",
    "    \"\"\"\n",
    "    Function to evaluate the pretext model\n",
    "    :param model: trained model\n",
    "    :param data_test: test data\n",
    "    :param test_labels: test labels\n",
    "    :param pretext_task: pretext task str to select right class labels for plots ['withinRP', 'acrossRP', 'acrossSub']\n",
    "    :param soft_margin_loss: whether model uses soft margin loss\n",
    "    :param batch_size: batch size\n",
    "    :return: test results\n",
    "    \"\"\"\n",
    "    if batch_size is None:\n",
    "        batch_size = len(data_test)\n",
    "        \n",
    "    # obtain predictions on test set and plot confusion matrix\n",
    "    test_loader = DataLoader(data_test, batch_size=batch_size, shuffle=False,\n",
    "                                drop_last=True)\n",
    "\n",
    "    # model = PretextModel.load_from_checkpoint(r'D:\\Documents\\Master_Data_Science\\Thesis\\thesis_code\\DataScience_Thesis\\logs\\pretext_task\\version_15\\checkpoints\\epoch=45-train_loss=54.10-train_f1=0.67-val_loss=106.12-val_f1=0.72.ckpt')\n",
    "\n",
    "    trainer = Trainer(accelerator='gpu', devices=1, enable_progress_bar=False, enable_model_summary=False, logger=False, enable_checkpointing=False)\n",
    "    trainer.test(model, test_loader)\n",
    "\n",
    "    # compute confusion matrix and classification report with sklearn of best model checkpoint\n",
    "    from sklearn.metrics import f1_score, classification_report, confusion_matrix, ConfusionMatrixDisplay\n",
    "    y_pred = trainer.predict(model, test_loader)\n",
    "    y_pred = np.concatenate(y_pred).flatten()\n",
    "    y = np.array(test_labels)\n",
    "    if soft_margin_loss:\n",
    "        y = np.where(y == -1, 0, y)\n",
    "\n",
    "    if pretext_task == 'withinRP' or pretext_task == 'acrossRP':\n",
    "        class_labels = ['Separate', 'Adjacent']\n",
    "    if pretext_task == 'acrossSub':\n",
    "        class_labels = ['Across subjects', 'Within subject']\n",
    "        \n",
    "    print('classification report:\\n', classification_report(y, y_pred, target_names=class_labels))\n",
    "    print('F1-score:\\n', f1_score(y, y_pred, average=\"macro\"))\n",
    "    print('Accuracy:\\n', (y == y_pred).sum() / len(y))\n",
    "    cm = confusion_matrix(y, y_pred)\n",
    "    ConfusionMatrixDisplay(confusion_matrix=cm, display_labels=class_labels).plot(cmap = 'Blues', values_format = 'd', colorbar=False)\n",
    "    plt.grid(False)\n",
    "\n",
    "    return"
   ]
  },
  {
   "cell_type": "markdown",
   "metadata": {},
   "source": [
    "### Dataset classes"
   ]
  },
  {
   "cell_type": "markdown",
   "metadata": {},
   "source": [
    "#### Within Subject Relative Positioning Dataset"
   ]
  },
  {
   "cell_type": "code",
   "execution_count": 5,
   "metadata": {
    "execution": {
     "iopub.execute_input": "2024-10-25T08:23:21.342015Z",
     "iopub.status.busy": "2024-10-25T08:23:21.341730Z",
     "iopub.status.idle": "2024-10-25T08:23:21.351573Z",
     "shell.execute_reply": "2024-10-25T08:23:21.351167Z",
     "shell.execute_reply.started": "2024-10-25T08:23:21.341997Z"
    }
   },
   "outputs": [],
   "source": [
    "class RPDataset(Dataset):\n",
    "    def __init__(self, participant_ids, data_path, subsample=True, tpos=1, device='cpu', soft_margin_loss=False):\n",
    "        \"\"\"\n",
    "        Dataset for the Relative Positioning task. Obtains all combinations of two epochs per participant.\n",
    "        :param participant_ids: List of participant IDs\n",
    "        :param data_path: Path to the directory containing the preprocessed EEG data\n",
    "        :param subsample: Whether to subsample the dataset for class balance or not\n",
    "        :param tpos: Time/index difference of the epochs in which the epochs are considered adjacent\n",
    "        :param device: Device to store the data ('cpu' or 'cuda')\n",
    "        :param soft_margin_loss: Whether the model uses soft margin loss (needs [-1, 1] labels)\n",
    "        \"\"\"\n",
    "        self.participant_ids = participant_ids\n",
    "        self.data_path = data_path\n",
    "        self.subsample = subsample\n",
    "        self.tpos = tpos\n",
    "        self.device = device\n",
    "        self.soft_margin_loss = soft_margin_loss\n",
    "        self.sampled_epochs_indices_id = []\n",
    "        self.labels = []\n",
    "        self.data_cache = {}\n",
    "        self._load_data()\n",
    "\n",
    "    def _load_data(self):\n",
    "        for participant_id in self.participant_ids:\n",
    "            # Load the data for the participant\n",
    "            data = torch.load(os.path.join(self.data_path, f\"{participant_id}.pt\"))\n",
    "            # Move data to the specified device\n",
    "            data = torch.tensor(data)\n",
    "            data = data.to(self.device)\n",
    "            self.data_cache[participant_id] = data\n",
    "            # Generate all combinations of two epochs for this participant\n",
    "            self.sample_all_combinations(participant_id, len(data), soft_margin_loss=self.soft_margin_loss)\n",
    "\n",
    "    def sample_all_combinations(self, participant_id, num_epochs, soft_margin_loss=False):\n",
    "        \"\"\"\n",
    "        Sample all combinations of two epochs for a participant\n",
    "        \"\"\"\n",
    "        all_combinations = list(itertools.combinations(range(num_epochs), 2))\n",
    "        if soft_margin_loss:\n",
    "            # use -1 if the epochs are not adjacent, 1 if they are\n",
    "            labels = [1 if abs(i - j) <= self.tpos else -1 for i, j in all_combinations]\n",
    "        else:\n",
    "            # use 0 if the epochs are not adjacent, 1 if they are\n",
    "            labels = [1 if abs(i - j) <= self.tpos else 0 for i, j in all_combinations]\n",
    "        if self.subsample:\n",
    "            # Subsample the combinations and labels\n",
    "            sampled_indices = self.subsample_combinations(labels, soft_margin_loss=self.soft_margin_loss)\n",
    "        else:\n",
    "            # Use all combinations\n",
    "            sampled_indices = range(len(all_combinations))\n",
    "\n",
    "        # Store the combinations and labels\n",
    "        for idx in sampled_indices:\n",
    "            i, j = all_combinations[idx]\n",
    "            label = labels[idx]\n",
    "            self.sampled_epochs_indices_id.append((participant_id, i, j, label))\n",
    "            self.labels.append(label)\n",
    "\n",
    "    def subsample_combinations(self, labels, soft_margin_loss=False):\n",
    "        \"\"\"\n",
    "        Subsamples the combinations to ensure class balance\n",
    "        \"\"\"\n",
    "        # Identify indices of samples with labels -1/0 and 1\n",
    "        if soft_margin_loss:\n",
    "            indices_0 = [idx for idx, label in enumerate(labels) if label == -1]\n",
    "        else:\n",
    "            indices_0 = [idx for idx, label in enumerate(labels) if label == 0]\n",
    "        indices_1 = [idx for idx, label in enumerate(labels) if label == 1]\n",
    "\n",
    "        # Determine the smaller count between the two labels\n",
    "        min_count = min(len(indices_0), len(indices_1))\n",
    "\n",
    "        # Randomly sample indices from both labels to ensure they have the same count\n",
    "        np.random.seed(42)  # For reproducibility\n",
    "        sampled_indices_0 = np.random.choice(indices_0, min_count, replace=False)\n",
    "        sampled_indices_1 = np.random.choice(indices_1, min_count, replace=False)\n",
    "\n",
    "        # Combine the sampled indices\n",
    "        sampled_indices = np.concatenate((sampled_indices_0, sampled_indices_1))\n",
    "        return sampled_indices\n",
    "\n",
    "    def __len__(self):\n",
    "        return len(self.sampled_epochs_indices_id)\n",
    "\n",
    "    def __getitem__(self, idx):\n",
    "        participant_id, i, j, label = self.sampled_epochs_indices_id[idx]\n",
    "        data = self.data_cache[participant_id]\n",
    "        sampled_epochs = data[[i, j]]\n",
    "        # Convert to PyTorch tensor if it's a NumPy array\n",
    "        if isinstance(sampled_epochs, np.ndarray):\n",
    "            sampled_epochs = torch.tensor(sampled_epochs)\n",
    "        # Transfer data to GPU in batches\n",
    "        sampled_epochs = sampled_epochs.to('cuda')\n",
    "        return sampled_epochs, label, participant_id"
   ]
  },
  {
   "cell_type": "markdown",
   "metadata": {},
   "source": [
    "#### Across Subject Relative Positioning Dataset"
   ]
  },
  {
   "cell_type": "code",
   "execution_count": 6,
   "metadata": {
    "execution": {
     "iopub.execute_input": "2024-10-25T08:23:21.352431Z",
     "iopub.status.busy": "2024-10-25T08:23:21.352028Z",
     "iopub.status.idle": "2024-10-25T08:23:21.360509Z",
     "shell.execute_reply": "2024-10-25T08:23:21.360104Z",
     "shell.execute_reply.started": "2024-10-25T08:23:21.352413Z"
    }
   },
   "outputs": [],
   "source": [
    "class Across_Subject_RPDataset(Dataset):\n",
    "    def __init__(self, participant_ids, data_path, subsample=True, tpos=1, device='cpu', n_samples=2, soft_margin_loss=False):\n",
    "        \"\"\"\n",
    "        Dataset for the Relative Positioning task. Obtains n combinations of two epochs between all groups of two participants.\n",
    "        :param participant_ids: List of participant IDs\n",
    "        :param data_path: Path to the directory containing the preprocessed EEG data\n",
    "        :param subsample: Whether to subsample the dataset for class balance or not\n",
    "        :param tpos: Time/index difference of the epochs in which the epochs are considered adjacent\n",
    "        :param device: Device to store the data ('cpu' or 'cuda')\n",
    "        :param n_samples: Number of samples for each label (adjacent/separate) to generate for each participant combination\n",
    "        :param soft_margin_loss: Whether to use soft margin loss for the pretext task (needs [-1, 1] labels)\n",
    "        \"\"\"\n",
    "        self.participant_ids = participant_ids\n",
    "        self.data_path = data_path\n",
    "        self.subsample = subsample\n",
    "        self.tpos = tpos\n",
    "        self.device = device\n",
    "        self.n_samples = n_samples\n",
    "        self.soft_margin_loss = soft_margin_loss\n",
    "        self.sampled_epochs_indices_id = []\n",
    "        self.data_cache = {}\n",
    "        self.labels = []\n",
    "        self._load_data()\n",
    "\n",
    "    def _load_data(self):\n",
    "        epoch_data = {}\n",
    "        for participant_id in self.participant_ids:\n",
    "            # Load the data for the participant\n",
    "            data = torch.load(os.path.join(self.data_path, f\"{participant_id}.pt\"))\n",
    "            # Move data to the specified device\n",
    "            data = torch.tensor(data)\n",
    "            data = data.to(self.device)\n",
    "            self.data_cache[participant_id] = data\n",
    "        # Generate n combinations of two epochs between two participants\n",
    "        self.sample_across_subject_combinations(self.data_cache, n=self.n_samples, soft_margin_loss=self.soft_margin_loss)\n",
    "    \n",
    "    def sample_across_subject_combinations(self, data_cache, n, soft_margin_loss=False):\n",
    "        all_participant_combinations = list(itertools.combinations(self.participant_ids, 2)) # all combinations of participants\n",
    "        warning_displayed = False  # Flag to track if the warning has been displayed\n",
    "\n",
    "        for participant_id_1, participant_id_2 in all_participant_combinations: \n",
    "            data_1 = self.data_cache[participant_id_1]\n",
    "            data_2 = self.data_cache[participant_id_2]\n",
    "            num_epochs_1 = data_1.shape[0]\n",
    "            num_epochs_2 = data_2.shape[0]\n",
    "            # Get all combinations of indices between data_1 and data_2\n",
    "            all_combinations = list(itertools.product(range(num_epochs_1), range(num_epochs_2)))\n",
    "            \n",
    "            # Filter combinations based on the difference between indices\n",
    "            adjacent_combinations = [comb for comb in all_combinations if abs(comb[0] - comb[1]) <= self.tpos and comb[0] != comb[1]]\n",
    "            separate_combinations = [comb for comb in all_combinations if abs(comb[0] - comb[1]) > self.tpos]\n",
    "            # Sample n combinations from each filtered set\n",
    "            sampled_adjacent_combinations = random.sample(adjacent_combinations,\n",
    "                                                        min(n, len(adjacent_combinations)))\n",
    "            sampled_separate_combinations = random.sample(separate_combinations,\n",
    "                                                     min(n, len(separate_combinations)))\n",
    "            \n",
    "            if n > len(adjacent_combinations) and not warning_displayed:\n",
    "                print(f\"Warning: asking for {n} adjacent samples, but only {len(adjacent_combinations)} adjacent samples available between two participants.\")\n",
    "                print(\"This will result in class imbalance.\")\n",
    "                warning_displayed = True  # Set the flag to True after displaying the warning\n",
    "\n",
    "            # Store the combinations and labels\n",
    "            for i, j in sampled_adjacent_combinations:\n",
    "                self.sampled_epochs_indices_id.append((participant_id_1, participant_id_2, i, j, 1))\n",
    "                self.labels.append(1)\n",
    "            if soft_margin_loss:\n",
    "                for i, j in sampled_separate_combinations:\n",
    "                    self.sampled_epochs_indices_id.append((participant_id_1, participant_id_2, i, j, -1))\n",
    "                    self.labels.append(-1)\n",
    "            else:\n",
    "                for i, j in sampled_separate_combinations:\n",
    "                    self.sampled_epochs_indices_id.append((participant_id_1, participant_id_2, i, j, 0))\n",
    "                    self.labels.append(0)\n",
    "\n",
    "    def __len__(self):\n",
    "        return len(self.sampled_epochs_indices_id)\n",
    "\n",
    "    def __getitem__(self, idx):\n",
    "        participant_id_1, participant_id_2, i, j, label = self.sampled_epochs_indices_id[idx]\n",
    "        # Load the data for the participant on-the-fly\n",
    "        data_1 = self.data_cache[participant_id_1]\n",
    "        data_2 = self.data_cache[participant_id_2]\n",
    "        epoch_1 = data_1[i]\n",
    "        epoch_2 = data_2[j]\n",
    "        sampled_epochs = torch.stack([epoch_1, epoch_2])\n",
    "        # Convert to PyTorch tensor if it's a NumPy array\n",
    "        if isinstance(sampled_epochs, np.ndarray):\n",
    "            sampled_epochs = torch.tensor(sampled_epochs)\n",
    "        # Transfer data to GPU in batches\n",
    "        sampled_epochs = sampled_epochs.to('cuda')\n",
    "        return sampled_epochs, label"
   ]
  },
  {
   "cell_type": "markdown",
   "metadata": {},
   "source": [
    "#### Across Subject Dataset"
   ]
  },
  {
   "cell_type": "code",
   "execution_count": 7,
   "metadata": {
    "execution": {
     "iopub.execute_input": "2024-10-25T08:23:21.361266Z",
     "iopub.status.busy": "2024-10-25T08:23:21.360984Z",
     "iopub.status.idle": "2024-10-25T08:23:21.368955Z",
     "shell.execute_reply": "2024-10-25T08:23:21.368528Z",
     "shell.execute_reply.started": "2024-10-25T08:23:21.361249Z"
    }
   },
   "outputs": [],
   "source": [
    "class Across_Subject_Dataset(Dataset):\n",
    "    def __init__(self, participant_ids, data_path, device='cpu', n_samples=2, soft_margin_loss=False):\n",
    "        \"\"\"\n",
    "        Dataset for the across subject task. Obtains n combinations of two epochs within a participant and between participants.\n",
    "        And learns to predict if the two epochs are from the same participant or not.\n",
    "        :param participant_ids: List of participant IDs\n",
    "        :param data_path: Path to the directory containing the preprocessed EEG data\n",
    "        :param device: Device to store the data ('cpu' or 'cuda')\n",
    "        :param n_samples: Number of samples for each label (adjacent/separate) to generate for each participant combination\n",
    "        :param soft_margin_loss: Whether to use soft margin loss or not (needs [-1, 1] labels)\n",
    "        \"\"\"\n",
    "        self.participant_ids = participant_ids\n",
    "        self.data_path = data_path\n",
    "        self.device = device\n",
    "        self.n_samples = n_samples\n",
    "        self.soft_margin_loss = soft_margin_loss\n",
    "        self.sampled_epochs_indices_id = []\n",
    "        self.data_cache = {}\n",
    "        self.labels = []\n",
    "        self._load_data()\n",
    "\n",
    "    def _load_data(self):\n",
    "        epoch_data = {}\n",
    "        for participant_id in self.participant_ids:\n",
    "            # Load the data for the participant\n",
    "            data = torch.load(os.path.join(self.data_path, f\"{participant_id}.pt\"))\n",
    "            # Move data to the specified device\n",
    "            data = torch.tensor(data)\n",
    "            data = data.to(self.device)\n",
    "            self.data_cache[participant_id] = data\n",
    "        # Generate n combinations of two epochs between two participants\n",
    "        self.sample_epochs_combinations(self.data_cache, n=self.n_samples, soft_margin_loss=self.soft_margin_loss)\n",
    "    \n",
    "    def sample_epochs_combinations(self, data_cache, n, soft_margin_loss=False):\n",
    "        for participant in data_cache.keys():\n",
    "            data = data_cache[participant]\n",
    "            n_epochs = data.shape[0]\n",
    "\n",
    "            # sample n pairs of epochs from the same participant\n",
    "            within_subject_combos = [comb for comb in itertools.combinations(range(n_epochs), 2)]\n",
    "\n",
    "            # adjust n if there are not enough within subject samples\n",
    "            if n > len(within_subject_combos):\n",
    "                print(f\"Warning: asking for {n} within subject samples, but only {len(within_subject_combos)} within subject samples available within participant {participant}.\")\n",
    "                print(f\"{len(within_subject_combos)} will be sampled instead of {n}.\")\n",
    "                adj_n = len(within_subject_combos)\n",
    "            else:\n",
    "                adj_n = n\n",
    "\n",
    "            for i, j in random.sample(within_subject_combos, adj_n): # ensure that the same pair is not sampled twice\n",
    "                self.sampled_epochs_indices_id.append((participant, participant, i, j, 1))\n",
    "                self.labels.append(1)\n",
    "            \n",
    "            # sample n pairs of epochs from the participant and another participant\n",
    "            for other_participant in random.sample([p for p in data_cache.keys() if p != participant], adj_n):\n",
    "                other_n_epochs = data_cache[other_participant].shape[0]\n",
    "                between_subject_combos = list(itertools.product(range(n_epochs), range(other_n_epochs)))\n",
    "                i, j = random.choice(between_subject_combos)\n",
    "                if soft_margin_loss:\n",
    "                    self.sampled_epochs_indices_id.append((participant, other_participant, i, j, -1))  \n",
    "                    self.labels.append(-1)\n",
    "                else:\n",
    "                    self.sampled_epochs_indices_id.append((participant, other_participant, i, j, 0))  \n",
    "                    self.labels.append(0)\n",
    "            \n",
    "            # delete variables to free up memory\n",
    "            del within_subject_combos\n",
    "            del between_subject_combos\n",
    "\n",
    "        return\n",
    "\n",
    "    def __len__(self):\n",
    "        return len(self.sampled_epochs_indices_id)\n",
    "\n",
    "    def __getitem__(self, idx):\n",
    "        participant_id_1, participant_id_2, i, j, label = self.sampled_epochs_indices_id[idx]\n",
    "        # Load the data for the participant on-the-fly\n",
    "        if participant_id_1 == participant_id_2:\n",
    "            data = self.data_cache[participant_id_1]\n",
    "            sampled_epochs = torch.stack([data[i], data[j]])\n",
    "        if participant_id_1 != participant_id_2:\n",
    "            data_1 = self.data_cache[participant_id_1]\n",
    "            data_2 = self.data_cache[participant_id_2]\n",
    "            epoch_1 = data_1[i]\n",
    "            epoch_2 = data_2[j]\n",
    "            sampled_epochs = torch.stack([epoch_1, epoch_2])\n",
    "        # Convert to PyTorch tensor if it's a NumPy array\n",
    "        if isinstance(sampled_epochs, np.ndarray):\n",
    "            sampled_epochs = torch.tensor(sampled_epochs)\n",
    "        # Transfer data to GPU in batches\n",
    "        sampled_epochs = sampled_epochs.to('cuda')\n",
    "        return sampled_epochs, label"
   ]
  },
  {
   "cell_type": "markdown",
   "metadata": {},
   "source": [
    "#### Contrastive Loss Dataset"
   ]
  },
  {
   "cell_type": "code",
   "execution_count": 8,
   "metadata": {
    "execution": {
     "iopub.execute_input": "2024-10-25T08:23:21.369700Z",
     "iopub.status.busy": "2024-10-25T08:23:21.369408Z",
     "iopub.status.idle": "2024-10-25T08:23:21.379557Z",
     "shell.execute_reply": "2024-10-25T08:23:21.379165Z",
     "shell.execute_reply.started": "2024-10-25T08:23:21.369682Z"
    }
   },
   "outputs": [],
   "source": [
    "class Contrastive_Loss_Dataset(Dataset):\n",
    "    def __init__(self, participant_ids, data_path, device='cpu', n_samples=1):\n",
    "        \"\"\"\n",
    "        Dataset for the pretext task with contrastive loss and neurologist recommended augmentations. \n",
    "        For each participant samples n epochs on which two random augmentations are applied.\n",
    "        The samples are then used to learn to predict if two augmentations were derived from the same original epoch,\n",
    "        or two different epochs.\n",
    "        :param participant_ids: List of participant IDs\n",
    "        :param data_path: Path to the directory containing the preprocessed EEG data\n",
    "        :param device: Device to store the data ('cpu' or 'cuda')\n",
    "        :param n_samples: Number of epochs to sample from each participant\n",
    "        :param neg_samples: Number of negative samples to create for each positive sample\n",
    "        \"\"\"\n",
    "        self.participant_ids = participant_ids\n",
    "        self.data_path = data_path\n",
    "        self.device = device\n",
    "        self.n_samples = n_samples\n",
    "        self.sampled_epochs_indices_id = []\n",
    "        self.data_cache = {}\n",
    "        self.labels = []\n",
    "        self._load_data()\n",
    "\n",
    "        self.available_augmentations = {\n",
    "            \"amplitude_scale\": [0.5, 2], \n",
    "            # \"time_shift\": [-50, 50], \n",
    "            # \"DC_shift\": [-10, 10], \n",
    "            \"zero-masking\": [0, 150], \n",
    "            \"additive_Gaussian_noise\": [5, 10], \n",
    "            \"band-stop_filter\": [4.8, 59], # max is nyquist frequency\n",
    "        }\n",
    "\n",
    "        self.NUM_AUGMENTATIONS = 1 # number of augmentations to apply to each epoch\n",
    "        self.TEMPORAL_LEN = 1244 # length of the EEG signal\n",
    "        self.SFREQ = 125 # sampling frequency of the EEG signal ## QUESTION: SHOULD I USE ORIGINAL SFREQ OR DOWNSAMPLED 125 HZ\n",
    "\n",
    "    def _load_data(self):\n",
    "        epoch_data = {}\n",
    "        for participant_id in self.participant_ids:\n",
    "            # Load the data for the participant\n",
    "            data = torch.load(os.path.join(self.data_path, f\"{participant_id}.pt\"))\n",
    "            # Move data to the specified device\n",
    "            data = torch.tensor(data)\n",
    "            data = data.to(self.device)\n",
    "            self.data_cache[participant_id] = data\n",
    "        # sample n epochs from each participant\n",
    "        self.sample_epochs(self.data_cache, n=self.n_samples)\n",
    "    \n",
    "    def sample_epochs(self, data_cache, n):\n",
    "        for participant in data_cache.keys():\n",
    "            data = data_cache[participant]\n",
    "            n_epochs = data.shape[0]\n",
    "            sampled_epochs_indices = random.sample(range(n_epochs), n)\n",
    "            for sampled_epoch_idx in sampled_epochs_indices:\n",
    "                self.sampled_epochs_indices_id.append((participant, sampled_epoch_idx))\n",
    "        return\n",
    "    \n",
    "    def get_augmentation_set(self):\n",
    "        # taken and adjusted from https://github.com/zacharycbrown/ssl_baselines_for_biosignal_feature_extraction/blob/main/data_loaders.py#L535\n",
    "        augmentation_set = []\n",
    "        selected_augmentations = random.sample(list(self.available_augmentations.keys()), self.NUM_AUGMENTATIONS)\n",
    "        assert len(selected_augmentations) == self.NUM_AUGMENTATIONS\n",
    "\n",
    "        for aug in selected_augmentations:\n",
    "            if aug in ['amplitude_scale', 'DC_shift', 'additive_Gaussian_noise', 'band-stop_filter']: # augmentation that requires float val\n",
    "                aug_param = random.uniform(self.available_augmentations[aug][0], self.available_augmentations[aug][1])\n",
    "            elif aug in ['time_shift', 'zero-masking']: # augmentation that requires int val\n",
    "                aug_param = random.randint(self.available_augmentations[aug][0], self.available_augmentations[aug][1])\n",
    "                if aug == 'zero-masking':\n",
    "                    aug_param = [aug_param, random.randint(0, self.TEMPORAL_LEN-aug_param)]\n",
    "            else:\n",
    "                raise NotImplementedError(f\"Augmentation {aug} not implemented\")\n",
    "            \n",
    "            if aug == 'band-stop_filter': # somehow getting a value higher than given range\n",
    "                if aug_param > 59:\n",
    "                    print(f'band_stop_filter: {aug_param=}')\n",
    "            augmentation_set.append((aug, aug_param))\n",
    "        return augmentation_set\n",
    "            \n",
    "    def apply_augmentation(self, sampled_epoch, augmentation):\n",
    "        # apply augmentation to the sampled epoch with shape [n_channels, n_samples] ## QUESTION: IN CASE OF MULTIPLE AUGMENTATIONS WHICH FIRST?\n",
    "        for aug in augmentation: # apply each augmentation\n",
    "            if aug[0] == 'amplitude_scale':\n",
    "                sampled_epoch = sampled_epoch * aug[1]\n",
    "\n",
    "            elif aug[0] == 'time_shift':\n",
    "                sampled_epoch = torch.roll(sampled_epoch, aug[1], dims=1)\n",
    "\n",
    "            elif aug[0] == 'DC_shift':\n",
    "                sampled_epoch = sampled_epoch + aug[1]\n",
    "\n",
    "            elif aug[0] == 'zero-masking':\n",
    "                start_point = aug[1][1]\n",
    "                end_point = start_point + aug[1][0]\n",
    "                sampled_epoch[:, start_point:end_point] = 0\n",
    "\n",
    "            elif aug[0] == 'additive_Gaussian_noise':\n",
    "                sampled_epoch = sampled_epoch + torch.randn_like(sampled_epoch) * aug[1]\n",
    "\n",
    "            elif aug[0] == 'band-stop_filter':\n",
    "                # Convert to NumPy array for notch_filter\n",
    "                sampled_epoch_np = sampled_epoch.cpu().numpy()\n",
    "                filtered_epoch_np = mne.filter.notch_filter(sampled_epoch_np, Fs=self.SFREQ, freqs=aug[1], notch_widths=2)\n",
    "                # Convert back to PyTorch tensor\n",
    "                sampled_epoch = torch.tensor(filtered_epoch_np, device=self.device)\n",
    "\n",
    "            else:\n",
    "                raise NotImplementedError(f\"Augmentation {aug[0]} not implemented\")\n",
    "        augmented_epoch = sampled_epoch\n",
    "        return augmented_epoch # shape [n_channels, n_samples]\n",
    "\n",
    "    def __len__(self):\n",
    "        return len(self.sampled_epochs_indices_id)\n",
    "\n",
    "    def __getitem__(self, idx):\n",
    "        participant_id, i = self.sampled_epochs_indices_id[idx]\n",
    "        data = self.data_cache[participant_id]\n",
    "        sampled_epoch = data[i]\n",
    "        # create positive pair\n",
    "        augmentation_set_1 = self.get_augmentation_set()\n",
    "        augmentation_set_2 = self.get_augmentation_set()\n",
    "        augmented_epoch_1 = self.apply_augmentation(sampled_epoch.clone(), augmentation_set_1)\n",
    "        augmented_epoch_2 = self.apply_augmentation(sampled_epoch.clone(), augmentation_set_2)\n",
    "        augmented_epochs = torch.stack([augmented_epoch_1, augmented_epoch_2]) # shape [2, n_channels, n_samples]\n",
    "        # Convert to PyTorch tensor if it's a NumPy array\n",
    "        if isinstance(augmented_epochs, np.ndarray):\n",
    "            augmented_epochs = torch.tensor(augmented_epochs)\n",
    "        # Transfer data to GPU in batches\n",
    "        augmented_epochs = augmented_epochs.to(self.device)\n",
    "        # Create a positive pair (label 1)\n",
    "        positive_pair = (augmented_epochs, torch.tensor(1.0, device=self.device))\n",
    "\n",
    "        return positive_pair"
   ]
  },
  {
   "cell_type": "markdown",
   "metadata": {},
   "source": [
    "# Training pretext models"
   ]
  },
  {
   "cell_type": "markdown",
   "metadata": {},
   "source": [
    "## 4. Contrastive Loss Pretext Task"
   ]
  },
  {
   "cell_type": "markdown",
   "metadata": {},
   "source": [
    "#### Data loading & splitting"
   ]
  },
  {
   "cell_type": "code",
   "execution_count": 9,
   "metadata": {
    "execution": {
     "iopub.execute_input": "2024-10-25T08:23:21.380385Z",
     "iopub.status.busy": "2024-10-25T08:23:21.379976Z",
     "iopub.status.idle": "2024-10-25T08:24:45.589617Z",
     "shell.execute_reply": "2024-10-25T08:24:45.589071Z",
     "shell.execute_reply.started": "2024-10-25T08:23:21.380367Z"
    }
   },
   "outputs": [
    {
     "name": "stderr",
     "output_type": "stream",
     "text": [
      "/tmp/ipykernel_15338/1128372702.py:40: FutureWarning: You are using `torch.load` with `weights_only=False` (the current default value), which uses the default pickle module implicitly. It is possible to construct malicious pickle data which will execute arbitrary code during unpickling (See https://github.com/pytorch/pytorch/blob/main/SECURITY.md#untrusted-models for more details). In a future release, the default value for `weights_only` will be flipped to `True`. This limits the functions that could be executed during unpickling. Arbitrary objects will no longer be allowed to be loaded via this mode unless they are explicitly allowlisted by the user via `torch.serialization.add_safe_globals`. We recommend you start setting `weights_only=True` for any use case where you don't have full control of the loaded file. Please open an issue on GitHub for any issues related to this experimental feature.\n",
      "  data = torch.load(os.path.join(self.data_path, f\"{participant_id}.pt\"))\n"
     ]
    },
    {
     "name": "stdout",
     "output_type": "stream",
     "text": [
      "1244\n",
      "pairs.shape=torch.Size([5, 2, 26, 1244])\n",
      "labels.shape=torch.Size([5])\n",
      "Unique labels: (tensor([1.], device='cuda:0'), tensor([5], device='cuda:0'))\n",
      "labels=tensor([1., 1., 1., 1., 1.], device='cuda:0')\n"
     ]
    }
   ],
   "source": [
    "participant_ids = get_participant_ids(data_path, epoch_dir=True)\n",
    "# sample_ids = random.sample(participant_ids, 100)                                          \n",
    "dataset = Contrastive_Loss_Dataset(participant_ids, data_path, device='cuda', n_samples=1)\n",
    "print(len(dataset))\n",
    "\n",
    "# Create a DataLoader to check input\n",
    "dataloader = DataLoader(dataset, batch_size=5, shuffle=True)\n",
    "\n",
    "# Iterate through the DataLoader\n",
    "for batch in dataloader:\n",
    "    pairs, labels = batch\n",
    "    \n",
    "    # Unpack pairs and labels\n",
    "    print(f'{pairs.shape=}')\n",
    "    print(f'{labels.shape=}')\n",
    "    print(f'Unique labels: {torch.unique(labels, return_counts=True)}')\n",
    "    print(f'{labels=}')\n",
    "    break\n",
    "\n",
    "del dataloader"
   ]
  },
  {
   "cell_type": "code",
   "execution_count": 10,
   "metadata": {
    "execution": {
     "iopub.execute_input": "2024-10-25T08:24:45.591458Z",
     "iopub.status.busy": "2024-10-25T08:24:45.591282Z",
     "iopub.status.idle": "2024-10-25T08:24:45.601199Z",
     "shell.execute_reply": "2024-10-25T08:24:45.600723Z",
     "shell.execute_reply.started": "2024-10-25T08:24:45.591440Z"
    }
   },
   "outputs": [
    {
     "name": "stdout",
     "output_type": "stream",
     "text": [
      "Train: 910, Val: 228, Test: 106\n"
     ]
    }
   ],
   "source": [
    "# First obtain indices of the train/val/test sets to limit code rerun time\n",
    "# obtain indices of the replication set in dataset as test set (participants starting with 'sub-19')\n",
    "replication_indices = [idx for idx, sample in enumerate(dataset.sampled_epochs_indices_id) if sample[0].startswith('sub-19')]\n",
    "# obtain the rest of the indices as train and validation set\n",
    "trainval_indices = [idx for idx in range(len(dataset)) if idx not in replication_indices]\n",
    "\n",
    "groups = [dataset.sampled_epochs_indices_id[idx][0] for idx in trainval_indices]\n",
    "\n",
    "# stratified group kfold split\n",
    "from sklearn.model_selection import GroupKFold\n",
    "sgkf = GroupKFold(n_splits=5)\n",
    "\n",
    "# Split the train and validation set into train and validation set\n",
    "for train_idx, val_idx in sgkf.split(trainval_indices, groups=groups):\n",
    "    train_indices = [trainval_indices[i] for i in train_idx]\n",
    "    val_indices = [trainval_indices[i] for i in val_idx]\n",
    "    break  # We only need the first split\n",
    "\n",
    "# obtain actual train, val, test splits\n",
    "# Create subsets using the indices\n",
    "data_train = Subset(dataset, train_indices)\n",
    "data_val = Subset(dataset, val_indices)\n",
    "data_test = Subset(dataset, replication_indices)\n",
    "\n",
    "print(f\"Train: {len(data_train)}, Val: {len(data_val)}, Test: {len(data_test)}\")"
   ]
  },
  {
   "cell_type": "markdown",
   "metadata": {},
   "source": [
    "#### Training pretext model"
   ]
  },
  {
   "cell_type": "code",
   "execution_count": 11,
   "metadata": {
    "execution": {
     "iopub.execute_input": "2024-10-25T08:24:45.602141Z",
     "iopub.status.busy": "2024-10-25T08:24:45.601981Z",
     "iopub.status.idle": "2024-10-25T08:48:42.609850Z",
     "shell.execute_reply": "2024-10-25T08:48:42.609325Z",
     "shell.execute_reply.started": "2024-10-25T08:24:45.602126Z"
    }
   },
   "outputs": [
    {
     "name": "stderr",
     "output_type": "stream",
     "text": [
      "Using 16bit Automatic Mixed Precision (AMP)\n",
      "GPU available: True (cuda), used: True\n",
      "TPU available: False, using: 0 TPU cores\n",
      "HPU available: False, using: 0 HPUs\n",
      "LOCAL_RANK: 0 - CUDA_VISIBLE_DEVICES: [0]\n",
      "\n",
      "  | Name       | Type       | Params | Mode \n",
      "--------------------------------------------------\n",
      "0 | ShallowNet | ShallowNet | 350 K  | train\n",
      "1 | linear     | Linear     | 10.1 K | train\n",
      "--------------------------------------------------\n",
      "360 K     Trainable params\n",
      "0         Non-trainable params\n",
      "360 K     Total params\n",
      "1.444     Total estimated model params size (MB)\n",
      "9         Modules in train mode\n",
      "0         Modules in eval mode\n"
     ]
    },
    {
     "data": {
      "application/vnd.jupyter.widget-view+json": {
       "model_id": "60e8b331997d4648838e597deb8cd1e2",
       "version_major": 2,
       "version_minor": 0
      },
      "text/plain": [
       "Sanity Checking: |          | 0/? [00:00<?, ?it/s]"
      ]
     },
     "metadata": {},
     "output_type": "display_data"
    },
    {
     "name": "stderr",
     "output_type": "stream",
     "text": [
      "/home/tsmolders/.conda/envs/py3117/lib/python3.11/site-packages/lightning/pytorch/loops/fit_loop.py:298: The number of training batches (1) is smaller than the logging interval Trainer(log_every_n_steps=5). Set a lower value for log_every_n_steps if you want to see logs for the training epoch.\n"
     ]
    },
    {
     "data": {
      "application/vnd.jupyter.widget-view+json": {
       "model_id": "f2461082b46a4e25828c2cf6652c29bd",
       "version_major": 2,
       "version_minor": 0
      },
      "text/plain": [
       "Training: |          | 0/? [00:00<?, ?it/s]"
      ]
     },
     "metadata": {},
     "output_type": "display_data"
    },
    {
     "data": {
      "application/vnd.jupyter.widget-view+json": {
       "model_id": "7e57138aaf2e4830b5549a57554d9dbc",
       "version_major": 2,
       "version_minor": 0
      },
      "text/plain": [
       "Validation: |          | 0/? [00:00<?, ?it/s]"
      ]
     },
     "metadata": {},
     "output_type": "display_data"
    },
    {
     "data": {
      "application/vnd.jupyter.widget-view+json": {
       "model_id": "00a3bb7ab0f6408a88c24e09bf05f0af",
       "version_major": 2,
       "version_minor": 0
      },
      "text/plain": [
       "Validation: |          | 0/? [00:00<?, ?it/s]"
      ]
     },
     "metadata": {},
     "output_type": "display_data"
    },
    {
     "data": {
      "application/vnd.jupyter.widget-view+json": {
       "model_id": "bfdcd088fad749dcb9da777fee0129ae",
       "version_major": 2,
       "version_minor": 0
      },
      "text/plain": [
       "Validation: |          | 0/? [00:00<?, ?it/s]"
      ]
     },
     "metadata": {},
     "output_type": "display_data"
    },
    {
     "data": {
      "application/vnd.jupyter.widget-view+json": {
       "model_id": "be9484ce3c544a4f93bbfa4816175af3",
       "version_major": 2,
       "version_minor": 0
      },
      "text/plain": [
       "Validation: |          | 0/? [00:00<?, ?it/s]"
      ]
     },
     "metadata": {},
     "output_type": "display_data"
    },
    {
     "data": {
      "application/vnd.jupyter.widget-view+json": {
       "model_id": "2ef83fa5876a45bb90ead8bcd963d02f",
       "version_major": 2,
       "version_minor": 0
      },
      "text/plain": [
       "Validation: |          | 0/? [00:00<?, ?it/s]"
      ]
     },
     "metadata": {},
     "output_type": "display_data"
    },
    {
     "data": {
      "application/vnd.jupyter.widget-view+json": {
       "model_id": "4244276dfa7949b98981f29b1a4adc71",
       "version_major": 2,
       "version_minor": 0
      },
      "text/plain": [
       "Validation: |          | 0/? [00:00<?, ?it/s]"
      ]
     },
     "metadata": {},
     "output_type": "display_data"
    },
    {
     "data": {
      "application/vnd.jupyter.widget-view+json": {
       "model_id": "bbe636a929d04cc38df2f900971308e3",
       "version_major": 2,
       "version_minor": 0
      },
      "text/plain": [
       "Validation: |          | 0/? [00:00<?, ?it/s]"
      ]
     },
     "metadata": {},
     "output_type": "display_data"
    },
    {
     "data": {
      "application/vnd.jupyter.widget-view+json": {
       "model_id": "d09e5d40764b4172b338d0a1fbfd77b9",
       "version_major": 2,
       "version_minor": 0
      },
      "text/plain": [
       "Validation: |          | 0/? [00:00<?, ?it/s]"
      ]
     },
     "metadata": {},
     "output_type": "display_data"
    },
    {
     "data": {
      "application/vnd.jupyter.widget-view+json": {
       "model_id": "5f74ee42ef714cb381ead91a72693ebd",
       "version_major": 2,
       "version_minor": 0
      },
      "text/plain": [
       "Validation: |          | 0/? [00:00<?, ?it/s]"
      ]
     },
     "metadata": {},
     "output_type": "display_data"
    },
    {
     "data": {
      "application/vnd.jupyter.widget-view+json": {
       "model_id": "432dad94111b4a75b8971a29d720f5d9",
       "version_major": 2,
       "version_minor": 0
      },
      "text/plain": [
       "Validation: |          | 0/? [00:00<?, ?it/s]"
      ]
     },
     "metadata": {},
     "output_type": "display_data"
    },
    {
     "data": {
      "application/vnd.jupyter.widget-view+json": {
       "model_id": "f15209ae466a4b9ebdd1678fc2b630e8",
       "version_major": 2,
       "version_minor": 0
      },
      "text/plain": [
       "Validation: |          | 0/? [00:00<?, ?it/s]"
      ]
     },
     "metadata": {},
     "output_type": "display_data"
    },
    {
     "data": {
      "application/vnd.jupyter.widget-view+json": {
       "model_id": "7b7d576f5e7746139d48c3af7fbeb804",
       "version_major": 2,
       "version_minor": 0
      },
      "text/plain": [
       "Validation: |          | 0/? [00:00<?, ?it/s]"
      ]
     },
     "metadata": {},
     "output_type": "display_data"
    },
    {
     "data": {
      "application/vnd.jupyter.widget-view+json": {
       "model_id": "f619dd9b60a149a9bab29509a40461fd",
       "version_major": 2,
       "version_minor": 0
      },
      "text/plain": [
       "Validation: |          | 0/? [00:00<?, ?it/s]"
      ]
     },
     "metadata": {},
     "output_type": "display_data"
    },
    {
     "data": {
      "application/vnd.jupyter.widget-view+json": {
       "model_id": "45d76a8a98af478e8cd8107054cd31e3",
       "version_major": 2,
       "version_minor": 0
      },
      "text/plain": [
       "Validation: |          | 0/? [00:00<?, ?it/s]"
      ]
     },
     "metadata": {},
     "output_type": "display_data"
    },
    {
     "data": {
      "application/vnd.jupyter.widget-view+json": {
       "model_id": "d4ae209c4898413fa45a759804384c9c",
       "version_major": 2,
       "version_minor": 0
      },
      "text/plain": [
       "Validation: |          | 0/? [00:00<?, ?it/s]"
      ]
     },
     "metadata": {},
     "output_type": "display_data"
    },
    {
     "data": {
      "application/vnd.jupyter.widget-view+json": {
       "model_id": "8f6c53af6af949c79c7c48f89c3c180e",
       "version_major": 2,
       "version_minor": 0
      },
      "text/plain": [
       "Validation: |          | 0/? [00:00<?, ?it/s]"
      ]
     },
     "metadata": {},
     "output_type": "display_data"
    },
    {
     "data": {
      "application/vnd.jupyter.widget-view+json": {
       "model_id": "b23c7e15c03b49d0a1e052f590aced60",
       "version_major": 2,
       "version_minor": 0
      },
      "text/plain": [
       "Validation: |          | 0/? [00:00<?, ?it/s]"
      ]
     },
     "metadata": {},
     "output_type": "display_data"
    },
    {
     "data": {
      "application/vnd.jupyter.widget-view+json": {
       "model_id": "7a811ebd41574ee3bd2bd85e310c505e",
       "version_major": 2,
       "version_minor": 0
      },
      "text/plain": [
       "Validation: |          | 0/? [00:00<?, ?it/s]"
      ]
     },
     "metadata": {},
     "output_type": "display_data"
    },
    {
     "data": {
      "application/vnd.jupyter.widget-view+json": {
       "model_id": "e1ebfdb5b0ff4b10916b017bb4809344",
       "version_major": 2,
       "version_minor": 0
      },
      "text/plain": [
       "Validation: |          | 0/? [00:00<?, ?it/s]"
      ]
     },
     "metadata": {},
     "output_type": "display_data"
    },
    {
     "data": {
      "application/vnd.jupyter.widget-view+json": {
       "model_id": "6de7e7317014406795107174176517d3",
       "version_major": 2,
       "version_minor": 0
      },
      "text/plain": [
       "Validation: |          | 0/? [00:00<?, ?it/s]"
      ]
     },
     "metadata": {},
     "output_type": "display_data"
    },
    {
     "data": {
      "application/vnd.jupyter.widget-view+json": {
       "model_id": "23a07cfd5031433c9ddc30c6047c4f15",
       "version_major": 2,
       "version_minor": 0
      },
      "text/plain": [
       "Validation: |          | 0/? [00:00<?, ?it/s]"
      ]
     },
     "metadata": {},
     "output_type": "display_data"
    },
    {
     "data": {
      "application/vnd.jupyter.widget-view+json": {
       "model_id": "6fac0909a5a04db48bf9467943137a7f",
       "version_major": 2,
       "version_minor": 0
      },
      "text/plain": [
       "Validation: |          | 0/? [00:00<?, ?it/s]"
      ]
     },
     "metadata": {},
     "output_type": "display_data"
    },
    {
     "data": {
      "application/vnd.jupyter.widget-view+json": {
       "model_id": "e2a5ff69d0d1480bb9a22b4e0bc1415a",
       "version_major": 2,
       "version_minor": 0
      },
      "text/plain": [
       "Validation: |          | 0/? [00:00<?, ?it/s]"
      ]
     },
     "metadata": {},
     "output_type": "display_data"
    },
    {
     "data": {
      "application/vnd.jupyter.widget-view+json": {
       "model_id": "ef7597b206af4f01bb024b05ff29c81d",
       "version_major": 2,
       "version_minor": 0
      },
      "text/plain": [
       "Validation: |          | 0/? [00:00<?, ?it/s]"
      ]
     },
     "metadata": {},
     "output_type": "display_data"
    },
    {
     "data": {
      "application/vnd.jupyter.widget-view+json": {
       "model_id": "190c0c766f084ff2aa4941585d9c51c4",
       "version_major": 2,
       "version_minor": 0
      },
      "text/plain": [
       "Validation: |          | 0/? [00:00<?, ?it/s]"
      ]
     },
     "metadata": {},
     "output_type": "display_data"
    },
    {
     "data": {
      "application/vnd.jupyter.widget-view+json": {
       "model_id": "eeb57343466648f2abfd76fe1e985ab5",
       "version_major": 2,
       "version_minor": 0
      },
      "text/plain": [
       "Validation: |          | 0/? [00:00<?, ?it/s]"
      ]
     },
     "metadata": {},
     "output_type": "display_data"
    },
    {
     "data": {
      "application/vnd.jupyter.widget-view+json": {
       "model_id": "39bde71010f141349ba86ca570daf30a",
       "version_major": 2,
       "version_minor": 0
      },
      "text/plain": [
       "Validation: |          | 0/? [00:00<?, ?it/s]"
      ]
     },
     "metadata": {},
     "output_type": "display_data"
    },
    {
     "data": {
      "application/vnd.jupyter.widget-view+json": {
       "model_id": "fd40d103016e4b799d0b789e89e20c64",
       "version_major": 2,
       "version_minor": 0
      },
      "text/plain": [
       "Validation: |          | 0/? [00:00<?, ?it/s]"
      ]
     },
     "metadata": {},
     "output_type": "display_data"
    },
    {
     "data": {
      "application/vnd.jupyter.widget-view+json": {
       "model_id": "b761b28061f64644986ef6d4f66c084b",
       "version_major": 2,
       "version_minor": 0
      },
      "text/plain": [
       "Validation: |          | 0/? [00:00<?, ?it/s]"
      ]
     },
     "metadata": {},
     "output_type": "display_data"
    },
    {
     "data": {
      "application/vnd.jupyter.widget-view+json": {
       "model_id": "af8097efcdc34c699f806162d8b9683e",
       "version_major": 2,
       "version_minor": 0
      },
      "text/plain": [
       "Validation: |          | 0/? [00:00<?, ?it/s]"
      ]
     },
     "metadata": {},
     "output_type": "display_data"
    },
    {
     "data": {
      "application/vnd.jupyter.widget-view+json": {
       "model_id": "47ad648849514263b81fa85d85d2968f",
       "version_major": 2,
       "version_minor": 0
      },
      "text/plain": [
       "Validation: |          | 0/? [00:00<?, ?it/s]"
      ]
     },
     "metadata": {},
     "output_type": "display_data"
    },
    {
     "data": {
      "application/vnd.jupyter.widget-view+json": {
       "model_id": "ce7d309176fa43ab8d92df973b8d1495",
       "version_major": 2,
       "version_minor": 0
      },
      "text/plain": [
       "Validation: |          | 0/? [00:00<?, ?it/s]"
      ]
     },
     "metadata": {},
     "output_type": "display_data"
    },
    {
     "data": {
      "application/vnd.jupyter.widget-view+json": {
       "model_id": "0e0716aaa767405faffb6242a53988fc",
       "version_major": 2,
       "version_minor": 0
      },
      "text/plain": [
       "Validation: |          | 0/? [00:00<?, ?it/s]"
      ]
     },
     "metadata": {},
     "output_type": "display_data"
    },
    {
     "data": {
      "application/vnd.jupyter.widget-view+json": {
       "model_id": "47422eaeca644d689c305f64c20e223d",
       "version_major": 2,
       "version_minor": 0
      },
      "text/plain": [
       "Validation: |          | 0/? [00:00<?, ?it/s]"
      ]
     },
     "metadata": {},
     "output_type": "display_data"
    },
    {
     "data": {
      "application/vnd.jupyter.widget-view+json": {
       "model_id": "446e724703674880acc1a3292ecb9271",
       "version_major": 2,
       "version_minor": 0
      },
      "text/plain": [
       "Validation: |          | 0/? [00:00<?, ?it/s]"
      ]
     },
     "metadata": {},
     "output_type": "display_data"
    },
    {
     "data": {
      "application/vnd.jupyter.widget-view+json": {
       "model_id": "a951988c133e46e3abf27dcdbf4b6eba",
       "version_major": 2,
       "version_minor": 0
      },
      "text/plain": [
       "Validation: |          | 0/? [00:00<?, ?it/s]"
      ]
     },
     "metadata": {},
     "output_type": "display_data"
    },
    {
     "data": {
      "application/vnd.jupyter.widget-view+json": {
       "model_id": "bcabbfe64e8e45d4b0c20fe3444a17da",
       "version_major": 2,
       "version_minor": 0
      },
      "text/plain": [
       "Validation: |          | 0/? [00:00<?, ?it/s]"
      ]
     },
     "metadata": {},
     "output_type": "display_data"
    },
    {
     "data": {
      "application/vnd.jupyter.widget-view+json": {
       "model_id": "97874ddd48c34c96843f77e8207ebc63",
       "version_major": 2,
       "version_minor": 0
      },
      "text/plain": [
       "Validation: |          | 0/? [00:00<?, ?it/s]"
      ]
     },
     "metadata": {},
     "output_type": "display_data"
    },
    {
     "data": {
      "application/vnd.jupyter.widget-view+json": {
       "model_id": "9cae3cab080d4431bb09f5d3d3534b58",
       "version_major": 2,
       "version_minor": 0
      },
      "text/plain": [
       "Validation: |          | 0/? [00:00<?, ?it/s]"
      ]
     },
     "metadata": {},
     "output_type": "display_data"
    },
    {
     "data": {
      "application/vnd.jupyter.widget-view+json": {
       "model_id": "4beb5f7d23004c12998d1a3e5afa3e4e",
       "version_major": 2,
       "version_minor": 0
      },
      "text/plain": [
       "Validation: |          | 0/? [00:00<?, ?it/s]"
      ]
     },
     "metadata": {},
     "output_type": "display_data"
    },
    {
     "data": {
      "application/vnd.jupyter.widget-view+json": {
       "model_id": "e7bab8aef77f475bbaba7e155f240cc4",
       "version_major": 2,
       "version_minor": 0
      },
      "text/plain": [
       "Validation: |          | 0/? [00:00<?, ?it/s]"
      ]
     },
     "metadata": {},
     "output_type": "display_data"
    },
    {
     "data": {
      "application/vnd.jupyter.widget-view+json": {
       "model_id": "d11d2e89774d4671bfaa669d1f74fb50",
       "version_major": 2,
       "version_minor": 0
      },
      "text/plain": [
       "Validation: |          | 0/? [00:00<?, ?it/s]"
      ]
     },
     "metadata": {},
     "output_type": "display_data"
    },
    {
     "data": {
      "application/vnd.jupyter.widget-view+json": {
       "model_id": "fb8e02ae12bd4da7a4a248ceb091d447",
       "version_major": 2,
       "version_minor": 0
      },
      "text/plain": [
       "Validation: |          | 0/? [00:00<?, ?it/s]"
      ]
     },
     "metadata": {},
     "output_type": "display_data"
    },
    {
     "data": {
      "application/vnd.jupyter.widget-view+json": {
       "model_id": "ca69e216ac0f4021a6a0cd1349393eba",
       "version_major": 2,
       "version_minor": 0
      },
      "text/plain": [
       "Validation: |          | 0/? [00:00<?, ?it/s]"
      ]
     },
     "metadata": {},
     "output_type": "display_data"
    },
    {
     "data": {
      "application/vnd.jupyter.widget-view+json": {
       "model_id": "4c37048a34d54b67af3c25616a42ff5b",
       "version_major": 2,
       "version_minor": 0
      },
      "text/plain": [
       "Validation: |          | 0/? [00:00<?, ?it/s]"
      ]
     },
     "metadata": {},
     "output_type": "display_data"
    },
    {
     "data": {
      "application/vnd.jupyter.widget-view+json": {
       "model_id": "a02f3b01c79a45209948d6d126416a80",
       "version_major": 2,
       "version_minor": 0
      },
      "text/plain": [
       "Validation: |          | 0/? [00:00<?, ?it/s]"
      ]
     },
     "metadata": {},
     "output_type": "display_data"
    },
    {
     "data": {
      "application/vnd.jupyter.widget-view+json": {
       "model_id": "86ea8e41563d4e65a3012216b4dfebc8",
       "version_major": 2,
       "version_minor": 0
      },
      "text/plain": [
       "Validation: |          | 0/? [00:00<?, ?it/s]"
      ]
     },
     "metadata": {},
     "output_type": "display_data"
    },
    {
     "data": {
      "application/vnd.jupyter.widget-view+json": {
       "model_id": "2f6e069a689e4fafb89633e217a9913d",
       "version_major": 2,
       "version_minor": 0
      },
      "text/plain": [
       "Validation: |          | 0/? [00:00<?, ?it/s]"
      ]
     },
     "metadata": {},
     "output_type": "display_data"
    },
    {
     "data": {
      "application/vnd.jupyter.widget-view+json": {
       "model_id": "2a49bc52d7d3425a9b06381bd90ef9ae",
       "version_major": 2,
       "version_minor": 0
      },
      "text/plain": [
       "Validation: |          | 0/? [00:00<?, ?it/s]"
      ]
     },
     "metadata": {},
     "output_type": "display_data"
    },
    {
     "data": {
      "application/vnd.jupyter.widget-view+json": {
       "model_id": "4524ce0dbe0344c896b04f2a9120e019",
       "version_major": 2,
       "version_minor": 0
      },
      "text/plain": [
       "Validation: |          | 0/? [00:00<?, ?it/s]"
      ]
     },
     "metadata": {},
     "output_type": "display_data"
    },
    {
     "data": {
      "application/vnd.jupyter.widget-view+json": {
       "model_id": "bfcfb7ae871f4fdcbbce4bf83de57cf5",
       "version_major": 2,
       "version_minor": 0
      },
      "text/plain": [
       "Validation: |          | 0/? [00:00<?, ?it/s]"
      ]
     },
     "metadata": {},
     "output_type": "display_data"
    },
    {
     "data": {
      "application/vnd.jupyter.widget-view+json": {
       "model_id": "3482cd134c144dc88a5973ef7724b624",
       "version_major": 2,
       "version_minor": 0
      },
      "text/plain": [
       "Validation: |          | 0/? [00:00<?, ?it/s]"
      ]
     },
     "metadata": {},
     "output_type": "display_data"
    },
    {
     "data": {
      "application/vnd.jupyter.widget-view+json": {
       "model_id": "502ca97475fd4dde840988e2a87792ed",
       "version_major": 2,
       "version_minor": 0
      },
      "text/plain": [
       "Validation: |          | 0/? [00:00<?, ?it/s]"
      ]
     },
     "metadata": {},
     "output_type": "display_data"
    },
    {
     "data": {
      "application/vnd.jupyter.widget-view+json": {
       "model_id": "24e24cc99de04562a9d9eead70265bfd",
       "version_major": 2,
       "version_minor": 0
      },
      "text/plain": [
       "Validation: |          | 0/? [00:00<?, ?it/s]"
      ]
     },
     "metadata": {},
     "output_type": "display_data"
    },
    {
     "data": {
      "application/vnd.jupyter.widget-view+json": {
       "model_id": "4d5b6979dccc43b3ae07c1d9be5d5d7d",
       "version_major": 2,
       "version_minor": 0
      },
      "text/plain": [
       "Validation: |          | 0/? [00:00<?, ?it/s]"
      ]
     },
     "metadata": {},
     "output_type": "display_data"
    },
    {
     "data": {
      "application/vnd.jupyter.widget-view+json": {
       "model_id": "8dd2ccd6144e4472ac7e6ae3046526f3",
       "version_major": 2,
       "version_minor": 0
      },
      "text/plain": [
       "Validation: |          | 0/? [00:00<?, ?it/s]"
      ]
     },
     "metadata": {},
     "output_type": "display_data"
    },
    {
     "data": {
      "application/vnd.jupyter.widget-view+json": {
       "model_id": "725725ea2f1b4a298fe394c33949e586",
       "version_major": 2,
       "version_minor": 0
      },
      "text/plain": [
       "Validation: |          | 0/? [00:00<?, ?it/s]"
      ]
     },
     "metadata": {},
     "output_type": "display_data"
    },
    {
     "data": {
      "application/vnd.jupyter.widget-view+json": {
       "model_id": "0c48acd5467040c89ece83ffe7686ff6",
       "version_major": 2,
       "version_minor": 0
      },
      "text/plain": [
       "Validation: |          | 0/? [00:00<?, ?it/s]"
      ]
     },
     "metadata": {},
     "output_type": "display_data"
    },
    {
     "data": {
      "application/vnd.jupyter.widget-view+json": {
       "model_id": "7cf57ee43fc942518f5bd148098c1e1a",
       "version_major": 2,
       "version_minor": 0
      },
      "text/plain": [
       "Validation: |          | 0/? [00:00<?, ?it/s]"
      ]
     },
     "metadata": {},
     "output_type": "display_data"
    },
    {
     "data": {
      "application/vnd.jupyter.widget-view+json": {
       "model_id": "eb1c5c7fc86a43959dfbcee80aee4986",
       "version_major": 2,
       "version_minor": 0
      },
      "text/plain": [
       "Validation: |          | 0/? [00:00<?, ?it/s]"
      ]
     },
     "metadata": {},
     "output_type": "display_data"
    },
    {
     "data": {
      "application/vnd.jupyter.widget-view+json": {
       "model_id": "da4b2783a7bc4627be8660207876007f",
       "version_major": 2,
       "version_minor": 0
      },
      "text/plain": [
       "Validation: |          | 0/? [00:00<?, ?it/s]"
      ]
     },
     "metadata": {},
     "output_type": "display_data"
    },
    {
     "data": {
      "application/vnd.jupyter.widget-view+json": {
       "model_id": "e450454cf78c4737a72b5911c0aaa0b9",
       "version_major": 2,
       "version_minor": 0
      },
      "text/plain": [
       "Validation: |          | 0/? [00:00<?, ?it/s]"
      ]
     },
     "metadata": {},
     "output_type": "display_data"
    },
    {
     "data": {
      "application/vnd.jupyter.widget-view+json": {
       "model_id": "fbb50c385f7143499e06e67b38984950",
       "version_major": 2,
       "version_minor": 0
      },
      "text/plain": [
       "Validation: |          | 0/? [00:00<?, ?it/s]"
      ]
     },
     "metadata": {},
     "output_type": "display_data"
    },
    {
     "data": {
      "application/vnd.jupyter.widget-view+json": {
       "model_id": "72496cdafb55489585f18643ce0e6b7b",
       "version_major": 2,
       "version_minor": 0
      },
      "text/plain": [
       "Validation: |          | 0/? [00:00<?, ?it/s]"
      ]
     },
     "metadata": {},
     "output_type": "display_data"
    },
    {
     "data": {
      "application/vnd.jupyter.widget-view+json": {
       "model_id": "3e19dd52bfaf4c06a22c58fa495dec08",
       "version_major": 2,
       "version_minor": 0
      },
      "text/plain": [
       "Validation: |          | 0/? [00:00<?, ?it/s]"
      ]
     },
     "metadata": {},
     "output_type": "display_data"
    },
    {
     "data": {
      "application/vnd.jupyter.widget-view+json": {
       "model_id": "1dd7723729bd4498905345ce14c8a75f",
       "version_major": 2,
       "version_minor": 0
      },
      "text/plain": [
       "Validation: |          | 0/? [00:00<?, ?it/s]"
      ]
     },
     "metadata": {},
     "output_type": "display_data"
    },
    {
     "data": {
      "application/vnd.jupyter.widget-view+json": {
       "model_id": "05725f9f356141f9ae9c5f5cb38cd588",
       "version_major": 2,
       "version_minor": 0
      },
      "text/plain": [
       "Validation: |          | 0/? [00:00<?, ?it/s]"
      ]
     },
     "metadata": {},
     "output_type": "display_data"
    },
    {
     "data": {
      "application/vnd.jupyter.widget-view+json": {
       "model_id": "13d54c418e6244249ef7cacdf7b2295d",
       "version_major": 2,
       "version_minor": 0
      },
      "text/plain": [
       "Validation: |          | 0/? [00:00<?, ?it/s]"
      ]
     },
     "metadata": {},
     "output_type": "display_data"
    },
    {
     "data": {
      "application/vnd.jupyter.widget-view+json": {
       "model_id": "84ce1657fd904fccbde06e89839f3357",
       "version_major": 2,
       "version_minor": 0
      },
      "text/plain": [
       "Validation: |          | 0/? [00:00<?, ?it/s]"
      ]
     },
     "metadata": {},
     "output_type": "display_data"
    },
    {
     "data": {
      "application/vnd.jupyter.widget-view+json": {
       "model_id": "3671e836a88e4c41a3947cd83eeb280a",
       "version_major": 2,
       "version_minor": 0
      },
      "text/plain": [
       "Validation: |          | 0/? [00:00<?, ?it/s]"
      ]
     },
     "metadata": {},
     "output_type": "display_data"
    },
    {
     "data": {
      "application/vnd.jupyter.widget-view+json": {
       "model_id": "c040573ee0944fb1ba9a5b68ab6a0f03",
       "version_major": 2,
       "version_minor": 0
      },
      "text/plain": [
       "Validation: |          | 0/? [00:00<?, ?it/s]"
      ]
     },
     "metadata": {},
     "output_type": "display_data"
    },
    {
     "data": {
      "application/vnd.jupyter.widget-view+json": {
       "model_id": "1e2130a30c74414e8d006d61fbb0b0c9",
       "version_major": 2,
       "version_minor": 0
      },
      "text/plain": [
       "Validation: |          | 0/? [00:00<?, ?it/s]"
      ]
     },
     "metadata": {},
     "output_type": "display_data"
    },
    {
     "data": {
      "application/vnd.jupyter.widget-view+json": {
       "model_id": "e5dd9b1875b44231858efc419d038a06",
       "version_major": 2,
       "version_minor": 0
      },
      "text/plain": [
       "Validation: |          | 0/? [00:00<?, ?it/s]"
      ]
     },
     "metadata": {},
     "output_type": "display_data"
    },
    {
     "data": {
      "application/vnd.jupyter.widget-view+json": {
       "model_id": "f9346673a5244e668b58bb2012684a99",
       "version_major": 2,
       "version_minor": 0
      },
      "text/plain": [
       "Validation: |          | 0/? [00:00<?, ?it/s]"
      ]
     },
     "metadata": {},
     "output_type": "display_data"
    },
    {
     "data": {
      "application/vnd.jupyter.widget-view+json": {
       "model_id": "f362403de40e4a1eb2accb6a7a051088",
       "version_major": 2,
       "version_minor": 0
      },
      "text/plain": [
       "Validation: |          | 0/? [00:00<?, ?it/s]"
      ]
     },
     "metadata": {},
     "output_type": "display_data"
    },
    {
     "data": {
      "application/vnd.jupyter.widget-view+json": {
       "model_id": "47682492402746e59474d6e8babf2681",
       "version_major": 2,
       "version_minor": 0
      },
      "text/plain": [
       "Validation: |          | 0/? [00:00<?, ?it/s]"
      ]
     },
     "metadata": {},
     "output_type": "display_data"
    },
    {
     "data": {
      "application/vnd.jupyter.widget-view+json": {
       "model_id": "15e5bc3120cd4a3dac3cb725dea9d1c4",
       "version_major": 2,
       "version_minor": 0
      },
      "text/plain": [
       "Validation: |          | 0/? [00:00<?, ?it/s]"
      ]
     },
     "metadata": {},
     "output_type": "display_data"
    },
    {
     "data": {
      "application/vnd.jupyter.widget-view+json": {
       "model_id": "75591dcba9824a46a4f68e4ce57d43d8",
       "version_major": 2,
       "version_minor": 0
      },
      "text/plain": [
       "Validation: |          | 0/? [00:00<?, ?it/s]"
      ]
     },
     "metadata": {},
     "output_type": "display_data"
    },
    {
     "data": {
      "application/vnd.jupyter.widget-view+json": {
       "model_id": "5739c8bb74734969ad4f5efd026cd0d7",
       "version_major": 2,
       "version_minor": 0
      },
      "text/plain": [
       "Validation: |          | 0/? [00:00<?, ?it/s]"
      ]
     },
     "metadata": {},
     "output_type": "display_data"
    },
    {
     "data": {
      "application/vnd.jupyter.widget-view+json": {
       "model_id": "83932954d9f74e7d913e746e8bf0236d",
       "version_major": 2,
       "version_minor": 0
      },
      "text/plain": [
       "Validation: |          | 0/? [00:00<?, ?it/s]"
      ]
     },
     "metadata": {},
     "output_type": "display_data"
    },
    {
     "data": {
      "application/vnd.jupyter.widget-view+json": {
       "model_id": "1a514e7f4c6a416ba740c3f5693ca6cb",
       "version_major": 2,
       "version_minor": 0
      },
      "text/plain": [
       "Validation: |          | 0/? [00:00<?, ?it/s]"
      ]
     },
     "metadata": {},
     "output_type": "display_data"
    },
    {
     "data": {
      "application/vnd.jupyter.widget-view+json": {
       "model_id": "4b01d38fdd674496bdadce59e1ed779a",
       "version_major": 2,
       "version_minor": 0
      },
      "text/plain": [
       "Validation: |          | 0/? [00:00<?, ?it/s]"
      ]
     },
     "metadata": {},
     "output_type": "display_data"
    },
    {
     "data": {
      "application/vnd.jupyter.widget-view+json": {
       "model_id": "d22152d74c5c4340af1c19a37fba5e47",
       "version_major": 2,
       "version_minor": 0
      },
      "text/plain": [
       "Validation: |          | 0/? [00:00<?, ?it/s]"
      ]
     },
     "metadata": {},
     "output_type": "display_data"
    },
    {
     "data": {
      "application/vnd.jupyter.widget-view+json": {
       "model_id": "87c580d3f9434565b10cdc6d771b2c5a",
       "version_major": 2,
       "version_minor": 0
      },
      "text/plain": [
       "Validation: |          | 0/? [00:00<?, ?it/s]"
      ]
     },
     "metadata": {},
     "output_type": "display_data"
    },
    {
     "data": {
      "application/vnd.jupyter.widget-view+json": {
       "model_id": "5b607063f4674bfabdf041ebe76d75b9",
       "version_major": 2,
       "version_minor": 0
      },
      "text/plain": [
       "Validation: |          | 0/? [00:00<?, ?it/s]"
      ]
     },
     "metadata": {},
     "output_type": "display_data"
    },
    {
     "data": {
      "application/vnd.jupyter.widget-view+json": {
       "model_id": "e38a6a0cda3f4820a7d15aefa4006a4a",
       "version_major": 2,
       "version_minor": 0
      },
      "text/plain": [
       "Validation: |          | 0/? [00:00<?, ?it/s]"
      ]
     },
     "metadata": {},
     "output_type": "display_data"
    },
    {
     "data": {
      "application/vnd.jupyter.widget-view+json": {
       "model_id": "44e7ccbeffa544109dfdc19faedb452b",
       "version_major": 2,
       "version_minor": 0
      },
      "text/plain": [
       "Validation: |          | 0/? [00:00<?, ?it/s]"
      ]
     },
     "metadata": {},
     "output_type": "display_data"
    },
    {
     "data": {
      "application/vnd.jupyter.widget-view+json": {
       "model_id": "40d0ae3468d54fd9835ac3a11229e351",
       "version_major": 2,
       "version_minor": 0
      },
      "text/plain": [
       "Validation: |          | 0/? [00:00<?, ?it/s]"
      ]
     },
     "metadata": {},
     "output_type": "display_data"
    },
    {
     "data": {
      "application/vnd.jupyter.widget-view+json": {
       "model_id": "d0f9c83fcc4645ec8408c2aeeae62d25",
       "version_major": 2,
       "version_minor": 0
      },
      "text/plain": [
       "Validation: |          | 0/? [00:00<?, ?it/s]"
      ]
     },
     "metadata": {},
     "output_type": "display_data"
    },
    {
     "data": {
      "application/vnd.jupyter.widget-view+json": {
       "model_id": "b0aa0041d4944f4795af2013ff931df7",
       "version_major": 2,
       "version_minor": 0
      },
      "text/plain": [
       "Validation: |          | 0/? [00:00<?, ?it/s]"
      ]
     },
     "metadata": {},
     "output_type": "display_data"
    },
    {
     "data": {
      "application/vnd.jupyter.widget-view+json": {
       "model_id": "6372a0209ee4485abe334510ee1a51b4",
       "version_major": 2,
       "version_minor": 0
      },
      "text/plain": [
       "Validation: |          | 0/? [00:00<?, ?it/s]"
      ]
     },
     "metadata": {},
     "output_type": "display_data"
    },
    {
     "data": {
      "application/vnd.jupyter.widget-view+json": {
       "model_id": "24da30ded3914c4bb4988395a00efff8",
       "version_major": 2,
       "version_minor": 0
      },
      "text/plain": [
       "Validation: |          | 0/? [00:00<?, ?it/s]"
      ]
     },
     "metadata": {},
     "output_type": "display_data"
    },
    {
     "data": {
      "application/vnd.jupyter.widget-view+json": {
       "model_id": "b5a642479fb2453794d60f765d679b90",
       "version_major": 2,
       "version_minor": 0
      },
      "text/plain": [
       "Validation: |          | 0/? [00:00<?, ?it/s]"
      ]
     },
     "metadata": {},
     "output_type": "display_data"
    },
    {
     "data": {
      "application/vnd.jupyter.widget-view+json": {
       "model_id": "fd63cede8eeb424ea97e52144ef4e96d",
       "version_major": 2,
       "version_minor": 0
      },
      "text/plain": [
       "Validation: |          | 0/? [00:00<?, ?it/s]"
      ]
     },
     "metadata": {},
     "output_type": "display_data"
    },
    {
     "data": {
      "application/vnd.jupyter.widget-view+json": {
       "model_id": "8ca27bd66bf74d40b62d10777583bf6c",
       "version_major": 2,
       "version_minor": 0
      },
      "text/plain": [
       "Validation: |          | 0/? [00:00<?, ?it/s]"
      ]
     },
     "metadata": {},
     "output_type": "display_data"
    },
    {
     "data": {
      "application/vnd.jupyter.widget-view+json": {
       "model_id": "ce0d5aa3aaf04dbb891e273a7bd23ef6",
       "version_major": 2,
       "version_minor": 0
      },
      "text/plain": [
       "Validation: |          | 0/? [00:00<?, ?it/s]"
      ]
     },
     "metadata": {},
     "output_type": "display_data"
    },
    {
     "data": {
      "application/vnd.jupyter.widget-view+json": {
       "model_id": "551d3f8801cd467cb105e98985d95422",
       "version_major": 2,
       "version_minor": 0
      },
      "text/plain": [
       "Validation: |          | 0/? [00:00<?, ?it/s]"
      ]
     },
     "metadata": {},
     "output_type": "display_data"
    },
    {
     "data": {
      "application/vnd.jupyter.widget-view+json": {
       "model_id": "4a62cc1d9e4645078b274b75f9958718",
       "version_major": 2,
       "version_minor": 0
      },
      "text/plain": [
       "Validation: |          | 0/? [00:00<?, ?it/s]"
      ]
     },
     "metadata": {},
     "output_type": "display_data"
    },
    {
     "data": {
      "application/vnd.jupyter.widget-view+json": {
       "model_id": "c056d7eb080747f296efc23bc0686f37",
       "version_major": 2,
       "version_minor": 0
      },
      "text/plain": [
       "Validation: |          | 0/? [00:00<?, ?it/s]"
      ]
     },
     "metadata": {},
     "output_type": "display_data"
    },
    {
     "data": {
      "application/vnd.jupyter.widget-view+json": {
       "model_id": "b013d89d8f8148f8a6dddda369ecb275",
       "version_major": 2,
       "version_minor": 0
      },
      "text/plain": [
       "Validation: |          | 0/? [00:00<?, ?it/s]"
      ]
     },
     "metadata": {},
     "output_type": "display_data"
    },
    {
     "data": {
      "application/vnd.jupyter.widget-view+json": {
       "model_id": "9cd0e3a0b10b4fc591380a02e9a3cdd8",
       "version_major": 2,
       "version_minor": 0
      },
      "text/plain": [
       "Validation: |          | 0/? [00:00<?, ?it/s]"
      ]
     },
     "metadata": {},
     "output_type": "display_data"
    },
    {
     "data": {
      "application/vnd.jupyter.widget-view+json": {
       "model_id": "c5cfcec1880f4a1cb9a526fb8e4e0387",
       "version_major": 2,
       "version_minor": 0
      },
      "text/plain": [
       "Validation: |          | 0/? [00:00<?, ?it/s]"
      ]
     },
     "metadata": {},
     "output_type": "display_data"
    },
    {
     "data": {
      "application/vnd.jupyter.widget-view+json": {
       "model_id": "81925465c4484fce9955682326fdef51",
       "version_major": 2,
       "version_minor": 0
      },
      "text/plain": [
       "Validation: |          | 0/? [00:00<?, ?it/s]"
      ]
     },
     "metadata": {},
     "output_type": "display_data"
    },
    {
     "data": {
      "application/vnd.jupyter.widget-view+json": {
       "model_id": "8428283c318c4fcf992974f1684119c0",
       "version_major": 2,
       "version_minor": 0
      },
      "text/plain": [
       "Validation: |          | 0/? [00:00<?, ?it/s]"
      ]
     },
     "metadata": {},
     "output_type": "display_data"
    },
    {
     "data": {
      "application/vnd.jupyter.widget-view+json": {
       "model_id": "f8143aa9b0eb48e6ad12a6ae4691ed93",
       "version_major": 2,
       "version_minor": 0
      },
      "text/plain": [
       "Validation: |          | 0/? [00:00<?, ?it/s]"
      ]
     },
     "metadata": {},
     "output_type": "display_data"
    },
    {
     "data": {
      "application/vnd.jupyter.widget-view+json": {
       "model_id": "3710dc7469ae4e1f8470dee46a227ae7",
       "version_major": 2,
       "version_minor": 0
      },
      "text/plain": [
       "Validation: |          | 0/? [00:00<?, ?it/s]"
      ]
     },
     "metadata": {},
     "output_type": "display_data"
    },
    {
     "data": {
      "application/vnd.jupyter.widget-view+json": {
       "model_id": "645c751a050f469c9d5039fa536f489e",
       "version_major": 2,
       "version_minor": 0
      },
      "text/plain": [
       "Validation: |          | 0/? [00:00<?, ?it/s]"
      ]
     },
     "metadata": {},
     "output_type": "display_data"
    },
    {
     "data": {
      "application/vnd.jupyter.widget-view+json": {
       "model_id": "289bbc4677a0447aa782904a1ffe1ebd",
       "version_major": 2,
       "version_minor": 0
      },
      "text/plain": [
       "Validation: |          | 0/? [00:00<?, ?it/s]"
      ]
     },
     "metadata": {},
     "output_type": "display_data"
    },
    {
     "data": {
      "application/vnd.jupyter.widget-view+json": {
       "model_id": "6ad52c304f8d498dab2a8ed7cc67d7fc",
       "version_major": 2,
       "version_minor": 0
      },
      "text/plain": [
       "Validation: |          | 0/? [00:00<?, ?it/s]"
      ]
     },
     "metadata": {},
     "output_type": "display_data"
    },
    {
     "data": {
      "application/vnd.jupyter.widget-view+json": {
       "model_id": "8d115db950aa4c1e8d9ac2f5d44f077e",
       "version_major": 2,
       "version_minor": 0
      },
      "text/plain": [
       "Validation: |          | 0/? [00:00<?, ?it/s]"
      ]
     },
     "metadata": {},
     "output_type": "display_data"
    },
    {
     "data": {
      "application/vnd.jupyter.widget-view+json": {
       "model_id": "dd3bf974267a4cbca56654444a639ae8",
       "version_major": 2,
       "version_minor": 0
      },
      "text/plain": [
       "Validation: |          | 0/? [00:00<?, ?it/s]"
      ]
     },
     "metadata": {},
     "output_type": "display_data"
    },
    {
     "data": {
      "application/vnd.jupyter.widget-view+json": {
       "model_id": "42b0ec8bfa284a32a2225b3aa4615b53",
       "version_major": 2,
       "version_minor": 0
      },
      "text/plain": [
       "Validation: |          | 0/? [00:00<?, ?it/s]"
      ]
     },
     "metadata": {},
     "output_type": "display_data"
    },
    {
     "data": {
      "application/vnd.jupyter.widget-view+json": {
       "model_id": "b3f15f74663c49ea856a8712ce9efac9",
       "version_major": 2,
       "version_minor": 0
      },
      "text/plain": [
       "Validation: |          | 0/? [00:00<?, ?it/s]"
      ]
     },
     "metadata": {},
     "output_type": "display_data"
    },
    {
     "data": {
      "application/vnd.jupyter.widget-view+json": {
       "model_id": "b25970ee53184de396152769b5e14925",
       "version_major": 2,
       "version_minor": 0
      },
      "text/plain": [
       "Validation: |          | 0/? [00:00<?, ?it/s]"
      ]
     },
     "metadata": {},
     "output_type": "display_data"
    },
    {
     "data": {
      "application/vnd.jupyter.widget-view+json": {
       "model_id": "3ccb2d91dfb94325b34a3709189a4c38",
       "version_major": 2,
       "version_minor": 0
      },
      "text/plain": [
       "Validation: |          | 0/? [00:00<?, ?it/s]"
      ]
     },
     "metadata": {},
     "output_type": "display_data"
    },
    {
     "data": {
      "application/vnd.jupyter.widget-view+json": {
       "model_id": "6e7bbc9249864553b9175a692cae2ba2",
       "version_major": 2,
       "version_minor": 0
      },
      "text/plain": [
       "Validation: |          | 0/? [00:00<?, ?it/s]"
      ]
     },
     "metadata": {},
     "output_type": "display_data"
    },
    {
     "data": {
      "application/vnd.jupyter.widget-view+json": {
       "model_id": "bdebb4f7e8354c90a494b6b9c41f44be",
       "version_major": 2,
       "version_minor": 0
      },
      "text/plain": [
       "Validation: |          | 0/? [00:00<?, ?it/s]"
      ]
     },
     "metadata": {},
     "output_type": "display_data"
    },
    {
     "data": {
      "application/vnd.jupyter.widget-view+json": {
       "model_id": "a64df55b41a44cc6ab8958eec1834a1e",
       "version_major": 2,
       "version_minor": 0
      },
      "text/plain": [
       "Validation: |          | 0/? [00:00<?, ?it/s]"
      ]
     },
     "metadata": {},
     "output_type": "display_data"
    },
    {
     "data": {
      "application/vnd.jupyter.widget-view+json": {
       "model_id": "9b9140085ee3415495e668e282e2b6cd",
       "version_major": 2,
       "version_minor": 0
      },
      "text/plain": [
       "Validation: |          | 0/? [00:00<?, ?it/s]"
      ]
     },
     "metadata": {},
     "output_type": "display_data"
    },
    {
     "data": {
      "application/vnd.jupyter.widget-view+json": {
       "model_id": "40a8787a199447fda8e7fa770b76109c",
       "version_major": 2,
       "version_minor": 0
      },
      "text/plain": [
       "Validation: |          | 0/? [00:00<?, ?it/s]"
      ]
     },
     "metadata": {},
     "output_type": "display_data"
    },
    {
     "data": {
      "application/vnd.jupyter.widget-view+json": {
       "model_id": "fb69cae1ca7c48869ab2b37c9d932f00",
       "version_major": 2,
       "version_minor": 0
      },
      "text/plain": [
       "Validation: |          | 0/? [00:00<?, ?it/s]"
      ]
     },
     "metadata": {},
     "output_type": "display_data"
    },
    {
     "data": {
      "application/vnd.jupyter.widget-view+json": {
       "model_id": "0782128d830d41ff87baa9b12ddfb6c0",
       "version_major": 2,
       "version_minor": 0
      },
      "text/plain": [
       "Validation: |          | 0/? [00:00<?, ?it/s]"
      ]
     },
     "metadata": {},
     "output_type": "display_data"
    },
    {
     "data": {
      "application/vnd.jupyter.widget-view+json": {
       "model_id": "85cd07c4b9824fde83e3612eef40e812",
       "version_major": 2,
       "version_minor": 0
      },
      "text/plain": [
       "Validation: |          | 0/? [00:00<?, ?it/s]"
      ]
     },
     "metadata": {},
     "output_type": "display_data"
    },
    {
     "data": {
      "application/vnd.jupyter.widget-view+json": {
       "model_id": "f0efbb250e734ca7a0485e8f51cf70ea",
       "version_major": 2,
       "version_minor": 0
      },
      "text/plain": [
       "Validation: |          | 0/? [00:00<?, ?it/s]"
      ]
     },
     "metadata": {},
     "output_type": "display_data"
    },
    {
     "data": {
      "application/vnd.jupyter.widget-view+json": {
       "model_id": "6e5e659ab8d24cacb7bcd61a4e90890e",
       "version_major": 2,
       "version_minor": 0
      },
      "text/plain": [
       "Validation: |          | 0/? [00:00<?, ?it/s]"
      ]
     },
     "metadata": {},
     "output_type": "display_data"
    },
    {
     "data": {
      "application/vnd.jupyter.widget-view+json": {
       "model_id": "9c751823cdc346409bcb5bf5dea3fb0b",
       "version_major": 2,
       "version_minor": 0
      },
      "text/plain": [
       "Validation: |          | 0/? [00:00<?, ?it/s]"
      ]
     },
     "metadata": {},
     "output_type": "display_data"
    },
    {
     "data": {
      "application/vnd.jupyter.widget-view+json": {
       "model_id": "1790597125e7432fbd254621e6076efd",
       "version_major": 2,
       "version_minor": 0
      },
      "text/plain": [
       "Validation: |          | 0/? [00:00<?, ?it/s]"
      ]
     },
     "metadata": {},
     "output_type": "display_data"
    },
    {
     "data": {
      "application/vnd.jupyter.widget-view+json": {
       "model_id": "e7ad2802fbde48149879568b7e9e27ae",
       "version_major": 2,
       "version_minor": 0
      },
      "text/plain": [
       "Validation: |          | 0/? [00:00<?, ?it/s]"
      ]
     },
     "metadata": {},
     "output_type": "display_data"
    },
    {
     "data": {
      "application/vnd.jupyter.widget-view+json": {
       "model_id": "fdf993d4cf234220b1e9932edd39ae03",
       "version_major": 2,
       "version_minor": 0
      },
      "text/plain": [
       "Validation: |          | 0/? [00:00<?, ?it/s]"
      ]
     },
     "metadata": {},
     "output_type": "display_data"
    },
    {
     "data": {
      "application/vnd.jupyter.widget-view+json": {
       "model_id": "674d953f855b4addb540559f676e9223",
       "version_major": 2,
       "version_minor": 0
      },
      "text/plain": [
       "Validation: |          | 0/? [00:00<?, ?it/s]"
      ]
     },
     "metadata": {},
     "output_type": "display_data"
    },
    {
     "data": {
      "application/vnd.jupyter.widget-view+json": {
       "model_id": "96e1890eacc64098adc9c46a253e4e0b",
       "version_major": 2,
       "version_minor": 0
      },
      "text/plain": [
       "Validation: |          | 0/? [00:00<?, ?it/s]"
      ]
     },
     "metadata": {},
     "output_type": "display_data"
    },
    {
     "data": {
      "application/vnd.jupyter.widget-view+json": {
       "model_id": "b15e83537010488bac946969c9a6c472",
       "version_major": 2,
       "version_minor": 0
      },
      "text/plain": [
       "Validation: |          | 0/? [00:00<?, ?it/s]"
      ]
     },
     "metadata": {},
     "output_type": "display_data"
    },
    {
     "data": {
      "application/vnd.jupyter.widget-view+json": {
       "model_id": "954b0e44e17e443691a76b8af867e03e",
       "version_major": 2,
       "version_minor": 0
      },
      "text/plain": [
       "Validation: |          | 0/? [00:00<?, ?it/s]"
      ]
     },
     "metadata": {},
     "output_type": "display_data"
    },
    {
     "data": {
      "application/vnd.jupyter.widget-view+json": {
       "model_id": "8211404cb9df4e49a301ab225c500c3f",
       "version_major": 2,
       "version_minor": 0
      },
      "text/plain": [
       "Validation: |          | 0/? [00:00<?, ?it/s]"
      ]
     },
     "metadata": {},
     "output_type": "display_data"
    },
    {
     "data": {
      "application/vnd.jupyter.widget-view+json": {
       "model_id": "e0a530dd913f42abace9e7f3011f76f3",
       "version_major": 2,
       "version_minor": 0
      },
      "text/plain": [
       "Validation: |          | 0/? [00:00<?, ?it/s]"
      ]
     },
     "metadata": {},
     "output_type": "display_data"
    },
    {
     "data": {
      "application/vnd.jupyter.widget-view+json": {
       "model_id": "984eba18922d4f4abf185cb947628307",
       "version_major": 2,
       "version_minor": 0
      },
      "text/plain": [
       "Validation: |          | 0/? [00:00<?, ?it/s]"
      ]
     },
     "metadata": {},
     "output_type": "display_data"
    },
    {
     "data": {
      "application/vnd.jupyter.widget-view+json": {
       "model_id": "8de7bf63557f476f965bd8288479d7ba",
       "version_major": 2,
       "version_minor": 0
      },
      "text/plain": [
       "Validation: |          | 0/? [00:00<?, ?it/s]"
      ]
     },
     "metadata": {},
     "output_type": "display_data"
    },
    {
     "data": {
      "application/vnd.jupyter.widget-view+json": {
       "model_id": "ccd9c93a14d04b58bdaaa2c10591bc81",
       "version_major": 2,
       "version_minor": 0
      },
      "text/plain": [
       "Validation: |          | 0/? [00:00<?, ?it/s]"
      ]
     },
     "metadata": {},
     "output_type": "display_data"
    },
    {
     "data": {
      "application/vnd.jupyter.widget-view+json": {
       "model_id": "375b9887aafd4bf4946b56c09466b92a",
       "version_major": 2,
       "version_minor": 0
      },
      "text/plain": [
       "Validation: |          | 0/? [00:00<?, ?it/s]"
      ]
     },
     "metadata": {},
     "output_type": "display_data"
    },
    {
     "data": {
      "application/vnd.jupyter.widget-view+json": {
       "model_id": "b1e89bdf144745ab9f2467b86082c8b5",
       "version_major": 2,
       "version_minor": 0
      },
      "text/plain": [
       "Validation: |          | 0/? [00:00<?, ?it/s]"
      ]
     },
     "metadata": {},
     "output_type": "display_data"
    },
    {
     "data": {
      "application/vnd.jupyter.widget-view+json": {
       "model_id": "30d475d993a34e27a1cdc9647944316d",
       "version_major": 2,
       "version_minor": 0
      },
      "text/plain": [
       "Validation: |          | 0/? [00:00<?, ?it/s]"
      ]
     },
     "metadata": {},
     "output_type": "display_data"
    },
    {
     "data": {
      "application/vnd.jupyter.widget-view+json": {
       "model_id": "0d7bd66b9bd14b90923ba02a0c7d70b0",
       "version_major": 2,
       "version_minor": 0
      },
      "text/plain": [
       "Validation: |          | 0/? [00:00<?, ?it/s]"
      ]
     },
     "metadata": {},
     "output_type": "display_data"
    },
    {
     "data": {
      "application/vnd.jupyter.widget-view+json": {
       "model_id": "6f077a526b9a4c6684f005ecb7409edb",
       "version_major": 2,
       "version_minor": 0
      },
      "text/plain": [
       "Validation: |          | 0/? [00:00<?, ?it/s]"
      ]
     },
     "metadata": {},
     "output_type": "display_data"
    },
    {
     "data": {
      "application/vnd.jupyter.widget-view+json": {
       "model_id": "d534c55469e04459acf39e7c906de701",
       "version_major": 2,
       "version_minor": 0
      },
      "text/plain": [
       "Validation: |          | 0/? [00:00<?, ?it/s]"
      ]
     },
     "metadata": {},
     "output_type": "display_data"
    },
    {
     "data": {
      "application/vnd.jupyter.widget-view+json": {
       "model_id": "3fe6e57e43a94b3e93f608b979fcefb3",
       "version_major": 2,
       "version_minor": 0
      },
      "text/plain": [
       "Validation: |          | 0/? [00:00<?, ?it/s]"
      ]
     },
     "metadata": {},
     "output_type": "display_data"
    },
    {
     "data": {
      "application/vnd.jupyter.widget-view+json": {
       "model_id": "a8650fbf6fed405188de8db2344382c0",
       "version_major": 2,
       "version_minor": 0
      },
      "text/plain": [
       "Validation: |          | 0/? [00:00<?, ?it/s]"
      ]
     },
     "metadata": {},
     "output_type": "display_data"
    },
    {
     "data": {
      "application/vnd.jupyter.widget-view+json": {
       "model_id": "ee41bac0e09b4d5a8ca948a3fa971dd2",
       "version_major": 2,
       "version_minor": 0
      },
      "text/plain": [
       "Validation: |          | 0/? [00:00<?, ?it/s]"
      ]
     },
     "metadata": {},
     "output_type": "display_data"
    },
    {
     "data": {
      "application/vnd.jupyter.widget-view+json": {
       "model_id": "9fc361ada7b74906a0090e7fcb6c86c6",
       "version_major": 2,
       "version_minor": 0
      },
      "text/plain": [
       "Validation: |          | 0/? [00:00<?, ?it/s]"
      ]
     },
     "metadata": {},
     "output_type": "display_data"
    },
    {
     "data": {
      "application/vnd.jupyter.widget-view+json": {
       "model_id": "25286ba579c14c2cb47cda2937edddba",
       "version_major": 2,
       "version_minor": 0
      },
      "text/plain": [
       "Validation: |          | 0/? [00:00<?, ?it/s]"
      ]
     },
     "metadata": {},
     "output_type": "display_data"
    },
    {
     "data": {
      "application/vnd.jupyter.widget-view+json": {
       "model_id": "8db3e5aff82045c8a32c155e3124a67d",
       "version_major": 2,
       "version_minor": 0
      },
      "text/plain": [
       "Validation: |          | 0/? [00:00<?, ?it/s]"
      ]
     },
     "metadata": {},
     "output_type": "display_data"
    },
    {
     "data": {
      "application/vnd.jupyter.widget-view+json": {
       "model_id": "d644a6387ae44cdc9683372e22064714",
       "version_major": 2,
       "version_minor": 0
      },
      "text/plain": [
       "Validation: |          | 0/? [00:00<?, ?it/s]"
      ]
     },
     "metadata": {},
     "output_type": "display_data"
    },
    {
     "data": {
      "application/vnd.jupyter.widget-view+json": {
       "model_id": "f3cd4cb8809a4dacbbb42efbdb7d938a",
       "version_major": 2,
       "version_minor": 0
      },
      "text/plain": [
       "Validation: |          | 0/? [00:00<?, ?it/s]"
      ]
     },
     "metadata": {},
     "output_type": "display_data"
    },
    {
     "data": {
      "application/vnd.jupyter.widget-view+json": {
       "model_id": "72220ebad352473799cb30b82f0e0f34",
       "version_major": 2,
       "version_minor": 0
      },
      "text/plain": [
       "Validation: |          | 0/? [00:00<?, ?it/s]"
      ]
     },
     "metadata": {},
     "output_type": "display_data"
    },
    {
     "data": {
      "application/vnd.jupyter.widget-view+json": {
       "model_id": "f284ecbece0c496da12c583f2d37a830",
       "version_major": 2,
       "version_minor": 0
      },
      "text/plain": [
       "Validation: |          | 0/? [00:00<?, ?it/s]"
      ]
     },
     "metadata": {},
     "output_type": "display_data"
    },
    {
     "data": {
      "application/vnd.jupyter.widget-view+json": {
       "model_id": "01739d5d29e345f68193293c3637be9e",
       "version_major": 2,
       "version_minor": 0
      },
      "text/plain": [
       "Validation: |          | 0/? [00:00<?, ?it/s]"
      ]
     },
     "metadata": {},
     "output_type": "display_data"
    },
    {
     "data": {
      "application/vnd.jupyter.widget-view+json": {
       "model_id": "6a1edf57bd6046498956af551870d3ad",
       "version_major": 2,
       "version_minor": 0
      },
      "text/plain": [
       "Validation: |          | 0/? [00:00<?, ?it/s]"
      ]
     },
     "metadata": {},
     "output_type": "display_data"
    },
    {
     "data": {
      "application/vnd.jupyter.widget-view+json": {
       "model_id": "665670ce2680434ca1146a6c09c6b81a",
       "version_major": 2,
       "version_minor": 0
      },
      "text/plain": [
       "Validation: |          | 0/? [00:00<?, ?it/s]"
      ]
     },
     "metadata": {},
     "output_type": "display_data"
    },
    {
     "data": {
      "application/vnd.jupyter.widget-view+json": {
       "model_id": "0db14a56883c4934a2018f6a88572a90",
       "version_major": 2,
       "version_minor": 0
      },
      "text/plain": [
       "Validation: |          | 0/? [00:00<?, ?it/s]"
      ]
     },
     "metadata": {},
     "output_type": "display_data"
    },
    {
     "data": {
      "application/vnd.jupyter.widget-view+json": {
       "model_id": "aa60cc3952564ea482e76092f6908d7a",
       "version_major": 2,
       "version_minor": 0
      },
      "text/plain": [
       "Validation: |          | 0/? [00:00<?, ?it/s]"
      ]
     },
     "metadata": {},
     "output_type": "display_data"
    },
    {
     "data": {
      "application/vnd.jupyter.widget-view+json": {
       "model_id": "f7b42e7e96114639acea14ad8529edf9",
       "version_major": 2,
       "version_minor": 0
      },
      "text/plain": [
       "Validation: |          | 0/? [00:00<?, ?it/s]"
      ]
     },
     "metadata": {},
     "output_type": "display_data"
    },
    {
     "data": {
      "application/vnd.jupyter.widget-view+json": {
       "model_id": "2dd1f05342d1460ea6afbb8e1c976eb0",
       "version_major": 2,
       "version_minor": 0
      },
      "text/plain": [
       "Validation: |          | 0/? [00:00<?, ?it/s]"
      ]
     },
     "metadata": {},
     "output_type": "display_data"
    },
    {
     "data": {
      "application/vnd.jupyter.widget-view+json": {
       "model_id": "c75aa5ce3d2243d4aa0c59ee11bb954f",
       "version_major": 2,
       "version_minor": 0
      },
      "text/plain": [
       "Validation: |          | 0/? [00:00<?, ?it/s]"
      ]
     },
     "metadata": {},
     "output_type": "display_data"
    },
    {
     "data": {
      "application/vnd.jupyter.widget-view+json": {
       "model_id": "74f022e55ab14adeb683101e0bca4631",
       "version_major": 2,
       "version_minor": 0
      },
      "text/plain": [
       "Validation: |          | 0/? [00:00<?, ?it/s]"
      ]
     },
     "metadata": {},
     "output_type": "display_data"
    },
    {
     "data": {
      "application/vnd.jupyter.widget-view+json": {
       "model_id": "a792c38206b04e3298470323897ddb8e",
       "version_major": 2,
       "version_minor": 0
      },
      "text/plain": [
       "Validation: |          | 0/? [00:00<?, ?it/s]"
      ]
     },
     "metadata": {},
     "output_type": "display_data"
    },
    {
     "data": {
      "application/vnd.jupyter.widget-view+json": {
       "model_id": "985039ae3a1c4f929e6f10e060eaa6d8",
       "version_major": 2,
       "version_minor": 0
      },
      "text/plain": [
       "Validation: |          | 0/? [00:00<?, ?it/s]"
      ]
     },
     "metadata": {},
     "output_type": "display_data"
    },
    {
     "data": {
      "application/vnd.jupyter.widget-view+json": {
       "model_id": "539f5e2016d347db853d6a6eb2946cdc",
       "version_major": 2,
       "version_minor": 0
      },
      "text/plain": [
       "Validation: |          | 0/? [00:00<?, ?it/s]"
      ]
     },
     "metadata": {},
     "output_type": "display_data"
    },
    {
     "data": {
      "application/vnd.jupyter.widget-view+json": {
       "model_id": "cd2847b7d49a48878b18ec8b0af85ffe",
       "version_major": 2,
       "version_minor": 0
      },
      "text/plain": [
       "Validation: |          | 0/? [00:00<?, ?it/s]"
      ]
     },
     "metadata": {},
     "output_type": "display_data"
    },
    {
     "data": {
      "application/vnd.jupyter.widget-view+json": {
       "model_id": "13162da43b1b49d8ad494345607f54ea",
       "version_major": 2,
       "version_minor": 0
      },
      "text/plain": [
       "Validation: |          | 0/? [00:00<?, ?it/s]"
      ]
     },
     "metadata": {},
     "output_type": "display_data"
    },
    {
     "data": {
      "application/vnd.jupyter.widget-view+json": {
       "model_id": "0c4bfde6442041cdb2955d2947a6591c",
       "version_major": 2,
       "version_minor": 0
      },
      "text/plain": [
       "Validation: |          | 0/? [00:00<?, ?it/s]"
      ]
     },
     "metadata": {},
     "output_type": "display_data"
    },
    {
     "data": {
      "application/vnd.jupyter.widget-view+json": {
       "model_id": "722f75e018fb482da5b48722bc0e9acd",
       "version_major": 2,
       "version_minor": 0
      },
      "text/plain": [
       "Validation: |          | 0/? [00:00<?, ?it/s]"
      ]
     },
     "metadata": {},
     "output_type": "display_data"
    },
    {
     "data": {
      "application/vnd.jupyter.widget-view+json": {
       "model_id": "590b7e6cf702481599c6d76e08132ed9",
       "version_major": 2,
       "version_minor": 0
      },
      "text/plain": [
       "Validation: |          | 0/? [00:00<?, ?it/s]"
      ]
     },
     "metadata": {},
     "output_type": "display_data"
    },
    {
     "data": {
      "application/vnd.jupyter.widget-view+json": {
       "model_id": "3a96e777bb6d43ef9169bbbcf50feff5",
       "version_major": 2,
       "version_minor": 0
      },
      "text/plain": [
       "Validation: |          | 0/? [00:00<?, ?it/s]"
      ]
     },
     "metadata": {},
     "output_type": "display_data"
    },
    {
     "data": {
      "application/vnd.jupyter.widget-view+json": {
       "model_id": "101719768921484f90eb2e56a7026fe0",
       "version_major": 2,
       "version_minor": 0
      },
      "text/plain": [
       "Validation: |          | 0/? [00:00<?, ?it/s]"
      ]
     },
     "metadata": {},
     "output_type": "display_data"
    },
    {
     "data": {
      "application/vnd.jupyter.widget-view+json": {
       "model_id": "10bf876217c946c18a0c35eace11d685",
       "version_major": 2,
       "version_minor": 0
      },
      "text/plain": [
       "Validation: |          | 0/? [00:00<?, ?it/s]"
      ]
     },
     "metadata": {},
     "output_type": "display_data"
    },
    {
     "data": {
      "application/vnd.jupyter.widget-view+json": {
       "model_id": "af9f3f9af73a42d2af321ec5bac253b1",
       "version_major": 2,
       "version_minor": 0
      },
      "text/plain": [
       "Validation: |          | 0/? [00:00<?, ?it/s]"
      ]
     },
     "metadata": {},
     "output_type": "display_data"
    },
    {
     "data": {
      "application/vnd.jupyter.widget-view+json": {
       "model_id": "909089ed40e241f5849d1a34d5dd2f6c",
       "version_major": 2,
       "version_minor": 0
      },
      "text/plain": [
       "Validation: |          | 0/? [00:00<?, ?it/s]"
      ]
     },
     "metadata": {},
     "output_type": "display_data"
    },
    {
     "data": {
      "application/vnd.jupyter.widget-view+json": {
       "model_id": "95c865c32e424d15b385e9b216a5aa3d",
       "version_major": 2,
       "version_minor": 0
      },
      "text/plain": [
       "Validation: |          | 0/? [00:00<?, ?it/s]"
      ]
     },
     "metadata": {},
     "output_type": "display_data"
    },
    {
     "data": {
      "application/vnd.jupyter.widget-view+json": {
       "model_id": "3e179f0b730e4d7db21fcf6a87913b0c",
       "version_major": 2,
       "version_minor": 0
      },
      "text/plain": [
       "Validation: |          | 0/? [00:00<?, ?it/s]"
      ]
     },
     "metadata": {},
     "output_type": "display_data"
    },
    {
     "data": {
      "application/vnd.jupyter.widget-view+json": {
       "model_id": "fc76ca4b315340fc9b6cbaea5bd870a7",
       "version_major": 2,
       "version_minor": 0
      },
      "text/plain": [
       "Validation: |          | 0/? [00:00<?, ?it/s]"
      ]
     },
     "metadata": {},
     "output_type": "display_data"
    },
    {
     "data": {
      "application/vnd.jupyter.widget-view+json": {
       "model_id": "89096bdb3f0a48d0a316a0b97a586381",
       "version_major": 2,
       "version_minor": 0
      },
      "text/plain": [
       "Validation: |          | 0/? [00:00<?, ?it/s]"
      ]
     },
     "metadata": {},
     "output_type": "display_data"
    },
    {
     "data": {
      "application/vnd.jupyter.widget-view+json": {
       "model_id": "862366bd3dad4bb098121e0504e3427c",
       "version_major": 2,
       "version_minor": 0
      },
      "text/plain": [
       "Validation: |          | 0/? [00:00<?, ?it/s]"
      ]
     },
     "metadata": {},
     "output_type": "display_data"
    },
    {
     "data": {
      "application/vnd.jupyter.widget-view+json": {
       "model_id": "9db18e56894f49f89e454c70af5a4bac",
       "version_major": 2,
       "version_minor": 0
      },
      "text/plain": [
       "Validation: |          | 0/? [00:00<?, ?it/s]"
      ]
     },
     "metadata": {},
     "output_type": "display_data"
    },
    {
     "data": {
      "application/vnd.jupyter.widget-view+json": {
       "model_id": "e52c8f0fadc64df2b4199e40f9ca58c7",
       "version_major": 2,
       "version_minor": 0
      },
      "text/plain": [
       "Validation: |          | 0/? [00:00<?, ?it/s]"
      ]
     },
     "metadata": {},
     "output_type": "display_data"
    },
    {
     "data": {
      "application/vnd.jupyter.widget-view+json": {
       "model_id": "fc5ab85085a447e79ec45cf775575e57",
       "version_major": 2,
       "version_minor": 0
      },
      "text/plain": [
       "Validation: |          | 0/? [00:00<?, ?it/s]"
      ]
     },
     "metadata": {},
     "output_type": "display_data"
    },
    {
     "data": {
      "application/vnd.jupyter.widget-view+json": {
       "model_id": "511c19c18a644f8ab859d30a79414f38",
       "version_major": 2,
       "version_minor": 0
      },
      "text/plain": [
       "Validation: |          | 0/? [00:00<?, ?it/s]"
      ]
     },
     "metadata": {},
     "output_type": "display_data"
    },
    {
     "data": {
      "application/vnd.jupyter.widget-view+json": {
       "model_id": "39b5fb46bff04a7a93778b96ec1be3ce",
       "version_major": 2,
       "version_minor": 0
      },
      "text/plain": [
       "Validation: |          | 0/? [00:00<?, ?it/s]"
      ]
     },
     "metadata": {},
     "output_type": "display_data"
    },
    {
     "data": {
      "application/vnd.jupyter.widget-view+json": {
       "model_id": "06dafdccf2254c2b80932897f7be2ffe",
       "version_major": 2,
       "version_minor": 0
      },
      "text/plain": [
       "Validation: |          | 0/? [00:00<?, ?it/s]"
      ]
     },
     "metadata": {},
     "output_type": "display_data"
    },
    {
     "data": {
      "application/vnd.jupyter.widget-view+json": {
       "model_id": "d3fef90a988d4d23b46eb94be1e5c22e",
       "version_major": 2,
       "version_minor": 0
      },
      "text/plain": [
       "Validation: |          | 0/? [00:00<?, ?it/s]"
      ]
     },
     "metadata": {},
     "output_type": "display_data"
    },
    {
     "data": {
      "application/vnd.jupyter.widget-view+json": {
       "model_id": "7e31498bc26e4c069fe30e4079f68ba8",
       "version_major": 2,
       "version_minor": 0
      },
      "text/plain": [
       "Validation: |          | 0/? [00:00<?, ?it/s]"
      ]
     },
     "metadata": {},
     "output_type": "display_data"
    },
    {
     "data": {
      "application/vnd.jupyter.widget-view+json": {
       "model_id": "2952342ee6d645d9bc74b73a52737edf",
       "version_major": 2,
       "version_minor": 0
      },
      "text/plain": [
       "Validation: |          | 0/? [00:00<?, ?it/s]"
      ]
     },
     "metadata": {},
     "output_type": "display_data"
    },
    {
     "data": {
      "application/vnd.jupyter.widget-view+json": {
       "model_id": "f9d7c72c41ea41c7948e83fa51c996ba",
       "version_major": 2,
       "version_minor": 0
      },
      "text/plain": [
       "Validation: |          | 0/? [00:00<?, ?it/s]"
      ]
     },
     "metadata": {},
     "output_type": "display_data"
    },
    {
     "data": {
      "application/vnd.jupyter.widget-view+json": {
       "model_id": "6d403aa8f80f4a9289786d34d9e90b34",
       "version_major": 2,
       "version_minor": 0
      },
      "text/plain": [
       "Validation: |          | 0/? [00:00<?, ?it/s]"
      ]
     },
     "metadata": {},
     "output_type": "display_data"
    },
    {
     "data": {
      "application/vnd.jupyter.widget-view+json": {
       "model_id": "f6144c95f5fa4711a86582e1ebd884fa",
       "version_major": 2,
       "version_minor": 0
      },
      "text/plain": [
       "Validation: |          | 0/? [00:00<?, ?it/s]"
      ]
     },
     "metadata": {},
     "output_type": "display_data"
    },
    {
     "data": {
      "application/vnd.jupyter.widget-view+json": {
       "model_id": "541a28f4fa6742bcafb66eecb800ebfa",
       "version_major": 2,
       "version_minor": 0
      },
      "text/plain": [
       "Validation: |          | 0/? [00:00<?, ?it/s]"
      ]
     },
     "metadata": {},
     "output_type": "display_data"
    },
    {
     "data": {
      "application/vnd.jupyter.widget-view+json": {
       "model_id": "3499892c56324f51bf995f59dff4db54",
       "version_major": 2,
       "version_minor": 0
      },
      "text/plain": [
       "Validation: |          | 0/? [00:00<?, ?it/s]"
      ]
     },
     "metadata": {},
     "output_type": "display_data"
    },
    {
     "data": {
      "application/vnd.jupyter.widget-view+json": {
       "model_id": "bc7c6ebd59af49cfae348f97f2278171",
       "version_major": 2,
       "version_minor": 0
      },
      "text/plain": [
       "Validation: |          | 0/? [00:00<?, ?it/s]"
      ]
     },
     "metadata": {},
     "output_type": "display_data"
    },
    {
     "data": {
      "application/vnd.jupyter.widget-view+json": {
       "model_id": "06405f10d2fb45be9d72765141fedad5",
       "version_major": 2,
       "version_minor": 0
      },
      "text/plain": [
       "Validation: |          | 0/? [00:00<?, ?it/s]"
      ]
     },
     "metadata": {},
     "output_type": "display_data"
    },
    {
     "data": {
      "application/vnd.jupyter.widget-view+json": {
       "model_id": "704594d3b71b4e24892a06c1cdca409d",
       "version_major": 2,
       "version_minor": 0
      },
      "text/plain": [
       "Validation: |          | 0/? [00:00<?, ?it/s]"
      ]
     },
     "metadata": {},
     "output_type": "display_data"
    },
    {
     "data": {
      "application/vnd.jupyter.widget-view+json": {
       "model_id": "e8b990a76bb0408bb5469953d17e4826",
       "version_major": 2,
       "version_minor": 0
      },
      "text/plain": [
       "Validation: |          | 0/? [00:00<?, ?it/s]"
      ]
     },
     "metadata": {},
     "output_type": "display_data"
    },
    {
     "data": {
      "application/vnd.jupyter.widget-view+json": {
       "model_id": "ae151ff509664e158e76e1796dd90ae6",
       "version_major": 2,
       "version_minor": 0
      },
      "text/plain": [
       "Validation: |          | 0/? [00:00<?, ?it/s]"
      ]
     },
     "metadata": {},
     "output_type": "display_data"
    },
    {
     "data": {
      "application/vnd.jupyter.widget-view+json": {
       "model_id": "42ebca33fe524576ba4a8e24d244f2fa",
       "version_major": 2,
       "version_minor": 0
      },
      "text/plain": [
       "Validation: |          | 0/? [00:00<?, ?it/s]"
      ]
     },
     "metadata": {},
     "output_type": "display_data"
    },
    {
     "data": {
      "application/vnd.jupyter.widget-view+json": {
       "model_id": "c1736a13251941af856fdeb2ac7a3ca8",
       "version_major": 2,
       "version_minor": 0
      },
      "text/plain": [
       "Validation: |          | 0/? [00:00<?, ?it/s]"
      ]
     },
     "metadata": {},
     "output_type": "display_data"
    },
    {
     "data": {
      "application/vnd.jupyter.widget-view+json": {
       "model_id": "585212d8ba9041f09ee0781d0d8d2e9a",
       "version_major": 2,
       "version_minor": 0
      },
      "text/plain": [
       "Validation: |          | 0/? [00:00<?, ?it/s]"
      ]
     },
     "metadata": {},
     "output_type": "display_data"
    },
    {
     "data": {
      "application/vnd.jupyter.widget-view+json": {
       "model_id": "36510a31da6648a190e4663ef9d4d6c2",
       "version_major": 2,
       "version_minor": 0
      },
      "text/plain": [
       "Validation: |          | 0/? [00:00<?, ?it/s]"
      ]
     },
     "metadata": {},
     "output_type": "display_data"
    },
    {
     "data": {
      "application/vnd.jupyter.widget-view+json": {
       "model_id": "7aa14fa10d1c45dda7f87bbd3721bb7d",
       "version_major": 2,
       "version_minor": 0
      },
      "text/plain": [
       "Validation: |          | 0/? [00:00<?, ?it/s]"
      ]
     },
     "metadata": {},
     "output_type": "display_data"
    },
    {
     "data": {
      "application/vnd.jupyter.widget-view+json": {
       "model_id": "322e60edf3874911a159ffcd768176c3",
       "version_major": 2,
       "version_minor": 0
      },
      "text/plain": [
       "Validation: |          | 0/? [00:00<?, ?it/s]"
      ]
     },
     "metadata": {},
     "output_type": "display_data"
    },
    {
     "data": {
      "application/vnd.jupyter.widget-view+json": {
       "model_id": "f89f845566c44c50abb1a9129682b415",
       "version_major": 2,
       "version_minor": 0
      },
      "text/plain": [
       "Validation: |          | 0/? [00:00<?, ?it/s]"
      ]
     },
     "metadata": {},
     "output_type": "display_data"
    },
    {
     "data": {
      "application/vnd.jupyter.widget-view+json": {
       "model_id": "d15399ff25904d92baee1d9e0a36a27f",
       "version_major": 2,
       "version_minor": 0
      },
      "text/plain": [
       "Validation: |          | 0/? [00:00<?, ?it/s]"
      ]
     },
     "metadata": {},
     "output_type": "display_data"
    },
    {
     "data": {
      "application/vnd.jupyter.widget-view+json": {
       "model_id": "890016d010be42d5a1149aef30623657",
       "version_major": 2,
       "version_minor": 0
      },
      "text/plain": [
       "Validation: |          | 0/? [00:00<?, ?it/s]"
      ]
     },
     "metadata": {},
     "output_type": "display_data"
    },
    {
     "data": {
      "application/vnd.jupyter.widget-view+json": {
       "model_id": "9ec2dbebe8f6400d921465beecd843c2",
       "version_major": 2,
       "version_minor": 0
      },
      "text/plain": [
       "Validation: |          | 0/? [00:00<?, ?it/s]"
      ]
     },
     "metadata": {},
     "output_type": "display_data"
    },
    {
     "data": {
      "application/vnd.jupyter.widget-view+json": {
       "model_id": "dcc411a9d1c2488989dc5c467cee3082",
       "version_major": 2,
       "version_minor": 0
      },
      "text/plain": [
       "Validation: |          | 0/? [00:00<?, ?it/s]"
      ]
     },
     "metadata": {},
     "output_type": "display_data"
    },
    {
     "data": {
      "application/vnd.jupyter.widget-view+json": {
       "model_id": "e5e348bd618f4d6a993f0ef46f3e388d",
       "version_major": 2,
       "version_minor": 0
      },
      "text/plain": [
       "Validation: |          | 0/? [00:00<?, ?it/s]"
      ]
     },
     "metadata": {},
     "output_type": "display_data"
    },
    {
     "data": {
      "application/vnd.jupyter.widget-view+json": {
       "model_id": "1b10da5aa09e4a69bfff20ec4044cfeb",
       "version_major": 2,
       "version_minor": 0
      },
      "text/plain": [
       "Validation: |          | 0/? [00:00<?, ?it/s]"
      ]
     },
     "metadata": {},
     "output_type": "display_data"
    },
    {
     "data": {
      "application/vnd.jupyter.widget-view+json": {
       "model_id": "9186663c24b4467eb5f92cf319918186",
       "version_major": 2,
       "version_minor": 0
      },
      "text/plain": [
       "Validation: |          | 0/? [00:00<?, ?it/s]"
      ]
     },
     "metadata": {},
     "output_type": "display_data"
    },
    {
     "data": {
      "application/vnd.jupyter.widget-view+json": {
       "model_id": "7617d41e61284e63b1a41cd74cdffe12",
       "version_major": 2,
       "version_minor": 0
      },
      "text/plain": [
       "Validation: |          | 0/? [00:00<?, ?it/s]"
      ]
     },
     "metadata": {},
     "output_type": "display_data"
    },
    {
     "data": {
      "application/vnd.jupyter.widget-view+json": {
       "model_id": "67563aece8eb46eebcb1d7da02fbdca8",
       "version_major": 2,
       "version_minor": 0
      },
      "text/plain": [
       "Validation: |          | 0/? [00:00<?, ?it/s]"
      ]
     },
     "metadata": {},
     "output_type": "display_data"
    },
    {
     "data": {
      "application/vnd.jupyter.widget-view+json": {
       "model_id": "6973b59615ea4dc18a5924830e2aecfd",
       "version_major": 2,
       "version_minor": 0
      },
      "text/plain": [
       "Validation: |          | 0/? [00:00<?, ?it/s]"
      ]
     },
     "metadata": {},
     "output_type": "display_data"
    },
    {
     "data": {
      "application/vnd.jupyter.widget-view+json": {
       "model_id": "127e828f5f6d4073bf2009e5f5cc9265",
       "version_major": 2,
       "version_minor": 0
      },
      "text/plain": [
       "Validation: |          | 0/? [00:00<?, ?it/s]"
      ]
     },
     "metadata": {},
     "output_type": "display_data"
    },
    {
     "data": {
      "application/vnd.jupyter.widget-view+json": {
       "model_id": "72ca3e609ee0467bb70fa7e0fd1a7eb9",
       "version_major": 2,
       "version_minor": 0
      },
      "text/plain": [
       "Validation: |          | 0/? [00:00<?, ?it/s]"
      ]
     },
     "metadata": {},
     "output_type": "display_data"
    },
    {
     "data": {
      "application/vnd.jupyter.widget-view+json": {
       "model_id": "7df05de6f4c54eeda04f66cf514b119f",
       "version_major": 2,
       "version_minor": 0
      },
      "text/plain": [
       "Validation: |          | 0/? [00:00<?, ?it/s]"
      ]
     },
     "metadata": {},
     "output_type": "display_data"
    },
    {
     "data": {
      "application/vnd.jupyter.widget-view+json": {
       "model_id": "4e9dff14163c45da8c6728be17a8d05b",
       "version_major": 2,
       "version_minor": 0
      },
      "text/plain": [
       "Validation: |          | 0/? [00:00<?, ?it/s]"
      ]
     },
     "metadata": {},
     "output_type": "display_data"
    },
    {
     "data": {
      "application/vnd.jupyter.widget-view+json": {
       "model_id": "8b39d34c8bad49a98fafd5027d5b1f46",
       "version_major": 2,
       "version_minor": 0
      },
      "text/plain": [
       "Validation: |          | 0/? [00:00<?, ?it/s]"
      ]
     },
     "metadata": {},
     "output_type": "display_data"
    },
    {
     "data": {
      "application/vnd.jupyter.widget-view+json": {
       "model_id": "72138069caa848e692f29255c150a92b",
       "version_major": 2,
       "version_minor": 0
      },
      "text/plain": [
       "Validation: |          | 0/? [00:00<?, ?it/s]"
      ]
     },
     "metadata": {},
     "output_type": "display_data"
    },
    {
     "data": {
      "application/vnd.jupyter.widget-view+json": {
       "model_id": "edbc3849f3a5486092490041d88a93c2",
       "version_major": 2,
       "version_minor": 0
      },
      "text/plain": [
       "Validation: |          | 0/? [00:00<?, ?it/s]"
      ]
     },
     "metadata": {},
     "output_type": "display_data"
    },
    {
     "data": {
      "application/vnd.jupyter.widget-view+json": {
       "model_id": "d0cde3fa5a3f40ac91e909a170d93652",
       "version_major": 2,
       "version_minor": 0
      },
      "text/plain": [
       "Validation: |          | 0/? [00:00<?, ?it/s]"
      ]
     },
     "metadata": {},
     "output_type": "display_data"
    },
    {
     "data": {
      "application/vnd.jupyter.widget-view+json": {
       "model_id": "62e8ff1acca54a22b06c0f84ce4c8ed6",
       "version_major": 2,
       "version_minor": 0
      },
      "text/plain": [
       "Validation: |          | 0/? [00:00<?, ?it/s]"
      ]
     },
     "metadata": {},
     "output_type": "display_data"
    },
    {
     "data": {
      "application/vnd.jupyter.widget-view+json": {
       "model_id": "ccca57382afe4505bd304e4e5b16c22e",
       "version_major": 2,
       "version_minor": 0
      },
      "text/plain": [
       "Validation: |          | 0/? [00:00<?, ?it/s]"
      ]
     },
     "metadata": {},
     "output_type": "display_data"
    },
    {
     "data": {
      "application/vnd.jupyter.widget-view+json": {
       "model_id": "ab156064c1334955a42db7275512452a",
       "version_major": 2,
       "version_minor": 0
      },
      "text/plain": [
       "Validation: |          | 0/? [00:00<?, ?it/s]"
      ]
     },
     "metadata": {},
     "output_type": "display_data"
    },
    {
     "data": {
      "application/vnd.jupyter.widget-view+json": {
       "model_id": "5adb6122463a48e48c21f75cfcf67c32",
       "version_major": 2,
       "version_minor": 0
      },
      "text/plain": [
       "Validation: |          | 0/? [00:00<?, ?it/s]"
      ]
     },
     "metadata": {},
     "output_type": "display_data"
    },
    {
     "data": {
      "application/vnd.jupyter.widget-view+json": {
       "model_id": "7417e798603d4ff3a79d6c739dafbdb6",
       "version_major": 2,
       "version_minor": 0
      },
      "text/plain": [
       "Validation: |          | 0/? [00:00<?, ?it/s]"
      ]
     },
     "metadata": {},
     "output_type": "display_data"
    },
    {
     "data": {
      "application/vnd.jupyter.widget-view+json": {
       "model_id": "0bd25fd37ca94ec0882c087c27a18512",
       "version_major": 2,
       "version_minor": 0
      },
      "text/plain": [
       "Validation: |          | 0/? [00:00<?, ?it/s]"
      ]
     },
     "metadata": {},
     "output_type": "display_data"
    },
    {
     "data": {
      "application/vnd.jupyter.widget-view+json": {
       "model_id": "854bc868351d4a92b97f82fdf58c3e98",
       "version_major": 2,
       "version_minor": 0
      },
      "text/plain": [
       "Validation: |          | 0/? [00:00<?, ?it/s]"
      ]
     },
     "metadata": {},
     "output_type": "display_data"
    },
    {
     "data": {
      "application/vnd.jupyter.widget-view+json": {
       "model_id": "27da26a34c3049f4a3e721c19f02c264",
       "version_major": 2,
       "version_minor": 0
      },
      "text/plain": [
       "Validation: |          | 0/? [00:00<?, ?it/s]"
      ]
     },
     "metadata": {},
     "output_type": "display_data"
    },
    {
     "data": {
      "application/vnd.jupyter.widget-view+json": {
       "model_id": "4931cbfa19014aa1aa0503f4aeb414b4",
       "version_major": 2,
       "version_minor": 0
      },
      "text/plain": [
       "Validation: |          | 0/? [00:00<?, ?it/s]"
      ]
     },
     "metadata": {},
     "output_type": "display_data"
    },
    {
     "data": {
      "application/vnd.jupyter.widget-view+json": {
       "model_id": "fd859664527a492e8239f32019013b2e",
       "version_major": 2,
       "version_minor": 0
      },
      "text/plain": [
       "Validation: |          | 0/? [00:00<?, ?it/s]"
      ]
     },
     "metadata": {},
     "output_type": "display_data"
    },
    {
     "data": {
      "application/vnd.jupyter.widget-view+json": {
       "model_id": "5c3887ee4a244d78a2055cf229353591",
       "version_major": 2,
       "version_minor": 0
      },
      "text/plain": [
       "Validation: |          | 0/? [00:00<?, ?it/s]"
      ]
     },
     "metadata": {},
     "output_type": "display_data"
    },
    {
     "data": {
      "application/vnd.jupyter.widget-view+json": {
       "model_id": "c6f9b0d9c5d24d80b93eb12215634951",
       "version_major": 2,
       "version_minor": 0
      },
      "text/plain": [
       "Validation: |          | 0/? [00:00<?, ?it/s]"
      ]
     },
     "metadata": {},
     "output_type": "display_data"
    },
    {
     "data": {
      "application/vnd.jupyter.widget-view+json": {
       "model_id": "f8e6678f2da94cd1a3ab26b87f6b3b1a",
       "version_major": 2,
       "version_minor": 0
      },
      "text/plain": [
       "Validation: |          | 0/? [00:00<?, ?it/s]"
      ]
     },
     "metadata": {},
     "output_type": "display_data"
    },
    {
     "data": {
      "application/vnd.jupyter.widget-view+json": {
       "model_id": "0695ba5ae53d4f1cac140d792b7e5e76",
       "version_major": 2,
       "version_minor": 0
      },
      "text/plain": [
       "Validation: |          | 0/? [00:00<?, ?it/s]"
      ]
     },
     "metadata": {},
     "output_type": "display_data"
    },
    {
     "data": {
      "application/vnd.jupyter.widget-view+json": {
       "model_id": "3618a0979dee4b37a6a19c135cfda834",
       "version_major": 2,
       "version_minor": 0
      },
      "text/plain": [
       "Validation: |          | 0/? [00:00<?, ?it/s]"
      ]
     },
     "metadata": {},
     "output_type": "display_data"
    },
    {
     "data": {
      "application/vnd.jupyter.widget-view+json": {
       "model_id": "d412a2e6fc50477fbd5c3ef75a4a9813",
       "version_major": 2,
       "version_minor": 0
      },
      "text/plain": [
       "Validation: |          | 0/? [00:00<?, ?it/s]"
      ]
     },
     "metadata": {},
     "output_type": "display_data"
    },
    {
     "data": {
      "application/vnd.jupyter.widget-view+json": {
       "model_id": "c95c9ed9b2914965ac52e4b1bef38ae6",
       "version_major": 2,
       "version_minor": 0
      },
      "text/plain": [
       "Validation: |          | 0/? [00:00<?, ?it/s]"
      ]
     },
     "metadata": {},
     "output_type": "display_data"
    },
    {
     "data": {
      "application/vnd.jupyter.widget-view+json": {
       "model_id": "02cc720d591a4c63a5f63ffd0d8567d4",
       "version_major": 2,
       "version_minor": 0
      },
      "text/plain": [
       "Validation: |          | 0/? [00:00<?, ?it/s]"
      ]
     },
     "metadata": {},
     "output_type": "display_data"
    },
    {
     "data": {
      "application/vnd.jupyter.widget-view+json": {
       "model_id": "b2bc539325ae4e96bc120b64b5ed7012",
       "version_major": 2,
       "version_minor": 0
      },
      "text/plain": [
       "Validation: |          | 0/? [00:00<?, ?it/s]"
      ]
     },
     "metadata": {},
     "output_type": "display_data"
    },
    {
     "data": {
      "application/vnd.jupyter.widget-view+json": {
       "model_id": "73b1a520f5ce4075a5ef0f416890d061",
       "version_major": 2,
       "version_minor": 0
      },
      "text/plain": [
       "Validation: |          | 0/? [00:00<?, ?it/s]"
      ]
     },
     "metadata": {},
     "output_type": "display_data"
    },
    {
     "data": {
      "application/vnd.jupyter.widget-view+json": {
       "model_id": "37282eaa5eef41539195354f9b47e3cb",
       "version_major": 2,
       "version_minor": 0
      },
      "text/plain": [
       "Validation: |          | 0/? [00:00<?, ?it/s]"
      ]
     },
     "metadata": {},
     "output_type": "display_data"
    },
    {
     "data": {
      "application/vnd.jupyter.widget-view+json": {
       "model_id": "305d2f2d3c6a4a2bbcc44d3992728b1d",
       "version_major": 2,
       "version_minor": 0
      },
      "text/plain": [
       "Validation: |          | 0/? [00:00<?, ?it/s]"
      ]
     },
     "metadata": {},
     "output_type": "display_data"
    },
    {
     "data": {
      "application/vnd.jupyter.widget-view+json": {
       "model_id": "2e94a41023484fe494668bca0de53e9d",
       "version_major": 2,
       "version_minor": 0
      },
      "text/plain": [
       "Validation: |          | 0/? [00:00<?, ?it/s]"
      ]
     },
     "metadata": {},
     "output_type": "display_data"
    },
    {
     "data": {
      "application/vnd.jupyter.widget-view+json": {
       "model_id": "abbf7aba7bb94ae094eb223be5d9f4a0",
       "version_major": 2,
       "version_minor": 0
      },
      "text/plain": [
       "Validation: |          | 0/? [00:00<?, ?it/s]"
      ]
     },
     "metadata": {},
     "output_type": "display_data"
    },
    {
     "data": {
      "application/vnd.jupyter.widget-view+json": {
       "model_id": "e50a474a479044d8bfb830acb50defb3",
       "version_major": 2,
       "version_minor": 0
      },
      "text/plain": [
       "Validation: |          | 0/? [00:00<?, ?it/s]"
      ]
     },
     "metadata": {},
     "output_type": "display_data"
    },
    {
     "data": {
      "application/vnd.jupyter.widget-view+json": {
       "model_id": "e7c9c1e2473b420f8743f2738c3f1945",
       "version_major": 2,
       "version_minor": 0
      },
      "text/plain": [
       "Validation: |          | 0/? [00:00<?, ?it/s]"
      ]
     },
     "metadata": {},
     "output_type": "display_data"
    },
    {
     "data": {
      "application/vnd.jupyter.widget-view+json": {
       "model_id": "91e3d06b73254caabc9f96edf7fdaac5",
       "version_major": 2,
       "version_minor": 0
      },
      "text/plain": [
       "Validation: |          | 0/? [00:00<?, ?it/s]"
      ]
     },
     "metadata": {},
     "output_type": "display_data"
    },
    {
     "data": {
      "application/vnd.jupyter.widget-view+json": {
       "model_id": "c768b529d1db4034bb8dcd10e7b3ef5b",
       "version_major": 2,
       "version_minor": 0
      },
      "text/plain": [
       "Validation: |          | 0/? [00:00<?, ?it/s]"
      ]
     },
     "metadata": {},
     "output_type": "display_data"
    },
    {
     "data": {
      "application/vnd.jupyter.widget-view+json": {
       "model_id": "a6b2d3648b884a59820f4fe781a10518",
       "version_major": 2,
       "version_minor": 0
      },
      "text/plain": [
       "Validation: |          | 0/? [00:00<?, ?it/s]"
      ]
     },
     "metadata": {},
     "output_type": "display_data"
    },
    {
     "data": {
      "application/vnd.jupyter.widget-view+json": {
       "model_id": "26023f0e5bc845748157a94ccb60622a",
       "version_major": 2,
       "version_minor": 0
      },
      "text/plain": [
       "Validation: |          | 0/? [00:00<?, ?it/s]"
      ]
     },
     "metadata": {},
     "output_type": "display_data"
    },
    {
     "data": {
      "application/vnd.jupyter.widget-view+json": {
       "model_id": "13f1d3a04de24bb9bd486ba9b7cd0bb7",
       "version_major": 2,
       "version_minor": 0
      },
      "text/plain": [
       "Validation: |          | 0/? [00:00<?, ?it/s]"
      ]
     },
     "metadata": {},
     "output_type": "display_data"
    },
    {
     "data": {
      "application/vnd.jupyter.widget-view+json": {
       "model_id": "03ef60b9f4e24f6cb83b6250ecc35338",
       "version_major": 2,
       "version_minor": 0
      },
      "text/plain": [
       "Validation: |          | 0/? [00:00<?, ?it/s]"
      ]
     },
     "metadata": {},
     "output_type": "display_data"
    },
    {
     "data": {
      "application/vnd.jupyter.widget-view+json": {
       "model_id": "9382da6463044ba1b2e3573bbe519a4a",
       "version_major": 2,
       "version_minor": 0
      },
      "text/plain": [
       "Validation: |          | 0/? [00:00<?, ?it/s]"
      ]
     },
     "metadata": {},
     "output_type": "display_data"
    },
    {
     "data": {
      "application/vnd.jupyter.widget-view+json": {
       "model_id": "0c8cb3489d2e49edbc18004aa80a27de",
       "version_major": 2,
       "version_minor": 0
      },
      "text/plain": [
       "Validation: |          | 0/? [00:00<?, ?it/s]"
      ]
     },
     "metadata": {},
     "output_type": "display_data"
    },
    {
     "data": {
      "application/vnd.jupyter.widget-view+json": {
       "model_id": "a23778de394c4be09cad60869c411ab6",
       "version_major": 2,
       "version_minor": 0
      },
      "text/plain": [
       "Validation: |          | 0/? [00:00<?, ?it/s]"
      ]
     },
     "metadata": {},
     "output_type": "display_data"
    },
    {
     "data": {
      "application/vnd.jupyter.widget-view+json": {
       "model_id": "a4b2462973544813b3bf49abaffd236a",
       "version_major": 2,
       "version_minor": 0
      },
      "text/plain": [
       "Validation: |          | 0/? [00:00<?, ?it/s]"
      ]
     },
     "metadata": {},
     "output_type": "display_data"
    },
    {
     "data": {
      "application/vnd.jupyter.widget-view+json": {
       "model_id": "0ee537cf853446998e0fd60e8e49b9fc",
       "version_major": 2,
       "version_minor": 0
      },
      "text/plain": [
       "Validation: |          | 0/? [00:00<?, ?it/s]"
      ]
     },
     "metadata": {},
     "output_type": "display_data"
    },
    {
     "data": {
      "application/vnd.jupyter.widget-view+json": {
       "model_id": "f4b0c7c45b2d4b0580465e7cb3915cfe",
       "version_major": 2,
       "version_minor": 0
      },
      "text/plain": [
       "Validation: |          | 0/? [00:00<?, ?it/s]"
      ]
     },
     "metadata": {},
     "output_type": "display_data"
    },
    {
     "data": {
      "application/vnd.jupyter.widget-view+json": {
       "model_id": "08cc6309350c4a6d801c5b35846dcb45",
       "version_major": 2,
       "version_minor": 0
      },
      "text/plain": [
       "Validation: |          | 0/? [00:00<?, ?it/s]"
      ]
     },
     "metadata": {},
     "output_type": "display_data"
    },
    {
     "data": {
      "application/vnd.jupyter.widget-view+json": {
       "model_id": "fb81dd7537c949f8bf6708bb5a286471",
       "version_major": 2,
       "version_minor": 0
      },
      "text/plain": [
       "Validation: |          | 0/? [00:00<?, ?it/s]"
      ]
     },
     "metadata": {},
     "output_type": "display_data"
    },
    {
     "data": {
      "application/vnd.jupyter.widget-view+json": {
       "model_id": "a7f47c25f70a4223ac9453604a45fb82",
       "version_major": 2,
       "version_minor": 0
      },
      "text/plain": [
       "Validation: |          | 0/? [00:00<?, ?it/s]"
      ]
     },
     "metadata": {},
     "output_type": "display_data"
    },
    {
     "data": {
      "application/vnd.jupyter.widget-view+json": {
       "model_id": "8786d79322154195ab5860095667195f",
       "version_major": 2,
       "version_minor": 0
      },
      "text/plain": [
       "Validation: |          | 0/? [00:00<?, ?it/s]"
      ]
     },
     "metadata": {},
     "output_type": "display_data"
    },
    {
     "data": {
      "application/vnd.jupyter.widget-view+json": {
       "model_id": "24fb98cb21d64f909929cf67b8dd2d47",
       "version_major": 2,
       "version_minor": 0
      },
      "text/plain": [
       "Validation: |          | 0/? [00:00<?, ?it/s]"
      ]
     },
     "metadata": {},
     "output_type": "display_data"
    },
    {
     "data": {
      "application/vnd.jupyter.widget-view+json": {
       "model_id": "ca976cd91fa043a8b1385f236aba5dfa",
       "version_major": 2,
       "version_minor": 0
      },
      "text/plain": [
       "Validation: |          | 0/? [00:00<?, ?it/s]"
      ]
     },
     "metadata": {},
     "output_type": "display_data"
    },
    {
     "data": {
      "application/vnd.jupyter.widget-view+json": {
       "model_id": "1f3c3f7859f74eed8bffa56d8eae68ab",
       "version_major": 2,
       "version_minor": 0
      },
      "text/plain": [
       "Validation: |          | 0/? [00:00<?, ?it/s]"
      ]
     },
     "metadata": {},
     "output_type": "display_data"
    },
    {
     "data": {
      "application/vnd.jupyter.widget-view+json": {
       "model_id": "1abd549fcc6a422887c74724ba6d1152",
       "version_major": 2,
       "version_minor": 0
      },
      "text/plain": [
       "Validation: |          | 0/? [00:00<?, ?it/s]"
      ]
     },
     "metadata": {},
     "output_type": "display_data"
    },
    {
     "data": {
      "application/vnd.jupyter.widget-view+json": {
       "model_id": "21da16283d4a4ab8aa18399092c5893b",
       "version_major": 2,
       "version_minor": 0
      },
      "text/plain": [
       "Validation: |          | 0/? [00:00<?, ?it/s]"
      ]
     },
     "metadata": {},
     "output_type": "display_data"
    },
    {
     "data": {
      "application/vnd.jupyter.widget-view+json": {
       "model_id": "84f4aaf9da51405c995ac327453f4f45",
       "version_major": 2,
       "version_minor": 0
      },
      "text/plain": [
       "Validation: |          | 0/? [00:00<?, ?it/s]"
      ]
     },
     "metadata": {},
     "output_type": "display_data"
    },
    {
     "data": {
      "application/vnd.jupyter.widget-view+json": {
       "model_id": "79db29a4a0a64a9394955dea52462e09",
       "version_major": 2,
       "version_minor": 0
      },
      "text/plain": [
       "Validation: |          | 0/? [00:00<?, ?it/s]"
      ]
     },
     "metadata": {},
     "output_type": "display_data"
    },
    {
     "data": {
      "application/vnd.jupyter.widget-view+json": {
       "model_id": "2f4df0856409444fac1916736d8d9170",
       "version_major": 2,
       "version_minor": 0
      },
      "text/plain": [
       "Validation: |          | 0/? [00:00<?, ?it/s]"
      ]
     },
     "metadata": {},
     "output_type": "display_data"
    },
    {
     "data": {
      "application/vnd.jupyter.widget-view+json": {
       "model_id": "ee7db3bbbcf5494fa5ac0295eb3ca767",
       "version_major": 2,
       "version_minor": 0
      },
      "text/plain": [
       "Validation: |          | 0/? [00:00<?, ?it/s]"
      ]
     },
     "metadata": {},
     "output_type": "display_data"
    },
    {
     "data": {
      "application/vnd.jupyter.widget-view+json": {
       "model_id": "91d0a5746b5a4117a273148c76965b07",
       "version_major": 2,
       "version_minor": 0
      },
      "text/plain": [
       "Validation: |          | 0/? [00:00<?, ?it/s]"
      ]
     },
     "metadata": {},
     "output_type": "display_data"
    },
    {
     "data": {
      "application/vnd.jupyter.widget-view+json": {
       "model_id": "5a4f699d26c546b5965113025dc5b121",
       "version_major": 2,
       "version_minor": 0
      },
      "text/plain": [
       "Validation: |          | 0/? [00:00<?, ?it/s]"
      ]
     },
     "metadata": {},
     "output_type": "display_data"
    },
    {
     "data": {
      "application/vnd.jupyter.widget-view+json": {
       "model_id": "1c364aeba66843adb23df16373b6f411",
       "version_major": 2,
       "version_minor": 0
      },
      "text/plain": [
       "Validation: |          | 0/? [00:00<?, ?it/s]"
      ]
     },
     "metadata": {},
     "output_type": "display_data"
    },
    {
     "data": {
      "application/vnd.jupyter.widget-view+json": {
       "model_id": "b92b0f28f7b14033baed0aaf39ee0d11",
       "version_major": 2,
       "version_minor": 0
      },
      "text/plain": [
       "Validation: |          | 0/? [00:00<?, ?it/s]"
      ]
     },
     "metadata": {},
     "output_type": "display_data"
    },
    {
     "data": {
      "application/vnd.jupyter.widget-view+json": {
       "model_id": "5c3a236c4132464780f21700eaa270a7",
       "version_major": 2,
       "version_minor": 0
      },
      "text/plain": [
       "Validation: |          | 0/? [00:00<?, ?it/s]"
      ]
     },
     "metadata": {},
     "output_type": "display_data"
    },
    {
     "data": {
      "application/vnd.jupyter.widget-view+json": {
       "model_id": "eca7742dc4c845c8833d7365d08ed2d2",
       "version_major": 2,
       "version_minor": 0
      },
      "text/plain": [
       "Validation: |          | 0/? [00:00<?, ?it/s]"
      ]
     },
     "metadata": {},
     "output_type": "display_data"
    },
    {
     "data": {
      "application/vnd.jupyter.widget-view+json": {
       "model_id": "7e737b79213048548edd3ce68b224356",
       "version_major": 2,
       "version_minor": 0
      },
      "text/plain": [
       "Validation: |          | 0/? [00:00<?, ?it/s]"
      ]
     },
     "metadata": {},
     "output_type": "display_data"
    },
    {
     "data": {
      "application/vnd.jupyter.widget-view+json": {
       "model_id": "a5754795d00e4a7989ee00d8814a7d16",
       "version_major": 2,
       "version_minor": 0
      },
      "text/plain": [
       "Validation: |          | 0/? [00:00<?, ?it/s]"
      ]
     },
     "metadata": {},
     "output_type": "display_data"
    },
    {
     "data": {
      "application/vnd.jupyter.widget-view+json": {
       "model_id": "db38d14d817e411aad39da90f77f75e0",
       "version_major": 2,
       "version_minor": 0
      },
      "text/plain": [
       "Validation: |          | 0/? [00:00<?, ?it/s]"
      ]
     },
     "metadata": {},
     "output_type": "display_data"
    },
    {
     "data": {
      "application/vnd.jupyter.widget-view+json": {
       "model_id": "828412b760c84647931116ca479b64ad",
       "version_major": 2,
       "version_minor": 0
      },
      "text/plain": [
       "Validation: |          | 0/? [00:00<?, ?it/s]"
      ]
     },
     "metadata": {},
     "output_type": "display_data"
    },
    {
     "data": {
      "application/vnd.jupyter.widget-view+json": {
       "model_id": "e2e1f23c98334312b565919f94fa1a4f",
       "version_major": 2,
       "version_minor": 0
      },
      "text/plain": [
       "Validation: |          | 0/? [00:00<?, ?it/s]"
      ]
     },
     "metadata": {},
     "output_type": "display_data"
    },
    {
     "data": {
      "application/vnd.jupyter.widget-view+json": {
       "model_id": "5f7e7f7d4cd14f4c8fec6b423adc6101",
       "version_major": 2,
       "version_minor": 0
      },
      "text/plain": [
       "Validation: |          | 0/? [00:00<?, ?it/s]"
      ]
     },
     "metadata": {},
     "output_type": "display_data"
    },
    {
     "data": {
      "application/vnd.jupyter.widget-view+json": {
       "model_id": "eae22a7fc7d543f5847a5c166dd9b6df",
       "version_major": 2,
       "version_minor": 0
      },
      "text/plain": [
       "Validation: |          | 0/? [00:00<?, ?it/s]"
      ]
     },
     "metadata": {},
     "output_type": "display_data"
    },
    {
     "data": {
      "application/vnd.jupyter.widget-view+json": {
       "model_id": "703921fbdccc4bc4a7331a30d1d835b7",
       "version_major": 2,
       "version_minor": 0
      },
      "text/plain": [
       "Validation: |          | 0/? [00:00<?, ?it/s]"
      ]
     },
     "metadata": {},
     "output_type": "display_data"
    },
    {
     "data": {
      "application/vnd.jupyter.widget-view+json": {
       "model_id": "96ee7c58ee7f482cabd97525d3291aa3",
       "version_major": 2,
       "version_minor": 0
      },
      "text/plain": [
       "Validation: |          | 0/? [00:00<?, ?it/s]"
      ]
     },
     "metadata": {},
     "output_type": "display_data"
    },
    {
     "data": {
      "application/vnd.jupyter.widget-view+json": {
       "model_id": "87f73357839543d2a4c49a4b863b779f",
       "version_major": 2,
       "version_minor": 0
      },
      "text/plain": [
       "Validation: |          | 0/? [00:00<?, ?it/s]"
      ]
     },
     "metadata": {},
     "output_type": "display_data"
    },
    {
     "data": {
      "application/vnd.jupyter.widget-view+json": {
       "model_id": "3f64ff068d2244fd88bff974d22f2832",
       "version_major": 2,
       "version_minor": 0
      },
      "text/plain": [
       "Validation: |          | 0/? [00:00<?, ?it/s]"
      ]
     },
     "metadata": {},
     "output_type": "display_data"
    },
    {
     "data": {
      "application/vnd.jupyter.widget-view+json": {
       "model_id": "c4531d50bdce4e79a0acde5b80765a0e",
       "version_major": 2,
       "version_minor": 0
      },
      "text/plain": [
       "Validation: |          | 0/? [00:00<?, ?it/s]"
      ]
     },
     "metadata": {},
     "output_type": "display_data"
    },
    {
     "data": {
      "application/vnd.jupyter.widget-view+json": {
       "model_id": "581cb9fc940847ab8c5d52f028883acd",
       "version_major": 2,
       "version_minor": 0
      },
      "text/plain": [
       "Validation: |          | 0/? [00:00<?, ?it/s]"
      ]
     },
     "metadata": {},
     "output_type": "display_data"
    },
    {
     "data": {
      "application/vnd.jupyter.widget-view+json": {
       "model_id": "9fbe7a35caee40a4bc9f2da4506e85f4",
       "version_major": 2,
       "version_minor": 0
      },
      "text/plain": [
       "Validation: |          | 0/? [00:00<?, ?it/s]"
      ]
     },
     "metadata": {},
     "output_type": "display_data"
    },
    {
     "data": {
      "application/vnd.jupyter.widget-view+json": {
       "model_id": "fc1eb927d875459db53c173a91ca1ddc",
       "version_major": 2,
       "version_minor": 0
      },
      "text/plain": [
       "Validation: |          | 0/? [00:00<?, ?it/s]"
      ]
     },
     "metadata": {},
     "output_type": "display_data"
    },
    {
     "data": {
      "application/vnd.jupyter.widget-view+json": {
       "model_id": "a8ba653075514c3b91f73c4445d7b399",
       "version_major": 2,
       "version_minor": 0
      },
      "text/plain": [
       "Validation: |          | 0/? [00:00<?, ?it/s]"
      ]
     },
     "metadata": {},
     "output_type": "display_data"
    },
    {
     "data": {
      "application/vnd.jupyter.widget-view+json": {
       "model_id": "c437f87f021343f8b10ddc9aca1684a4",
       "version_major": 2,
       "version_minor": 0
      },
      "text/plain": [
       "Validation: |          | 0/? [00:00<?, ?it/s]"
      ]
     },
     "metadata": {},
     "output_type": "display_data"
    },
    {
     "data": {
      "application/vnd.jupyter.widget-view+json": {
       "model_id": "22ea607f566e42cda9783bde1fdac445",
       "version_major": 2,
       "version_minor": 0
      },
      "text/plain": [
       "Validation: |          | 0/? [00:00<?, ?it/s]"
      ]
     },
     "metadata": {},
     "output_type": "display_data"
    },
    {
     "name": "stderr",
     "output_type": "stream",
     "text": [
      "`Trainer.fit` stopped: `max_epochs=300` reached.\n"
     ]
    },
    {
     "name": "stdout",
     "output_type": "stream",
     "text": [
      "Best model checkpoint path: logs/contrastive_loss_pretext_task/version_5/checkpoints/epoch=1-train_loss=8.22-train_f1=0.00-val_loss=6.93-val_f1=0.00.ckpt\n"
     ]
    }
   ],
   "source": [
    "# train pretext model with default parameters\n",
    "model = train_pretext_model(\n",
    "    pretext_task_title='morenoiselargerfilter_contrastive_loss_ShallowNet_pretext_model',\n",
    "    pretext_task='contrastive_loss',\n",
    "    max_epochs=300,\n",
    "    data_train=data_train,\n",
    "    data_val=data_val,\n",
    "    batch_size=1244,\n",
    "    learning_rate=0.001,\n",
    "    dropout=0.25,\n",
    "    weight_decay=0,\n",
    "    store_weights=(True, True),\n",
    "    pretext_model='ShallowNet',\n",
    "    loss='contrastive_loss',\n",
    ")"
   ]
  },
  {
   "cell_type": "code",
   "execution_count": 12,
   "metadata": {
    "execution": {
     "iopub.execute_input": "2024-10-25T08:48:42.610581Z",
     "iopub.status.busy": "2024-10-25T08:48:42.610412Z",
     "iopub.status.idle": "2024-10-25T08:48:42.831261Z",
     "shell.execute_reply": "2024-10-25T08:48:42.830797Z",
     "shell.execute_reply.started": "2024-10-25T08:48:42.610564Z"
    }
   },
   "outputs": [
    {
     "name": "stdout",
     "output_type": "stream",
     "text": [
      "F1 score columns not found in the metrics file.\n"
     ]
    },
    {
     "data": {
      "image/png": "[encoded data removed]",
      "text/plain": [
       "<Figure size 1000x1000 with 2 Axes>"
      ]
     },
     "metadata": {},
     "output_type": "display_data"
    }
   ],
   "source": [
    "# plot training curves\n",
    "plot_training_curves('logs/contrastive_loss_pretext_task/version_5/metrics.csv')"
   ]
  },
  {
   "cell_type": "code",
   "execution_count": 13,
   "metadata": {
    "execution": {
     "iopub.execute_input": "2024-10-25T08:48:42.832425Z",
     "iopub.status.busy": "2024-10-25T08:48:42.831927Z",
     "iopub.status.idle": "2024-10-25T08:48:42.834844Z",
     "shell.execute_reply": "2024-10-25T08:48:42.834401Z",
     "shell.execute_reply.started": "2024-10-25T08:48:42.832407Z"
    }
   },
   "outputs": [],
   "source": [
    "# clear GPU memory after training the model\n",
    "del dataset\n",
    "del data_train\n",
    "del data_val\n",
    "del data_test\n",
    "torch.cuda.empty_cache()"
   ]
  }
 ],
 "metadata": {
  "kernelspec": {
   "display_name": "py3117",
   "language": "python",
   "name": "py3117"
  },
  "language_info": {
   "codemirror_mode": {
    "name": "ipython",
    "version": 3
   },
   "file_extension": ".py",
   "mimetype": "text/x-python",
   "name": "python",
   "nbconvert_exporter": "python",
   "pygments_lexer": "ipython3",
   "version": "3.11.7"
  }
 },
 "nbformat": 4,
 "nbformat_minor": 4
}
