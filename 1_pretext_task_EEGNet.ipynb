{
 "cells": [
  {
   "cell_type": "markdown",
   "metadata": {},
   "source": [
    "# AIM: develop the pretext task with EEGNet"
   ]
  },
  {
   "cell_type": "code",
   "execution_count": 1,
   "metadata": {},
   "outputs": [],
   "source": [
    "import numpy as np\n",
    "import pandas as pd\n",
    "import mne\n",
    "import lightning.pytorch as pl\n",
    "import torch\n",
    "import torch.nn.functional as F\n",
    "import torch.nn as nn\n",
    "from torchmetrics import F1Score\n",
    "import random\n",
    "import os\n",
    "import matplotlib.pyplot as plt\n",
    "\n",
    "%matplotlib inline\n",
    "\n",
    "# prevent extensive logging\n",
    "mne.set_log_level('WARNING')"
   ]
  },
  {
   "cell_type": "code",
   "execution_count": 2,
   "metadata": {},
   "outputs": [
    {
     "name": "stdout",
     "output_type": "stream",
     "text": [
      "<Info | 8 non-empty values\n",
      " bads: []\n",
      " ch_names: Fp1, Fp2, F7, F3, Fz, F4, F8, FC3, FCz, FC4, T7, C3, Cz, C4, T8, ...\n",
      " chs: 26 EEG, 5 EOG, 1 ECG\n",
      " custom_ref_applied: False\n",
      " dig: 29 items (3 Cardinal, 26 EEG)\n",
      " highpass: 0.0 Hz\n",
      " lowpass: 250.0 Hz\n",
      " meas_date: unspecified\n",
      " nchan: 32\n",
      " projs: []\n",
      " sfreq: 500.0 Hz\n",
      ">\n"
     ]
    }
   ],
   "source": [
    "## Set montage based on channel names and locations provided in Van Dijk et al., (2022) (Copied from Anne van Duijvenbode)\n",
    "\n",
    "ch_types = ['eeg', 'eeg', 'eeg', 'eeg', 'eeg', 'eeg', 'eeg', 'eeg', 'eeg', 'eeg', 'eeg', 'eeg', 'eeg', 'eeg',\\\n",
    "           'eeg', 'eeg', 'eeg', 'eeg', 'eeg', 'eeg', 'eeg', 'eeg', 'eeg', 'eeg', 'eeg', 'eeg', \\\n",
    "           'eog', 'eog', 'eog', 'eog', 'ecg', 'eog', 'emg']\n",
    "\n",
    "ch_names = ['Fp1', 'Fp2', 'F7', 'F3', 'Fz', 'F4', 'F8', 'FC3', 'FCz', 'FC4', 'T7', 'C3', 'Cz', 'C4', 'T8', 'CP3', \\\n",
    "            'CPz', 'CP4', 'P7', 'P3', 'Pz', 'P4', 'P8', 'O1', 'Oz', 'O2', 'VPVA', 'VNVB', 'HPHL', 'HNHR', 'Erbs', \\\n",
    "            'OrbOcc', 'Mass']\n",
    "\n",
    "dict_eeg_channels =  {ch_names[i]: ch_types[i] for i in range(len(ch_types))}\n",
    "\n",
    "dict_ch_pos = {'Fp1' : [-26.81, 84.06, -10.56],\n",
    "               'Fp2' : [29.41, 83.74, -10.04],\n",
    "               'F7'  : [-66.99, 41.69, -15.96],\n",
    "               'F3'  : [-48.05, 51.87, 39.87],\n",
    "               'Fz'  : [0.90, 57.01, 66.36],\n",
    "               'F4'  : [50.38, 51.84, 41.33],\n",
    "               'F8'  : [68.71, 41.16, -15.31],\n",
    "               'FC3' : [-58.83, 21.02, 54.82],\n",
    "               'FCz' : [0.57, 24.63, 87.63],\n",
    "               'FC4' : [60.29, 21.16, 55.58], \n",
    "               'T7'  : [-83.36, -16.52, -12.65], \n",
    "               'C3'  : [-65.57, -13.25, 64.98],\n",
    "               'Cz'  : [0.23, -11.28, 99.81],\n",
    "               'C4'  : [66.50, -12.80, 65.11],\n",
    "               'T8'  : [84.44, -16.65, -11.79], \n",
    "               'CP3' : [-65.51, -48.48, 68.57],\n",
    "               'CPz' : [-0.42, -48.77, 98.37], \n",
    "               'CP4' : [65.03, -48.35, 68.57], \n",
    "               'P7': [-71.46, -75.17, -3.70], \n",
    "               'P3'  : [-55.07, -80.11, 59.44], \n",
    "               'Pz'  : [-0.87, -82.23, 82.43],\n",
    "               'P4'  : [53.51, -80.13, 59.40], \n",
    "               'P8' : [71.10, -75.17, -3.69], \n",
    "               'O1'  : [-28.98, -114.52, 9.67],  \n",
    "               'Oz'  : [-1.41, -117.79, 15.84],\n",
    "               'O2'  : [26.89, -114.68, 9.45]\n",
    "              }\n",
    "\n",
    "dict_ch_pos_m = {'Fp1' : [-0.2681, 0.8406, -0.1056],\n",
    "               'Fp2' : [0.2941, 0.8374, -0.1004],\n",
    "               'F7'  : [-0.6699, 0.4169, -0.1596],\n",
    "               'F3'  : [-0.4805, 0.5187, 0.3987],\n",
    "               'Fz'  : [0.0090, 0.5701, 0.6636],\n",
    "               'F4'  : [0.5038, 0.5184, 0.4133],\n",
    "               'F8'  : [0.6871, 0.4116, -0.1531],\n",
    "               'FC3' : [-0.5883, 0.2102, 0.5482],\n",
    "               'FCz' : [0.0057, 0.2463, 0.8763],\n",
    "               'FC4' : [0.6029, 0.2116, 0.5558], \n",
    "               'T7'  : [-0.8336, -0.1652, -0.1265], \n",
    "               'C3'  : [-0.6557, -0.1325, 0.6498],\n",
    "               'Cz'  : [0.0023, -0.1128, 0.9981],\n",
    "               'C4'  : [0.6650, -0.1280, 0.6511],\n",
    "               'T8'  : [0.8444, -0.1665, -0.1179], \n",
    "               'CP3' : [-0.6551, -0.4848, 0.6857],\n",
    "               'CPz' : [-0.042, -0.4877, 0.9837], \n",
    "               'CP4' : [0.6503, -0.4835, 0.6857], \n",
    "               'P7'  : [-0.7146, -0.7517, -0.0370], \n",
    "               'P3'  : [-0.5507, -0.8011, 0.5944], \n",
    "               'Pz'  : [-0.0087, -0.8223, 0.8243],\n",
    "               'P4'  : [0.5351, -0.8013, 0.5940], \n",
    "               'P8'  : [0.7110, -0.7517, -0.0369], \n",
    "               'O1'  : [-0.2898, -1.1452, 0.0967],  \n",
    "               'Oz'  : [-0.0141, -1.1779, 0.1584],\n",
    "               'O2'  : [0.2689, -1.1468, 0.0945]\n",
    "              }\n",
    "\n",
    "dict_ch_pos_array = {'Fp1' : np.array([-0.02681, 0.08406, -0.01056]),\n",
    "               'Fp2' : np.array([0.02941, 0.08374, -0.01004]),\n",
    "               'F7'  : np.array([-0.06699, 0.04169, -0.01596]),\n",
    "               'F3'  : np.array([-0.04805, 0.05187, 0.03987]),\n",
    "               'Fz'  : np.array([0.00090, 0.05701, 0.06636]),\n",
    "               'F4'  : np.array([0.05038, 0.05184, 0.04133]),\n",
    "               'F8'  : np.array([0.06871, 0.04116, -0.01531]),\n",
    "               'FC3' : np.array([-0.05883, 0.02102, 0.05482]),\n",
    "               'FCz' : np.array([0.00057, 0.02463, 0.08763]),\n",
    "               'FC4' : np.array([0.06029, 0.02116, 0.05558]), \n",
    "               'T7'  : np.array([-0.08336, -0.01652, -0.01265]), \n",
    "               'C3'  : np.array([-0.06557, -0.01325, 0.06498]),\n",
    "               'Cz'  : np.array([0.000023, -0.01128, 0.09981]),\n",
    "               'C4'  : np.array([0.06650, -0.01280, 0.06511]),\n",
    "               'T8'  : np.array([0.08444, -0.01665, -0.01179]), \n",
    "               'CP3' : np.array([-0.06551, -0.04848, 0.06857]),\n",
    "               'CPz' : np.array([-0.0042, -0.04877, 0.09837]), \n",
    "               'CP4' : np.array([0.06503, -0.04835, 0.06857]), \n",
    "               'P7'  : np.array([-0.07146, -0.07517, -0.00370]), \n",
    "               'P3'  : np.array([-0.05507, -0.08011, 0.05944]), \n",
    "               'Pz'  : np.array([-0.00087, -0.08223, 0.08243]),\n",
    "               'P4'  : np.array([0.05351, -0.08013, 0.05940]), \n",
    "               'P8'  : np.array([0.07110, -0.07517, -0.00369]), \n",
    "               'O1'  : np.array([-0.02898, -0.11452, 0.00967]),  \n",
    "               'Oz'  : np.array([-0.00141, -0.11779, 0.01584]),\n",
    "               'O2'  : np.array([0.02689, -0.11468, 0.00945])\n",
    "              }\n",
    "\n",
    "\n",
    "## Create montage\n",
    "montage = mne.channels.make_dig_montage(ch_pos = dict_ch_pos_array, coord_frame = 'head')\n",
    "\n",
    "# Create info object for MNE\n",
    "info = mne.create_info(ch_names=ch_names[:32], ch_types=ch_types[:32], sfreq=500)\n",
    "info.set_montage(montage=montage, on_missing= 'raise')\n",
    "print(info)"
   ]
  },
  {
   "cell_type": "markdown",
   "metadata": {},
   "source": [
    "## EEGNet:"
   ]
  },
  {
   "cell_type": "code",
   "execution_count": 3,
   "metadata": {},
   "outputs": [],
   "source": [
    "# create Conv2d with max norm constraint\n",
    "class Conv2dWithConstraint(nn.Conv2d):\n",
    "    def __init__(self, *args, max_norm: int = 1, **kwargs):\n",
    "        self.max_norm = max_norm\n",
    "        super(Conv2dWithConstraint, self).__init__(*args, **kwargs)\n",
    "\n",
    "    def forward(self, x: torch.Tensor) -> torch.Tensor:\n",
    "        self.weight.data = torch.renorm(self.weight.data, p=2, dim=0, maxnorm=self.max_norm)\n",
    "        return super(Conv2dWithConstraint, self).forward(x)"
   ]
  },
  {
   "cell_type": "code",
   "execution_count": 4,
   "metadata": {},
   "outputs": [],
   "source": [
    "from typing import Sequence\n",
    "\n",
    "\n",
    "from lightning.pytorch.callbacks.callback import Callback\n",
    "\n",
    "\n",
    "class EEGNet(pl.LightningModule):\n",
    "    \"\"\"\n",
    "    Code taken and adjusted from pytorch implementation of EEGNet\n",
    "    url: https://github.com/torcheeg/torcheeg/blob/v1.1.0/torcheeg/models/cnn/eegnet.py#L5\n",
    "    \"\"\"\n",
    "    def __init__(self,\n",
    "                 chunk_size: int = 9950, # number of data points in each EEG chunk\n",
    "                 num_electrodes: int = 26, # number of EEG electrodes\n",
    "                 F1: int = 8, # number of filters in first convolutional layer\n",
    "                 F2: int = 16, # number of filters in second convolutional layer\n",
    "                 D: int = 2, # depth multiplier\n",
    "                 num_classes: int = 2, # number of classes to predict\n",
    "                 kernel_1: int = 250, # the filter size of block 1 (half of sfreq (500 Hz))\n",
    "                 kernel_2: int = 63, # the filter size of block 2 (one eight of sfreq (500 Hz))\n",
    "                 dropout: float = 0.25): # dropout rate\n",
    "        super(EEGNet, self).__init__()\n",
    "        self.F1 = F1\n",
    "        self.F2 = F2\n",
    "        self.D = D\n",
    "        self.chunk_size = chunk_size\n",
    "        self.num_classes = num_classes\n",
    "        self.num_electrodes = num_electrodes\n",
    "        self.kernel_1 = kernel_1\n",
    "        self.kernel_2 = kernel_2\n",
    "        self.dropout = dropout\n",
    "\n",
    "        self.block1 = nn.Sequential(\n",
    "            nn.Conv2d(1, self.F1, (1, self.kernel_1), stride=1, padding=(0, self.kernel_1 // 2), bias=False),\n",
    "            nn.BatchNorm2d(self.F1, momentum=0.01, affine=True, eps=1e-3),\n",
    "            Conv2dWithConstraint(self.F1,\n",
    "                                 self.F1 * self.D, (self.num_electrodes, 1),\n",
    "                                 max_norm=1,\n",
    "                                 stride=1,\n",
    "                                 padding=(0, 0),\n",
    "                                 groups=self.F1,\n",
    "                                 bias=False), nn.BatchNorm2d(self.F1 * self.D, momentum=0.01, affine=True, eps=1e-3),\n",
    "            nn.ELU(), nn.AvgPool2d((1, 4), stride=4), nn.Dropout(p=dropout))\n",
    "\n",
    "        self.block2 = nn.Sequential(\n",
    "            nn.Conv2d(self.F1 * self.D,\n",
    "                      self.F1 * self.D, (1, self.kernel_2),\n",
    "                      stride=1,\n",
    "                      padding=(0, self.kernel_2 // 2),\n",
    "                      bias=False,\n",
    "                      groups=self.F1 * self.D),\n",
    "            nn.Conv2d(self.F1 * self.D, self.F2, 1, padding=(0, 0), groups=1, bias=False, stride=1),\n",
    "            nn.BatchNorm2d(self.F2, momentum=0.01, affine=True, eps=1e-3), nn.ELU(), nn.AvgPool2d((1, 8), stride=8),\n",
    "            nn.Dropout(p=dropout))\n",
    "\n",
    "        self.lin = nn.Linear(self.feature_dim(), num_classes, bias=False)\n",
    "\n",
    "        # add metrics\n",
    "        self.train_f1 = F1Score(task='multiclass', num_classes=2, average='macro')\n",
    "        self.val_f1 = F1Score(task='multiclass', num_classes=2, average='macro')\n",
    "\n",
    "    def feature_dim(self):\n",
    "        # function to calculate the number of features after the convolutional blocks\n",
    "        with torch.no_grad():\n",
    "            mock_eeg = torch.zeros(1, 1, self.num_electrodes, self.chunk_size)\n",
    "\n",
    "            mock_eeg = self.block1(mock_eeg)\n",
    "            mock_eeg = self.block2(mock_eeg)\n",
    "\n",
    "        return self.F2 * mock_eeg.shape[3]\n",
    "\n",
    "    def forward(self, x: torch.Tensor) -> torch.Tensor:\n",
    "        x = self.block1(x)\n",
    "        x = self.block2(x)\n",
    "        x = x.flatten(start_dim=1)\n",
    "        x = self.lin(x)\n",
    "        return x\n",
    "    \n",
    "    def training_step(self, train_batch, batch_idx):\n",
    "        x, y = train_batch\n",
    "        x = x.unsqueeze(1)\n",
    "        x = x.float()\n",
    "        logits = self.forward(x)\n",
    "        loss = F.cross_entropy(logits, y)\n",
    "        y_hat = F.log_softmax(logits, dim=1)\n",
    "        y_hat = y_hat.argmax(dim=1)\n",
    "        self.log('train_loss', loss, on_epoch=True, prog_bar=True)\n",
    "        self.log('train_f1', self.train_f1(y_hat, y), prog_bar=True, on_epoch=True)\n",
    "        return loss\n",
    "    \n",
    "    def validation_step(self, val_batch, batch_idx):\n",
    "        x, y = val_batch\n",
    "        x = x.unsqueeze(1)\n",
    "        x = x.float()\n",
    "        logits = self.forward(x)\n",
    "        loss = F.cross_entropy(logits, y)\n",
    "        y_hat = F.log_softmax(logits, dim=1)\n",
    "        y_hat = y_hat.argmax(dim=1)\n",
    "        self.log('val_loss', loss, prog_bar=True, on_epoch=True)\n",
    "        self.log('val_f1', self.val_f1(y_hat, y), prog_bar=True, on_epoch=True)\n",
    "        return loss\n",
    "    \n",
    "    def test_step(self, test_batch, batch_idx):\n",
    "        x, y = test_batch\n",
    "        x = x.unsqueeze(1)\n",
    "        x = x.float()\n",
    "        logits = self.forward(x)\n",
    "        loss = F.cross_entropy(logits, y)\n",
    "        y_hat = F.log_softmax(logits, dim=1)\n",
    "        y_hat = y_hat.argmax(dim=1)\n",
    "        self.log('test_loss', loss, prog_bar=True)\n",
    "        self.log('test_f1', self.val_f1(y_hat, y), prog_bar=True)\n",
    "        return loss\n",
    "    \n",
    "    def predict_step(self, batch):\n",
    "        x = batch\n",
    "        x = x.unsqueeze(1)\n",
    "        x = x.float()\n",
    "        logits = self.forward(x)\n",
    "        y_hat = F.log_softmax(logits, dim=1)\n",
    "        y_hat = y_hat.argmax(dim=1)\n",
    "        return y_hat\n",
    "    \n",
    "    def configure_optimizers(self):\n",
    "        optimizer = torch.optim.Adam(self.parameters(), lr=1e-3)\n",
    "        return optimizer\n",
    "    \n"
   ]
  },
  {
   "cell_type": "markdown",
   "metadata": {},
   "source": [
    "## Pretext task"
   ]
  },
  {
   "cell_type": "code",
   "execution_count": 5,
   "metadata": {},
   "outputs": [],
   "source": [
    "# function to get list with all filepaths of EEG data\n",
    "# def get_filepaths(eeg_dir, sample_ids, recording_condition):\n",
    "#     \"\"\"\n",
    "#     Function to get all filepaths of EEG data for a specific recording condition and sample_ids\n",
    "#     :param eeg_dir: directory where EEG data is stored\n",
    "#     :param sample_ids: list of sample_ids to include\n",
    "#     :param recording_condition: recording condition to include (EC or EO) (str)\n",
    "#     :return: list of filepaths\n",
    "#     \"\"\"\n",
    "#     filepaths = []\n",
    "#     for subdir, dirs, files in os.walk(eeg_dir): # iterate through all files\n",
    "#         for file in files:\n",
    "#             if any(sample_id in file for sample_id in sample_ids): # filter participants to include\n",
    "#                 if recording_condition in file and 'ses-1' in file and '.npy' in file and 'BAD' not in file: # filter first session, .npy files, and non-bad files\n",
    "#                     filepath = os.path.join(subdir, file) # path to eeg file\n",
    "#                     filepaths.append(filepath)\n",
    "#     return filepaths\n",
    "\n",
    "def get_filepaths(eeg_dir, sample_ids, recording_condition):\n",
    "    \"\"\"\n",
    "    Function to get all filepaths of EEG data for a specific recording condition and sample_ids\n",
    "    :param eeg_dir: directory where EEG data is stored\n",
    "    :param sample_ids: list of sample_ids to include\n",
    "    :param recording_condition: recording condition to include (EC or EO) (str)\n",
    "    :return: list of filepaths\n",
    "    \"\"\"\n",
    "    filepaths = []\n",
    "    for subdir, dirs, files in os.walk(eeg_dir): # iterate through all files\n",
    "        for file in files:\n",
    "            if any(sample_id in file for sample_id in sample_ids): # filter participants to include\n",
    "                if 'ses-1' in file and '.npy' in file and 'BAD' not in file: # filter first session, .npy files, and non-bad files\n",
    "                    filepath = os.path.join(subdir, file) # path to eeg file\n",
    "                    filepaths.append(filepath)\n",
    "    return filepaths\n",
    "\n",
    "def get_participant_ids(eeg_dir):\n",
    "    \"\"\"\n",
    "    Function to get all participant ids for a specific recording condition\n",
    "    :param eeg_dir: directory where EEG data is stored\n",
    "    :return: list of participant ids\n",
    "    \"\"\"\n",
    "    participant_ids = []\n",
    "    for subdir, dirs, files in os.walk(eeg_dir): # iterate through all files\n",
    "        for file in files:\n",
    "            if 'ses-1' in file and '.npy' in file and 'BAD' not in file: # filter first session, .npy files, and non-bad files\n",
    "                participant_id = file.split('_')[0] # extract participant id\n",
    "                if participant_id not in participant_ids:\n",
    "                    participant_ids.append(participant_id)\n",
    "    return participant_ids\n",
    "\n",
    "\n",
    "# function to load and epoch EEG data\n",
    "def load_and_epoch_data(filepath):\n",
    "\n",
    "    # load data\n",
    "    eeg_data = np.load(filepath, allow_pickle=True)\n",
    "    eeg_data = mne.io.RawArray(np.squeeze(eeg_data['data']), info)\n",
    "\n",
    "    # epoch data\n",
    "    epochs = mne.make_fixed_length_epochs(eeg_data, duration=9.95, overlap=0, preload=True)\n",
    "    epochs = epochs.pick_types(eeg=True) # only select EEG channels\n",
    "    epochs = epochs.get_data(copy=False) # convert to array\n",
    "\n",
    "    return epochs\n",
    "\n",
    "# function to sample two epochs and assign a label depending on whether the epochs are adjacent or not\n",
    "def sample_two_epochs(epochs):\n",
    "    if random.random() > 0.5: # decide whether to sample two adjacent epochs or two seperated epochs\n",
    "        label = 1\n",
    "        sample_idx = random.randint(0, len(epochs)-2) # -2 to prevent sampling the last epoch\n",
    "        sample_idxs = [sample_idx, sample_idx+1]\n",
    "    else:\n",
    "        label = 0\n",
    "        sample_idx = random.randint(0, len(epochs)-1)\n",
    "        sample_idxs = [sample_idx, random.choice([i for i in range(len(epochs)) if i not in [sample_idx - 1, sample_idx, sample_idx + 1]])] \n",
    "    sampled_epochs = epochs[sample_idxs]\n",
    "    sampled_epochs = sampled_epochs.reshape(26, 9950)\n",
    "    # print(sample_idxs, label)    \n",
    "    return sampled_epochs, label"
   ]
  },
  {
   "cell_type": "code",
   "execution_count": 6,
   "metadata": {},
   "outputs": [],
   "source": [
    "# function to create a dataset with EEG data\n",
    "## CREATED WITH HELP OF GITHUB COPILOT\n",
    "class RPDataset(torch.utils.data.Dataset):\n",
    "    def __init__(self, eeg_dir, sample_ids, recording_condition):\n",
    "        self.filepaths = get_filepaths(eeg_dir, sample_ids, recording_condition)\n",
    "    \n",
    "    def __len__(self):\n",
    "        return len(self.filepaths)\n",
    "    \n",
    "    def __getitem__(self, idx):\n",
    "        epochs = load_and_epoch_data(self.filepaths[idx])\n",
    "        sampled_epochs, label = sample_two_epochs(epochs)\n",
    "        return sampled_epochs, label"
   ]
  },
  {
   "cell_type": "code",
   "execution_count": 7,
   "metadata": {},
   "outputs": [
    {
     "name": "stdout",
     "output_type": "stream",
     "text": [
      "2500\n",
      "(26, 9950)\n"
     ]
    }
   ],
   "source": [
    "# create dataset\n",
    "from torch.utils.data import DataLoader\n",
    "eeg_dir = \"D:\\Documents\\RU\\Master_Neurobiology\\Internship_jaar_2\\Project\\TD-BRAIN\\TDBRAIN-dataset-derivatives\\derivatives\\preprocessed\"\n",
    "participant_ids = get_participant_ids(eeg_dir)\n",
    "sample_ids = random.sample(participant_ids, 100) # randomly select 100 participants for testing\n",
    "\n",
    "dataset = RPDataset(eeg_dir, participant_ids, 'EC')\n",
    "print(len(dataset))\n",
    "print(dataset[0][0].shape)      "
   ]
  },
  {
   "cell_type": "code",
   "execution_count": 8,
   "metadata": {},
   "outputs": [],
   "source": [
    "# obtain indices of dataset split into train, validation, and test set\n",
    "# code from github copilot\n",
    "from sklearn.model_selection import train_test_split\n",
    "\n",
    "labels = np.array([sample[1] for sample in dataset])\n",
    "data_trainval_indices, data_test_indices = train_test_split(\n",
    "    np.arange(len(dataset)), test_size=0.2, random_state=42, stratify=labels\n",
    ")\n",
    "trainval_labels = labels[data_trainval_indices]\n",
    "data_train_indices, data_val_indices = train_test_split(\n",
    "    data_trainval_indices, test_size=0.2, random_state=42, stratify=trainval_labels\n",
    ")\n",
    "\n",
    "# Save indices to disk\n",
    "np.save('data_train_indices.npy', data_train_indices)\n",
    "np.save('data_val_indices.npy', data_val_indices)\n",
    "np.save('data_test_indices.npy', data_test_indices)"
   ]
  },
  {
   "cell_type": "code",
   "execution_count": 9,
   "metadata": {},
   "outputs": [
    {
     "name": "stdout",
     "output_type": "stream",
     "text": [
      "Train: 1600, Val: 400, Test: 500\n",
      "Train: (array([0, 1]), array([800, 800], dtype=int64))\n",
      "Val: (array([0, 1]), array([201, 199], dtype=int64))\n",
      "Test: (array([0, 1]), array([255, 245], dtype=int64))\n"
     ]
    }
   ],
   "source": [
    "# obtain actual train, val, test splits\n",
    "# code from github copilot\n",
    "from torch.utils.data import Subset\n",
    "\n",
    "# Load indices from disk\n",
    "data_train_indices = np.load('data_train_indices.npy')\n",
    "data_val_indices = np.load('data_val_indices.npy')\n",
    "data_test_indices = np.load('data_test_indices.npy')\n",
    "\n",
    "# Create subsets using the indices\n",
    "data_train = Subset(dataset, data_train_indices)\n",
    "data_val = Subset(dataset, data_val_indices)\n",
    "data_test = Subset(dataset, data_test_indices)\n",
    "\n",
    "# Print dataset sizes and label distributions\n",
    "train_labels = [dataset[i][1] for i in data_train_indices]\n",
    "val_labels = [dataset[i][1] for i in data_val_indices]\n",
    "test_labels = [dataset[i][1] for i in data_test_indices]\n",
    "\n",
    "print(f\"Train: {len(data_train)}, Val: {len(data_val)}, Test: {len(data_test)}\")\n",
    "print(f\"Train: {np.unique(train_labels, return_counts=True)}\")\n",
    "print(f\"Val: {np.unique(val_labels, return_counts=True)}\")\n",
    "print(f\"Test: {np.unique(test_labels, return_counts=True)}\")"
   ]
  },
  {
   "cell_type": "code",
   "execution_count": 10,
   "metadata": {},
   "outputs": [
    {
     "name": "stderr",
     "output_type": "stream",
     "text": [
      "Using 16bit Automatic Mixed Precision (AMP)\n",
      "GPU available: True (cuda), used: True\n",
      "TPU available: False, using: 0 TPU cores\n",
      "IPU available: False, using: 0 IPUs\n",
      "HPU available: False, using: 0 HPUs\n",
      "You are using a CUDA device ('NVIDIA GeForce RTX 3060') that has Tensor Cores. To properly utilize them, you should set `torch.set_float32_matmul_precision('medium' | 'high')` which will trade-off precision for performance. For more details, read https://pytorch.org/docs/stable/generated/torch.set_float32_matmul_precision.html#torch.set_float32_matmul_precision\n",
      "LOCAL_RANK: 0 - CUDA_VISIBLE_DEVICES: [0]\n",
      "\n",
      "  | Name     | Type              | Params\n",
      "-----------------------------------------------\n",
      "0 | block1   | Sequential        | 2.5 K \n",
      "1 | block2   | Sequential        | 1.3 K \n",
      "2 | lin      | Linear            | 9.9 K \n",
      "3 | train_f1 | MulticlassF1Score | 0     \n",
      "4 | val_f1   | MulticlassF1Score | 0     \n",
      "-----------------------------------------------\n",
      "13.7 K    Trainable params\n",
      "0         Non-trainable params\n",
      "13.7 K    Total params\n",
      "0.055     Total estimated model params size (MB)\n"
     ]
    },
    {
     "data": {
      "application/vnd.jupyter.widget-view+json": {
       "model_id": "25bfcba0dd614baeac9e1286fbe35b0d",
       "version_major": 2,
       "version_minor": 0
      },
      "text/plain": [
       "Sanity Checking: |          | 0/? [00:00<?, ?it/s]"
      ]
     },
     "metadata": {},
     "output_type": "display_data"
    },
    {
     "name": "stderr",
     "output_type": "stream",
     "text": [
      "c:\\Users\\tuur\\anaconda3\\envs\\mne\\Lib\\site-packages\\lightning\\pytorch\\trainer\\connectors\\data_connector.py:441: The 'val_dataloader' does not have many workers which may be a bottleneck. Consider increasing the value of the `num_workers` argument` to `num_workers=11` in the `DataLoader` to improve performance.\n",
      "c:\\Users\\tuur\\anaconda3\\envs\\mne\\Lib\\site-packages\\lightning\\pytorch\\trainer\\connectors\\data_connector.py:441: The 'train_dataloader' does not have many workers which may be a bottleneck. Consider increasing the value of the `num_workers` argument` to `num_workers=11` in the `DataLoader` to improve performance.\n"
     ]
    },
    {
     "data": {
      "application/vnd.jupyter.widget-view+json": {
       "model_id": "292ec841159245f8a99810829eb4551d",
       "version_major": 2,
       "version_minor": 0
      },
      "text/plain": [
       "Training: |          | 0/? [00:00<?, ?it/s]"
      ]
     },
     "metadata": {},
     "output_type": "display_data"
    },
    {
     "data": {
      "application/vnd.jupyter.widget-view+json": {
       "model_id": "71f47ef3bb604ad8abb852e781c3d78b",
       "version_major": 2,
       "version_minor": 0
      },
      "text/plain": [
       "Validation: |          | 0/? [00:00<?, ?it/s]"
      ]
     },
     "metadata": {},
     "output_type": "display_data"
    },
    {
     "data": {
      "application/vnd.jupyter.widget-view+json": {
       "model_id": "5348b967811a44ada018b6da60e44971",
       "version_major": 2,
       "version_minor": 0
      },
      "text/plain": [
       "Validation: |          | 0/? [00:00<?, ?it/s]"
      ]
     },
     "metadata": {},
     "output_type": "display_data"
    },
    {
     "data": {
      "application/vnd.jupyter.widget-view+json": {
       "model_id": "a857d936555e435cbc6a2c98cffc9c9b",
       "version_major": 2,
       "version_minor": 0
      },
      "text/plain": [
       "Validation: |          | 0/? [00:00<?, ?it/s]"
      ]
     },
     "metadata": {},
     "output_type": "display_data"
    },
    {
     "data": {
      "application/vnd.jupyter.widget-view+json": {
       "model_id": "29a67e8e49b443128d302eeddceb2136",
       "version_major": 2,
       "version_minor": 0
      },
      "text/plain": [
       "Validation: |          | 0/? [00:00<?, ?it/s]"
      ]
     },
     "metadata": {},
     "output_type": "display_data"
    },
    {
     "data": {
      "application/vnd.jupyter.widget-view+json": {
       "model_id": "0471a4a35fa64aa197a15d1fd26a061e",
       "version_major": 2,
       "version_minor": 0
      },
      "text/plain": [
       "Validation: |          | 0/? [00:00<?, ?it/s]"
      ]
     },
     "metadata": {},
     "output_type": "display_data"
    },
    {
     "data": {
      "application/vnd.jupyter.widget-view+json": {
       "model_id": "0dcde87b9d534c2c986dd5e437870481",
       "version_major": 2,
       "version_minor": 0
      },
      "text/plain": [
       "Validation: |          | 0/? [00:00<?, ?it/s]"
      ]
     },
     "metadata": {},
     "output_type": "display_data"
    },
    {
     "data": {
      "application/vnd.jupyter.widget-view+json": {
       "model_id": "43ad6218645443bb82e4663228b9ed63",
       "version_major": 2,
       "version_minor": 0
      },
      "text/plain": [
       "Validation: |          | 0/? [00:00<?, ?it/s]"
      ]
     },
     "metadata": {},
     "output_type": "display_data"
    },
    {
     "data": {
      "application/vnd.jupyter.widget-view+json": {
       "model_id": "c2593d294ed64778b540a1aef76c3097",
       "version_major": 2,
       "version_minor": 0
      },
      "text/plain": [
       "Validation: |          | 0/? [00:00<?, ?it/s]"
      ]
     },
     "metadata": {},
     "output_type": "display_data"
    },
    {
     "data": {
      "application/vnd.jupyter.widget-view+json": {
       "model_id": "b545972ea6f444908cc2a5898b451eaf",
       "version_major": 2,
       "version_minor": 0
      },
      "text/plain": [
       "Validation: |          | 0/? [00:00<?, ?it/s]"
      ]
     },
     "metadata": {},
     "output_type": "display_data"
    },
    {
     "data": {
      "application/vnd.jupyter.widget-view+json": {
       "model_id": "e5c01f29a3194ec79d4a655ff39ba3f9",
       "version_major": 2,
       "version_minor": 0
      },
      "text/plain": [
       "Validation: |          | 0/? [00:00<?, ?it/s]"
      ]
     },
     "metadata": {},
     "output_type": "display_data"
    },
    {
     "name": "stderr",
     "output_type": "stream",
     "text": [
      "`Trainer.fit` stopped: `max_epochs=10` reached.\n"
     ]
    }
   ],
   "source": [
    "# train model\n",
    "from lightning.pytorch import Trainer\n",
    "from lightning.pytorch.callbacks import EarlyStopping, ModelCheckpoint\n",
    "from lightning.pytorch.loggers import CSVLogger\n",
    "logger = CSVLogger(\"logs\", name=\"pretext_task\")\n",
    "\n",
    "# Create checkpoint callback\n",
    "checkpoint_callback = ModelCheckpoint(monitor='val_f1',\n",
    "                                    mode='max',\n",
    "                                    save_top_k=3,\n",
    "                                    filename='{epoch}-{train_loss:.2f}-{train_f1:.2f}-{val_loss:.2f}-{val_f1:.2f}',\n",
    "                                    )\n",
    "\n",
    "model = EEGNet()\n",
    "trainer = Trainer(\n",
    "    precision='16-mixed',\n",
    "    accelerator='gpu',\n",
    "    devices=1,\n",
    "    max_epochs=10,\n",
    "    callbacks=checkpoint_callback,\n",
    "    enable_progress_bar=True,\n",
    "    enable_model_summary=True,\n",
    "    enable_checkpointing=True,\n",
    "    logger=logger,\n",
    "    log_every_n_steps=5,\n",
    ")\n",
    "\n",
    "train_loader = DataLoader(data_train, batch_size=100, shuffle=True, drop_last=True)\n",
    "val_loader = DataLoader(data_val, batch_size=len(data_val), shuffle=False, drop_last=True)\n",
    "\n",
    "trainer.fit(model, train_loader, val_loader)"
   ]
  },
  {
   "cell_type": "markdown",
   "metadata": {},
   "source": [
    "## plotting model diagnostics"
   ]
  },
  {
   "cell_type": "code",
   "execution_count": 11,
   "metadata": {},
   "outputs": [
    {
     "name": "stdout",
     "output_type": "stream",
     "text": [
      "10 10 10 10\n"
     ]
    }
   ],
   "source": [
    "# load metrics data\n",
    "metrics = pd.read_csv(r'D:\\Documents\\Master_Data_Science\\Thesis\\thesis_code\\logs\\pretext_task\\version_0\\metrics.csv')\n",
    "train_f1_epoch = metrics['train_f1_epoch'].dropna()\n",
    "train_loss_epoch = metrics['train_loss_epoch'].dropna()\n",
    "val_f1 = metrics['val_f1'].dropna()\n",
    "val_loss = metrics['val_loss'].dropna()\n",
    "print(len(train_f1_epoch), len(train_loss_epoch), len(val_f1), len(val_loss))"
   ]
  },
  {
   "cell_type": "code",
   "execution_count": 12,
   "metadata": {},
   "outputs": [
    {
     "data": {
      "image/png": "[encoded data removed]",
      "text/plain": [
       "<Figure size 1000x500 with 1 Axes>"
      ]
     },
     "metadata": {},
     "output_type": "display_data"
    }
   ],
   "source": [
    "# plot training and validation f1-score\n",
    "plt.figure(figsize=(10, 5))\n",
    "plt.plot(train_f1_epoch, label='train_f1_score')\n",
    "plt.plot(val_f1, label='val_f1_score')\n",
    "plt.xlabel('Epoch')\n",
    "plt.ylabel('F1-score')\n",
    "plt.legend()\n",
    "plt.title('Training and validation F1-score')\n",
    "plt.show()\n"
   ]
  },
  {
   "cell_type": "code",
   "execution_count": 13,
   "metadata": {},
   "outputs": [
    {
     "data": {
      "image/png": "[encoded data removed]",
      "text/plain": [
       "<Figure size 1000x500 with 1 Axes>"
      ]
     },
     "metadata": {},
     "output_type": "display_data"
    }
   ],
   "source": [
    "# plot training and validation loss\n",
    "plt.figure(figsize=(10, 5))\n",
    "plt.plot(train_loss_epoch, label='train_loss')\n",
    "plt.plot(val_loss, label='val_loss')\n",
    "plt.xlabel('Epoch')\n",
    "plt.ylabel('Loss')\n",
    "plt.legend()\n",
    "plt.title('Training and validation loss')\n",
    "plt.show()"
   ]
  }
 ],
 "metadata": {
  "kernelspec": {
   "display_name": "mne",
   "language": "python",
   "name": "python3"
  },
  "language_info": {
   "codemirror_mode": {
    "name": "ipython",
    "version": 3
   },
   "file_extension": ".py",
   "mimetype": "text/x-python",
   "name": "python",
   "nbconvert_exporter": "python",
   "pygments_lexer": "ipython3",
   "version": "3.11.7"
  }
 },
 "nbformat": 4,
 "nbformat_minor": 2
}
