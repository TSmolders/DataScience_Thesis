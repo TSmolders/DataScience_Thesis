{
 "cells": [
  {
   "cell_type": "markdown",
   "metadata": {},
   "source": [
    "# AIM: develop the pretext task with EEGNet"
   ]
  },
  {
   "cell_type": "code",
   "execution_count": 1,
   "metadata": {},
   "outputs": [],
   "source": [
    "import numpy as np\n",
    "import pandas as pd\n",
    "import mne\n",
    "import lightning.pytorch as pl\n",
    "import torch\n",
    "import torch.nn.functional as F\n",
    "import torch.nn as nn\n",
    "from torchmetrics import F1Score, Accuracy\n",
    "import random\n",
    "import os\n",
    "import matplotlib.pyplot as plt\n",
    "\n",
    "%matplotlib inline\n",
    "\n",
    "# prevent extensive logging\n",
    "mne.set_log_level('WARNING')"
   ]
  },
  {
   "cell_type": "markdown",
   "metadata": {},
   "source": [
    "## Pretext model & components:"
   ]
  },
  {
   "cell_type": "markdown",
   "metadata": {},
   "source": [
    "### EEGNet:"
   ]
  },
  {
   "cell_type": "code",
   "execution_count": 2,
   "metadata": {},
   "outputs": [],
   "source": [
    "# create Conv2d with max norm constraint\n",
    "class Conv2dWithConstraint(nn.Conv2d):\n",
    "    def __init__(self, *args, max_norm: int = 1, **kwargs):\n",
    "        self.max_norm = max_norm\n",
    "        super(Conv2dWithConstraint, self).__init__(*args, **kwargs)\n",
    "\n",
    "    def forward(self, x: torch.Tensor) -> torch.Tensor:\n",
    "        self.weight.data = torch.renorm(self.weight.data, p=2, dim=0, maxnorm=self.max_norm)\n",
    "        return super(Conv2dWithConstraint, self).forward(x)\n",
    "    \n",
    "class EEGNet(nn.Module):\n",
    "    \"\"\"\n",
    "    Code taken and adjusted from pytorch implementation of EEGNet\n",
    "    url: https://github.com/torcheeg/torcheeg/blob/v1.1.0/torcheeg/models/cnn/eegnet.py#L5\n",
    "    \"\"\"\n",
    "    def __init__(self,\n",
    "                 chunk_size: int = 1244, # number of data points in each EEG chunk\n",
    "                 num_electrodes: int = 26, # number of EEG electrodes\n",
    "                 F1: int = 8, # number of filters in first convolutional layer\n",
    "                 F2: int = 16, # number of filters in second convolutional layer\n",
    "                 D: int = 2, # depth multiplier\n",
    "                 num_extracted_features: int = 100, # number of features to extract\n",
    "                 kernel_1: int = 64, # the filter size of block 1 (half of sfreq (125 Hz))\n",
    "                 kernel_2: int = 16, # the filter size of block 2 (one eight of sfreq (500 Hz))\n",
    "                 dropout: float = 0.25): # dropout rate\n",
    "        super(EEGNet, self).__init__()\n",
    "        self.F1 = F1\n",
    "        self.F2 = F2\n",
    "        self.D = D\n",
    "        self.chunk_size = chunk_size\n",
    "        self.num_extracted_features = num_extracted_features\n",
    "        self.num_electrodes = num_electrodes\n",
    "        self.kernel_1 = kernel_1\n",
    "        self.kernel_2 = kernel_2\n",
    "        self.dropout = dropout\n",
    "\n",
    "        self.block1 = nn.Sequential(\n",
    "            nn.Conv2d(1, self.F1, (1, self.kernel_1), stride=1, padding=(0, self.kernel_1 // 2), bias=False),\n",
    "            nn.BatchNorm2d(self.F1, momentum=0.01, affine=True, eps=1e-3),\n",
    "            Conv2dWithConstraint(self.F1,\n",
    "                                 self.F1 * self.D, (self.num_electrodes, 1),\n",
    "                                 max_norm=1,\n",
    "                                 stride=1,\n",
    "                                 padding=(0, 0),\n",
    "                                 groups=self.F1,\n",
    "                                 bias=False), nn.BatchNorm2d(self.F1 * self.D, momentum=0.01, affine=True, eps=1e-3),\n",
    "            nn.ELU(), nn.AvgPool2d((1, 4), stride=4), nn.Dropout(p=dropout))\n",
    "\n",
    "        self.block2 = nn.Sequential(\n",
    "            nn.Conv2d(self.F1 * self.D,\n",
    "                      self.F1 * self.D, (1, self.kernel_2),\n",
    "                      stride=1,\n",
    "                      padding=(0, self.kernel_2 // 2),\n",
    "                      bias=False,\n",
    "                      groups=self.F1 * self.D),\n",
    "            nn.Conv2d(self.F1 * self.D, self.F2, 1, padding=(0, 0), groups=1, bias=False, stride=1),\n",
    "            nn.BatchNorm2d(self.F2, momentum=0.01, affine=True, eps=1e-3), nn.ELU(), nn.AvgPool2d((1, 8), stride=8),\n",
    "            nn.Dropout(p=dropout))\n",
    "\n",
    "        self.lin = nn.Linear(self.feature_dim(), num_extracted_features, bias=False)\n",
    "\n",
    "\n",
    "    def feature_dim(self):\n",
    "        # function to calculate the number of features after the convolutional blocks\n",
    "        with torch.no_grad():\n",
    "            mock_eeg = torch.zeros(1, 1, self.num_electrodes, self.chunk_size)\n",
    "\n",
    "            mock_eeg = self.block1(mock_eeg)\n",
    "            mock_eeg = self.block2(mock_eeg)\n",
    "\n",
    "        return self.F2 * mock_eeg.shape[3]\n",
    "\n",
    "    def forward(self, x: torch.Tensor) -> torch.Tensor:\n",
    "        x = self.block1(x)\n",
    "        x = self.block2(x)\n",
    "        x = x.flatten(start_dim=1)\n",
    "        x = self.lin(x)\n",
    "        return x"
   ]
  },
  {
   "cell_type": "markdown",
   "metadata": {},
   "source": [
    "### pretext model:"
   ]
  },
  {
   "cell_type": "code",
   "execution_count": 3,
   "metadata": {},
   "outputs": [],
   "source": [
    "class PretextModel(pl.LightningModule):\n",
    "    \"\"\"\n",
    "    Code taken and adjusted from pytorch implementation of EEGNet\n",
    "    url: https://github.com/torcheeg/torcheeg/blob/v1.1.0/torcheeg/models/cnn/eegnet.py#L5\n",
    "    \"\"\"\n",
    "    def __init__(self, num_extracted_features=100): # dropout rate\n",
    "        super(PretextModel, self).__init__()\n",
    "        # feature extractors\n",
    "        self.EEGNet1 = EEGNet(num_extracted_features=num_extracted_features)\n",
    "        self.EEGNet2 = EEGNet(num_extracted_features=num_extracted_features)\n",
    "        \n",
    "        # linear discriminate layer\n",
    "        self.linear = nn.Linear(num_extracted_features, 1)\n",
    "\n",
    "        # add metrics\n",
    "        self.train_f1 = F1Score(task='multiclass', num_classes=2, average='macro')\n",
    "        self.val_f1 = F1Score(task='multiclass', num_classes=2, average='macro')\n",
    "\n",
    "    def forward(self, x1: torch.Tensor, x2) -> torch.Tensor:\n",
    "        x1 = self.EEGNet1(x1) # forward pass through first EEGNet\n",
    "        x2 = self.EEGNet2(x2) # forward pass through second EEGNet\n",
    "        z = torch.abs(x1 - x2) # calculate the absolute difference between the two feature vectors (contrastive module)\n",
    "        x = self.linear(z) # forward pass through linear layer\n",
    "        return x\n",
    "    \n",
    "    def training_step(self, train_batch, batch_idx):\n",
    "        x, y = train_batch\n",
    "        x1 = x[:, 0, :, :].unsqueeze(1).float()\n",
    "        x2 = x[:, 1, :, :].unsqueeze(1).float()\n",
    "        logits = self.forward(x1, x2)\n",
    "        logits = logits.view(-1)\n",
    "        loss = F.soft_margin_loss(logits, y, reduction='sum')\n",
    "        y_hat = F.sigmoid(logits)\n",
    "        y_hat = torch.where(y_hat > 0.5, 1, -1)\n",
    "        # change -1 classes to 0, as F1Score does not support negative classes\n",
    "        y = torch.where(y == -1, 0, y)\n",
    "        y_hat = torch.where(y_hat == -1, 0, y_hat)\n",
    "        self.log('train_loss', loss, on_epoch=True, prog_bar=True)\n",
    "        self.log('train_f1', self.train_f1(y_hat, y), prog_bar=True, on_epoch=True)\n",
    "        return loss\n",
    "    \n",
    "    def validation_step(self, val_batch, batch_idx):\n",
    "        x, y = val_batch\n",
    "        x1 = x[:, 0, :, :].unsqueeze(1).float()\n",
    "        x2 = x[:, 1, :, :].unsqueeze(1).float()\n",
    "        logits = self.forward(x1, x2)\n",
    "        logits = logits.view(-1)\n",
    "        loss = F.soft_margin_loss(logits, y, reduction='sum')\n",
    "        y_hat = F.sigmoid(logits)\n",
    "        y_hat = torch.where(y_hat > 0.5, 1, -1)\n",
    "        # change -1 classes to 0, as F1Score does not support negative classes\n",
    "        y = torch.where(y == -1, 0, y)\n",
    "        y_hat = torch.where(y_hat == -1, 0, y_hat)\n",
    "        self.log('val_loss', loss, prog_bar=True, on_epoch=True)\n",
    "        self.log('val_f1', self.val_f1(y_hat, y), prog_bar=True, on_epoch=True)\n",
    "        return loss\n",
    "    \n",
    "    def test_step(self, test_batch, batch_idx):\n",
    "        x, y = test_batch\n",
    "        x1 = x[:, 0, :, :].unsqueeze(1).float()\n",
    "        x2 = x[:, 1, :, :].unsqueeze(1).float()\n",
    "        logits = self.forward(x1, x2)\n",
    "        logits = logits.view(-1)\n",
    "        loss = F.soft_margin_loss(logits, y, reduction='sum')\n",
    "        y_hat = F.sigmoid(logits)\n",
    "        y_hat = torch.where(y_hat > 0.5, 1, -1)\n",
    "        # change -1 classes to 0, as F1Score does not support negative classes\n",
    "        y = torch.where(y == -1, 0, y)\n",
    "        y_hat = torch.where(y_hat == -1, 0, y_hat)\n",
    "        self.log('test_loss', loss, prog_bar=True)\n",
    "        self.log('test_f1', self.val_f1(y_hat, y), prog_bar=True)\n",
    "        return loss\n",
    "    \n",
    "    def predict_step(self, batch):\n",
    "        x, y = batch\n",
    "        x1 = x[:, 0, :, :].unsqueeze(1).float()\n",
    "        x2 = x[:, 1, :, :].unsqueeze(1).float()\n",
    "        logits = self.forward(x1, x2)\n",
    "        logits = logits.view(-1)\n",
    "        y_hat = F.sigmoid(logits)\n",
    "        y_hat = torch.where(y_hat > 0.5, 1, -1)\n",
    "        return y_hat\n",
    "    \n",
    "    def configure_optimizers(self):\n",
    "        optimizer = torch.optim.Adam(self.parameters(), lr=0.001, betas=(0.9, 0.999), weight_decay=0) # default hyperparameters (used in EEGNet paper)\n",
    "        return optimizer\n",
    "    \n"
   ]
  },
  {
   "cell_type": "markdown",
   "metadata": {},
   "source": [
    "## Pretext task"
   ]
  },
  {
   "cell_type": "markdown",
   "metadata": {},
   "source": [
    "#### Functions & Classes"
   ]
  },
  {
   "cell_type": "code",
   "execution_count": 4,
   "metadata": {},
   "outputs": [],
   "source": [
    "def get_participant_ids(eeg_dir, epoch_dir=False):\n",
    "    \"\"\"\n",
    "    Function to get all participant ids from EEG data directory\n",
    "    :param eeg_dir: directory where EEG data is stored\n",
    "    :param epoch_dir: whether the data that we want to retrieve is from the epoch directory or from the raw EEG data directory\n",
    "    :return: list of participant ids\n",
    "    \"\"\"\n",
    "    participant_ids = []\n",
    "    if epoch_dir == False:\n",
    "        for subdir, dirs, files in os.walk(eeg_dir): # iterate through all files\n",
    "            for file in files:\n",
    "                if 'ses-1' in file and '.npy' in file and 'BAD' not in file: # filter first session, .npy files, and non-bad files\n",
    "                    participant_id = file.split('_')[0] # extract participant id\n",
    "                    if participant_id not in participant_ids:\n",
    "                        participant_ids.append(participant_id)\n",
    "    else:\n",
    "        participant_ids = [file.split('.')[0] for file in os.listdir(eeg_dir) if '.pt' in file]\n",
    "        \n",
    "    return participant_ids\n",
    "\n",
    "\n",
    "# function to sample two epochs and assign a label depending on whether the epochs are adjacent or not\n",
    "def sample_two_epochs(epochs):\n",
    "    if random.random() > 0.5: # decide whether to sample two adjacent epochs or two seperated epochs\n",
    "        label = 1\n",
    "        sample_idx = random.randint(0, len(epochs)-2) # -2 to prevent sampling the last epoch\n",
    "        sample_idxs = [sample_idx, sample_idx+1]\n",
    "    else:\n",
    "        label = -1\n",
    "        sample_idx = random.randint(0, len(epochs)-1)\n",
    "        sample_idxs = [sample_idx, random.choice([i for i in range(len(epochs)) if i not in [sample_idx - 1, sample_idx, sample_idx + 1]])] \n",
    "    sampled_epochs = epochs[sample_idxs]\n",
    "    # print(sampled_epochs.shape)\n",
    "    return sampled_epochs, label"
   ]
  },
  {
   "cell_type": "code",
   "execution_count": 5,
   "metadata": {},
   "outputs": [],
   "source": [
    "# function to create a dataset with EEG data\n",
    "## CREATED WITH HELP OF GITHUB COPILOT\n",
    "class RPDataset(torch.utils.data.Dataset):\n",
    "    def __init__(self, preprocessed_dir, participant_ids):\n",
    "        self.filepaths = [os.path.join(preprocessed_dir, f\"{participant_id}.pt\") for participant_id in participant_ids]\n",
    "    \n",
    "    def __len__(self):\n",
    "        return len(self.filepaths)\n",
    "    \n",
    "    def __getitem__(self, idx):\n",
    "        epochs = torch.load(self.filepaths[idx])\n",
    "        sampled_epochs, label = sample_two_epochs(epochs)\n",
    "        return sampled_epochs, label"
   ]
  },
  {
   "cell_type": "markdown",
   "metadata": {},
   "source": [
    "#### Data loading & splitting"
   ]
  },
  {
   "cell_type": "code",
   "execution_count": 6,
   "metadata": {},
   "outputs": [
    {
     "name": "stdout",
     "output_type": "stream",
     "text": [
      "1244\n",
      "(2, 26, 1244)\n"
     ]
    }
   ],
   "source": [
    "# create dataset\n",
    "from torch.utils.data import DataLoader\n",
    "eeg_dir = r\"D:\\Documents\\RU\\Master_Neurobiology\\Internship_jaar_2\\Project\\TD-BRAIN\\TDBRAIN-dataset-derivatives\\thesis_epoched_data\\EC\"\n",
    "participant_ids = get_participant_ids(eeg_dir, epoch_dir=True)\n",
    "# sample_ids = random.sample(participant_ids, 100) # randomly select 100 participants for testing\n",
    "\n",
    "dataset = RPDataset(eeg_dir, participant_ids)\n",
    "print(len(dataset))\n",
    "print(dataset[0][0].shape)"
   ]
  },
  {
   "cell_type": "code",
   "execution_count": 7,
   "metadata": {},
   "outputs": [],
   "source": [
    "## TODO: USE REPLICATION SET AS TEST SET\n",
    "# obtain indices of dataset split into train, validation, and test set\n",
    "# code from github copilot\n",
    "from sklearn.model_selection import train_test_split\n",
    "\n",
    "labels = np.array([sample[1] for sample in dataset])\n",
    "data_trainval_indices, data_test_indices = train_test_split(\n",
    "    np.arange(len(dataset)), test_size=0.2, random_state=42, stratify=labels\n",
    ")\n",
    "trainval_labels = labels[data_trainval_indices]\n",
    "data_train_indices, data_val_indices = train_test_split(\n",
    "    data_trainval_indices, test_size=0.2, random_state=42, stratify=trainval_labels\n",
    ")\n",
    "\n",
    "# Save indices to disk\n",
    "np.save('data_train_indices.npy', data_train_indices)\n",
    "np.save('data_val_indices.npy', data_val_indices)\n",
    "np.save('data_test_indices.npy', data_test_indices)"
   ]
  },
  {
   "cell_type": "code",
   "execution_count": 8,
   "metadata": {},
   "outputs": [
    {
     "name": "stdout",
     "output_type": "stream",
     "text": [
      "Train: 796, Val: 199, Test: 249\n",
      "Train: (array([-1,  1]), array([411, 385], dtype=int64))\n",
      "Val: (array([-1,  1]), array([104,  95], dtype=int64))\n",
      "Test: (array([-1,  1]), array([121, 128], dtype=int64))\n"
     ]
    }
   ],
   "source": [
    "# obtain actual train, val, test splits\n",
    "# code from github copilot\n",
    "from torch.utils.data import Subset\n",
    "\n",
    "# Load indices from disk\n",
    "data_train_indices = np.load('data_train_indices.npy')\n",
    "data_val_indices = np.load('data_val_indices.npy')\n",
    "data_test_indices = np.load('data_test_indices.npy')\n",
    "\n",
    "# Create subsets using the indices\n",
    "data_train = Subset(dataset, data_train_indices)\n",
    "data_val = Subset(dataset, data_val_indices)\n",
    "data_test = Subset(dataset, data_test_indices)\n",
    "\n",
    "# Print dataset sizes and label distributions\n",
    "train_labels = [dataset[i][1] for i in data_train_indices]\n",
    "val_labels = [dataset[i][1] for i in data_val_indices]\n",
    "test_labels = [dataset[i][1] for i in data_test_indices]\n",
    "\n",
    "print(f\"Train: {len(data_train)}, Val: {len(data_val)}, Test: {len(data_test)}\")\n",
    "print(f\"Train: {np.unique(train_labels, return_counts=True)}\")\n",
    "print(f\"Val: {np.unique(val_labels, return_counts=True)}\")\n",
    "print(f\"Test: {np.unique(test_labels, return_counts=True)}\")"
   ]
  },
  {
   "cell_type": "markdown",
   "metadata": {},
   "source": [
    "#### Training pretext model"
   ]
  },
  {
   "cell_type": "code",
   "execution_count": 9,
   "metadata": {},
   "outputs": [
    {
     "name": "stderr",
     "output_type": "stream",
     "text": [
      "Using 16bit Automatic Mixed Precision (AMP)\n",
      "GPU available: True (cuda), used: True\n",
      "TPU available: False, using: 0 TPU cores\n",
      "IPU available: False, using: 0 IPUs\n",
      "HPU available: False, using: 0 HPUs\n",
      "You are using a CUDA device ('NVIDIA GeForce RTX 3060') that has Tensor Cores. To properly utilize them, you should set `torch.set_float32_matmul_precision('medium' | 'high')` which will trade-off precision for performance. For more details, read https://pytorch.org/docs/stable/generated/torch.set_float32_matmul_precision.html#torch.set_float32_matmul_precision\n",
      "LOCAL_RANK: 0 - CUDA_VISIBLE_DEVICES: [0]\n",
      "\n",
      "  | Name     | Type              | Params\n",
      "-----------------------------------------------\n",
      "0 | EEGNet1  | EEGNet            | 63.9 K\n",
      "1 | EEGNet2  | EEGNet            | 63.9 K\n",
      "2 | linear   | Linear            | 101   \n",
      "3 | train_f1 | MulticlassF1Score | 0     \n",
      "4 | val_f1   | MulticlassF1Score | 0     \n",
      "-----------------------------------------------\n",
      "127 K     Trainable params\n",
      "0         Non-trainable params\n",
      "127 K     Total params\n",
      "0.512     Total estimated model params size (MB)\n"
     ]
    },
    {
     "data": {
      "application/vnd.jupyter.widget-view+json": {
       "model_id": "6b8b93d0a8f7464a98248da54a8d7d7c",
       "version_major": 2,
       "version_minor": 0
      },
      "text/plain": [
       "Sanity Checking: |          | 0/? [00:00<?, ?it/s]"
      ]
     },
     "metadata": {},
     "output_type": "display_data"
    },
    {
     "name": "stderr",
     "output_type": "stream",
     "text": [
      "c:\\Users\\tuur\\anaconda3\\envs\\mne\\Lib\\site-packages\\lightning\\pytorch\\trainer\\connectors\\data_connector.py:441: The 'val_dataloader' does not have many workers which may be a bottleneck. Consider increasing the value of the `num_workers` argument` to `num_workers=11` in the `DataLoader` to improve performance.\n",
      "c:\\Users\\tuur\\anaconda3\\envs\\mne\\Lib\\site-packages\\lightning\\pytorch\\trainer\\connectors\\data_connector.py:441: The 'train_dataloader' does not have many workers which may be a bottleneck. Consider increasing the value of the `num_workers` argument` to `num_workers=11` in the `DataLoader` to improve performance.\n"
     ]
    },
    {
     "data": {
      "application/vnd.jupyter.widget-view+json": {
       "model_id": "3d5fa5ab19c841939d7dbb638eac22f1",
       "version_major": 2,
       "version_minor": 0
      },
      "text/plain": [
       "Training: |          | 0/? [00:00<?, ?it/s]"
      ]
     },
     "metadata": {},
     "output_type": "display_data"
    },
    {
     "data": {
      "application/vnd.jupyter.widget-view+json": {
       "model_id": "3fe41024eda5409ebf7bd1468024c765",
       "version_major": 2,
       "version_minor": 0
      },
      "text/plain": [
       "Validation: |          | 0/? [00:00<?, ?it/s]"
      ]
     },
     "metadata": {},
     "output_type": "display_data"
    },
    {
     "data": {
      "application/vnd.jupyter.widget-view+json": {
       "model_id": "f677b091230743e1bfbd296b109e0896",
       "version_major": 2,
       "version_minor": 0
      },
      "text/plain": [
       "Validation: |          | 0/? [00:00<?, ?it/s]"
      ]
     },
     "metadata": {},
     "output_type": "display_data"
    },
    {
     "data": {
      "application/vnd.jupyter.widget-view+json": {
       "model_id": "c303b1fff2b04d41ba2e450bbb23a914",
       "version_major": 2,
       "version_minor": 0
      },
      "text/plain": [
       "Validation: |          | 0/? [00:00<?, ?it/s]"
      ]
     },
     "metadata": {},
     "output_type": "display_data"
    },
    {
     "data": {
      "application/vnd.jupyter.widget-view+json": {
       "model_id": "45dad23a47e04affa25041f500b61a48",
       "version_major": 2,
       "version_minor": 0
      },
      "text/plain": [
       "Validation: |          | 0/? [00:00<?, ?it/s]"
      ]
     },
     "metadata": {},
     "output_type": "display_data"
    },
    {
     "data": {
      "application/vnd.jupyter.widget-view+json": {
       "model_id": "fc5b1ecf3e8245c2970f268a267963e9",
       "version_major": 2,
       "version_minor": 0
      },
      "text/plain": [
       "Validation: |          | 0/? [00:00<?, ?it/s]"
      ]
     },
     "metadata": {},
     "output_type": "display_data"
    },
    {
     "data": {
      "application/vnd.jupyter.widget-view+json": {
       "model_id": "2fda1ba16a4445468e6290be428eac16",
       "version_major": 2,
       "version_minor": 0
      },
      "text/plain": [
       "Validation: |          | 0/? [00:00<?, ?it/s]"
      ]
     },
     "metadata": {},
     "output_type": "display_data"
    },
    {
     "data": {
      "application/vnd.jupyter.widget-view+json": {
       "model_id": "64729ef0d931407c8ad43e37064ebe25",
       "version_major": 2,
       "version_minor": 0
      },
      "text/plain": [
       "Validation: |          | 0/? [00:00<?, ?it/s]"
      ]
     },
     "metadata": {},
     "output_type": "display_data"
    },
    {
     "data": {
      "application/vnd.jupyter.widget-view+json": {
       "model_id": "300e350cb53d499988984f7549915b97",
       "version_major": 2,
       "version_minor": 0
      },
      "text/plain": [
       "Validation: |          | 0/? [00:00<?, ?it/s]"
      ]
     },
     "metadata": {},
     "output_type": "display_data"
    },
    {
     "data": {
      "application/vnd.jupyter.widget-view+json": {
       "model_id": "5b7608bea9f84840b7f8d8ab0cffd891",
       "version_major": 2,
       "version_minor": 0
      },
      "text/plain": [
       "Validation: |          | 0/? [00:00<?, ?it/s]"
      ]
     },
     "metadata": {},
     "output_type": "display_data"
    },
    {
     "data": {
      "application/vnd.jupyter.widget-view+json": {
       "model_id": "7c259b8c6a434cdaac405458c58bfc5b",
       "version_major": 2,
       "version_minor": 0
      },
      "text/plain": [
       "Validation: |          | 0/? [00:00<?, ?it/s]"
      ]
     },
     "metadata": {},
     "output_type": "display_data"
    },
    {
     "data": {
      "application/vnd.jupyter.widget-view+json": {
       "model_id": "ffe6b418f17f413abdd00929f8d251da",
       "version_major": 2,
       "version_minor": 0
      },
      "text/plain": [
       "Validation: |          | 0/? [00:00<?, ?it/s]"
      ]
     },
     "metadata": {},
     "output_type": "display_data"
    },
    {
     "data": {
      "application/vnd.jupyter.widget-view+json": {
       "model_id": "6ee4512bc6eb4ad2b589f2cdbfb306b2",
       "version_major": 2,
       "version_minor": 0
      },
      "text/plain": [
       "Validation: |          | 0/? [00:00<?, ?it/s]"
      ]
     },
     "metadata": {},
     "output_type": "display_data"
    },
    {
     "data": {
      "application/vnd.jupyter.widget-view+json": {
       "model_id": "b9a16114d5b84714a4c3c512e7ebe302",
       "version_major": 2,
       "version_minor": 0
      },
      "text/plain": [
       "Validation: |          | 0/? [00:00<?, ?it/s]"
      ]
     },
     "metadata": {},
     "output_type": "display_data"
    },
    {
     "data": {
      "application/vnd.jupyter.widget-view+json": {
       "model_id": "2d4158dd51b7431aae623a1b4b90fa4a",
       "version_major": 2,
       "version_minor": 0
      },
      "text/plain": [
       "Validation: |          | 0/? [00:00<?, ?it/s]"
      ]
     },
     "metadata": {},
     "output_type": "display_data"
    },
    {
     "data": {
      "application/vnd.jupyter.widget-view+json": {
       "model_id": "27fe384468f446d0951d86d98dde156b",
       "version_major": 2,
       "version_minor": 0
      },
      "text/plain": [
       "Validation: |          | 0/? [00:00<?, ?it/s]"
      ]
     },
     "metadata": {},
     "output_type": "display_data"
    },
    {
     "data": {
      "application/vnd.jupyter.widget-view+json": {
       "model_id": "6260cab10f8944b380fdc0b37b02c1d0",
       "version_major": 2,
       "version_minor": 0
      },
      "text/plain": [
       "Validation: |          | 0/? [00:00<?, ?it/s]"
      ]
     },
     "metadata": {},
     "output_type": "display_data"
    },
    {
     "data": {
      "application/vnd.jupyter.widget-view+json": {
       "model_id": "91b905192c4249dc9734aabb21a6f692",
       "version_major": 2,
       "version_minor": 0
      },
      "text/plain": [
       "Validation: |          | 0/? [00:00<?, ?it/s]"
      ]
     },
     "metadata": {},
     "output_type": "display_data"
    },
    {
     "data": {
      "application/vnd.jupyter.widget-view+json": {
       "model_id": "abf3f245d2a244c1bfaa507838d05e30",
       "version_major": 2,
       "version_minor": 0
      },
      "text/plain": [
       "Validation: |          | 0/? [00:00<?, ?it/s]"
      ]
     },
     "metadata": {},
     "output_type": "display_data"
    },
    {
     "data": {
      "application/vnd.jupyter.widget-view+json": {
       "model_id": "70ace620ffcb4b9d9537696691e0484d",
       "version_major": 2,
       "version_minor": 0
      },
      "text/plain": [
       "Validation: |          | 0/? [00:00<?, ?it/s]"
      ]
     },
     "metadata": {},
     "output_type": "display_data"
    },
    {
     "data": {
      "application/vnd.jupyter.widget-view+json": {
       "model_id": "c5e944724c6c4d428667168f02d3e902",
       "version_major": 2,
       "version_minor": 0
      },
      "text/plain": [
       "Validation: |          | 0/? [00:00<?, ?it/s]"
      ]
     },
     "metadata": {},
     "output_type": "display_data"
    },
    {
     "data": {
      "application/vnd.jupyter.widget-view+json": {
       "model_id": "ecaa70eae73d46438e65aa93d18c9580",
       "version_major": 2,
       "version_minor": 0
      },
      "text/plain": [
       "Validation: |          | 0/? [00:00<?, ?it/s]"
      ]
     },
     "metadata": {},
     "output_type": "display_data"
    },
    {
     "data": {
      "application/vnd.jupyter.widget-view+json": {
       "model_id": "d2c070bc4e894bc5a9b3066fd84a1940",
       "version_major": 2,
       "version_minor": 0
      },
      "text/plain": [
       "Validation: |          | 0/? [00:00<?, ?it/s]"
      ]
     },
     "metadata": {},
     "output_type": "display_data"
    },
    {
     "data": {
      "application/vnd.jupyter.widget-view+json": {
       "model_id": "1bed399bdc204fd58ac74d5cc1283806",
       "version_major": 2,
       "version_minor": 0
      },
      "text/plain": [
       "Validation: |          | 0/? [00:00<?, ?it/s]"
      ]
     },
     "metadata": {},
     "output_type": "display_data"
    },
    {
     "data": {
      "application/vnd.jupyter.widget-view+json": {
       "model_id": "1e89a62754714c58b6c338bf5882da35",
       "version_major": 2,
       "version_minor": 0
      },
      "text/plain": [
       "Validation: |          | 0/? [00:00<?, ?it/s]"
      ]
     },
     "metadata": {},
     "output_type": "display_data"
    },
    {
     "data": {
      "application/vnd.jupyter.widget-view+json": {
       "model_id": "a9ed871332c34a1ca70f712cc0c4b3e7",
       "version_major": 2,
       "version_minor": 0
      },
      "text/plain": [
       "Validation: |          | 0/? [00:00<?, ?it/s]"
      ]
     },
     "metadata": {},
     "output_type": "display_data"
    },
    {
     "data": {
      "application/vnd.jupyter.widget-view+json": {
       "model_id": "bd91fa576e364dcebd6efbb9b011ea3b",
       "version_major": 2,
       "version_minor": 0
      },
      "text/plain": [
       "Validation: |          | 0/? [00:00<?, ?it/s]"
      ]
     },
     "metadata": {},
     "output_type": "display_data"
    },
    {
     "data": {
      "application/vnd.jupyter.widget-view+json": {
       "model_id": "b050f6375d684c5cbbeb67d820a68e4c",
       "version_major": 2,
       "version_minor": 0
      },
      "text/plain": [
       "Validation: |          | 0/? [00:00<?, ?it/s]"
      ]
     },
     "metadata": {},
     "output_type": "display_data"
    },
    {
     "data": {
      "application/vnd.jupyter.widget-view+json": {
       "model_id": "3e208a7286cc4a74b097ab4214a0f51b",
       "version_major": 2,
       "version_minor": 0
      },
      "text/plain": [
       "Validation: |          | 0/? [00:00<?, ?it/s]"
      ]
     },
     "metadata": {},
     "output_type": "display_data"
    },
    {
     "data": {
      "application/vnd.jupyter.widget-view+json": {
       "model_id": "96769627efe8430a88e42e9c3acdaa2c",
       "version_major": 2,
       "version_minor": 0
      },
      "text/plain": [
       "Validation: |          | 0/? [00:00<?, ?it/s]"
      ]
     },
     "metadata": {},
     "output_type": "display_data"
    },
    {
     "data": {
      "application/vnd.jupyter.widget-view+json": {
       "model_id": "352ced798efd4365b6d932a5b4e26933",
       "version_major": 2,
       "version_minor": 0
      },
      "text/plain": [
       "Validation: |          | 0/? [00:00<?, ?it/s]"
      ]
     },
     "metadata": {},
     "output_type": "display_data"
    },
    {
     "data": {
      "application/vnd.jupyter.widget-view+json": {
       "model_id": "c467f638598940dca67af4cebe62615a",
       "version_major": 2,
       "version_minor": 0
      },
      "text/plain": [
       "Validation: |          | 0/? [00:00<?, ?it/s]"
      ]
     },
     "metadata": {},
     "output_type": "display_data"
    },
    {
     "data": {
      "application/vnd.jupyter.widget-view+json": {
       "model_id": "2cc410631aa94344bcaea9c40140b0fb",
       "version_major": 2,
       "version_minor": 0
      },
      "text/plain": [
       "Validation: |          | 0/? [00:00<?, ?it/s]"
      ]
     },
     "metadata": {},
     "output_type": "display_data"
    },
    {
     "data": {
      "application/vnd.jupyter.widget-view+json": {
       "model_id": "1d679e454343485aa12808d2ff1df823",
       "version_major": 2,
       "version_minor": 0
      },
      "text/plain": [
       "Validation: |          | 0/? [00:00<?, ?it/s]"
      ]
     },
     "metadata": {},
     "output_type": "display_data"
    },
    {
     "data": {
      "application/vnd.jupyter.widget-view+json": {
       "model_id": "6b356234763441f9a7519f7dc0d5db0a",
       "version_major": 2,
       "version_minor": 0
      },
      "text/plain": [
       "Validation: |          | 0/? [00:00<?, ?it/s]"
      ]
     },
     "metadata": {},
     "output_type": "display_data"
    },
    {
     "data": {
      "application/vnd.jupyter.widget-view+json": {
       "model_id": "ffd16955eeed4c869b3fb891f47a155f",
       "version_major": 2,
       "version_minor": 0
      },
      "text/plain": [
       "Validation: |          | 0/? [00:00<?, ?it/s]"
      ]
     },
     "metadata": {},
     "output_type": "display_data"
    },
    {
     "data": {
      "application/vnd.jupyter.widget-view+json": {
       "model_id": "cb14bf56ac3b4c3c8c9b1e35299e5ef6",
       "version_major": 2,
       "version_minor": 0
      },
      "text/plain": [
       "Validation: |          | 0/? [00:00<?, ?it/s]"
      ]
     },
     "metadata": {},
     "output_type": "display_data"
    },
    {
     "data": {
      "application/vnd.jupyter.widget-view+json": {
       "model_id": "d9b07d1f83b44739a985c9623877e525",
       "version_major": 2,
       "version_minor": 0
      },
      "text/plain": [
       "Validation: |          | 0/? [00:00<?, ?it/s]"
      ]
     },
     "metadata": {},
     "output_type": "display_data"
    },
    {
     "data": {
      "application/vnd.jupyter.widget-view+json": {
       "model_id": "4b033cb2c67f4dccadac9de193f229b9",
       "version_major": 2,
       "version_minor": 0
      },
      "text/plain": [
       "Validation: |          | 0/? [00:00<?, ?it/s]"
      ]
     },
     "metadata": {},
     "output_type": "display_data"
    },
    {
     "data": {
      "application/vnd.jupyter.widget-view+json": {
       "model_id": "309cd1575eae4881bb3982aab519ff4e",
       "version_major": 2,
       "version_minor": 0
      },
      "text/plain": [
       "Validation: |          | 0/? [00:00<?, ?it/s]"
      ]
     },
     "metadata": {},
     "output_type": "display_data"
    },
    {
     "data": {
      "application/vnd.jupyter.widget-view+json": {
       "model_id": "e67389a24453406681c0b7b7de740828",
       "version_major": 2,
       "version_minor": 0
      },
      "text/plain": [
       "Validation: |          | 0/? [00:00<?, ?it/s]"
      ]
     },
     "metadata": {},
     "output_type": "display_data"
    },
    {
     "data": {
      "application/vnd.jupyter.widget-view+json": {
       "model_id": "6df1ce1a9d75441fa1f10b6b5852ed3f",
       "version_major": 2,
       "version_minor": 0
      },
      "text/plain": [
       "Validation: |          | 0/? [00:00<?, ?it/s]"
      ]
     },
     "metadata": {},
     "output_type": "display_data"
    },
    {
     "data": {
      "application/vnd.jupyter.widget-view+json": {
       "model_id": "945c57e443ac4d358c0b162e857e8517",
       "version_major": 2,
       "version_minor": 0
      },
      "text/plain": [
       "Validation: |          | 0/? [00:00<?, ?it/s]"
      ]
     },
     "metadata": {},
     "output_type": "display_data"
    },
    {
     "data": {
      "application/vnd.jupyter.widget-view+json": {
       "model_id": "4b07dd9da761473ea80df12cad40c9ae",
       "version_major": 2,
       "version_minor": 0
      },
      "text/plain": [
       "Validation: |          | 0/? [00:00<?, ?it/s]"
      ]
     },
     "metadata": {},
     "output_type": "display_data"
    },
    {
     "data": {
      "application/vnd.jupyter.widget-view+json": {
       "model_id": "6da04cfa252240bf977d390491f06aa7",
       "version_major": 2,
       "version_minor": 0
      },
      "text/plain": [
       "Validation: |          | 0/? [00:00<?, ?it/s]"
      ]
     },
     "metadata": {},
     "output_type": "display_data"
    },
    {
     "data": {
      "application/vnd.jupyter.widget-view+json": {
       "model_id": "b866bb9e99bc440f890e07d93620075b",
       "version_major": 2,
       "version_minor": 0
      },
      "text/plain": [
       "Validation: |          | 0/? [00:00<?, ?it/s]"
      ]
     },
     "metadata": {},
     "output_type": "display_data"
    },
    {
     "data": {
      "application/vnd.jupyter.widget-view+json": {
       "model_id": "f3e4743c624c4dbf8496952f0d0e9cff",
       "version_major": 2,
       "version_minor": 0
      },
      "text/plain": [
       "Validation: |          | 0/? [00:00<?, ?it/s]"
      ]
     },
     "metadata": {},
     "output_type": "display_data"
    },
    {
     "data": {
      "application/vnd.jupyter.widget-view+json": {
       "model_id": "50b90af6927845a1bb578f67aa2cd9bf",
       "version_major": 2,
       "version_minor": 0
      },
      "text/plain": [
       "Validation: |          | 0/? [00:00<?, ?it/s]"
      ]
     },
     "metadata": {},
     "output_type": "display_data"
    },
    {
     "data": {
      "application/vnd.jupyter.widget-view+json": {
       "model_id": "169beb31c8554eceb6da894319031648",
       "version_major": 2,
       "version_minor": 0
      },
      "text/plain": [
       "Validation: |          | 0/? [00:00<?, ?it/s]"
      ]
     },
     "metadata": {},
     "output_type": "display_data"
    },
    {
     "data": {
      "application/vnd.jupyter.widget-view+json": {
       "model_id": "d12c86de43074ec8b7d96f2ec1970e3e",
       "version_major": 2,
       "version_minor": 0
      },
      "text/plain": [
       "Validation: |          | 0/? [00:00<?, ?it/s]"
      ]
     },
     "metadata": {},
     "output_type": "display_data"
    },
    {
     "data": {
      "application/vnd.jupyter.widget-view+json": {
       "model_id": "f4f1d0db8b704b51b7652e0259efbcf9",
       "version_major": 2,
       "version_minor": 0
      },
      "text/plain": [
       "Validation: |          | 0/? [00:00<?, ?it/s]"
      ]
     },
     "metadata": {},
     "output_type": "display_data"
    },
    {
     "data": {
      "application/vnd.jupyter.widget-view+json": {
       "model_id": "04d42ee234c14f50af80daa4020f0f38",
       "version_major": 2,
       "version_minor": 0
      },
      "text/plain": [
       "Validation: |          | 0/? [00:00<?, ?it/s]"
      ]
     },
     "metadata": {},
     "output_type": "display_data"
    },
    {
     "data": {
      "application/vnd.jupyter.widget-view+json": {
       "model_id": "59b40026c60a4fa99be5df51cb263336",
       "version_major": 2,
       "version_minor": 0
      },
      "text/plain": [
       "Validation: |          | 0/? [00:00<?, ?it/s]"
      ]
     },
     "metadata": {},
     "output_type": "display_data"
    },
    {
     "data": {
      "application/vnd.jupyter.widget-view+json": {
       "model_id": "ddd56c9dafc84099b2af1724f54fd053",
       "version_major": 2,
       "version_minor": 0
      },
      "text/plain": [
       "Validation: |          | 0/? [00:00<?, ?it/s]"
      ]
     },
     "metadata": {},
     "output_type": "display_data"
    },
    {
     "data": {
      "application/vnd.jupyter.widget-view+json": {
       "model_id": "61fc92c007c74e90b8cd290de6998879",
       "version_major": 2,
       "version_minor": 0
      },
      "text/plain": [
       "Validation: |          | 0/? [00:00<?, ?it/s]"
      ]
     },
     "metadata": {},
     "output_type": "display_data"
    },
    {
     "data": {
      "application/vnd.jupyter.widget-view+json": {
       "model_id": "35fd3823fa7642dda5a7764fef6233d4",
       "version_major": 2,
       "version_minor": 0
      },
      "text/plain": [
       "Validation: |          | 0/? [00:00<?, ?it/s]"
      ]
     },
     "metadata": {},
     "output_type": "display_data"
    },
    {
     "data": {
      "application/vnd.jupyter.widget-view+json": {
       "model_id": "59b29a2afc974ed79377128f8636d7bf",
       "version_major": 2,
       "version_minor": 0
      },
      "text/plain": [
       "Validation: |          | 0/? [00:00<?, ?it/s]"
      ]
     },
     "metadata": {},
     "output_type": "display_data"
    },
    {
     "data": {
      "application/vnd.jupyter.widget-view+json": {
       "model_id": "c05f25059d2b46bbbcf694c889a3cc4b",
       "version_major": 2,
       "version_minor": 0
      },
      "text/plain": [
       "Validation: |          | 0/? [00:00<?, ?it/s]"
      ]
     },
     "metadata": {},
     "output_type": "display_data"
    },
    {
     "data": {
      "application/vnd.jupyter.widget-view+json": {
       "model_id": "815466bf0c4f46f4a5fe0cab2a053f10",
       "version_major": 2,
       "version_minor": 0
      },
      "text/plain": [
       "Validation: |          | 0/? [00:00<?, ?it/s]"
      ]
     },
     "metadata": {},
     "output_type": "display_data"
    },
    {
     "data": {
      "application/vnd.jupyter.widget-view+json": {
       "model_id": "aaf3eccdc0464f2686850249d02a4389",
       "version_major": 2,
       "version_minor": 0
      },
      "text/plain": [
       "Validation: |          | 0/? [00:00<?, ?it/s]"
      ]
     },
     "metadata": {},
     "output_type": "display_data"
    },
    {
     "data": {
      "application/vnd.jupyter.widget-view+json": {
       "model_id": "e33750eca8fc4358987897aa7c6dcd70",
       "version_major": 2,
       "version_minor": 0
      },
      "text/plain": [
       "Validation: |          | 0/? [00:00<?, ?it/s]"
      ]
     },
     "metadata": {},
     "output_type": "display_data"
    },
    {
     "data": {
      "application/vnd.jupyter.widget-view+json": {
       "model_id": "ad368c8ff13f4296841d88ead82e109e",
       "version_major": 2,
       "version_minor": 0
      },
      "text/plain": [
       "Validation: |          | 0/? [00:00<?, ?it/s]"
      ]
     },
     "metadata": {},
     "output_type": "display_data"
    },
    {
     "data": {
      "application/vnd.jupyter.widget-view+json": {
       "model_id": "ef738852a3074ce18a1f594eb713dcc1",
       "version_major": 2,
       "version_minor": 0
      },
      "text/plain": [
       "Validation: |          | 0/? [00:00<?, ?it/s]"
      ]
     },
     "metadata": {},
     "output_type": "display_data"
    },
    {
     "data": {
      "application/vnd.jupyter.widget-view+json": {
       "model_id": "d2a02b4073f14044b4b086c1bf25660f",
       "version_major": 2,
       "version_minor": 0
      },
      "text/plain": [
       "Validation: |          | 0/? [00:00<?, ?it/s]"
      ]
     },
     "metadata": {},
     "output_type": "display_data"
    },
    {
     "data": {
      "application/vnd.jupyter.widget-view+json": {
       "model_id": "fa0a6e4285f0455fbf5735c81ba98fbd",
       "version_major": 2,
       "version_minor": 0
      },
      "text/plain": [
       "Validation: |          | 0/? [00:00<?, ?it/s]"
      ]
     },
     "metadata": {},
     "output_type": "display_data"
    },
    {
     "data": {
      "application/vnd.jupyter.widget-view+json": {
       "model_id": "0a60b212814a4ccbaf6766fd5e694f0c",
       "version_major": 2,
       "version_minor": 0
      },
      "text/plain": [
       "Validation: |          | 0/? [00:00<?, ?it/s]"
      ]
     },
     "metadata": {},
     "output_type": "display_data"
    },
    {
     "data": {
      "application/vnd.jupyter.widget-view+json": {
       "model_id": "574cb2dfeede47d89eefca8943640fb3",
       "version_major": 2,
       "version_minor": 0
      },
      "text/plain": [
       "Validation: |          | 0/? [00:00<?, ?it/s]"
      ]
     },
     "metadata": {},
     "output_type": "display_data"
    },
    {
     "data": {
      "application/vnd.jupyter.widget-view+json": {
       "model_id": "3fc0d60ec45948e9a581513ab6b8337a",
       "version_major": 2,
       "version_minor": 0
      },
      "text/plain": [
       "Validation: |          | 0/? [00:00<?, ?it/s]"
      ]
     },
     "metadata": {},
     "output_type": "display_data"
    },
    {
     "data": {
      "application/vnd.jupyter.widget-view+json": {
       "model_id": "e66ff326c1da4837a47ac93fd699daba",
       "version_major": 2,
       "version_minor": 0
      },
      "text/plain": [
       "Validation: |          | 0/? [00:00<?, ?it/s]"
      ]
     },
     "metadata": {},
     "output_type": "display_data"
    },
    {
     "data": {
      "application/vnd.jupyter.widget-view+json": {
       "model_id": "ed67910531964117bfae6765a3a0688f",
       "version_major": 2,
       "version_minor": 0
      },
      "text/plain": [
       "Validation: |          | 0/? [00:00<?, ?it/s]"
      ]
     },
     "metadata": {},
     "output_type": "display_data"
    },
    {
     "data": {
      "application/vnd.jupyter.widget-view+json": {
       "model_id": "64d064f941b54c2f921fcdf12e7361bf",
       "version_major": 2,
       "version_minor": 0
      },
      "text/plain": [
       "Validation: |          | 0/? [00:00<?, ?it/s]"
      ]
     },
     "metadata": {},
     "output_type": "display_data"
    },
    {
     "data": {
      "application/vnd.jupyter.widget-view+json": {
       "model_id": "23c14a4405244a59a4b0c971a33ac94e",
       "version_major": 2,
       "version_minor": 0
      },
      "text/plain": [
       "Validation: |          | 0/? [00:00<?, ?it/s]"
      ]
     },
     "metadata": {},
     "output_type": "display_data"
    },
    {
     "data": {
      "application/vnd.jupyter.widget-view+json": {
       "model_id": "3ac1fce3d37c4f15bd721806bc5be5ad",
       "version_major": 2,
       "version_minor": 0
      },
      "text/plain": [
       "Validation: |          | 0/? [00:00<?, ?it/s]"
      ]
     },
     "metadata": {},
     "output_type": "display_data"
    },
    {
     "data": {
      "application/vnd.jupyter.widget-view+json": {
       "model_id": "d178ca8782c049778b092c83901ad438",
       "version_major": 2,
       "version_minor": 0
      },
      "text/plain": [
       "Validation: |          | 0/? [00:00<?, ?it/s]"
      ]
     },
     "metadata": {},
     "output_type": "display_data"
    },
    {
     "data": {
      "application/vnd.jupyter.widget-view+json": {
       "model_id": "8cc04b89f7eb4119bb4bdee5793762f3",
       "version_major": 2,
       "version_minor": 0
      },
      "text/plain": [
       "Validation: |          | 0/? [00:00<?, ?it/s]"
      ]
     },
     "metadata": {},
     "output_type": "display_data"
    },
    {
     "data": {
      "application/vnd.jupyter.widget-view+json": {
       "model_id": "7221140c07df42bda7e8e45bbae48326",
       "version_major": 2,
       "version_minor": 0
      },
      "text/plain": [
       "Validation: |          | 0/? [00:00<?, ?it/s]"
      ]
     },
     "metadata": {},
     "output_type": "display_data"
    },
    {
     "data": {
      "application/vnd.jupyter.widget-view+json": {
       "model_id": "f2bbc79f70174b8aafcac2dd4450423f",
       "version_major": 2,
       "version_minor": 0
      },
      "text/plain": [
       "Validation: |          | 0/? [00:00<?, ?it/s]"
      ]
     },
     "metadata": {},
     "output_type": "display_data"
    },
    {
     "data": {
      "application/vnd.jupyter.widget-view+json": {
       "model_id": "0201751f323e486aad2aad0c5bf36a88",
       "version_major": 2,
       "version_minor": 0
      },
      "text/plain": [
       "Validation: |          | 0/? [00:00<?, ?it/s]"
      ]
     },
     "metadata": {},
     "output_type": "display_data"
    },
    {
     "data": {
      "application/vnd.jupyter.widget-view+json": {
       "model_id": "4273d5d083f44146b38c3666874dd352",
       "version_major": 2,
       "version_minor": 0
      },
      "text/plain": [
       "Validation: |          | 0/? [00:00<?, ?it/s]"
      ]
     },
     "metadata": {},
     "output_type": "display_data"
    },
    {
     "data": {
      "application/vnd.jupyter.widget-view+json": {
       "model_id": "c23b5d78034c44278c61e6de0ec19263",
       "version_major": 2,
       "version_minor": 0
      },
      "text/plain": [
       "Validation: |          | 0/? [00:00<?, ?it/s]"
      ]
     },
     "metadata": {},
     "output_type": "display_data"
    },
    {
     "data": {
      "application/vnd.jupyter.widget-view+json": {
       "model_id": "2138b4bc4bde4b10b34caea79ac03939",
       "version_major": 2,
       "version_minor": 0
      },
      "text/plain": [
       "Validation: |          | 0/? [00:00<?, ?it/s]"
      ]
     },
     "metadata": {},
     "output_type": "display_data"
    },
    {
     "data": {
      "application/vnd.jupyter.widget-view+json": {
       "model_id": "58342bf4e5f2462db40ca1e9f060feec",
       "version_major": 2,
       "version_minor": 0
      },
      "text/plain": [
       "Validation: |          | 0/? [00:00<?, ?it/s]"
      ]
     },
     "metadata": {},
     "output_type": "display_data"
    },
    {
     "data": {
      "application/vnd.jupyter.widget-view+json": {
       "model_id": "dc1cbf81fb0042e5af2c51a2a993ad8b",
       "version_major": 2,
       "version_minor": 0
      },
      "text/plain": [
       "Validation: |          | 0/? [00:00<?, ?it/s]"
      ]
     },
     "metadata": {},
     "output_type": "display_data"
    },
    {
     "data": {
      "application/vnd.jupyter.widget-view+json": {
       "model_id": "598c0fe8d6b14752b9bfdf957c37702f",
       "version_major": 2,
       "version_minor": 0
      },
      "text/plain": [
       "Validation: |          | 0/? [00:00<?, ?it/s]"
      ]
     },
     "metadata": {},
     "output_type": "display_data"
    },
    {
     "data": {
      "application/vnd.jupyter.widget-view+json": {
       "model_id": "7ed67ef7d35146538c406d7408e9fc6f",
       "version_major": 2,
       "version_minor": 0
      },
      "text/plain": [
       "Validation: |          | 0/? [00:00<?, ?it/s]"
      ]
     },
     "metadata": {},
     "output_type": "display_data"
    },
    {
     "data": {
      "application/vnd.jupyter.widget-view+json": {
       "model_id": "88fe517b133b4dd9b4d44ca49b198297",
       "version_major": 2,
       "version_minor": 0
      },
      "text/plain": [
       "Validation: |          | 0/? [00:00<?, ?it/s]"
      ]
     },
     "metadata": {},
     "output_type": "display_data"
    },
    {
     "data": {
      "application/vnd.jupyter.widget-view+json": {
       "model_id": "c1648bc488924b0d9efcfbcd7b643e66",
       "version_major": 2,
       "version_minor": 0
      },
      "text/plain": [
       "Validation: |          | 0/? [00:00<?, ?it/s]"
      ]
     },
     "metadata": {},
     "output_type": "display_data"
    },
    {
     "data": {
      "application/vnd.jupyter.widget-view+json": {
       "model_id": "33be50a526394a26adb317968f4121cd",
       "version_major": 2,
       "version_minor": 0
      },
      "text/plain": [
       "Validation: |          | 0/? [00:00<?, ?it/s]"
      ]
     },
     "metadata": {},
     "output_type": "display_data"
    },
    {
     "data": {
      "application/vnd.jupyter.widget-view+json": {
       "model_id": "aa0527a645ba4ef19c06eed07e89fdfb",
       "version_major": 2,
       "version_minor": 0
      },
      "text/plain": [
       "Validation: |          | 0/? [00:00<?, ?it/s]"
      ]
     },
     "metadata": {},
     "output_type": "display_data"
    },
    {
     "data": {
      "application/vnd.jupyter.widget-view+json": {
       "model_id": "ab5650b541af475193df566d9ef3f833",
       "version_major": 2,
       "version_minor": 0
      },
      "text/plain": [
       "Validation: |          | 0/? [00:00<?, ?it/s]"
      ]
     },
     "metadata": {},
     "output_type": "display_data"
    },
    {
     "data": {
      "application/vnd.jupyter.widget-view+json": {
       "model_id": "ead1e3f369b34d97af5ee88b05ee3123",
       "version_major": 2,
       "version_minor": 0
      },
      "text/plain": [
       "Validation: |          | 0/? [00:00<?, ?it/s]"
      ]
     },
     "metadata": {},
     "output_type": "display_data"
    },
    {
     "data": {
      "application/vnd.jupyter.widget-view+json": {
       "model_id": "a959e78a2ea24df0954f8f4dd82c54a2",
       "version_major": 2,
       "version_minor": 0
      },
      "text/plain": [
       "Validation: |          | 0/? [00:00<?, ?it/s]"
      ]
     },
     "metadata": {},
     "output_type": "display_data"
    },
    {
     "data": {
      "application/vnd.jupyter.widget-view+json": {
       "model_id": "4a794d240ac44a8eba0db5375ec526fd",
       "version_major": 2,
       "version_minor": 0
      },
      "text/plain": [
       "Validation: |          | 0/? [00:00<?, ?it/s]"
      ]
     },
     "metadata": {},
     "output_type": "display_data"
    },
    {
     "data": {
      "application/vnd.jupyter.widget-view+json": {
       "model_id": "049b45f361554e888c3011fb2c6dab3d",
       "version_major": 2,
       "version_minor": 0
      },
      "text/plain": [
       "Validation: |          | 0/? [00:00<?, ?it/s]"
      ]
     },
     "metadata": {},
     "output_type": "display_data"
    },
    {
     "data": {
      "application/vnd.jupyter.widget-view+json": {
       "model_id": "92a458d331374e9fab3552b7bbaab50d",
       "version_major": 2,
       "version_minor": 0
      },
      "text/plain": [
       "Validation: |          | 0/? [00:00<?, ?it/s]"
      ]
     },
     "metadata": {},
     "output_type": "display_data"
    },
    {
     "data": {
      "application/vnd.jupyter.widget-view+json": {
       "model_id": "fdedd33e81c642eebc76e1965ea52429",
       "version_major": 2,
       "version_minor": 0
      },
      "text/plain": [
       "Validation: |          | 0/? [00:00<?, ?it/s]"
      ]
     },
     "metadata": {},
     "output_type": "display_data"
    },
    {
     "data": {
      "application/vnd.jupyter.widget-view+json": {
       "model_id": "2e1930b21b164e7ba050d4581ab9fc90",
       "version_major": 2,
       "version_minor": 0
      },
      "text/plain": [
       "Validation: |          | 0/? [00:00<?, ?it/s]"
      ]
     },
     "metadata": {},
     "output_type": "display_data"
    },
    {
     "data": {
      "application/vnd.jupyter.widget-view+json": {
       "model_id": "cffa89d008d8403eb5ae76e6c28ff657",
       "version_major": 2,
       "version_minor": 0
      },
      "text/plain": [
       "Validation: |          | 0/? [00:00<?, ?it/s]"
      ]
     },
     "metadata": {},
     "output_type": "display_data"
    },
    {
     "data": {
      "application/vnd.jupyter.widget-view+json": {
       "model_id": "34216ec7f4cc459297e0d0a1277f5204",
       "version_major": 2,
       "version_minor": 0
      },
      "text/plain": [
       "Validation: |          | 0/? [00:00<?, ?it/s]"
      ]
     },
     "metadata": {},
     "output_type": "display_data"
    },
    {
     "data": {
      "application/vnd.jupyter.widget-view+json": {
       "model_id": "bdc88a8f160b4b0ca1b45f68edfad8e3",
       "version_major": 2,
       "version_minor": 0
      },
      "text/plain": [
       "Validation: |          | 0/? [00:00<?, ?it/s]"
      ]
     },
     "metadata": {},
     "output_type": "display_data"
    },
    {
     "data": {
      "application/vnd.jupyter.widget-view+json": {
       "model_id": "0e502a8bbec648a4ab044b23f78851ad",
       "version_major": 2,
       "version_minor": 0
      },
      "text/plain": [
       "Validation: |          | 0/? [00:00<?, ?it/s]"
      ]
     },
     "metadata": {},
     "output_type": "display_data"
    },
    {
     "name": "stderr",
     "output_type": "stream",
     "text": [
      "`Trainer.fit` stopped: `max_epochs=100` reached.\n"
     ]
    }
   ],
   "source": [
    "# train model\n",
    "from lightning.pytorch import Trainer\n",
    "from lightning.pytorch.callbacks import EarlyStopping, ModelCheckpoint\n",
    "from lightning.pytorch.loggers import CSVLogger\n",
    "logger = CSVLogger(\"logs\", name=\"pretext_task\")\n",
    "\n",
    "# Create checkpoint callback\n",
    "checkpoint_callback = ModelCheckpoint(monitor='val_f1',\n",
    "                                    mode='max',\n",
    "                                    save_top_k=3,\n",
    "                                    filename='{epoch}-{train_loss:.2f}-{train_f1:.2f}-{val_loss:.2f}-{val_f1:.2f}',\n",
    "                                    )\n",
    "\n",
    "model = PretextModel()\n",
    "trainer = Trainer(\n",
    "    precision='16-mixed',\n",
    "    accelerator='gpu',\n",
    "    devices=1,\n",
    "    max_epochs=100,\n",
    "    callbacks=checkpoint_callback,\n",
    "    enable_progress_bar=True,\n",
    "    enable_model_summary=True,\n",
    "    enable_checkpointing=True,\n",
    "    logger=logger,\n",
    "    log_every_n_steps=5,\n",
    ")\n",
    "\n",
    "train_loader = DataLoader(data_train, batch_size=88, shuffle=True, drop_last=True)\n",
    "val_loader = DataLoader(data_val, batch_size=len(data_val), shuffle=False, drop_last=True)\n",
    "\n",
    "trainer.fit(model, train_loader, val_loader)"
   ]
  },
  {
   "cell_type": "markdown",
   "metadata": {},
   "source": [
    "## plotting model diagnostics"
   ]
  },
  {
   "cell_type": "code",
   "execution_count": 10,
   "metadata": {},
   "outputs": [
    {
     "name": "stdout",
     "output_type": "stream",
     "text": [
      "100 100 100 100\n"
     ]
    }
   ],
   "source": [
    "# load metrics data\n",
    "metrics = pd.read_csv(r'D:\\Documents\\Master_Data_Science\\Thesis\\thesis_code\\DataScience_Thesis\\logs\\pretext_task\\version_16\\metrics.csv')\n",
    "train_f1_epoch = metrics['train_f1_epoch'].dropna()\n",
    "train_loss_epoch = metrics['train_loss_epoch'].dropna()\n",
    "val_f1 = metrics['val_f1'].dropna()\n",
    "val_loss = metrics['val_loss'].dropna()\n",
    "print(len(train_f1_epoch), len(train_loss_epoch), len(val_f1), len(val_loss))"
   ]
  },
  {
   "cell_type": "code",
   "execution_count": 11,
   "metadata": {},
   "outputs": [
    {
     "data": {
      "image/png": "[encoded data removed]",
      "text/plain": [
       "<Figure size 1000x500 with 1 Axes>"
      ]
     },
     "metadata": {},
     "output_type": "display_data"
    }
   ],
   "source": [
    "# plot training and validation f1-score\n",
    "plt.figure(figsize=(10, 5))\n",
    "plt.plot(train_f1_epoch, label='train_f1_score')\n",
    "plt.plot(val_f1, label='val_f1_score')\n",
    "plt.xlabel('Epoch')\n",
    "plt.ylabel('F1-score')\n",
    "plt.legend()\n",
    "plt.title('Training and validation F1-score')\n",
    "plt.show()\n"
   ]
  },
  {
   "cell_type": "code",
   "execution_count": 12,
   "metadata": {},
   "outputs": [
    {
     "data": {
      "image/png": "[encoded data removed]",
      "text/plain": [
       "<Figure size 1000x500 with 1 Axes>"
      ]
     },
     "metadata": {},
     "output_type": "display_data"
    }
   ],
   "source": [
    "# plot training and validation loss\n",
    "plt.figure(figsize=(10, 5))\n",
    "plt.plot(train_loss_epoch, label='train_loss')\n",
    "plt.plot(val_loss, label='val_loss')\n",
    "plt.xlabel('Epoch')\n",
    "plt.ylabel('Loss')\n",
    "plt.legend()\n",
    "plt.title('Training and validation loss')\n",
    "plt.show()"
   ]
  },
  {
   "cell_type": "code",
   "execution_count": 13,
   "metadata": {},
   "outputs": [
    {
     "name": "stderr",
     "output_type": "stream",
     "text": [
      "GPU available: True (cuda), used: True\n",
      "TPU available: False, using: 0 TPU cores\n",
      "IPU available: False, using: 0 IPUs\n",
      "HPU available: False, using: 0 HPUs\n",
      "LOCAL_RANK: 0 - CUDA_VISIBLE_DEVICES: [0]\n",
      "c:\\Users\\tuur\\anaconda3\\envs\\mne\\Lib\\site-packages\\lightning\\pytorch\\trainer\\connectors\\data_connector.py:441: The 'test_dataloader' does not have many workers which may be a bottleneck. Consider increasing the value of the `num_workers` argument` to `num_workers=11` in the `DataLoader` to improve performance.\n"
     ]
    },
    {
     "data": {
      "text/html": [
       "<pre style=\"white-space:pre;overflow-x:auto;line-height:normal;font-family:Menlo,'DejaVu Sans Mono',consolas,'Courier New',monospace\">┏━━━━━━━━━━━━━━━━━━━━━━━━━━━┳━━━━━━━━━━━━━━━━━━━━━━━━━━━┓\n",
       "┃<span style=\"font-weight: bold\">        Test metric        </span>┃<span style=\"font-weight: bold\">       DataLoader 0        </span>┃\n",
       "┡━━━━━━━━━━━━━━━━━━━━━━━━━━━╇━━━━━━━━━━━━━━━━━━━━━━━━━━━┩\n",
       "│<span style=\"color: #008080; text-decoration-color: #008080\">          test_f1          </span>│<span style=\"color: #800080; text-decoration-color: #800080\">    0.7864735722541809     </span>│\n",
       "│<span style=\"color: #008080; text-decoration-color: #008080\">         test_loss         </span>│<span style=\"color: #800080; text-decoration-color: #800080\">    113.09960174560547     </span>│\n",
       "└───────────────────────────┴───────────────────────────┘\n",
       "</pre>\n"
      ],
      "text/plain": [
       "┏━━━━━━━━━━━━━━━━━━━━━━━━━━━┳━━━━━━━━━━━━━━━━━━━━━━━━━━━┓\n",
       "┃\u001b[1m \u001b[0m\u001b[1m       Test metric       \u001b[0m\u001b[1m \u001b[0m┃\u001b[1m \u001b[0m\u001b[1m      DataLoader 0       \u001b[0m\u001b[1m \u001b[0m┃\n",
       "┡━━━━━━━━━━━━━━━━━━━━━━━━━━━╇━━━━━━━━━━━━━━━━━━━━━━━━━━━┩\n",
       "│\u001b[36m \u001b[0m\u001b[36m         test_f1         \u001b[0m\u001b[36m \u001b[0m│\u001b[35m \u001b[0m\u001b[35m   0.7864735722541809    \u001b[0m\u001b[35m \u001b[0m│\n",
       "│\u001b[36m \u001b[0m\u001b[36m        test_loss        \u001b[0m\u001b[36m \u001b[0m│\u001b[35m \u001b[0m\u001b[35m   113.09960174560547    \u001b[0m\u001b[35m \u001b[0m│\n",
       "└───────────────────────────┴───────────────────────────┘\n"
      ]
     },
     "metadata": {},
     "output_type": "display_data"
    },
    {
     "name": "stderr",
     "output_type": "stream",
     "text": [
      "LOCAL_RANK: 0 - CUDA_VISIBLE_DEVICES: [0]\n",
      "c:\\Users\\tuur\\anaconda3\\envs\\mne\\Lib\\site-packages\\lightning\\pytorch\\trainer\\connectors\\data_connector.py:441: The 'predict_dataloader' does not have many workers which may be a bottleneck. Consider increasing the value of the `num_workers` argument` to `num_workers=11` in the `DataLoader` to improve performance.\n"
     ]
    },
    {
     "name": "stdout",
     "output_type": "stream",
     "text": [
      "classification report:\n",
      "               precision    recall  f1-score   support\n",
      "\n",
      "   separated       0.52      0.40      0.45       121\n",
      "    adjacent       0.54      0.66      0.59       128\n",
      "\n",
      "    accuracy                           0.53       249\n",
      "   macro avg       0.53      0.53      0.52       249\n",
      "weighted avg       0.53      0.53      0.52       249\n",
      "\n",
      "F1-score:\n",
      " 0.5200889547813194\n",
      "Accuracy:\n",
      " 0.5301204819277109\n"
     ]
    },
    {
     "data": {
      "image/png": "[encoded data removed]",
      "text/plain": [
       "<Figure size 640x480 with 1 Axes>"
      ]
     },
     "metadata": {},
     "output_type": "display_data"
    }
   ],
   "source": [
    "## TODO: FIGURE OUT WHY DIFFERENCE IN F1-SCORE BETWEEN SCIKIT-LEARN AND PYTORCH\n",
    "\n",
    "# obtain predictions on test set and plot confusion matrix\n",
    "test_loader = DataLoader(data_test, batch_size=len(data_test), shuffle=False,\n",
    "                            drop_last=True)\n",
    "\n",
    "# model = PretextModel.load_from_checkpoint(r'D:\\Documents\\Master_Data_Science\\Thesis\\thesis_code\\DataScience_Thesis\\logs\\pretext_task\\version_15\\checkpoints\\epoch=45-train_loss=54.10-train_f1=0.67-val_loss=106.12-val_f1=0.72.ckpt')\n",
    "\n",
    "trainer = Trainer(accelerator='gpu', devices=1, enable_progress_bar=False, enable_model_summary=False, logger=False, enable_checkpointing=False)\n",
    "trainer.test(model, test_loader)\n",
    "\n",
    "# compute confusion matrix and classification report with sklearn of best model checkpoint\n",
    "from sklearn.metrics import f1_score, classification_report, confusion_matrix, ConfusionMatrixDisplay\n",
    "y_pred = trainer.predict(model, test_loader)\n",
    "y_pred = np.concatenate(y_pred).flatten()\n",
    "y_pred = np.where(y_pred == -1, 0, y_pred)\n",
    "test_labels = np.where(np.array(test_labels) == -1, 0, np.array(test_labels))\n",
    "y = test_labels\n",
    "\n",
    "class_labels = ['separated', 'adjacent']\n",
    "print('classification report:\\n', classification_report(y, y_pred, target_names=class_labels))\n",
    "print('F1-score:\\n', f1_score(y, y_pred, average=\"macro\"))\n",
    "print('Accuracy:\\n', (y == y_pred).sum() / len(y))\n",
    "cm = confusion_matrix(y, y_pred)\n",
    "ConfusionMatrixDisplay(confusion_matrix=cm, display_labels=class_labels).plot(cmap = 'Blues', values_format = 'd', colorbar=False)\n",
    "plt.grid(False)\n"
   ]
  },
  {
   "cell_type": "code",
   "execution_count": 18,
   "metadata": {},
   "outputs": [],
   "source": [
    "# store weights of pretext model to disk\n",
    "pretrained_dict = model.state_dict()\n",
    "torch.save(pretrained_dict, 'pretext_model_weights.pt')\n"
   ]
  },
  {
   "cell_type": "markdown",
   "metadata": {},
   "source": [
    "## Extracting features"
   ]
  }
 ],
 "metadata": {
  "kernelspec": {
   "display_name": "mne",
   "language": "python",
   "name": "python3"
  },
  "language_info": {
   "codemirror_mode": {
    "name": "ipython",
    "version": 3
   },
   "file_extension": ".py",
   "mimetype": "text/x-python",
   "name": "python",
   "nbconvert_exporter": "python",
   "pygments_lexer": "ipython3",
   "version": "3.11.7"
  }
 },
 "nbformat": 4,
 "nbformat_minor": 2
}
