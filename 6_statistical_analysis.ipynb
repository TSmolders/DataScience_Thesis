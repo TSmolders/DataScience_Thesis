{
 "cells": [
  {
   "cell_type": "markdown",
   "metadata": {},
   "source": [
    "# AIM: compare F1-score distributions of baseline & extended standard ML models"
   ]
  },
  {
   "cell_type": "code",
   "execution_count": 1,
   "metadata": {},
   "outputs": [],
   "source": [
    "from scipy.stats import ttest_rel\n",
    "import joblib\n",
    "import pickle\n",
    "import numpy as np\n",
    "from sklearn.exceptions import InconsistentVersionWarning\n",
    "import warnings\n",
    "warnings.filterwarnings(\"ignore\", category=InconsistentVersionWarning)"
   ]
  },
  {
   "cell_type": "code",
   "execution_count": 2,
   "metadata": {},
   "outputs": [],
   "source": [
    "\n",
    "def get_scores_traditional_ml_models(filename, scores_dir):\n",
    "    nested_cv = joblib.load(scores_dir + '\\\\' + filename)\n",
    "    scores = nested_cv['test_score']\n",
    "    return scores\n",
    "\n",
    "def ttest_pipeline(model_name):\n",
    "    if model_name != 'ShallowNet':\n",
    "        baseline_score_dir = r'D:\\Documents\\RU\\Master_Neurobiology\\Internship_jaar_2\\Project\\Notebooks\\saved_models'\n",
    "        baseline_model_name = model_name.lower()\n",
    "        baseline_score = get_scores_traditional_ml_models(f'nested_cv_statconn_{baseline_model_name}_ec.pkl', baseline_score_dir)\n",
    "\n",
    "        # get the scores for the pretrained models\n",
    "        extended_model_scores_dir = r'D:\\Documents\\Master_Data_Science\\Thesis\\thesis_code\\DataScience_Thesis\\data\\stored_downstream_models'\n",
    "        extended_scores = {\n",
    "            'within_rp_tpos1_score': get_scores_traditional_ml_models(f'nested_cv_{model_name}_tpos1_withinRP.pkl', extended_model_scores_dir),\n",
    "            'within_rp_tpos2_score': get_scores_traditional_ml_models(f'nested_cv_{model_name}_tpos2_withinRP.pkl', extended_model_scores_dir),\n",
    "            'within_rp_tpos4_score': get_scores_traditional_ml_models(f'nested_cv_{model_name}_tpos4_withinRP.pkl', extended_model_scores_dir),\n",
    "            'cross_rp_tpos1_score': get_scores_traditional_ml_models(f'nested_cv_{model_name}_tpos1_acrossRP.pkl', extended_model_scores_dir),\n",
    "            'cross_rp_tpos2_score': get_scores_traditional_ml_models(f'nested_cv_{model_name}_tpos2_acrossRP.pkl', extended_model_scores_dir),\n",
    "            'cross_rp_tpos4_score': get_scores_traditional_ml_models(f'nested_cv_{model_name}_tpos4_acrossRP.pkl', extended_model_scores_dir),\n",
    "            'css_score': get_scores_traditional_ml_models(f'nested_cv_{model_name}_acrossSub.pkl', extended_model_scores_dir),\n",
    "            'conloss_score': get_scores_traditional_ml_models(f'nested_cv_{model_name}_subsaug25f_contrastive_loss.pkl', extended_model_scores_dir)\n",
    "        }\n",
    "    \n",
    "    else: # have to manually insert scores for ShallowNet as it was not stored on disk\n",
    "        baseline_score = [0.5552707314491272, 0.5194593667984009, 0.32065001130104065, 0.39913439750671387, 0.46246981620788574]\n",
    "        extended_scores = {\n",
    "            'within_rp_tpos1_score': [0.36850377917289734, 0.38785839080810547, 0.3202735483646393, 0.2808877229690552, 0.3346238434314728],\n",
    "            'within_rp_tpos2_score': [0.3141648769378662, 0.3877068758010864, 0.2893301546573639, 0.2955072224140167, 0.3748472034931183],\n",
    "            'within_rp_tpos4_score': [0.2958330512046814, 0.44037333130836487, 0.3364931046962738, 0.3371831178665161, 0.3847223222255707],\n",
    "            'cross_rp_tpos1_score': [0.298895001411438, 0.28947532176971436, 0.27298974990844727, 0.23364368081092834, 0.3471883535385132],\n",
    "            'cross_rp_tpos2_score': [0.32943639159202576, 0.35158976912498474, 0.22511178255081177, 0.26796218752861023, 0.2992841899394989],\n",
    "            'cross_rp_tpos4_score': [0.27044686675071716, 0.3230736255645752, 0.27994218468666077, 0.3032205104827881, 0.28824561834335327],\n",
    "            'css_score': [0.2625272870063782, 0.4889785349369049, 0.32307615876197815, 0.3594975471496582, 0.41849952936172485],\n",
    "            'conloss_score': [0.3704458475112915, 0.4253987669944763, 0.28408002853393555, 0.26818525791168213, 0.34805890917778015],\n",
    "        }\n",
    "\n",
    "    # compute one-tailed paired t-test between the baseline_score and the other scores\n",
    "    for extended_model, scores in extended_scores.items():\n",
    "        t_stat, p_value = ttest_rel(baseline_score, scores, alternative='less')\n",
    "        print(f'non-pretrained {model_name} vs {extended_model} {model_name} - t-statistic: {t_stat}, p-value: {p_value}')\n",
    "        # print(f' avg scores: {np.mean(baseline_score)} vs {np.mean(scores)}')\n",
    "\n",
    "    return\n"
   ]
  },
  {
   "cell_type": "markdown",
   "metadata": {},
   "source": [
    "### SVM"
   ]
  },
  {
   "cell_type": "code",
   "execution_count": 3,
   "metadata": {},
   "outputs": [
    {
     "name": "stdout",
     "output_type": "stream",
     "text": [
      "non-pretrained SVM vs within_rp_tpos1_score SVM - t-statistic: -7.114708584786467, p-value: 0.001031228844839387\n",
      "non-pretrained SVM vs within_rp_tpos2_score SVM - t-statistic: -5.274963122853512, p-value: 0.00309562710565959\n",
      "non-pretrained SVM vs within_rp_tpos4_score SVM - t-statistic: -5.733790340719613, p-value: 0.002291115739032262\n",
      "non-pretrained SVM vs cross_rp_tpos1_score SVM - t-statistic: -3.3952272109194155, p-value: 0.013698788690567825\n",
      "non-pretrained SVM vs cross_rp_tpos2_score SVM - t-statistic: -4.245042624991757, p-value: 0.0066051179044392914\n",
      "non-pretrained SVM vs cross_rp_tpos4_score SVM - t-statistic: -4.052075695209554, p-value: 0.007724627885105426\n",
      "non-pretrained SVM vs css_score SVM - t-statistic: -16.103396097189435, p-value: 4.34878630896699e-05\n",
      "non-pretrained SVM vs conloss_score SVM - t-statistic: -12.602770516641366, p-value: 0.00011408922710813115\n"
     ]
    }
   ],
   "source": [
    "ttest_pipeline('SVM')"
   ]
  },
  {
   "cell_type": "markdown",
   "metadata": {},
   "source": [
    "### RF"
   ]
  },
  {
   "cell_type": "code",
   "execution_count": 4,
   "metadata": {},
   "outputs": [
    {
     "name": "stdout",
     "output_type": "stream",
     "text": [
      "non-pretrained RF vs within_rp_tpos1_score RF - t-statistic: 3.7471749867044153, p-value: 0.9900019757482268\n",
      "non-pretrained RF vs within_rp_tpos2_score RF - t-statistic: 3.7140897014344785, p-value: 0.9897098028068688\n",
      "non-pretrained RF vs within_rp_tpos4_score RF - t-statistic: 3.7512272561468976, p-value: 0.990037074805519\n",
      "non-pretrained RF vs cross_rp_tpos1_score RF - t-statistic: 5.437579376314153, p-value: 0.9972240387536503\n",
      "non-pretrained RF vs cross_rp_tpos2_score RF - t-statistic: 12.97150078826875, p-value: 0.9998981065964033\n",
      "non-pretrained RF vs cross_rp_tpos4_score RF - t-statistic: 8.017999071608156, p-value: 0.9993436861510364\n",
      "non-pretrained RF vs css_score RF - t-statistic: -2.624880701667097, p-value: 0.029249591023116823\n",
      "non-pretrained RF vs conloss_score RF - t-statistic: 4.114074817627828, p-value: 0.9926583862304692\n"
     ]
    }
   ],
   "source": [
    "ttest_pipeline('RF')"
   ]
  },
  {
   "cell_type": "markdown",
   "metadata": {},
   "source": [
    "### GBC"
   ]
  },
  {
   "cell_type": "code",
   "execution_count": 5,
   "metadata": {},
   "outputs": [
    {
     "name": "stdout",
     "output_type": "stream",
     "text": [
      "non-pretrained GBC vs within_rp_tpos1_score GBC - t-statistic: 3.7524212874733234, p-value: 0.9900473888745362\n",
      "non-pretrained GBC vs within_rp_tpos2_score GBC - t-statistic: 3.6092000732124117, p-value: 0.9887136752434411\n",
      "non-pretrained GBC vs within_rp_tpos4_score GBC - t-statistic: 2.3234952245391396, p-value: 0.9595868713825241\n",
      "non-pretrained GBC vs cross_rp_tpos1_score GBC - t-statistic: 8.463730099525762, p-value: 0.9994660507059502\n",
      "non-pretrained GBC vs cross_rp_tpos2_score GBC - t-statistic: 5.585442021439071, p-value: 0.9974802959465366\n",
      "non-pretrained GBC vs cross_rp_tpos4_score GBC - t-statistic: 6.329472046371014, p-value: 0.9984054851834009\n",
      "non-pretrained GBC vs css_score GBC - t-statistic: 5.815955099439303, p-value: 0.9978245622543428\n",
      "non-pretrained GBC vs conloss_score GBC - t-statistic: 3.475277568655821, p-value: 0.9872694691935737\n"
     ]
    }
   ],
   "source": [
    "ttest_pipeline('GBC')"
   ]
  },
  {
   "cell_type": "markdown",
   "metadata": {},
   "source": [
    "### ShallowNet"
   ]
  },
  {
   "cell_type": "code",
   "execution_count": 6,
   "metadata": {},
   "outputs": [
    {
     "name": "stdout",
     "output_type": "stream",
     "text": [
      "non-pretrained ShallowNet vs within_rp_tpos1_score ShallowNet - t-statistic: 3.6925000234578977, p-value: 0.9895136374768264\n",
      "non-pretrained ShallowNet vs within_rp_tpos2_score ShallowNet - t-statistic: 3.4390594408055533, p-value: 0.9868418078317402\n",
      "non-pretrained ShallowNet vs within_rp_tpos4_score ShallowNet - t-statistic: 2.044016329137453, p-value: 0.9447808194498354\n",
      "non-pretrained ShallowNet vs cross_rp_tpos1_score ShallowNet - t-statistic: 4.294898881780274, p-value: 0.9936516086422792\n",
      "non-pretrained ShallowNet vs cross_rp_tpos2_score ShallowNet - t-statistic: 7.2525993460577824, p-value: 0.9990405677944901\n",
      "non-pretrained ShallowNet vs cross_rp_tpos4_score ShallowNet - t-statistic: 3.7635794419942323, p-value: 0.9901431583518113\n",
      "non-pretrained ShallowNet vs css_score ShallowNet - t-statistic: 1.5093658809424575, p-value: 0.8971444324974969\n",
      "non-pretrained ShallowNet vs conloss_score ShallowNet - t-statistic: 4.641397317585415, p-value: 0.9951380864428043\n"
     ]
    }
   ],
   "source": [
    "ttest_pipeline('ShallowNet')"
   ]
  }
 ],
 "metadata": {
  "kernelspec": {
   "display_name": "mne",
   "language": "python",
   "name": "python3"
  },
  "language_info": {
   "codemirror_mode": {
    "name": "ipython",
    "version": 3
   },
   "file_extension": ".py",
   "mimetype": "text/x-python",
   "name": "python",
   "nbconvert_exporter": "python",
   "pygments_lexer": "ipython3",
   "version": "3.11.7"
  }
 },
 "nbformat": 4,
 "nbformat_minor": 2
}
