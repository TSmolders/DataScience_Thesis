{
 "cells": [
  {
   "cell_type": "markdown",
   "metadata": {},
   "source": [
    "# AIM: Learn and extract features with different pretext tasks"
   ]
  },
  {
   "cell_type": "code",
   "execution_count": 1,
   "metadata": {
    "execution": {
     "iopub.execute_input": "2024-10-21T09:12:01.351985Z",
     "iopub.status.busy": "2024-10-21T09:12:01.351821Z",
     "iopub.status.idle": "2024-10-21T09:12:10.964611Z",
     "shell.execute_reply": "2024-10-21T09:12:10.963746Z",
     "shell.execute_reply.started": "2024-10-21T09:12:01.351966Z"
    }
   },
   "outputs": [],
   "source": [
    "import numpy as np\n",
    "import pandas as pd\n",
    "import mne\n",
    "import lightning.pytorch as pl\n",
    "import torch\n",
    "import torch.nn.functional as F\n",
    "import torch.nn as nn\n",
    "from torchmetrics import F1Score, Accuracy\n",
    "import random\n",
    "import os\n",
    "import matplotlib.pyplot as plt\n",
    "from sklearn.model_selection import train_test_split, StratifiedGroupKFold\n",
    "import itertools\n",
    "from torch.utils.data import Dataset, DataLoader, Subset\n",
    "from lightning.pytorch import Trainer\n",
    "from lightning.pytorch.callbacks import EarlyStopping, ModelCheckpoint\n",
    "from lightning.pytorch.loggers import CSVLogger\n",
    "from sklearn.metrics import f1_score, classification_report, confusion_matrix, ConfusionMatrixDisplay\n",
    "import warnings\n",
    "%matplotlib inline\n",
    "\n",
    "# prevent extensive logging\n",
    "mne.set_log_level('WARNING')"
   ]
  },
  {
   "cell_type": "code",
   "execution_count": 2,
   "metadata": {
    "execution": {
     "iopub.execute_input": "2024-10-21T09:12:10.966066Z",
     "iopub.status.busy": "2024-10-21T09:12:10.965756Z",
     "iopub.status.idle": "2024-10-21T09:12:10.982419Z",
     "shell.execute_reply": "2024-10-21T09:12:10.981763Z",
     "shell.execute_reply.started": "2024-10-21T09:12:10.966045Z"
    }
   },
   "outputs": [
    {
     "name": "stdout",
     "output_type": "stream",
     "text": [
      "2.4.1\n",
      "90100\n"
     ]
    }
   ],
   "source": [
    "print(torch.__version__)\n",
    "print(torch.backends.cudnn.version())"
   ]
  },
  {
   "cell_type": "code",
   "execution_count": 3,
   "metadata": {
    "execution": {
     "iopub.execute_input": "2024-10-21T09:12:10.984025Z",
     "iopub.status.busy": "2024-10-21T09:12:10.983850Z",
     "iopub.status.idle": "2024-10-21T09:12:10.999514Z",
     "shell.execute_reply": "2024-10-21T09:12:10.998984Z",
     "shell.execute_reply.started": "2024-10-21T09:12:10.984008Z"
    }
   },
   "outputs": [
    {
     "name": "stdout",
     "output_type": "stream",
     "text": [
      "Working directory is set to: /data/storage_thesis_tuur\n"
     ]
    }
   ],
   "source": [
    "# set working dir\n",
    "print(f'Working directory is set to: {os.getcwd()}')\n",
    "# path to the epoched data\n",
    "data_path = r\"thesis_epoched_data/EC\""
   ]
  },
  {
   "cell_type": "markdown",
   "metadata": {},
   "source": [
    "## Functions & classes:"
   ]
  },
  {
   "cell_type": "code",
   "execution_count": 4,
   "metadata": {
    "execution": {
     "iopub.execute_input": "2024-10-21T09:12:11.000609Z",
     "iopub.status.busy": "2024-10-21T09:12:11.000384Z",
     "iopub.status.idle": "2024-10-21T09:12:11.065304Z",
     "shell.execute_reply": "2024-10-21T09:12:11.064585Z",
     "shell.execute_reply.started": "2024-10-21T09:12:11.000591Z"
    }
   },
   "outputs": [],
   "source": [
    "def get_participant_ids(eeg_dir, epoch_dir=False):\n",
    "    \"\"\"\n",
    "    Function to get all participant ids from EEG data directory\n",
    "    :param eeg_dir: directory where EEG data is stored\n",
    "    :param epoch_dir: whether the data that we want to retrieve is from the epoch directory or from the raw EEG data directory\n",
    "    :return: list of participant ids\n",
    "    \"\"\"\n",
    "    participant_ids = []\n",
    "    if epoch_dir == False:\n",
    "        for subdir, dirs, files in os.walk(eeg_dir): # iterate through all files\n",
    "            for file in files:\n",
    "                if 'ses-1' in file and '.npy' in file and 'BAD' not in file: # filter first session, .npy files, and non-bad files\n",
    "                    participant_id = file.split('_')[0] # extract participant id\n",
    "                    if participant_id not in participant_ids:\n",
    "                        participant_ids.append(participant_id)\n",
    "    else:\n",
    "        participant_ids = [file.split('.')[0] for file in os.listdir(eeg_dir) if '.pt' in file]\n",
    "        \n",
    "    return participant_ids\n",
    "\n",
    "\n",
    "def train_pretext_model(pretext_task_title,\n",
    "                        pretext_task,\n",
    "                        loss,\n",
    "                        max_epochs,\n",
    "                        data_train,\n",
    "                        data_val,\n",
    "                        batch_size,\n",
    "                        learning_rate=0.001,\n",
    "                        dropout=0.25,\n",
    "                        weight_decay=0,\n",
    "                        store_weights=(True, True),\n",
    "                        num_extracted_features=100,\n",
    "                        pretext_model='EEGNet'):\n",
    "    \"\"\"\n",
    "    Function to train the pretext model\n",
    "    :param pretext_task_title: title (string) describing the specific pretext task for saving the model weights\n",
    "    :param pretext_task: pretext task (string) for correct storing of logs ['withinRP', 'acrossRP', 'acrossSub', 'contrastive_loss']\n",
    "    :param loss: loss (string) for selecting the right model architecture ['soft_margin_loss', 'bce_loss', 'contrastive_loss']\n",
    "    :param max_epochs: maximum number of epochs to train the model\n",
    "    :param data_train: training data\n",
    "    :param data_val: validation data\n",
    "    :param batch_size: batch size\n",
    "    :param learning_rate: learning rate\n",
    "    :param dropout: dropout rate\n",
    "    :param weight_decay: weight decay\n",
    "    :param store_weights: whether to store the weights of the fully trained model and the best checkpoint model\n",
    "    :param num_extracted_features: number of features to extract\n",
    "    :param pretext_model: model to use for the pretext task (EEGNet or ShallowNet)\n",
    "    :return: trained model loaded with best checkpoint\n",
    "    \"\"\"\n",
    "    ## DEFINE THE MODEL CLASS (HAS TO BE DEFINED WITHIN THE FUNCTION TO AVOID ERRORS)\n",
    "    \n",
    "    ## ENCODER ARCHITECTURES (EEGNet and ShallowNet)\n",
    "\n",
    "    # create Conv2d with max norm constraint\n",
    "    class Conv2dWithConstraint(nn.Conv2d):\n",
    "        def __init__(self, *args, max_norm: int = 1, **kwargs):\n",
    "            self.max_norm = max_norm\n",
    "            super(Conv2dWithConstraint, self).__init__(*args, **kwargs)\n",
    "\n",
    "        def forward(self, x: torch.Tensor) -> torch.Tensor:\n",
    "            self.weight.data = torch.renorm(self.weight.data, p=2, dim=0, maxnorm=self.max_norm)\n",
    "            return super(Conv2dWithConstraint, self).forward(x)\n",
    "        \n",
    "    class EEGNet(nn.Module):\n",
    "        \"\"\"\n",
    "        Code taken and adjusted from pytorch implementation of EEGNet\n",
    "        url: https://github.com/torcheeg/torcheeg/blob/v1.1.0/torcheeg/models/cnn/eegnet.py#L5\n",
    "        \"\"\"\n",
    "        def __init__(self,\n",
    "                    num_extracted_features: int = num_extracted_features, # number of features to extract  ## QUESTION\n",
    "                    chunk_size: int = 1244, # number of data points in each EEG chunk\n",
    "                    num_electrodes: int = 26, # number of EEG electrodes\n",
    "                    F1: int = 8, # number of filters in first convolutional layer\n",
    "                    F2: int = 16, # number of filters in second convolutional layer\n",
    "                    D: int = 2, # depth multiplier\n",
    "                    kernel_1: int = 64, # the filter size of block 1 (half of sfreq (125 Hz)) ## QUESTION \n",
    "                    kernel_2: int = 16, # the filter size of block 2 (one eight of sfreq (500 Hz)) ## QUESTION\n",
    "                    dropout: float = 0.25): # dropout rate\n",
    "            super(EEGNet, self).__init__()\n",
    "            self.F1 = F1\n",
    "            self.F2 = F2\n",
    "            self.D = D\n",
    "            self.chunk_size = chunk_size\n",
    "            self.num_extracted_features = num_extracted_features\n",
    "            self.num_electrodes = num_electrodes\n",
    "            self.kernel_1 = kernel_1\n",
    "            self.kernel_2 = kernel_2\n",
    "            self.dropout = dropout\n",
    "\n",
    "            self.block1 = nn.Sequential(\n",
    "                nn.Conv2d(1, self.F1, (1, self.kernel_1), stride=1, padding=(0, self.kernel_1 // 2), bias=False),\n",
    "                nn.BatchNorm2d(self.F1, momentum=0.01, affine=True, eps=1e-3),\n",
    "                Conv2dWithConstraint(self.F1,\n",
    "                                    self.F1 * self.D, (self.num_electrodes, 1),\n",
    "                                    max_norm=1,\n",
    "                                    stride=1,\n",
    "                                    padding=(0, 0),\n",
    "                                    groups=self.F1,\n",
    "                                    bias=False), nn.BatchNorm2d(self.F1 * self.D, momentum=0.01, affine=True, eps=1e-3),\n",
    "                nn.ELU(), nn.AvgPool2d((1, 4), stride=4), nn.Dropout(p=dropout))\n",
    "\n",
    "            self.block2 = nn.Sequential(\n",
    "                nn.Conv2d(self.F1 * self.D,\n",
    "                        self.F1 * self.D, (1, self.kernel_2),\n",
    "                        stride=1,\n",
    "                        padding=(0, self.kernel_2 // 2),\n",
    "                        bias=False,\n",
    "                        groups=self.F1 * self.D),\n",
    "                nn.Conv2d(self.F1 * self.D, self.F2, 1, padding=(0, 0), groups=1, bias=False, stride=1),\n",
    "                nn.BatchNorm2d(self.F2, momentum=0.01, affine=True, eps=1e-3), nn.ELU(), nn.AvgPool2d((1, 8), stride=8),\n",
    "                nn.Dropout(p=dropout))\n",
    "\n",
    "            self.lin = nn.Linear(self.feature_dim(), num_extracted_features, bias=False)\n",
    "\n",
    "\n",
    "        def feature_dim(self):\n",
    "            # function to calculate the number of features after the convolutional blocks\n",
    "            with torch.no_grad():\n",
    "                mock_eeg = torch.zeros(1, 1, self.num_electrodes, self.chunk_size)\n",
    "\n",
    "                mock_eeg = self.block1(mock_eeg)\n",
    "                mock_eeg = self.block2(mock_eeg)\n",
    "\n",
    "            return self.F2 * mock_eeg.shape[3]\n",
    "\n",
    "        def forward(self, x: torch.Tensor) -> torch.Tensor:\n",
    "            x = self.block1(x)\n",
    "            x = self.block2(x)\n",
    "            x = x.flatten(start_dim=1)\n",
    "            x = self.lin(x)\n",
    "            return x\n",
    "        \n",
    "    class ShallowNet(nn.Module):\n",
    "        \"\"\"\n",
    "        Pytorch implementation of the ShallowNet Encoder.\n",
    "        Code taken and adjusted from:\n",
    "        https://github.com/MedMaxLab/selfEEG/blob/024402ba4bde95051d86ab2524cc71105bfd5c25/selfeeg/models/zoo.py#L693\n",
    "        \"\"\"\n",
    "\n",
    "        def __init__(self,\n",
    "                    samples=1244,\n",
    "                    chans=26, # number of EEG channels\n",
    "                    F=40, # number of output filters in the temporal convolution layer\n",
    "                    K1=25, # length of the temporal convolutional layer\n",
    "                    pool=75, # temporal pooling kernel size\n",
    "                    dropout=0.2, # dropout probability\n",
    "                    num_extracted_features=num_extracted_features # number of features to extract\n",
    "                    ):\n",
    "\n",
    "            super(ShallowNet, self).__init__()\n",
    "            self.conv1 = nn.Conv2d(1, F, (1, K1), stride=(1, 1))\n",
    "            self.conv2 = nn.Conv2d(F, F, (chans, 1), stride=(1, 1))\n",
    "            self.batch1 = nn.BatchNorm2d(F)\n",
    "            self.pool2 = nn.AvgPool2d((1, pool), stride=(1, 15))\n",
    "            self.flatten2 = nn.Flatten()\n",
    "            self.drop1 = nn.Dropout(dropout)\n",
    "            self.lin = nn.Linear(\n",
    "                F * ((samples - K1 + 1 - pool) // 15 + 1), num_extracted_features\n",
    "            )\n",
    "\n",
    "        def forward(self, x):\n",
    "            x = self.conv1(x)\n",
    "            x = self.conv2(x)\n",
    "            x = self.batch1(x)\n",
    "            x = torch.square(x)\n",
    "            x = self.pool2(x)\n",
    "            x = torch.log(torch.clamp(x, 1e-7, 10000))\n",
    "            x = self.flatten2(x)\n",
    "            x = self.drop1(x)\n",
    "            x = self.lin(x)\n",
    "\n",
    "            return x\n",
    "        \n",
    "    ## CONTRASTIVE LOSS PRETEXT TASK ARCHITECTURE\n",
    "        \n",
    "    if pretext_model == 'EEGNet' and loss == 'contrastive_loss':\n",
    "        class PretextModel(pl.LightningModule):\n",
    "            def __init__(self, num_extracted_features=num_extracted_features, dropout=0.25, weight_decay=0.00, learning_rate=0.001):\n",
    "                super(PretextModel, self).__init__()\n",
    "                self.weight_decay = weight_decay\n",
    "                self.learning_rate = learning_rate\n",
    "                # feature extractors\n",
    "                self.EEGNet = EEGNet(num_extracted_features=num_extracted_features, dropout=dropout)\n",
    "                \n",
    "                # mlp projection head\n",
    "                self.linear = nn.Linear(num_extracted_features, num_extracted_features)\n",
    "\n",
    "            def forward(self, x1: torch.Tensor, x2) -> torch.Tensor:\n",
    "                x1 = self.EEGNet(x1) # forward pass through EEGNet for first sample\n",
    "                x2 = self.EEGNet(x2) # forward pass through EEGNet for second sample\n",
    "                ## TODO: SHOULD I ADD ANOTHER LINEAR LAYER HERE FIRST?\n",
    "                x1 = F.relu(x1)\n",
    "                x2 = F.relu(x2)\n",
    "                z1 = self.linear(x1) # forward pass through linear layer\n",
    "                z2 = self.linear(x2)\n",
    "                \n",
    "                return z1, z2\n",
    "            \n",
    "            def training_step(self, train_batch, batch_idx):\n",
    "                x = train_batch[0]\n",
    "                y = train_batch[1]\n",
    "                y = y.float()\n",
    "                x1 = x[:, 0, :, :].unsqueeze(1).float()\n",
    "                x2 = x[:, 1, :, :].unsqueeze(1).float()\n",
    "                z1, z2 = self.forward(x1, x2)\n",
    "                loss = self.contrastive_loss(z1, z2, y)\n",
    "                self.log('train_loss', loss, on_epoch=True, prog_bar=True)\n",
    "                # self.log('train_f1', self.train_f1(y_hat, y), prog_bar=True, on_epoch=True)\n",
    "                return loss\n",
    "            \n",
    "            def validation_step(self, val_batch, batch_idx):\n",
    "                x = val_batch[0]\n",
    "                # print(x.shape)\n",
    "                y = val_batch[1]\n",
    "                y = y.float()\n",
    "                # print(y)\n",
    "                x1 = x[:, 0, :, :].unsqueeze(1).float()\n",
    "                x2 = x[:, 1, :, :].unsqueeze(1).float()\n",
    "                z1, z2 = self.forward(x1, x2)\n",
    "                # print(f'{z1.shape=}')\n",
    "                # print(f'{z2.shape=}')\n",
    "                # print(f'{y.shape=}')\n",
    "                loss = self.contrastive_loss(z1, z2, y)\n",
    "                self.log('val_loss', loss, prog_bar=True, on_epoch=True)\n",
    "                # self.log('val_f1', self.val_f1(y_hat, y), prog_bar=True, on_epoch=True)\n",
    "                return loss\n",
    "            \n",
    "            def test_step(self, test_batch, batch_idx):\n",
    "                x = test_batch[0]\n",
    "                y = test_batch[1]\n",
    "                y = y.float()\n",
    "                x1 = x[:, 0, :, :].unsqueeze(1).float()\n",
    "                x2 = x[:, 1, :, :].unsqueeze(1).float()\n",
    "                z1, z2 = self.forward(x1, x2)\n",
    "                loss = self.contrastive_loss(z1, z2, y)\n",
    "                self.log('test_loss', loss, prog_bar=True)\n",
    "                # self.log('test_f1', self.val_f1(y_hat, y), prog_bar=True)\n",
    "                return loss\n",
    "            \n",
    "            def configure_optimizers(self):\n",
    "                optimizer = torch.optim.Adam(self.parameters(), lr=self.learning_rate, betas=(0.9, 0.999), weight_decay=self.weight_decay) # default hyperparameters (used in EEGNet paper)\n",
    "                return optimizer\n",
    "            \n",
    "            def contrastive_loss(self, z1, z2, y, temperature=0.1):\n",
    "                # application of NT-Xent loss https://theaisummer.com/simclr/\n",
    "                batch_size = z1.shape[0]\n",
    "                # first L2 normalization ## TODO: Not sure if necessary, considering already regularization with cosine_similarity\n",
    "                # z1 = F.normalize(z1, p=2, dim=1)\n",
    "                # z2 = F.normalize(z2, p=2, dim=1)\n",
    "\n",
    "                representations = torch.cat([z1, z2], dim=0) # [2 X batch_size, n_features]\n",
    "                similarity_matrix = F.cosine_similarity(representations.unsqueeze(1), representations.unsqueeze(0), dim=2) # [batch_size X views, batch_size X views]\n",
    "\n",
    "                # index positive and negative pairs\n",
    "                sim_ij = torch.diag(similarity_matrix, batch_size)\n",
    "                sim_ji = torch.diag(similarity_matrix, -batch_size)\n",
    "                positives = torch.cat([sim_ij, sim_ji], dim=0)\n",
    "\n",
    "                mask = (~torch.eye(batch_size * 2, batch_size * 2, dtype=bool)).float()\n",
    "                # move mask to same device as similarity_matrix\n",
    "                mask = mask.to(similarity_matrix.device)\n",
    "\n",
    "                # exclude positive pairs from similarity matrix\n",
    "                negatives = similarity_matrix * mask\n",
    "\n",
    "                nominator = torch.exp(positives / temperature)\n",
    "                denominator = torch.sum(torch.exp(negatives / temperature), dim=1)\n",
    "                all_losses = -torch.log(nominator / denominator)\n",
    "                loss = torch.sum(all_losses) / (2 * batch_size)\n",
    "                return loss\n",
    "\n",
    "    elif pretext_model == 'ShallowNet' and loss == 'contrastive_loss':\n",
    "        class PretextModel(pl.LightningModule):\n",
    "            def __init__(self, num_extracted_features=num_extracted_features, dropout=0.25, weight_decay=0.00, learning_rate=0.001):\n",
    "                super(PretextModel, self).__init__()\n",
    "                self.weight_decay = weight_decay\n",
    "                self.learning_rate = learning_rate\n",
    "                # feature extractors\n",
    "                self.ShallowNet = ShallowNet(num_extracted_features=num_extracted_features, dropout=dropout)\n",
    "                \n",
    "                # mlp projection head\n",
    "                self.linear = nn.Linear(num_extracted_features, num_extracted_features)\n",
    "\n",
    "            def forward(self, x1: torch.Tensor, x2) -> torch.Tensor:\n",
    "                x1 = self.ShallowNet(x1) # forward pass through ShallowNet for first sample\n",
    "                x2 = self.ShallowNet(x2) # forward pass through ShallowNet for second sample\n",
    "                ## TODO: SHOULD I ADD ANOTHER LINEAR LAYER HERE FIRST?\n",
    "                x1 = F.relu(x1)\n",
    "                x2 = F.relu(x2)\n",
    "                z1 = self.linear(x1) # forward pass through linear layer\n",
    "                z2 = self.linear(x2)\n",
    "                \n",
    "                return z1, z2\n",
    "            \n",
    "            def training_step(self, train_batch, batch_idx):\n",
    "                x = train_batch[0]\n",
    "                y = train_batch[1]\n",
    "                y = y.float()\n",
    "                x1 = x[:, 0, :, :].unsqueeze(1).float()\n",
    "                x2 = x[:, 1, :, :].unsqueeze(1).float()\n",
    "                z1, z2 = self.forward(x1, x2)\n",
    "                loss = self.contrastive_loss(z1, z2, y)\n",
    "                self.log('train_loss', loss, on_epoch=True, prog_bar=True)\n",
    "                # self.log('train_f1', self.train_f1(y_hat, y), prog_bar=True, on_epoch=True)\n",
    "                return loss\n",
    "            \n",
    "            def validation_step(self, val_batch, batch_idx):\n",
    "                x = val_batch[0]\n",
    "                # print(x.shape)\n",
    "                y = val_batch[1]\n",
    "                y = y.float()\n",
    "                # print(y)\n",
    "                x1 = x[:, 0, :, :].unsqueeze(1).float()\n",
    "                x2 = x[:, 1, :, :].unsqueeze(1).float()\n",
    "                z1, z2 = self.forward(x1, x2)\n",
    "                # print(f'{z1.shape=}')\n",
    "                # print(f'{z2.shape=}')\n",
    "                # print(f'{y.shape=}')\n",
    "                loss = self.contrastive_loss(z1, z2, y)\n",
    "                self.log('val_loss', loss, prog_bar=True, on_epoch=True)\n",
    "                # self.log('val_f1', self.val_f1(y_hat, y), prog_bar=True, on_epoch=True)\n",
    "                return loss\n",
    "            \n",
    "            def test_step(self, test_batch, batch_idx):\n",
    "                x = test_batch[0]\n",
    "                y = test_batch[1]\n",
    "                y = y.float()\n",
    "                x1 = x[:, 0, :, :].unsqueeze(1).float()\n",
    "                x2 = x[:, 1, :, :].unsqueeze(1).float()\n",
    "                z1, z2 = self.forward(x1, x2)\n",
    "                loss = self.contrastive_loss(z1, z2, y)\n",
    "                self.log('test_loss', loss, prog_bar=True)\n",
    "                # self.log('test_f1', self.val_f1(y_hat, y), prog_bar=True)\n",
    "                return loss\n",
    "            \n",
    "            def configure_optimizers(self):\n",
    "                optimizer = torch.optim.Adam(self.parameters(), lr=self.learning_rate, betas=(0.9, 0.999), weight_decay=self.weight_decay) # default hyperparameters (used in EEGNet paper)\n",
    "                return optimizer\n",
    "            \n",
    "            def contrastive_loss(self, z1, z2, y, temperature=0.1):\n",
    "                # application of NT-Xent loss https://theaisummer.com/simclr/\n",
    "                batch_size = z1.shape[0]\n",
    "                # first L2 normalization ## TODO: Not sure if necessary, considering already regularization with cosine_similarity\n",
    "                # z1 = F.normalize(z1, p=2, dim=1)\n",
    "                # z2 = F.normalize(z2, p=2, dim=1)\n",
    "\n",
    "                representations = torch.cat([z1, z2], dim=0) # [2 X batch_size, n_features]\n",
    "                similarity_matrix = F.cosine_similarity(representations.unsqueeze(1), representations.unsqueeze(0), dim=2) # [batch_size X views, batch_size X views]\n",
    "\n",
    "                # index positive and negative pairs\n",
    "                sim_ij = torch.diag(similarity_matrix, batch_size)\n",
    "                sim_ji = torch.diag(similarity_matrix, -batch_size)\n",
    "                positives = torch.cat([sim_ij, sim_ji], dim=0)\n",
    "\n",
    "                mask = (~torch.eye(batch_size * 2, batch_size * 2, dtype=bool)).float()\n",
    "                # move mask to same device as similarity_matrix\n",
    "                mask = mask.to(similarity_matrix.device)\n",
    "\n",
    "                # exclude positive pairs from similarity matrix\n",
    "                negatives = similarity_matrix * mask\n",
    "\n",
    "                nominator = torch.exp(positives / temperature)\n",
    "                denominator = torch.sum(torch.exp(negatives / temperature), dim=1)\n",
    "                all_losses = -torch.log(nominator / denominator)\n",
    "                loss = torch.sum(all_losses) / (2 * batch_size)\n",
    "                return loss\n",
    "            \n",
    "    ## BCE LOSS PRETEXT TASK ARCHITECTURE\n",
    "\n",
    "    elif pretext_model == 'EEGNet' and loss == 'bce_loss':\n",
    "        class PretextModel(pl.LightningModule):\n",
    "            def __init__(self, num_extracted_features=num_extracted_features, dropout=0.25, weight_decay=0.00, learning_rate=0.001):\n",
    "                super(PretextModel, self).__init__()\n",
    "                self.weight_decay = weight_decay\n",
    "                self.learning_rate = learning_rate\n",
    "                # feature extractors\n",
    "                self.EEGNet = EEGNet(num_extracted_features=num_extracted_features, dropout=dropout)\n",
    "                \n",
    "                # linear discriminate layer\n",
    "                self.linear = nn.Linear(num_extracted_features, 1)\n",
    "\n",
    "                # add metrics\n",
    "                self.train_f1 = F1Score(task='multiclass', num_classes=2, average='macro')\n",
    "                self.val_f1 = F1Score(task='multiclass', num_classes=2, average='macro')\n",
    "\n",
    "            def forward(self, x1: torch.Tensor, x2) -> torch.Tensor:\n",
    "                x1 = self.EEGNet(x1) # forward pass through EEGNet for first sample\n",
    "                x2 = self.EEGNet(x2) # forward pass through EEGNet for second sample\n",
    "                z = torch.abs(x1 - x2) # calculate the absolute difference between the two feature vectors (contrastive module)\n",
    "                x = self.linear(z) # forward pass through linear layer\n",
    "                return x\n",
    "            \n",
    "            def training_step(self, train_batch, batch_idx):\n",
    "                x = train_batch[0]\n",
    "                y = train_batch[1]\n",
    "                y = y.float()\n",
    "                x1 = x[:, 0, :, :].unsqueeze(1).float()\n",
    "                x2 = x[:, 1, :, :].unsqueeze(1).float()\n",
    "                logits = self.forward(x1, x2)\n",
    "                logits = logits.view(-1)\n",
    "                loss = F.binary_cross_entropy_with_logits(logits, y)\n",
    "                y_hat = F.sigmoid(logits)\n",
    "                y_hat = torch.where(y_hat > 0.5, 1, 0)\n",
    "                self.log('train_loss', loss, on_epoch=True, prog_bar=True)\n",
    "                self.log('train_f1', self.train_f1(y_hat, y), prog_bar=True, on_epoch=True)\n",
    "                return loss\n",
    "            \n",
    "            def validation_step(self, val_batch, batch_idx):\n",
    "                x = val_batch[0]\n",
    "                y = val_batch[1]\n",
    "                y = y.float()\n",
    "                x1 = x[:, 0, :, :].unsqueeze(1).float()\n",
    "                x2 = x[:, 1, :, :].unsqueeze(1).float()\n",
    "                logits = self.forward(x1, x2)\n",
    "                logits = logits.view(-1)\n",
    "                loss = F.binary_cross_entropy_with_logits(logits, y)\n",
    "                y_hat = F.sigmoid(logits)\n",
    "                y_hat = torch.where(y_hat > 0.5, 1, 0)\n",
    "                self.log('val_loss', loss, prog_bar=True, on_epoch=True)\n",
    "                self.log('val_f1', self.val_f1(y_hat, y), prog_bar=True, on_epoch=True)\n",
    "                return loss\n",
    "            \n",
    "            def test_step(self, test_batch, batch_idx):\n",
    "                x = test_batch[0]\n",
    "                y = test_batch[1]\n",
    "                y = y.float()\n",
    "                x1 = x[:, 0, :, :].unsqueeze(1).float()\n",
    "                x2 = x[:, 1, :, :].unsqueeze(1).float()\n",
    "                logits = self.forward(x1, x2)\n",
    "                logits = logits.view(-1)\n",
    "                loss = F.binary_cross_entropy_with_logits(logits, y)\n",
    "                y_hat = F.sigmoid(logits)\n",
    "                y_hat = torch.where(y_hat > 0.5, 1, 0)\n",
    "                self.log('test_loss', loss, prog_bar=True)\n",
    "                self.log('test_f1', self.val_f1(y_hat, y), prog_bar=True)\n",
    "                return loss\n",
    "            \n",
    "            def predict_step(self, batch):\n",
    "                x = batch[0]\n",
    "                x1 = x[:, 0, :, :].unsqueeze(1).float()\n",
    "                x2 = x[:, 1, :, :].unsqueeze(1).float()\n",
    "                logits = self.forward(x1, x2)\n",
    "                logits = logits.view(-1)\n",
    "                y_hat = F.sigmoid(logits)\n",
    "                y_hat = torch.where(y_hat > 0.5, 1, 0)\n",
    "                return y_hat\n",
    "            \n",
    "            def configure_optimizers(self):\n",
    "                optimizer = torch.optim.Adam(self.parameters(), lr=self.learning_rate, betas=(0.9, 0.999), weight_decay=self.weight_decay) # default hyperparameters (used in EEGNet paper)\n",
    "                return optimizer\n",
    "\n",
    "    elif pretext_model == 'ShallowNet' and loss == 'bce_loss':\n",
    "        class PretextModel(pl.LightningModule):\n",
    "            def __init__(self, num_extracted_features=num_extracted_features, dropout=0.25, weight_decay=0.00, learning_rate=0.001):\n",
    "                super(PretextModel, self).__init__()\n",
    "                self.weight_decay = weight_decay\n",
    "                self.learning_rate = learning_rate\n",
    "                # feature extractors\n",
    "                self.ShallowNet = ShallowNet(num_extracted_features=num_extracted_features, dropout=dropout)\n",
    "                \n",
    "                # linear discriminate layer\n",
    "                self.linear = nn.Linear(num_extracted_features, 1)\n",
    "\n",
    "                # add metrics\n",
    "                self.train_f1 = F1Score(task='multiclass', num_classes=2, average='macro')\n",
    "                self.val_f1 = F1Score(task='multiclass', num_classes=2, average='macro')\n",
    "\n",
    "            def forward(self, x1: torch.Tensor, x2) -> torch.Tensor:\n",
    "                x1 = self.ShallowNet(x1) # forward pass through ShallowNet for first sample\n",
    "                x2 = self.ShallowNet(x2) # forward pass through ShallowNet for second sample\n",
    "                z = torch.abs(x1 - x2) # calculate the absolute difference between the two feature vectors (contrastive module)\n",
    "                x = self.linear(z) # forward pass through linear layer\n",
    "                return x\n",
    "            \n",
    "            def training_step(self, train_batch, batch_idx):\n",
    "                x = train_batch[0]\n",
    "                y = train_batch[1]\n",
    "                y = y.float()\n",
    "                x1 = x[:, 0, :, :].unsqueeze(1).float()\n",
    "                x2 = x[:, 1, :, :].unsqueeze(1).float()\n",
    "                logits = self.forward(x1, x2)\n",
    "                logits = logits.view(-1)\n",
    "                loss = F.binary_cross_entropy_with_logits(logits, y)\n",
    "                y_hat = F.sigmoid(logits)\n",
    "                y_hat = torch.where(y_hat > 0.5, 1, 0)\n",
    "                self.log('train_loss', loss, on_epoch=True, prog_bar=True)\n",
    "                self.log('train_f1', self.train_f1(y_hat, y), prog_bar=True, on_epoch=True)\n",
    "                return loss\n",
    "            \n",
    "            def validation_step(self, val_batch, batch_idx):\n",
    "                x = val_batch[0]\n",
    "                y = val_batch[1]\n",
    "                y = y.float()\n",
    "                x1 = x[:, 0, :, :].unsqueeze(1).float()\n",
    "                x2 = x[:, 1, :, :].unsqueeze(1).float()\n",
    "                logits = self.forward(x1, x2)\n",
    "                logits = logits.view(-1)\n",
    "                loss = F.binary_cross_entropy_with_logits(logits, y)\n",
    "                y_hat = F.sigmoid(logits)\n",
    "                y_hat = torch.where(y_hat > 0.5, 1, 0)\n",
    "                self.log('val_loss', loss, prog_bar=True, on_epoch=True)\n",
    "                self.log('val_f1', self.val_f1(y_hat, y), prog_bar=True, on_epoch=True)\n",
    "                return loss\n",
    "            \n",
    "            def test_step(self, test_batch, batch_idx):\n",
    "                x = test_batch[0]\n",
    "                y = test_batch[1]\n",
    "                y = y.float()\n",
    "                x1 = x[:, 0, :, :].unsqueeze(1).float()\n",
    "                x2 = x[:, 1, :, :].unsqueeze(1).float()\n",
    "                logits = self.forward(x1, x2)\n",
    "                logits = logits.view(-1)\n",
    "                loss = F.binary_cross_entropy_with_logits(logits, y)\n",
    "                y_hat = F.sigmoid(logits)\n",
    "                y_hat = torch.where(y_hat > 0.5, 1, 0)\n",
    "                self.log('test_loss', loss, prog_bar=True)\n",
    "                self.log('test_f1', self.val_f1(y_hat, y), prog_bar=True)\n",
    "                return loss\n",
    "            \n",
    "            def predict_step(self, batch):\n",
    "                x = batch[0]\n",
    "                x1 = x[:, 0, :, :].unsqueeze(1).float()\n",
    "                x2 = x[:, 1, :, :].unsqueeze(1).float()\n",
    "                logits = self.forward(x1, x2)\n",
    "                logits = logits.view(-1)\n",
    "                y_hat = F.sigmoid(logits)\n",
    "                y_hat = torch.where(y_hat > 0.5, 1, 0)\n",
    "                return y_hat\n",
    "            \n",
    "            def configure_optimizers(self):\n",
    "                optimizer = torch.optim.Adam(self.parameters(), lr=self.learning_rate, betas=(0.9, 0.999), weight_decay=self.weight_decay) # default hyperparameters (used in EEGNet paper)\n",
    "                return optimizer\n",
    "\n",
    "    ## SOFT MARGIN LOSS PRETEXT TASK ARCHITECTURE\n",
    "    if pretext_model == 'EEGNet' and loss == 'soft_margin_loss':\n",
    "        class PretextModel(pl.LightningModule):\n",
    "            def __init__(self, num_extracted_features=num_extracted_features, dropout=0.25, weight_decay=0.00, learning_rate=0.001):\n",
    "                super(PretextModel, self).__init__()\n",
    "                self.weight_decay = weight_decay\n",
    "                self.learning_rate = learning_rate\n",
    "                # feature extractors\n",
    "                self.EEGNet = EEGNet(num_extracted_features=num_extracted_features, dropout=dropout)\n",
    "                \n",
    "                # linear discriminate layer\n",
    "                self.linear = nn.Linear(num_extracted_features, 1)\n",
    "\n",
    "                # add metrics\n",
    "                self.train_f1 = F1Score(task='multiclass', num_classes=2, average='macro')\n",
    "                self.val_f1 = F1Score(task='multiclass', num_classes=2, average='macro')\n",
    "\n",
    "            def forward(self, x1: torch.Tensor, x2) -> torch.Tensor:\n",
    "                x1 = self.EEGNet(x1) # forward pass through EEGNet for first sample\n",
    "                x2 = self.EEGNet(x2) # forward pass through EEGNet for second sample\n",
    "                z = torch.abs(x1 - x2) # calculate the absolute difference between the two feature vectors (contrastive module)\n",
    "                x = self.linear(z) # forward pass through linear layer\n",
    "                return x\n",
    "            \n",
    "            def training_step(self, train_batch, batch_idx):\n",
    "                x = train_batch[0]\n",
    "                y = train_batch[1]\n",
    "                y = y\n",
    "                x1 = x[:, 0, :, :].unsqueeze(1).float()\n",
    "                x2 = x[:, 1, :, :].unsqueeze(1).float()\n",
    "                logits = self.forward(x1, x2)\n",
    "                logits = logits.view(-1)\n",
    "                loss = F.soft_margin_loss(logits, y, reduce='sum')\n",
    "                y = torch.where(y == -1, 0, y)\n",
    "                y_hat = F.sigmoid(logits)\n",
    "                y_hat = torch.where(y_hat > 0.5, 1, 0)\n",
    "                self.log('train_loss', loss, on_epoch=True, prog_bar=True)\n",
    "                self.log('train_f1', self.train_f1(y_hat, y), prog_bar=True, on_epoch=True)\n",
    "                return loss\n",
    "            \n",
    "            def validation_step(self, val_batch, batch_idx):\n",
    "                x = val_batch[0]\n",
    "                y = val_batch[1]\n",
    "                y = y\n",
    "                x1 = x[:, 0, :, :].unsqueeze(1).float()\n",
    "                x2 = x[:, 1, :, :].unsqueeze(1).float()\n",
    "                logits = self.forward(x1, x2)\n",
    "                logits = logits.view(-1)\n",
    "                loss = F.soft_margin_loss(logits, y, reduce='sum')\n",
    "                y = torch.where(y == -1, 0, y)\n",
    "                y_hat = F.sigmoid(logits)\n",
    "                y_hat = torch.where(y_hat > 0.5, 1, 0)\n",
    "                self.log('val_loss', loss, prog_bar=True, on_epoch=True)\n",
    "                self.log('val_f1', self.val_f1(y_hat, y), prog_bar=True, on_epoch=True)\n",
    "                return loss\n",
    "            \n",
    "            def test_step(self, test_batch, batch_idx):\n",
    "                x = test_batch[0]\n",
    "                y = test_batch[1]\n",
    "                y = y\n",
    "                x1 = x[:, 0, :, :].unsqueeze(1).float()\n",
    "                x2 = x[:, 1, :, :].unsqueeze(1).float()\n",
    "                logits = self.forward(x1, x2)\n",
    "                logits = logits.view(-1)\n",
    "                loss = F.soft_margin_loss(logits, y, reduce='sum')\n",
    "                y = torch.where(y == -1, 0, y)\n",
    "                y_hat = F.sigmoid(logits)\n",
    "                y_hat = torch.where(y_hat > 0.5, 1, 0)\n",
    "                self.log('test_loss', loss, prog_bar=True)\n",
    "                self.log('test_f1', self.val_f1(y_hat, y), prog_bar=True)\n",
    "                return loss\n",
    "            \n",
    "            def predict_step(self, batch):\n",
    "                x = batch[0]\n",
    "                x1 = x[:, 0, :, :].unsqueeze(1).float()\n",
    "                x2 = x[:, 1, :, :].unsqueeze(1).float()\n",
    "                logits = self.forward(x1, x2)\n",
    "                logits = logits.view(-1)\n",
    "                y_hat = F.sigmoid(logits)\n",
    "                y_hat = torch.where(y_hat > 0.5, 1, 0)\n",
    "                return y_hat\n",
    "            \n",
    "            def configure_optimizers(self):\n",
    "                optimizer = torch.optim.Adam(self.parameters(), lr=self.learning_rate, betas=(0.9, 0.999), weight_decay=self.weight_decay) # default hyperparameters (used in EEGNet paper)\n",
    "                return optimizer\n",
    "\n",
    "    if pretext_model == 'ShallowNet' and loss == 'soft_margin_loss':\n",
    "        class PretextModel(pl.LightningModule):\n",
    "            def __init__(self, num_extracted_features=num_extracted_features, dropout=0.25, weight_decay=0.00, learning_rate=0.001):\n",
    "                super(PretextModel, self).__init__()\n",
    "                self.weight_decay = weight_decay\n",
    "                self.learning_rate = learning_rate\n",
    "                # feature extractors\n",
    "                self.ShallowNet = ShallowNet(num_extracted_features=num_extracted_features, dropout=dropout)\n",
    "                \n",
    "                # linear discriminate layer\n",
    "                self.linear = nn.Linear(num_extracted_features, 1)\n",
    "\n",
    "                # add metrics\n",
    "                self.train_f1 = F1Score(task='multiclass', num_classes=2, average='macro')\n",
    "                self.val_f1 = F1Score(task='multiclass', num_classes=2, average='macro')\n",
    "\n",
    "            def forward(self, x1: torch.Tensor, x2) -> torch.Tensor:\n",
    "                x1 = self.ShallowNet(x1) # forward pass through ShallowNet for first sample\n",
    "                x2 = self.ShallowNet(x2) # forward pass through ShallowNet for second sample\n",
    "                z = torch.abs(x1 - x2) # calculate the absolute difference between the two feature vectors (contrastive module)\n",
    "                x = self.linear(z) # forward pass through linear layer\n",
    "                return x\n",
    "            \n",
    "            def training_step(self, train_batch, batch_idx):\n",
    "                x = train_batch[0]\n",
    "                y = train_batch[1]\n",
    "                y = y\n",
    "                x1 = x[:, 0, :, :].unsqueeze(1).float()\n",
    "                x2 = x[:, 1, :, :].unsqueeze(1).float()\n",
    "                logits = self.forward(x1, x2)\n",
    "                logits = logits.view(-1)\n",
    "                loss = F.soft_margin_loss(logits, y, reduce='sum')\n",
    "                y = torch.where(y == -1, 0, y)\n",
    "                y_hat = F.sigmoid(logits)\n",
    "                y_hat = torch.where(y_hat > 0.5, 1, 0)\n",
    "                self.log('train_loss', loss, on_epoch=True, prog_bar=True)\n",
    "                self.log('train_f1', self.train_f1(y_hat, y), prog_bar=True, on_epoch=True)\n",
    "                return loss\n",
    "            \n",
    "            def validation_step(self, val_batch, batch_idx):\n",
    "                x = val_batch[0]\n",
    "                y = val_batch[1]\n",
    "                y = y\n",
    "                x1 = x[:, 0, :, :].unsqueeze(1).float()\n",
    "                x2 = x[:, 1, :, :].unsqueeze(1).float()\n",
    "                logits = self.forward(x1, x2)\n",
    "                logits = logits.view(-1)\n",
    "                loss = F.soft_margin_loss(logits, y, reduce='sum')\n",
    "                y = torch.where(y == -1, 0, y)\n",
    "                y_hat = F.sigmoid(logits)\n",
    "                y_hat = torch.where(y_hat > 0.5, 1, 0)\n",
    "                self.log('val_loss', loss, prog_bar=True, on_epoch=True)\n",
    "                self.log('val_f1', self.val_f1(y_hat, y), prog_bar=True, on_epoch=True)\n",
    "                return loss\n",
    "            \n",
    "            def test_step(self, test_batch, batch_idx):\n",
    "                x = test_batch[0]\n",
    "                y = test_batch[1]\n",
    "                y = y\n",
    "                x1 = x[:, 0, :, :].unsqueeze(1).float()\n",
    "                x2 = x[:, 1, :, :].unsqueeze(1).float()\n",
    "                logits = self.forward(x1, x2)\n",
    "                logits = logits.view(-1)\n",
    "                loss = F.soft_margin_loss(logits, y, reduce='sum')\n",
    "                y = torch.where(y == -1, 0, y)\n",
    "                y_hat = F.sigmoid(logits)\n",
    "                y_hat = torch.where(y_hat > 0.5, 1, 0)\n",
    "                self.log('test_loss', loss, prog_bar=True)\n",
    "                self.log('test_f1', self.val_f1(y_hat, y), prog_bar=True)\n",
    "                return loss\n",
    "            \n",
    "            def predict_step(self, batch):\n",
    "                x = batch[0]\n",
    "                x1 = x[:, 0, :, :].unsqueeze(1).float()\n",
    "                x2 = x[:, 1, :, :].unsqueeze(1).float()\n",
    "                logits = self.forward(x1, x2)\n",
    "                logits = logits.view(-1)\n",
    "                y_hat = F.sigmoid(logits)\n",
    "                y_hat = torch.where(y_hat > 0.5, 1, 0)\n",
    "                return y_hat\n",
    "            \n",
    "            def configure_optimizers(self):\n",
    "                optimizer = torch.optim.Adam(self.parameters(), lr=self.learning_rate, betas=(0.9, 0.999), weight_decay=self.weight_decay) # default hyperparameters (used in EEGNet paper)\n",
    "                return optimizer\n",
    "\n",
    "    # remove particular warnings\n",
    "    warnings.filterwarnings(\"ignore\", \".*Consider increasing the value of the `num_workers` argument*\")\n",
    "    warnings.filterwarnings(\"ignore\", \".*Trying to infer the `batch_size` from an ambiguous collection*\")\n",
    "\n",
    "    if pretext_task == 'withinRP':\n",
    "        log_folder = 'withinRP_pretext_task'\n",
    "    if pretext_task == 'acrossRP':\n",
    "        log_folder = 'acrossRP_pretext_task'\n",
    "    if pretext_task == 'acrossSub':\n",
    "        log_folder = 'acrossSub_pretext_task'\n",
    "    if pretext_task == 'contrastive_loss':\n",
    "        log_folder = 'contrastive_loss_pretext_task'\n",
    "\n",
    "    logger = CSVLogger(\"logs\", name=log_folder) # log results to csv file\n",
    "    torch.set_float32_matmul_precision('high') # for use of tensor cores\n",
    "    # create pretext model\n",
    "    model = PretextModel(learning_rate=learning_rate, dropout=dropout, weight_decay=weight_decay, num_extracted_features=num_extracted_features)\n",
    "    \n",
    "    # create data loaders\n",
    "    train_loader = DataLoader(data_train, batch_size=batch_size, shuffle=True)\n",
    "    val_loader = DataLoader(data_val, batch_size=batch_size, shuffle=False)\n",
    "    \n",
    "    checkpoint_callback = ModelCheckpoint(monitor='val_loss',\n",
    "                                    mode='max',\n",
    "                                    save_top_k=3,\n",
    "                                    filename='{epoch}-{train_loss:.2f}-{train_f1:.2f}-{val_loss:.2f}-{val_f1:.2f}',\n",
    "                                    )\n",
    "\n",
    "    trainer = Trainer(\n",
    "        precision='16-mixed',\n",
    "        accelerator='gpu',\n",
    "        devices=1,\n",
    "        max_epochs=max_epochs,\n",
    "        callbacks=checkpoint_callback,\n",
    "        enable_progress_bar=True,\n",
    "        enable_model_summary=True,\n",
    "        enable_checkpointing=True,\n",
    "        logger=logger,\n",
    "        log_every_n_steps=5,\n",
    "    )\n",
    "\n",
    "    trainer.fit(model, train_loader, val_loader)\n",
    "\n",
    "    if store_weights[0]:\n",
    "        torch.save(model.state_dict(), f'pretext_model_weights/fullytrained_{pretext_task_title}_weights.pt')\n",
    "    \n",
    "    # load best model checkpoint\n",
    "    print(f\"Best model checkpoint path: {checkpoint_callback.best_model_path}\")\n",
    "    best_model = PretextModel.load_from_checkpoint(checkpoint_callback.best_model_path, strict=False)\n",
    "    \n",
    "    if store_weights[1]:\n",
    "        torch.save(best_model.state_dict(), f'pretext_model_weights/{pretext_task_title}_weights.pt')\n",
    "\n",
    "    return best_model\n",
    "\n",
    "def plot_training_curves(metrics_path):\n",
    "    \"\"\"\n",
    "    Function to plot training curves from csv log file\n",
    "    :param metrics_path: path to the csv file containing the model diagnostics\n",
    "    :return:\n",
    "    \"\"\"\n",
    "    fig, axs = plt.subplots(2, 1, figsize=(10, 10))\n",
    "\n",
    "    metrics = pd.read_csv(metrics_path)\n",
    "\n",
    "    # Check if 'train_f1_epoch' and 'val_f1' columns exist\n",
    "    if 'train_f1_epoch' in metrics.columns and 'val_f1' in metrics.columns:\n",
    "        train_f1_epoch = metrics['train_f1_epoch'].dropna()\n",
    "        val_f1 = metrics['val_f1'].dropna()\n",
    "        axs[0].plot(train_f1_epoch, label='Train F1 Score')\n",
    "        axs[0].plot(val_f1, label='Validation F1 Score')\n",
    "        axs[0].set_title('F1 Score')\n",
    "        axs[0].set_xlabel('Epoch')\n",
    "        axs[0].set_ylabel('F1 Score')\n",
    "        axs[0].legend()\n",
    "    else:\n",
    "        print(\"F1 score columns not found in the metrics file.\")\n",
    "\n",
    "    # Check if 'train_loss' and 'val_loss' columns exist\n",
    "    if 'train_loss_epoch' in metrics.columns and 'val_loss' in metrics.columns:\n",
    "        train_loss = metrics['train_loss_epoch'].dropna()\n",
    "        val_loss = metrics['val_loss'].dropna()\n",
    "        axs[1].plot(train_loss, label='Train Loss')\n",
    "        axs[1].plot(val_loss, label='Validation Loss')\n",
    "        axs[1].set_title('Loss')\n",
    "        axs[1].set_xlabel('Epoch')\n",
    "        axs[1].set_ylabel('Loss')\n",
    "        axs[1].legend()\n",
    "    else:\n",
    "        print(\"Loss columns not found in the metrics file.\")\n",
    "\n",
    "    plt.tight_layout()\n",
    "    plt.show()\n",
    "\n",
    "    return\n",
    "\n",
    "def evaluate_pretext_model(model, data_test, test_labels, pretext_task, soft_margin_loss=False, batch_size=None):\n",
    "    \"\"\"\n",
    "    Function to evaluate the pretext model\n",
    "    :param model: trained model\n",
    "    :param data_test: test data\n",
    "    :param test_labels: test labels\n",
    "    :param pretext_task: pretext task str to select right class labels for plots ['withinRP', 'acrossRP', 'acrossSub']\n",
    "    :param soft_margin_loss: whether model uses soft margin loss\n",
    "    :param batch_size: batch size\n",
    "    :return: test results\n",
    "    \"\"\"\n",
    "    if batch_size is None:\n",
    "        batch_size = len(data_test)\n",
    "        \n",
    "    # obtain predictions on test set and plot confusion matrix\n",
    "    test_loader = DataLoader(data_test, batch_size=batch_size, shuffle=False,\n",
    "                                drop_last=True)\n",
    "\n",
    "    # model = PretextModel.load_from_checkpoint(r'D:\\Documents\\Master_Data_Science\\Thesis\\thesis_code\\DataScience_Thesis\\logs\\pretext_task\\version_15\\checkpoints\\epoch=45-train_loss=54.10-train_f1=0.67-val_loss=106.12-val_f1=0.72.ckpt')\n",
    "\n",
    "    trainer = Trainer(accelerator='gpu', devices=1, enable_progress_bar=False, enable_model_summary=False, logger=False, enable_checkpointing=False)\n",
    "    trainer.test(model, test_loader)\n",
    "\n",
    "    # compute confusion matrix and classification report with sklearn of best model checkpoint\n",
    "    from sklearn.metrics import f1_score, classification_report, confusion_matrix, ConfusionMatrixDisplay\n",
    "    y_pred = trainer.predict(model, test_loader)\n",
    "    y_pred = np.concatenate(y_pred).flatten()\n",
    "    y = np.array(test_labels)\n",
    "    if soft_margin_loss:\n",
    "        y = np.where(y == -1, 0, y)\n",
    "\n",
    "    if pretext_task == 'withinRP' or pretext_task == 'acrossRP':\n",
    "        class_labels = ['Separate', 'Adjacent']\n",
    "    if pretext_task == 'acrossSub':\n",
    "        class_labels = ['Across subjects', 'Within subject']\n",
    "        \n",
    "    print('classification report:\\n', classification_report(y, y_pred, target_names=class_labels))\n",
    "    print('F1-score:\\n', f1_score(y, y_pred, average=\"macro\"))\n",
    "    print('Accuracy:\\n', (y == y_pred).sum() / len(y))\n",
    "    cm = confusion_matrix(y, y_pred)\n",
    "    ConfusionMatrixDisplay(confusion_matrix=cm, display_labels=class_labels).plot(cmap = 'Blues', values_format = 'd', colorbar=False)\n",
    "    plt.grid(False)\n",
    "\n",
    "    return"
   ]
  },
  {
   "cell_type": "markdown",
   "metadata": {},
   "source": [
    "### Dataset classes"
   ]
  },
  {
   "cell_type": "markdown",
   "metadata": {},
   "source": [
    "#### Within Subject Relative Positioning Dataset"
   ]
  },
  {
   "cell_type": "code",
   "execution_count": 5,
   "metadata": {
    "execution": {
     "iopub.execute_input": "2024-10-21T09:12:11.066298Z",
     "iopub.status.busy": "2024-10-21T09:12:11.066120Z",
     "iopub.status.idle": "2024-10-21T09:12:11.074711Z",
     "shell.execute_reply": "2024-10-21T09:12:11.074247Z",
     "shell.execute_reply.started": "2024-10-21T09:12:11.066282Z"
    }
   },
   "outputs": [],
   "source": [
    "class RPDataset(Dataset):\n",
    "    def __init__(self, participant_ids, data_path, subsample=True, tpos=1, device='cpu', soft_margin_loss=False):\n",
    "        \"\"\"\n",
    "        Dataset for the Relative Positioning task. Obtains all combinations of two epochs per participant.\n",
    "        :param participant_ids: List of participant IDs\n",
    "        :param data_path: Path to the directory containing the preprocessed EEG data\n",
    "        :param subsample: Whether to subsample the dataset for class balance or not\n",
    "        :param tpos: Time/index difference of the epochs in which the epochs are considered adjacent\n",
    "        :param device: Device to store the data ('cpu' or 'cuda')\n",
    "        :param soft_margin_loss: Whether the model uses soft margin loss (needs [-1, 1] labels)\n",
    "        \"\"\"\n",
    "        self.participant_ids = participant_ids\n",
    "        self.data_path = data_path\n",
    "        self.subsample = subsample\n",
    "        self.tpos = tpos\n",
    "        self.device = device\n",
    "        self.soft_margin_loss = soft_margin_loss\n",
    "        self.sampled_epochs_indices_id = []\n",
    "        self.labels = []\n",
    "        self.data_cache = {}\n",
    "        self._load_data()\n",
    "\n",
    "    def _load_data(self):\n",
    "        for participant_id in self.participant_ids:\n",
    "            # Load the data for the participant\n",
    "            data = torch.load(os.path.join(self.data_path, f\"{participant_id}.pt\"))\n",
    "            # Move data to the specified device\n",
    "            data = torch.tensor(data)\n",
    "            data = data.to(self.device)\n",
    "            self.data_cache[participant_id] = data\n",
    "            # Generate all combinations of two epochs for this participant\n",
    "            self.sample_all_combinations(participant_id, len(data), soft_margin_loss=self.soft_margin_loss)\n",
    "\n",
    "    def sample_all_combinations(self, participant_id, num_epochs, soft_margin_loss=False):\n",
    "        \"\"\"\n",
    "        Sample all combinations of two epochs for a participant\n",
    "        \"\"\"\n",
    "        all_combinations = list(itertools.combinations(range(num_epochs), 2))\n",
    "        if soft_margin_loss:\n",
    "            # use -1 if the epochs are not adjacent, 1 if they are\n",
    "            labels = [1 if abs(i - j) <= self.tpos else -1 for i, j in all_combinations]\n",
    "        else:\n",
    "            # use 0 if the epochs are not adjacent, 1 if they are\n",
    "            labels = [1 if abs(i - j) <= self.tpos else 0 for i, j in all_combinations]\n",
    "        if self.subsample:\n",
    "            # Subsample the combinations and labels\n",
    "            sampled_indices = self.subsample_combinations(labels, soft_margin_loss=self.soft_margin_loss)\n",
    "        else:\n",
    "            # Use all combinations\n",
    "            sampled_indices = range(len(all_combinations))\n",
    "\n",
    "        # Store the combinations and labels\n",
    "        for idx in sampled_indices:\n",
    "            i, j = all_combinations[idx]\n",
    "            label = labels[idx]\n",
    "            self.sampled_epochs_indices_id.append((participant_id, i, j, label))\n",
    "            self.labels.append(label)\n",
    "\n",
    "    def subsample_combinations(self, labels, soft_margin_loss=False):\n",
    "        \"\"\"\n",
    "        Subsamples the combinations to ensure class balance\n",
    "        \"\"\"\n",
    "        # Identify indices of samples with labels -1/0 and 1\n",
    "        if soft_margin_loss:\n",
    "            indices_0 = [idx for idx, label in enumerate(labels) if label == -1]\n",
    "        else:\n",
    "            indices_0 = [idx for idx, label in enumerate(labels) if label == 0]\n",
    "        indices_1 = [idx for idx, label in enumerate(labels) if label == 1]\n",
    "\n",
    "        # Determine the smaller count between the two labels\n",
    "        min_count = min(len(indices_0), len(indices_1))\n",
    "\n",
    "        # Randomly sample indices from both labels to ensure they have the same count\n",
    "        np.random.seed(42)  # For reproducibility\n",
    "        sampled_indices_0 = np.random.choice(indices_0, min_count, replace=False)\n",
    "        sampled_indices_1 = np.random.choice(indices_1, min_count, replace=False)\n",
    "\n",
    "        # Combine the sampled indices\n",
    "        sampled_indices = np.concatenate((sampled_indices_0, sampled_indices_1))\n",
    "        return sampled_indices\n",
    "\n",
    "    def __len__(self):\n",
    "        return len(self.sampled_epochs_indices_id)\n",
    "\n",
    "    def __getitem__(self, idx):\n",
    "        participant_id, i, j, label = self.sampled_epochs_indices_id[idx]\n",
    "        data = self.data_cache[participant_id]\n",
    "        sampled_epochs = data[[i, j]]\n",
    "        # Convert to PyTorch tensor if it's a NumPy array\n",
    "        if isinstance(sampled_epochs, np.ndarray):\n",
    "            sampled_epochs = torch.tensor(sampled_epochs)\n",
    "        # Transfer data to GPU in batches\n",
    "        sampled_epochs = sampled_epochs.to('cuda')\n",
    "        return sampled_epochs, label, participant_id"
   ]
  },
  {
   "cell_type": "markdown",
   "metadata": {},
   "source": [
    "#### Across Subject Relative Positioning Dataset"
   ]
  },
  {
   "cell_type": "code",
   "execution_count": 6,
   "metadata": {
    "execution": {
     "iopub.execute_input": "2024-10-21T09:12:11.075754Z",
     "iopub.status.busy": "2024-10-21T09:12:11.075467Z",
     "iopub.status.idle": "2024-10-21T09:12:11.084880Z",
     "shell.execute_reply": "2024-10-21T09:12:11.084431Z",
     "shell.execute_reply.started": "2024-10-21T09:12:11.075734Z"
    }
   },
   "outputs": [],
   "source": [
    "class Across_Subject_RPDataset(Dataset):\n",
    "    def __init__(self, participant_ids, data_path, subsample=True, tpos=1, device='cpu', n_samples=2, soft_margin_loss=False):\n",
    "        \"\"\"\n",
    "        Dataset for the Relative Positioning task. Obtains n combinations of two epochs between all groups of two participants.\n",
    "        :param participant_ids: List of participant IDs\n",
    "        :param data_path: Path to the directory containing the preprocessed EEG data\n",
    "        :param subsample: Whether to subsample the dataset for class balance or not\n",
    "        :param tpos: Time/index difference of the epochs in which the epochs are considered adjacent\n",
    "        :param device: Device to store the data ('cpu' or 'cuda')\n",
    "        :param n_samples: Number of samples for each label (adjacent/separate) to generate for each participant combination\n",
    "        :param soft_margin_loss: Whether to use soft margin loss for the pretext task (needs [-1, 1] labels)\n",
    "        \"\"\"\n",
    "        self.participant_ids = participant_ids\n",
    "        self.data_path = data_path\n",
    "        self.subsample = subsample\n",
    "        self.tpos = tpos\n",
    "        self.device = device\n",
    "        self.n_samples = n_samples\n",
    "        self.soft_margin_loss = soft_margin_loss\n",
    "        self.sampled_epochs_indices_id = []\n",
    "        self.data_cache = {}\n",
    "        self.labels = []\n",
    "        self._load_data()\n",
    "\n",
    "    def _load_data(self):\n",
    "        epoch_data = {}\n",
    "        for participant_id in self.participant_ids:\n",
    "            # Load the data for the participant\n",
    "            data = torch.load(os.path.join(self.data_path, f\"{participant_id}.pt\"))\n",
    "            # Move data to the specified device\n",
    "            data = torch.tensor(data)\n",
    "            data = data.to(self.device)\n",
    "            self.data_cache[participant_id] = data\n",
    "        # Generate n combinations of two epochs between two participants\n",
    "        self.sample_across_subject_combinations(self.data_cache, n=self.n_samples, soft_margin_loss=self.soft_margin_loss)\n",
    "    \n",
    "    def sample_across_subject_combinations(self, data_cache, n, soft_margin_loss=False):\n",
    "        all_participant_combinations = list(itertools.combinations(self.participant_ids, 2)) # all combinations of participants\n",
    "        warning_displayed = False  # Flag to track if the warning has been displayed\n",
    "\n",
    "        for participant_id_1, participant_id_2 in all_participant_combinations: \n",
    "            data_1 = self.data_cache[participant_id_1]\n",
    "            data_2 = self.data_cache[participant_id_2]\n",
    "            num_epochs_1 = data_1.shape[0]\n",
    "            num_epochs_2 = data_2.shape[0]\n",
    "            # Get all combinations of indices between data_1 and data_2\n",
    "            all_combinations = list(itertools.product(range(num_epochs_1), range(num_epochs_2)))\n",
    "            \n",
    "            # Filter combinations based on the difference between indices\n",
    "            adjacent_combinations = [comb for comb in all_combinations if abs(comb[0] - comb[1]) <= self.tpos and comb[0] != comb[1]]\n",
    "            separate_combinations = [comb for comb in all_combinations if abs(comb[0] - comb[1]) > self.tpos]\n",
    "            # Sample n combinations from each filtered set\n",
    "            sampled_adjacent_combinations = random.sample(adjacent_combinations,\n",
    "                                                        min(n, len(adjacent_combinations)))\n",
    "            sampled_separate_combinations = random.sample(separate_combinations,\n",
    "                                                     min(n, len(separate_combinations)))\n",
    "            \n",
    "            if n > len(adjacent_combinations) and not warning_displayed:\n",
    "                print(f\"Warning: asking for {n} adjacent samples, but only {len(adjacent_combinations)} adjacent samples available between two participants.\")\n",
    "                print(\"This will result in class imbalance.\")\n",
    "                warning_displayed = True  # Set the flag to True after displaying the warning\n",
    "\n",
    "            # Store the combinations and labels\n",
    "            for i, j in sampled_adjacent_combinations:\n",
    "                self.sampled_epochs_indices_id.append((participant_id_1, participant_id_2, i, j, 1))\n",
    "                self.labels.append(1)\n",
    "            if soft_margin_loss:\n",
    "                for i, j in sampled_separate_combinations:\n",
    "                    self.sampled_epochs_indices_id.append((participant_id_1, participant_id_2, i, j, -1))\n",
    "                    self.labels.append(-1)\n",
    "            else:\n",
    "                for i, j in sampled_separate_combinations:\n",
    "                    self.sampled_epochs_indices_id.append((participant_id_1, participant_id_2, i, j, 0))\n",
    "                    self.labels.append(0)\n",
    "\n",
    "    def __len__(self):\n",
    "        return len(self.sampled_epochs_indices_id)\n",
    "\n",
    "    def __getitem__(self, idx):\n",
    "        participant_id_1, participant_id_2, i, j, label = self.sampled_epochs_indices_id[idx]\n",
    "        # Load the data for the participant on-the-fly\n",
    "        data_1 = self.data_cache[participant_id_1]\n",
    "        data_2 = self.data_cache[participant_id_2]\n",
    "        epoch_1 = data_1[i]\n",
    "        epoch_2 = data_2[j]\n",
    "        sampled_epochs = torch.stack([epoch_1, epoch_2])\n",
    "        # Convert to PyTorch tensor if it's a NumPy array\n",
    "        if isinstance(sampled_epochs, np.ndarray):\n",
    "            sampled_epochs = torch.tensor(sampled_epochs)\n",
    "        # Transfer data to GPU in batches\n",
    "        sampled_epochs = sampled_epochs.to('cuda')\n",
    "        return sampled_epochs, label"
   ]
  },
  {
   "cell_type": "markdown",
   "metadata": {},
   "source": [
    "#### Across Subject Dataset"
   ]
  },
  {
   "cell_type": "code",
   "execution_count": 7,
   "metadata": {
    "execution": {
     "iopub.execute_input": "2024-10-21T09:12:11.085800Z",
     "iopub.status.busy": "2024-10-21T09:12:11.085546Z",
     "iopub.status.idle": "2024-10-21T09:12:11.096036Z",
     "shell.execute_reply": "2024-10-21T09:12:11.095545Z",
     "shell.execute_reply.started": "2024-10-21T09:12:11.085783Z"
    }
   },
   "outputs": [],
   "source": [
    "class Across_Subject_Dataset(Dataset):\n",
    "    def __init__(self, participant_ids, data_path, device='cpu', n_samples=2, soft_margin_loss=False):\n",
    "        \"\"\"\n",
    "        Dataset for the across subject task. Obtains n combinations of two epochs within a participant and between participants.\n",
    "        And learns to predict if the two epochs are from the same participant or not.\n",
    "        :param participant_ids: List of participant IDs\n",
    "        :param data_path: Path to the directory containing the preprocessed EEG data\n",
    "        :param device: Device to store the data ('cpu' or 'cuda')\n",
    "        :param n_samples: Number of samples for each label (adjacent/separate) to generate for each participant combination\n",
    "        :param soft_margin_loss: Whether to use soft margin loss or not (needs [-1, 1] labels)\n",
    "        \"\"\"\n",
    "        self.participant_ids = participant_ids\n",
    "        self.data_path = data_path\n",
    "        self.device = device\n",
    "        self.n_samples = n_samples\n",
    "        self.soft_margin_loss = soft_margin_loss\n",
    "        self.sampled_epochs_indices_id = []\n",
    "        self.data_cache = {}\n",
    "        self.labels = []\n",
    "        self._load_data()\n",
    "\n",
    "    def _load_data(self):\n",
    "        epoch_data = {}\n",
    "        for participant_id in self.participant_ids:\n",
    "            # Load the data for the participant\n",
    "            data = torch.load(os.path.join(self.data_path, f\"{participant_id}.pt\"))\n",
    "            # Move data to the specified device\n",
    "            data = torch.tensor(data)\n",
    "            data = data.to(self.device)\n",
    "            self.data_cache[participant_id] = data\n",
    "        # Generate n combinations of two epochs between two participants\n",
    "        self.sample_epochs_combinations(self.data_cache, n=self.n_samples, soft_margin_loss=self.soft_margin_loss)\n",
    "    \n",
    "    def sample_epochs_combinations(self, data_cache, n, soft_margin_loss=False):\n",
    "        for participant in data_cache.keys():\n",
    "            data = data_cache[participant]\n",
    "            n_epochs = data.shape[0]\n",
    "\n",
    "            # sample n pairs of epochs from the same participant\n",
    "            within_subject_combos = [comb for comb in itertools.combinations(range(n_epochs), 2)]\n",
    "\n",
    "            # adjust n if there are not enough within subject samples\n",
    "            if n > len(within_subject_combos):\n",
    "                print(f\"Warning: asking for {n} within subject samples, but only {len(within_subject_combos)} within subject samples available within participant {participant}.\")\n",
    "                print(f\"{len(within_subject_combos)} will be sampled instead of {n}.\")\n",
    "                adj_n = len(within_subject_combos)\n",
    "            else:\n",
    "                adj_n = n\n",
    "\n",
    "            for i, j in random.sample(within_subject_combos, adj_n): # ensure that the same pair is not sampled twice\n",
    "                self.sampled_epochs_indices_id.append((participant, participant, i, j, 1))\n",
    "                self.labels.append(1)\n",
    "            \n",
    "            # sample n pairs of epochs from the participant and another participant\n",
    "            for other_participant in random.sample([p for p in data_cache.keys() if p != participant], adj_n):\n",
    "                other_n_epochs = data_cache[other_participant].shape[0]\n",
    "                between_subject_combos = list(itertools.product(range(n_epochs), range(other_n_epochs)))\n",
    "                i, j = random.choice(between_subject_combos)\n",
    "                if soft_margin_loss:\n",
    "                    self.sampled_epochs_indices_id.append((participant, other_participant, i, j, -1))  \n",
    "                    self.labels.append(-1)\n",
    "                else:\n",
    "                    self.sampled_epochs_indices_id.append((participant, other_participant, i, j, 0))  \n",
    "                    self.labels.append(0)\n",
    "            \n",
    "            # delete variables to free up memory\n",
    "            del within_subject_combos\n",
    "            del between_subject_combos\n",
    "\n",
    "        return\n",
    "\n",
    "    def __len__(self):\n",
    "        return len(self.sampled_epochs_indices_id)\n",
    "\n",
    "    def __getitem__(self, idx):\n",
    "        participant_id_1, participant_id_2, i, j, label = self.sampled_epochs_indices_id[idx]\n",
    "        # Load the data for the participant on-the-fly\n",
    "        if participant_id_1 == participant_id_2:\n",
    "            data = self.data_cache[participant_id_1]\n",
    "            sampled_epochs = torch.stack([data[i], data[j]])\n",
    "        if participant_id_1 != participant_id_2:\n",
    "            data_1 = self.data_cache[participant_id_1]\n",
    "            data_2 = self.data_cache[participant_id_2]\n",
    "            epoch_1 = data_1[i]\n",
    "            epoch_2 = data_2[j]\n",
    "            sampled_epochs = torch.stack([epoch_1, epoch_2])\n",
    "        # Convert to PyTorch tensor if it's a NumPy array\n",
    "        if isinstance(sampled_epochs, np.ndarray):\n",
    "            sampled_epochs = torch.tensor(sampled_epochs)\n",
    "        # Transfer data to GPU in batches\n",
    "        sampled_epochs = sampled_epochs.to('cuda')\n",
    "        return sampled_epochs, label"
   ]
  },
  {
   "cell_type": "markdown",
   "metadata": {},
   "source": [
    "#### Contrastive Loss Dataset"
   ]
  },
  {
   "cell_type": "code",
   "execution_count": 8,
   "metadata": {
    "execution": {
     "iopub.execute_input": "2024-10-21T09:12:11.096930Z",
     "iopub.status.busy": "2024-10-21T09:12:11.096703Z",
     "iopub.status.idle": "2024-10-21T09:12:11.111846Z",
     "shell.execute_reply": "2024-10-21T09:12:11.111405Z",
     "shell.execute_reply.started": "2024-10-21T09:12:11.096846Z"
    }
   },
   "outputs": [],
   "source": [
    "class Contrastive_Loss_Dataset(Dataset):\n",
    "    def __init__(self, participant_ids, data_path, device='cpu', n_samples=1):\n",
    "        \"\"\"\n",
    "        Dataset for the pretext task with contrastive loss and neurologist recommended augmentations. \n",
    "        For each participant samples n epochs on which two random augmentations are applied.\n",
    "        The samples are then used to learn to predict if two augmentations were derived from the same original epoch,\n",
    "        or two different epochs.\n",
    "        :param participant_ids: List of participant IDs\n",
    "        :param data_path: Path to the directory containing the preprocessed EEG data\n",
    "        :param device: Device to store the data ('cpu' or 'cuda')\n",
    "        :param n_samples: Number of epochs to sample from each participant\n",
    "        :param neg_samples: Number of negative samples to create for each positive sample\n",
    "        \"\"\"\n",
    "        self.participant_ids = participant_ids\n",
    "        self.data_path = data_path\n",
    "        self.device = device\n",
    "        self.n_samples = n_samples\n",
    "        self.sampled_epochs_indices_id = []\n",
    "        self.data_cache = {}\n",
    "        self.labels = []\n",
    "        self._load_data()\n",
    "\n",
    "        self.available_augmentations = {\n",
    "            \"amplitude_scale\": [0.5, 2], \n",
    "            # \"time_shift\": [-50, 50], \n",
    "            # \"DC_shift\": [-10, 10], \n",
    "            \"zero-masking\": [0, 150], \n",
    "            \"additive_Gaussian_noise\": [5, 10], \n",
    "            \"band-stop_filter\": [2.8, 61], # max is nyquist frequency\n",
    "        }\n",
    "\n",
    "        self.NUM_AUGMENTATIONS = 1 # number of augmentations to apply to each epoch\n",
    "        self.TEMPORAL_LEN = 1244 # length of the EEG signal\n",
    "        self.SFREQ = 125 # sampling frequency of the EEG signal ## QUESTION: SHOULD I USE ORIGINAL SFREQ OR DOWNSAMPLED 125 HZ\n",
    "\n",
    "    def _load_data(self):\n",
    "        epoch_data = {}\n",
    "        for participant_id in self.participant_ids:\n",
    "            # Load the data for the participant\n",
    "            data = torch.load(os.path.join(self.data_path, f\"{participant_id}.pt\"))\n",
    "            # Move data to the specified device\n",
    "            data = torch.tensor(data)\n",
    "            data = data.to(self.device)\n",
    "            self.data_cache[participant_id] = data\n",
    "        # sample n epochs from each participant\n",
    "        self.sample_epochs(self.data_cache, n=self.n_samples)\n",
    "    \n",
    "    def sample_epochs(self, data_cache, n):\n",
    "        for participant in data_cache.keys():\n",
    "            data = data_cache[participant]\n",
    "            n_epochs = data.shape[0]\n",
    "            sampled_epochs_indices = random.sample(range(n_epochs), n)\n",
    "            for sampled_epoch_idx in sampled_epochs_indices:\n",
    "                self.sampled_epochs_indices_id.append((participant, sampled_epoch_idx))\n",
    "        return\n",
    "    \n",
    "    def get_augmentation_set(self):\n",
    "        # taken and adjusted from https://github.com/zacharycbrown/ssl_baselines_for_biosignal_feature_extraction/blob/main/data_loaders.py#L535\n",
    "        augmentation_set = []\n",
    "        selected_augmentations = random.sample(list(self.available_augmentations.keys()), self.NUM_AUGMENTATIONS)\n",
    "        assert len(selected_augmentations) == self.NUM_AUGMENTATIONS\n",
    "\n",
    "        for aug in selected_augmentations:\n",
    "            if aug in ['amplitude_scale', 'DC_shift', 'additive_Gaussian_noise', 'band-stop_filter']: # augmentation that requires float val\n",
    "                aug_param = random.uniform(self.available_augmentations[aug][0], self.available_augmentations[aug][1])\n",
    "            elif aug in ['time_shift', 'zero-masking']: # augmentation that requires int val\n",
    "                aug_param = random.randint(self.available_augmentations[aug][0], self.available_augmentations[aug][1])\n",
    "                if aug == 'zero-masking':\n",
    "                    aug_param = [aug_param, random.randint(0, self.TEMPORAL_LEN-aug_param)]\n",
    "            else:\n",
    "                raise NotImplementedError(f\"Augmentation {aug} not implemented\")\n",
    "            \n",
    "            if aug == 'band-stop_filter': # somehow getting a value higher than given range\n",
    "                if aug_param > 61:\n",
    "                    print(f'band_stop_filter: {aug_param=}')\n",
    "            augmentation_set.append((aug, aug_param))\n",
    "        return augmentation_set\n",
    "            \n",
    "    def apply_augmentation(self, sampled_epoch, augmentation):\n",
    "        # apply augmentation to the sampled epoch with shape [n_channels, n_samples] ## QUESTION: IN CASE OF MULTIPLE AUGMENTATIONS WHICH FIRST?\n",
    "        for aug in augmentation: # apply each augmentation\n",
    "            if aug[0] == 'amplitude_scale':\n",
    "                sampled_epoch = sampled_epoch * aug[1]\n",
    "\n",
    "            elif aug[0] == 'time_shift':\n",
    "                sampled_epoch = torch.roll(sampled_epoch, aug[1], dims=1)\n",
    "\n",
    "            elif aug[0] == 'DC_shift':\n",
    "                sampled_epoch = sampled_epoch + aug[1]\n",
    "\n",
    "            elif aug[0] == 'zero-masking':\n",
    "                start_point = aug[1][1]\n",
    "                end_point = start_point + aug[1][0]\n",
    "                sampled_epoch[:, start_point:end_point] = 0\n",
    "\n",
    "            elif aug[0] == 'additive_Gaussian_noise':\n",
    "                sampled_epoch = sampled_epoch + torch.randn_like(sampled_epoch) * aug[1]\n",
    "\n",
    "            elif aug[0] == 'band-stop_filter':\n",
    "                # Convert to NumPy array for notch_filter\n",
    "                sampled_epoch_np = sampled_epoch.cpu().numpy()\n",
    "                filtered_epoch_np = mne.filter.notch_filter(sampled_epoch_np, Fs=self.SFREQ, freqs=aug[1])\n",
    "                # Convert back to PyTorch tensor\n",
    "                sampled_epoch = torch.tensor(filtered_epoch_np, device=self.device)\n",
    "\n",
    "            else:\n",
    "                raise NotImplementedError(f\"Augmentation {aug[0]} not implemented\")\n",
    "        augmented_epoch = sampled_epoch\n",
    "        return augmented_epoch # shape [n_channels, n_samples]\n",
    "\n",
    "    def __len__(self):\n",
    "        return len(self.sampled_epochs_indices_id)\n",
    "\n",
    "    def __getitem__(self, idx):\n",
    "        participant_id, i = self.sampled_epochs_indices_id[idx]\n",
    "        data = self.data_cache[participant_id]\n",
    "        sampled_epoch = data[i]\n",
    "        # create positive pair\n",
    "        augmentation_set_1 = self.get_augmentation_set()\n",
    "        augmentation_set_2 = self.get_augmentation_set()\n",
    "        augmented_epoch_1 = self.apply_augmentation(sampled_epoch, augmentation_set_1)\n",
    "        augmented_epoch_2 = self.apply_augmentation(sampled_epoch, augmentation_set_2)\n",
    "        augmented_epochs = torch.stack([augmented_epoch_1, augmented_epoch_2]) # shape [2, n_channels, n_samples]\n",
    "        # Convert to PyTorch tensor if it's a NumPy array\n",
    "        if isinstance(augmented_epochs, np.ndarray):\n",
    "            augmented_epochs = torch.tensor(augmented_epochs)\n",
    "        # Transfer data to GPU in batches\n",
    "        augmented_epochs = augmented_epochs.to(self.device)\n",
    "        # Create a positive pair (label 1)\n",
    "        positive_pair = (augmented_epochs, torch.tensor(1.0, device=self.device))\n",
    "\n",
    "        return positive_pair"
   ]
  },
  {
   "cell_type": "markdown",
   "metadata": {},
   "source": [
    "# Training pretext models"
   ]
  },
  {
   "cell_type": "markdown",
   "metadata": {},
   "source": [
    "## 4. Contrastive Loss Pretext Task"
   ]
  },
  {
   "cell_type": "markdown",
   "metadata": {},
   "source": [
    "#### Data loading & splitting"
   ]
  },
  {
   "cell_type": "code",
   "execution_count": 9,
   "metadata": {
    "execution": {
     "iopub.execute_input": "2024-10-21T09:12:11.113379Z",
     "iopub.status.busy": "2024-10-21T09:12:11.113201Z",
     "iopub.status.idle": "2024-10-21T09:13:42.754528Z",
     "shell.execute_reply": "2024-10-21T09:13:42.753118Z",
     "shell.execute_reply.started": "2024-10-21T09:12:11.113362Z"
    }
   },
   "outputs": [
    {
     "name": "stderr",
     "output_type": "stream",
     "text": [
      "/tmp/ipykernel_5701/3881365934.py:40: FutureWarning: You are using `torch.load` with `weights_only=False` (the current default value), which uses the default pickle module implicitly. It is possible to construct malicious pickle data which will execute arbitrary code during unpickling (See https://github.com/pytorch/pytorch/blob/main/SECURITY.md#untrusted-models for more details). In a future release, the default value for `weights_only` will be flipped to `True`. This limits the functions that could be executed during unpickling. Arbitrary objects will no longer be allowed to be loaded via this mode unless they are explicitly allowlisted by the user via `torch.serialization.add_safe_globals`. We recommend you start setting `weights_only=True` for any use case where you don't have full control of the loaded file. Please open an issue on GitHub for any issues related to this experimental feature.\n",
      "  data = torch.load(os.path.join(self.data_path, f\"{participant_id}.pt\"))\n"
     ]
    },
    {
     "name": "stdout",
     "output_type": "stream",
     "text": [
      "1244\n",
      "pairs.shape=torch.Size([5, 2, 26, 1244])\n",
      "labels.shape=torch.Size([5])\n",
      "Unique labels: (tensor([1.], device='cuda:0'), tensor([5], device='cuda:0'))\n",
      "labels=tensor([1., 1., 1., 1., 1.], device='cuda:0')\n"
     ]
    }
   ],
   "source": [
    "participant_ids = get_participant_ids(data_path, epoch_dir=True)\n",
    "# sample_ids = random.sample(participant_ids, 100)                                          \n",
    "dataset = Contrastive_Loss_Dataset(participant_ids, data_path, device='cuda', n_samples=1)\n",
    "print(len(dataset))\n",
    "\n",
    "# Create a DataLoader to check input\n",
    "dataloader = DataLoader(dataset, batch_size=5, shuffle=True)\n",
    "\n",
    "# Iterate through the DataLoader\n",
    "for batch in dataloader:\n",
    "    pairs, labels = batch\n",
    "    \n",
    "    # Unpack pairs and labels\n",
    "    print(f'{pairs.shape=}')\n",
    "    print(f'{labels.shape=}')\n",
    "    print(f'Unique labels: {torch.unique(labels, return_counts=True)}')\n",
    "    print(f'{labels=}')\n",
    "    break\n",
    "\n",
    "del dataloader"
   ]
  },
  {
   "cell_type": "code",
   "execution_count": 10,
   "metadata": {
    "execution": {
     "iopub.execute_input": "2024-10-21T09:13:42.755706Z",
     "iopub.status.busy": "2024-10-21T09:13:42.755506Z",
     "iopub.status.idle": "2024-10-21T09:13:42.766574Z",
     "shell.execute_reply": "2024-10-21T09:13:42.765364Z",
     "shell.execute_reply.started": "2024-10-21T09:13:42.755687Z"
    }
   },
   "outputs": [
    {
     "name": "stdout",
     "output_type": "stream",
     "text": [
      "Train: 910, Val: 228, Test: 106\n"
     ]
    }
   ],
   "source": [
    "# First obtain indices of the train/val/test sets to limit code rerun time\n",
    "# obtain indices of the replication set in dataset as test set (participants starting with 'sub-19')\n",
    "replication_indices = [idx for idx, sample in enumerate(dataset.sampled_epochs_indices_id) if sample[0].startswith('sub-19')]\n",
    "# obtain the rest of the indices as train and validation set\n",
    "trainval_indices = [idx for idx in range(len(dataset)) if idx not in replication_indices]\n",
    "\n",
    "groups = [dataset.sampled_epochs_indices_id[idx][0] for idx in trainval_indices]\n",
    "\n",
    "# stratified group kfold split\n",
    "from sklearn.model_selection import GroupKFold\n",
    "sgkf = GroupKFold(n_splits=5)\n",
    "\n",
    "# Split the train and validation set into train and validation set\n",
    "for train_idx, val_idx in sgkf.split(trainval_indices, groups=groups):\n",
    "    train_indices = [trainval_indices[i] for i in train_idx]\n",
    "    val_indices = [trainval_indices[i] for i in val_idx]\n",
    "    break  # We only need the first split\n",
    "\n",
    "# obtain actual train, val, test splits\n",
    "# Create subsets using the indices\n",
    "data_train = Subset(dataset, train_indices)\n",
    "data_val = Subset(dataset, val_indices)\n",
    "data_test = Subset(dataset, replication_indices)\n",
    "\n",
    "print(f\"Train: {len(data_train)}, Val: {len(data_val)}, Test: {len(data_test)}\")"
   ]
  },
  {
   "cell_type": "markdown",
   "metadata": {},
   "source": [
    "#### Training pretext model"
   ]
  },
  {
   "cell_type": "code",
   "execution_count": 11,
   "metadata": {
    "execution": {
     "iopub.execute_input": "2024-10-21T09:13:42.767329Z",
     "iopub.status.busy": "2024-10-21T09:13:42.767168Z",
     "iopub.status.idle": "2024-10-21T09:36:40.054637Z",
     "shell.execute_reply": "2024-10-21T09:36:40.053961Z",
     "shell.execute_reply.started": "2024-10-21T09:13:42.767313Z"
    }
   },
   "outputs": [
    {
     "name": "stderr",
     "output_type": "stream",
     "text": [
      "Using 16bit Automatic Mixed Precision (AMP)\n",
      "GPU available: True (cuda), used: True\n",
      "TPU available: False, using: 0 TPU cores\n",
      "HPU available: False, using: 0 HPUs\n",
      "LOCAL_RANK: 0 - CUDA_VISIBLE_DEVICES: [0]\n",
      "\n",
      "  | Name       | Type       | Params | Mode \n",
      "--------------------------------------------------\n",
      "0 | ShallowNet | ShallowNet | 350 K  | train\n",
      "1 | linear     | Linear     | 10.1 K | train\n",
      "--------------------------------------------------\n",
      "360 K     Trainable params\n",
      "0         Non-trainable params\n",
      "360 K     Total params\n",
      "1.444     Total estimated model params size (MB)\n",
      "9         Modules in train mode\n",
      "0         Modules in eval mode\n"
     ]
    },
    {
     "data": {
      "application/vnd.jupyter.widget-view+json": {
       "model_id": "2e8d90aa4be1471db2dffe11957fcb30",
       "version_major": 2,
       "version_minor": 0
      },
      "text/plain": [
       "Sanity Checking: |          | 0/? [00:00<?, ?it/s]"
      ]
     },
     "metadata": {},
     "output_type": "display_data"
    },
    {
     "name": "stderr",
     "output_type": "stream",
     "text": [
      "/home/tsmolders/.conda/envs/py3117/lib/python3.11/site-packages/lightning/pytorch/loops/fit_loop.py:298: The number of training batches (1) is smaller than the logging interval Trainer(log_every_n_steps=5). Set a lower value for log_every_n_steps if you want to see logs for the training epoch.\n"
     ]
    },
    {
     "data": {
      "application/vnd.jupyter.widget-view+json": {
       "model_id": "3d5328211a0a4e8f82eaffd231f967cc",
       "version_major": 2,
       "version_minor": 0
      },
      "text/plain": [
       "Training: |          | 0/? [00:00<?, ?it/s]"
      ]
     },
     "metadata": {},
     "output_type": "display_data"
    },
    {
     "data": {
      "application/vnd.jupyter.widget-view+json": {
       "model_id": "d4af1b2b38d0441ea5179ae279b8c1a7",
       "version_major": 2,
       "version_minor": 0
      },
      "text/plain": [
       "Validation: |          | 0/? [00:00<?, ?it/s]"
      ]
     },
     "metadata": {},
     "output_type": "display_data"
    },
    {
     "data": {
      "application/vnd.jupyter.widget-view+json": {
       "model_id": "9d36471cf0554e83bcaf0917f113fdb7",
       "version_major": 2,
       "version_minor": 0
      },
      "text/plain": [
       "Validation: |          | 0/? [00:00<?, ?it/s]"
      ]
     },
     "metadata": {},
     "output_type": "display_data"
    },
    {
     "data": {
      "application/vnd.jupyter.widget-view+json": {
       "model_id": "8cb122b7d0ce427f8d784e1af42fdf95",
       "version_major": 2,
       "version_minor": 0
      },
      "text/plain": [
       "Validation: |          | 0/? [00:00<?, ?it/s]"
      ]
     },
     "metadata": {},
     "output_type": "display_data"
    },
    {
     "data": {
      "application/vnd.jupyter.widget-view+json": {
       "model_id": "f572dc0779704264925710da79d0cf9e",
       "version_major": 2,
       "version_minor": 0
      },
      "text/plain": [
       "Validation: |          | 0/? [00:00<?, ?it/s]"
      ]
     },
     "metadata": {},
     "output_type": "display_data"
    },
    {
     "data": {
      "application/vnd.jupyter.widget-view+json": {
       "model_id": "bec9f8dd184e40fea722d18a6ce4a26b",
       "version_major": 2,
       "version_minor": 0
      },
      "text/plain": [
       "Validation: |          | 0/? [00:00<?, ?it/s]"
      ]
     },
     "metadata": {},
     "output_type": "display_data"
    },
    {
     "data": {
      "application/vnd.jupyter.widget-view+json": {
       "model_id": "345ae255f786419b828356c91d9727bd",
       "version_major": 2,
       "version_minor": 0
      },
      "text/plain": [
       "Validation: |          | 0/? [00:00<?, ?it/s]"
      ]
     },
     "metadata": {},
     "output_type": "display_data"
    },
    {
     "data": {
      "application/vnd.jupyter.widget-view+json": {
       "model_id": "7d06774782db41edab9f615944a8a7c1",
       "version_major": 2,
       "version_minor": 0
      },
      "text/plain": [
       "Validation: |          | 0/? [00:00<?, ?it/s]"
      ]
     },
     "metadata": {},
     "output_type": "display_data"
    },
    {
     "data": {
      "application/vnd.jupyter.widget-view+json": {
       "model_id": "a09783659a644007be896d9cd6e846d2",
       "version_major": 2,
       "version_minor": 0
      },
      "text/plain": [
       "Validation: |          | 0/? [00:00<?, ?it/s]"
      ]
     },
     "metadata": {},
     "output_type": "display_data"
    },
    {
     "data": {
      "application/vnd.jupyter.widget-view+json": {
       "model_id": "4fcf31ea032c4b9dae765f0610a14806",
       "version_major": 2,
       "version_minor": 0
      },
      "text/plain": [
       "Validation: |          | 0/? [00:00<?, ?it/s]"
      ]
     },
     "metadata": {},
     "output_type": "display_data"
    },
    {
     "data": {
      "application/vnd.jupyter.widget-view+json": {
       "model_id": "b6d75763fb4e4d90a21ff33294643a1b",
       "version_major": 2,
       "version_minor": 0
      },
      "text/plain": [
       "Validation: |          | 0/? [00:00<?, ?it/s]"
      ]
     },
     "metadata": {},
     "output_type": "display_data"
    },
    {
     "data": {
      "application/vnd.jupyter.widget-view+json": {
       "model_id": "4fa8d195f76d4a3a9fd98f3ee6b604b9",
       "version_major": 2,
       "version_minor": 0
      },
      "text/plain": [
       "Validation: |          | 0/? [00:00<?, ?it/s]"
      ]
     },
     "metadata": {},
     "output_type": "display_data"
    },
    {
     "data": {
      "application/vnd.jupyter.widget-view+json": {
       "model_id": "5be2adfb55144c9f97dbcc66eae0eb0e",
       "version_major": 2,
       "version_minor": 0
      },
      "text/plain": [
       "Validation: |          | 0/? [00:00<?, ?it/s]"
      ]
     },
     "metadata": {},
     "output_type": "display_data"
    },
    {
     "data": {
      "application/vnd.jupyter.widget-view+json": {
       "model_id": "b3dfa1b0009e46dc888693dea84c6114",
       "version_major": 2,
       "version_minor": 0
      },
      "text/plain": [
       "Validation: |          | 0/? [00:00<?, ?it/s]"
      ]
     },
     "metadata": {},
     "output_type": "display_data"
    },
    {
     "data": {
      "application/vnd.jupyter.widget-view+json": {
       "model_id": "011a147b83e442ef9b81186299918cc3",
       "version_major": 2,
       "version_minor": 0
      },
      "text/plain": [
       "Validation: |          | 0/? [00:00<?, ?it/s]"
      ]
     },
     "metadata": {},
     "output_type": "display_data"
    },
    {
     "data": {
      "application/vnd.jupyter.widget-view+json": {
       "model_id": "e14345c84f5e4454a8ace630b18b7da0",
       "version_major": 2,
       "version_minor": 0
      },
      "text/plain": [
       "Validation: |          | 0/? [00:00<?, ?it/s]"
      ]
     },
     "metadata": {},
     "output_type": "display_data"
    },
    {
     "data": {
      "application/vnd.jupyter.widget-view+json": {
       "model_id": "5bf42feaec244f77a940cdb90f65992f",
       "version_major": 2,
       "version_minor": 0
      },
      "text/plain": [
       "Validation: |          | 0/? [00:00<?, ?it/s]"
      ]
     },
     "metadata": {},
     "output_type": "display_data"
    },
    {
     "data": {
      "application/vnd.jupyter.widget-view+json": {
       "model_id": "1b21d8bb5eaa4991bb9ad8d9ecec6a8a",
       "version_major": 2,
       "version_minor": 0
      },
      "text/plain": [
       "Validation: |          | 0/? [00:00<?, ?it/s]"
      ]
     },
     "metadata": {},
     "output_type": "display_data"
    },
    {
     "data": {
      "application/vnd.jupyter.widget-view+json": {
       "model_id": "968bd313079349aba09c13a8b90b1865",
       "version_major": 2,
       "version_minor": 0
      },
      "text/plain": [
       "Validation: |          | 0/? [00:00<?, ?it/s]"
      ]
     },
     "metadata": {},
     "output_type": "display_data"
    },
    {
     "data": {
      "application/vnd.jupyter.widget-view+json": {
       "model_id": "5350cd097822402ab70d9fc15a1ed666",
       "version_major": 2,
       "version_minor": 0
      },
      "text/plain": [
       "Validation: |          | 0/? [00:00<?, ?it/s]"
      ]
     },
     "metadata": {},
     "output_type": "display_data"
    },
    {
     "data": {
      "application/vnd.jupyter.widget-view+json": {
       "model_id": "d30cc878027048f1ae8727053e5f38bf",
       "version_major": 2,
       "version_minor": 0
      },
      "text/plain": [
       "Validation: |          | 0/? [00:00<?, ?it/s]"
      ]
     },
     "metadata": {},
     "output_type": "display_data"
    },
    {
     "data": {
      "application/vnd.jupyter.widget-view+json": {
       "model_id": "88e15a3ad3254da4a46bfd7a156fe7c0",
       "version_major": 2,
       "version_minor": 0
      },
      "text/plain": [
       "Validation: |          | 0/? [00:00<?, ?it/s]"
      ]
     },
     "metadata": {},
     "output_type": "display_data"
    },
    {
     "data": {
      "application/vnd.jupyter.widget-view+json": {
       "model_id": "a681a686421c4b19b90e2c550a3f0450",
       "version_major": 2,
       "version_minor": 0
      },
      "text/plain": [
       "Validation: |          | 0/? [00:00<?, ?it/s]"
      ]
     },
     "metadata": {},
     "output_type": "display_data"
    },
    {
     "data": {
      "application/vnd.jupyter.widget-view+json": {
       "model_id": "8653f09601be41ab90bba0cb9cf5c1b8",
       "version_major": 2,
       "version_minor": 0
      },
      "text/plain": [
       "Validation: |          | 0/? [00:00<?, ?it/s]"
      ]
     },
     "metadata": {},
     "output_type": "display_data"
    },
    {
     "data": {
      "application/vnd.jupyter.widget-view+json": {
       "model_id": "ca95115a08804b8cb6dfb64a50b7046f",
       "version_major": 2,
       "version_minor": 0
      },
      "text/plain": [
       "Validation: |          | 0/? [00:00<?, ?it/s]"
      ]
     },
     "metadata": {},
     "output_type": "display_data"
    },
    {
     "data": {
      "application/vnd.jupyter.widget-view+json": {
       "model_id": "a64ca73660454c6b935a37da9eadd99e",
       "version_major": 2,
       "version_minor": 0
      },
      "text/plain": [
       "Validation: |          | 0/? [00:00<?, ?it/s]"
      ]
     },
     "metadata": {},
     "output_type": "display_data"
    },
    {
     "data": {
      "application/vnd.jupyter.widget-view+json": {
       "model_id": "e2aeb4b685f2473cb21fb7e56a80fccc",
       "version_major": 2,
       "version_minor": 0
      },
      "text/plain": [
       "Validation: |          | 0/? [00:00<?, ?it/s]"
      ]
     },
     "metadata": {},
     "output_type": "display_data"
    },
    {
     "data": {
      "application/vnd.jupyter.widget-view+json": {
       "model_id": "3474ec30ede447f29f3100bc194fbebe",
       "version_major": 2,
       "version_minor": 0
      },
      "text/plain": [
       "Validation: |          | 0/? [00:00<?, ?it/s]"
      ]
     },
     "metadata": {},
     "output_type": "display_data"
    },
    {
     "data": {
      "application/vnd.jupyter.widget-view+json": {
       "model_id": "150bf8927e764f51a6223857d9dbfd00",
       "version_major": 2,
       "version_minor": 0
      },
      "text/plain": [
       "Validation: |          | 0/? [00:00<?, ?it/s]"
      ]
     },
     "metadata": {},
     "output_type": "display_data"
    },
    {
     "data": {
      "application/vnd.jupyter.widget-view+json": {
       "model_id": "2e60b16f69244ed2b38f0edd304c9c4d",
       "version_major": 2,
       "version_minor": 0
      },
      "text/plain": [
       "Validation: |          | 0/? [00:00<?, ?it/s]"
      ]
     },
     "metadata": {},
     "output_type": "display_data"
    },
    {
     "data": {
      "application/vnd.jupyter.widget-view+json": {
       "model_id": "2dbda50dcc4945f6b15fabb2794d79b3",
       "version_major": 2,
       "version_minor": 0
      },
      "text/plain": [
       "Validation: |          | 0/? [00:00<?, ?it/s]"
      ]
     },
     "metadata": {},
     "output_type": "display_data"
    },
    {
     "data": {
      "application/vnd.jupyter.widget-view+json": {
       "model_id": "09c7c8557eaf46fe9386f65a0f1c2d6a",
       "version_major": 2,
       "version_minor": 0
      },
      "text/plain": [
       "Validation: |          | 0/? [00:00<?, ?it/s]"
      ]
     },
     "metadata": {},
     "output_type": "display_data"
    },
    {
     "data": {
      "application/vnd.jupyter.widget-view+json": {
       "model_id": "175c59b595ec4cdab90f878a650ddce3",
       "version_major": 2,
       "version_minor": 0
      },
      "text/plain": [
       "Validation: |          | 0/? [00:00<?, ?it/s]"
      ]
     },
     "metadata": {},
     "output_type": "display_data"
    },
    {
     "data": {
      "application/vnd.jupyter.widget-view+json": {
       "model_id": "1d77aaa7ac1c484f8e1944413856e9fb",
       "version_major": 2,
       "version_minor": 0
      },
      "text/plain": [
       "Validation: |          | 0/? [00:00<?, ?it/s]"
      ]
     },
     "metadata": {},
     "output_type": "display_data"
    },
    {
     "data": {
      "application/vnd.jupyter.widget-view+json": {
       "model_id": "1e802b69da964e53900e2d823afc6cc4",
       "version_major": 2,
       "version_minor": 0
      },
      "text/plain": [
       "Validation: |          | 0/? [00:00<?, ?it/s]"
      ]
     },
     "metadata": {},
     "output_type": "display_data"
    },
    {
     "data": {
      "application/vnd.jupyter.widget-view+json": {
       "model_id": "d3a44f94fefd40cb88b75c0a57062688",
       "version_major": 2,
       "version_minor": 0
      },
      "text/plain": [
       "Validation: |          | 0/? [00:00<?, ?it/s]"
      ]
     },
     "metadata": {},
     "output_type": "display_data"
    },
    {
     "data": {
      "application/vnd.jupyter.widget-view+json": {
       "model_id": "0a70032a55d04bac9b842e302f6f3437",
       "version_major": 2,
       "version_minor": 0
      },
      "text/plain": [
       "Validation: |          | 0/? [00:00<?, ?it/s]"
      ]
     },
     "metadata": {},
     "output_type": "display_data"
    },
    {
     "data": {
      "application/vnd.jupyter.widget-view+json": {
       "model_id": "3918a07e0bc54a1095d2ed225129f783",
       "version_major": 2,
       "version_minor": 0
      },
      "text/plain": [
       "Validation: |          | 0/? [00:00<?, ?it/s]"
      ]
     },
     "metadata": {},
     "output_type": "display_data"
    },
    {
     "data": {
      "application/vnd.jupyter.widget-view+json": {
       "model_id": "ca58e05fc4fb45348ec755dec56d3d34",
       "version_major": 2,
       "version_minor": 0
      },
      "text/plain": [
       "Validation: |          | 0/? [00:00<?, ?it/s]"
      ]
     },
     "metadata": {},
     "output_type": "display_data"
    },
    {
     "data": {
      "application/vnd.jupyter.widget-view+json": {
       "model_id": "91e378109af04b65ad2564e34c68c15f",
       "version_major": 2,
       "version_minor": 0
      },
      "text/plain": [
       "Validation: |          | 0/? [00:00<?, ?it/s]"
      ]
     },
     "metadata": {},
     "output_type": "display_data"
    },
    {
     "data": {
      "application/vnd.jupyter.widget-view+json": {
       "model_id": "fece0cda8374444bb21f8cc12b241ed7",
       "version_major": 2,
       "version_minor": 0
      },
      "text/plain": [
       "Validation: |          | 0/? [00:00<?, ?it/s]"
      ]
     },
     "metadata": {},
     "output_type": "display_data"
    },
    {
     "data": {
      "application/vnd.jupyter.widget-view+json": {
       "model_id": "1631833ed6f44c01b2dfa84391027d4d",
       "version_major": 2,
       "version_minor": 0
      },
      "text/plain": [
       "Validation: |          | 0/? [00:00<?, ?it/s]"
      ]
     },
     "metadata": {},
     "output_type": "display_data"
    },
    {
     "data": {
      "application/vnd.jupyter.widget-view+json": {
       "model_id": "30b2c9ec8e9d4cfc9851657f854330fb",
       "version_major": 2,
       "version_minor": 0
      },
      "text/plain": [
       "Validation: |          | 0/? [00:00<?, ?it/s]"
      ]
     },
     "metadata": {},
     "output_type": "display_data"
    },
    {
     "data": {
      "application/vnd.jupyter.widget-view+json": {
       "model_id": "d3b4ca70e7b54bdb94b27ad169e8c380",
       "version_major": 2,
       "version_minor": 0
      },
      "text/plain": [
       "Validation: |          | 0/? [00:00<?, ?it/s]"
      ]
     },
     "metadata": {},
     "output_type": "display_data"
    },
    {
     "data": {
      "application/vnd.jupyter.widget-view+json": {
       "model_id": "e6a8d13c1b9f4e5d93262e6790d4f7b2",
       "version_major": 2,
       "version_minor": 0
      },
      "text/plain": [
       "Validation: |          | 0/? [00:00<?, ?it/s]"
      ]
     },
     "metadata": {},
     "output_type": "display_data"
    },
    {
     "data": {
      "application/vnd.jupyter.widget-view+json": {
       "model_id": "cc2e7eecfe8147adb903ece0f27451c8",
       "version_major": 2,
       "version_minor": 0
      },
      "text/plain": [
       "Validation: |          | 0/? [00:00<?, ?it/s]"
      ]
     },
     "metadata": {},
     "output_type": "display_data"
    },
    {
     "data": {
      "application/vnd.jupyter.widget-view+json": {
       "model_id": "5dd74d26138b4989be7938f58342f0c1",
       "version_major": 2,
       "version_minor": 0
      },
      "text/plain": [
       "Validation: |          | 0/? [00:00<?, ?it/s]"
      ]
     },
     "metadata": {},
     "output_type": "display_data"
    },
    {
     "data": {
      "application/vnd.jupyter.widget-view+json": {
       "model_id": "e4313f34047f41799b9222f860b99592",
       "version_major": 2,
       "version_minor": 0
      },
      "text/plain": [
       "Validation: |          | 0/? [00:00<?, ?it/s]"
      ]
     },
     "metadata": {},
     "output_type": "display_data"
    },
    {
     "data": {
      "application/vnd.jupyter.widget-view+json": {
       "model_id": "2378730d29754dbb91f878276d60535e",
       "version_major": 2,
       "version_minor": 0
      },
      "text/plain": [
       "Validation: |          | 0/? [00:00<?, ?it/s]"
      ]
     },
     "metadata": {},
     "output_type": "display_data"
    },
    {
     "data": {
      "application/vnd.jupyter.widget-view+json": {
       "model_id": "986b1e3aec074e8fac180d774f342d29",
       "version_major": 2,
       "version_minor": 0
      },
      "text/plain": [
       "Validation: |          | 0/? [00:00<?, ?it/s]"
      ]
     },
     "metadata": {},
     "output_type": "display_data"
    },
    {
     "data": {
      "application/vnd.jupyter.widget-view+json": {
       "model_id": "34a635915a0e49238aafba1471690c7f",
       "version_major": 2,
       "version_minor": 0
      },
      "text/plain": [
       "Validation: |          | 0/? [00:00<?, ?it/s]"
      ]
     },
     "metadata": {},
     "output_type": "display_data"
    },
    {
     "data": {
      "application/vnd.jupyter.widget-view+json": {
       "model_id": "4c2ea1c7d0814b068613a1e641dabd64",
       "version_major": 2,
       "version_minor": 0
      },
      "text/plain": [
       "Validation: |          | 0/? [00:00<?, ?it/s]"
      ]
     },
     "metadata": {},
     "output_type": "display_data"
    },
    {
     "data": {
      "application/vnd.jupyter.widget-view+json": {
       "model_id": "7d994f1c945542669768a44386ea7789",
       "version_major": 2,
       "version_minor": 0
      },
      "text/plain": [
       "Validation: |          | 0/? [00:00<?, ?it/s]"
      ]
     },
     "metadata": {},
     "output_type": "display_data"
    },
    {
     "data": {
      "application/vnd.jupyter.widget-view+json": {
       "model_id": "ed3eaf933ea64febb282c2c8e3149462",
       "version_major": 2,
       "version_minor": 0
      },
      "text/plain": [
       "Validation: |          | 0/? [00:00<?, ?it/s]"
      ]
     },
     "metadata": {},
     "output_type": "display_data"
    },
    {
     "data": {
      "application/vnd.jupyter.widget-view+json": {
       "model_id": "5ce0833b68f04830864a8f006a3156e3",
       "version_major": 2,
       "version_minor": 0
      },
      "text/plain": [
       "Validation: |          | 0/? [00:00<?, ?it/s]"
      ]
     },
     "metadata": {},
     "output_type": "display_data"
    },
    {
     "data": {
      "application/vnd.jupyter.widget-view+json": {
       "model_id": "59b34d1d0be84c709bcf418cfda2e530",
       "version_major": 2,
       "version_minor": 0
      },
      "text/plain": [
       "Validation: |          | 0/? [00:00<?, ?it/s]"
      ]
     },
     "metadata": {},
     "output_type": "display_data"
    },
    {
     "data": {
      "application/vnd.jupyter.widget-view+json": {
       "model_id": "738768d5a4f342f8a9341295d919f64f",
       "version_major": 2,
       "version_minor": 0
      },
      "text/plain": [
       "Validation: |          | 0/? [00:00<?, ?it/s]"
      ]
     },
     "metadata": {},
     "output_type": "display_data"
    },
    {
     "data": {
      "application/vnd.jupyter.widget-view+json": {
       "model_id": "1ebc203d45aa4aeea06f0af7bd6f41c1",
       "version_major": 2,
       "version_minor": 0
      },
      "text/plain": [
       "Validation: |          | 0/? [00:00<?, ?it/s]"
      ]
     },
     "metadata": {},
     "output_type": "display_data"
    },
    {
     "data": {
      "application/vnd.jupyter.widget-view+json": {
       "model_id": "a41ac326b6e54865bc98d6aea6c36c2f",
       "version_major": 2,
       "version_minor": 0
      },
      "text/plain": [
       "Validation: |          | 0/? [00:00<?, ?it/s]"
      ]
     },
     "metadata": {},
     "output_type": "display_data"
    },
    {
     "data": {
      "application/vnd.jupyter.widget-view+json": {
       "model_id": "350feb58e02547868134c609fb42508d",
       "version_major": 2,
       "version_minor": 0
      },
      "text/plain": [
       "Validation: |          | 0/? [00:00<?, ?it/s]"
      ]
     },
     "metadata": {},
     "output_type": "display_data"
    },
    {
     "data": {
      "application/vnd.jupyter.widget-view+json": {
       "model_id": "fb9ac6d76c1044b9811196dc793720a4",
       "version_major": 2,
       "version_minor": 0
      },
      "text/plain": [
       "Validation: |          | 0/? [00:00<?, ?it/s]"
      ]
     },
     "metadata": {},
     "output_type": "display_data"
    },
    {
     "data": {
      "application/vnd.jupyter.widget-view+json": {
       "model_id": "fd7482ac31f84a08af7e7dc0b9540dfc",
       "version_major": 2,
       "version_minor": 0
      },
      "text/plain": [
       "Validation: |          | 0/? [00:00<?, ?it/s]"
      ]
     },
     "metadata": {},
     "output_type": "display_data"
    },
    {
     "data": {
      "application/vnd.jupyter.widget-view+json": {
       "model_id": "9898325cdeb04253a0366940d3719f2e",
       "version_major": 2,
       "version_minor": 0
      },
      "text/plain": [
       "Validation: |          | 0/? [00:00<?, ?it/s]"
      ]
     },
     "metadata": {},
     "output_type": "display_data"
    },
    {
     "data": {
      "application/vnd.jupyter.widget-view+json": {
       "model_id": "4baaa2b267854ad2a7858f9e92e16bbc",
       "version_major": 2,
       "version_minor": 0
      },
      "text/plain": [
       "Validation: |          | 0/? [00:00<?, ?it/s]"
      ]
     },
     "metadata": {},
     "output_type": "display_data"
    },
    {
     "data": {
      "application/vnd.jupyter.widget-view+json": {
       "model_id": "66076dd0b75b43eeb149afd28f07558a",
       "version_major": 2,
       "version_minor": 0
      },
      "text/plain": [
       "Validation: |          | 0/? [00:00<?, ?it/s]"
      ]
     },
     "metadata": {},
     "output_type": "display_data"
    },
    {
     "data": {
      "application/vnd.jupyter.widget-view+json": {
       "model_id": "e7d89216248d41d897d23256c83cfd94",
       "version_major": 2,
       "version_minor": 0
      },
      "text/plain": [
       "Validation: |          | 0/? [00:00<?, ?it/s]"
      ]
     },
     "metadata": {},
     "output_type": "display_data"
    },
    {
     "data": {
      "application/vnd.jupyter.widget-view+json": {
       "model_id": "4af8ccec1efb443991d77e79c87ebd51",
       "version_major": 2,
       "version_minor": 0
      },
      "text/plain": [
       "Validation: |          | 0/? [00:00<?, ?it/s]"
      ]
     },
     "metadata": {},
     "output_type": "display_data"
    },
    {
     "data": {
      "application/vnd.jupyter.widget-view+json": {
       "model_id": "dda565773dd44f1784462027bb0e0369",
       "version_major": 2,
       "version_minor": 0
      },
      "text/plain": [
       "Validation: |          | 0/? [00:00<?, ?it/s]"
      ]
     },
     "metadata": {},
     "output_type": "display_data"
    },
    {
     "data": {
      "application/vnd.jupyter.widget-view+json": {
       "model_id": "6925d1d96bf24bb38ed077a3c87e4a5e",
       "version_major": 2,
       "version_minor": 0
      },
      "text/plain": [
       "Validation: |          | 0/? [00:00<?, ?it/s]"
      ]
     },
     "metadata": {},
     "output_type": "display_data"
    },
    {
     "data": {
      "application/vnd.jupyter.widget-view+json": {
       "model_id": "479a7566835b45ce8f44ea391478d6d2",
       "version_major": 2,
       "version_minor": 0
      },
      "text/plain": [
       "Validation: |          | 0/? [00:00<?, ?it/s]"
      ]
     },
     "metadata": {},
     "output_type": "display_data"
    },
    {
     "data": {
      "application/vnd.jupyter.widget-view+json": {
       "model_id": "9762e81bd79b4ce090acded4b397574d",
       "version_major": 2,
       "version_minor": 0
      },
      "text/plain": [
       "Validation: |          | 0/? [00:00<?, ?it/s]"
      ]
     },
     "metadata": {},
     "output_type": "display_data"
    },
    {
     "data": {
      "application/vnd.jupyter.widget-view+json": {
       "model_id": "5d29f853b4ab4da1a52f98e0b78409af",
       "version_major": 2,
       "version_minor": 0
      },
      "text/plain": [
       "Validation: |          | 0/? [00:00<?, ?it/s]"
      ]
     },
     "metadata": {},
     "output_type": "display_data"
    },
    {
     "data": {
      "application/vnd.jupyter.widget-view+json": {
       "model_id": "9d05f67174264dd6ba70b1676c7e2b6e",
       "version_major": 2,
       "version_minor": 0
      },
      "text/plain": [
       "Validation: |          | 0/? [00:00<?, ?it/s]"
      ]
     },
     "metadata": {},
     "output_type": "display_data"
    },
    {
     "data": {
      "application/vnd.jupyter.widget-view+json": {
       "model_id": "44e23e8ff71e473abfaf7842c50380a7",
       "version_major": 2,
       "version_minor": 0
      },
      "text/plain": [
       "Validation: |          | 0/? [00:00<?, ?it/s]"
      ]
     },
     "metadata": {},
     "output_type": "display_data"
    },
    {
     "data": {
      "application/vnd.jupyter.widget-view+json": {
       "model_id": "de760856a29c470fb1a089007040f8b4",
       "version_major": 2,
       "version_minor": 0
      },
      "text/plain": [
       "Validation: |          | 0/? [00:00<?, ?it/s]"
      ]
     },
     "metadata": {},
     "output_type": "display_data"
    },
    {
     "data": {
      "application/vnd.jupyter.widget-view+json": {
       "model_id": "8e70963ebbba4d28bcbc2db1a7ff3037",
       "version_major": 2,
       "version_minor": 0
      },
      "text/plain": [
       "Validation: |          | 0/? [00:00<?, ?it/s]"
      ]
     },
     "metadata": {},
     "output_type": "display_data"
    },
    {
     "data": {
      "application/vnd.jupyter.widget-view+json": {
       "model_id": "195e82037264441fa8f95c1efc9973fc",
       "version_major": 2,
       "version_minor": 0
      },
      "text/plain": [
       "Validation: |          | 0/? [00:00<?, ?it/s]"
      ]
     },
     "metadata": {},
     "output_type": "display_data"
    },
    {
     "data": {
      "application/vnd.jupyter.widget-view+json": {
       "model_id": "608ac62c46eb45d786719350df28f32d",
       "version_major": 2,
       "version_minor": 0
      },
      "text/plain": [
       "Validation: |          | 0/? [00:00<?, ?it/s]"
      ]
     },
     "metadata": {},
     "output_type": "display_data"
    },
    {
     "data": {
      "application/vnd.jupyter.widget-view+json": {
       "model_id": "a82cda83fc674afca693672743aef490",
       "version_major": 2,
       "version_minor": 0
      },
      "text/plain": [
       "Validation: |          | 0/? [00:00<?, ?it/s]"
      ]
     },
     "metadata": {},
     "output_type": "display_data"
    },
    {
     "data": {
      "application/vnd.jupyter.widget-view+json": {
       "model_id": "7d31c2f0d2ae4e4db53b8a7a02d36f1a",
       "version_major": 2,
       "version_minor": 0
      },
      "text/plain": [
       "Validation: |          | 0/? [00:00<?, ?it/s]"
      ]
     },
     "metadata": {},
     "output_type": "display_data"
    },
    {
     "data": {
      "application/vnd.jupyter.widget-view+json": {
       "model_id": "00147d95579b457192ee347665e4ee49",
       "version_major": 2,
       "version_minor": 0
      },
      "text/plain": [
       "Validation: |          | 0/? [00:00<?, ?it/s]"
      ]
     },
     "metadata": {},
     "output_type": "display_data"
    },
    {
     "data": {
      "application/vnd.jupyter.widget-view+json": {
       "model_id": "23ade4afde0848ff88f5e0603ffa0cf8",
       "version_major": 2,
       "version_minor": 0
      },
      "text/plain": [
       "Validation: |          | 0/? [00:00<?, ?it/s]"
      ]
     },
     "metadata": {},
     "output_type": "display_data"
    },
    {
     "data": {
      "application/vnd.jupyter.widget-view+json": {
       "model_id": "9c7a4511c3c04b0e9481e228b548bcbe",
       "version_major": 2,
       "version_minor": 0
      },
      "text/plain": [
       "Validation: |          | 0/? [00:00<?, ?it/s]"
      ]
     },
     "metadata": {},
     "output_type": "display_data"
    },
    {
     "data": {
      "application/vnd.jupyter.widget-view+json": {
       "model_id": "402b5947aca941288d50b99164ea9a74",
       "version_major": 2,
       "version_minor": 0
      },
      "text/plain": [
       "Validation: |          | 0/? [00:00<?, ?it/s]"
      ]
     },
     "metadata": {},
     "output_type": "display_data"
    },
    {
     "data": {
      "application/vnd.jupyter.widget-view+json": {
       "model_id": "9c2c6a86587744ae92bc9439ede381be",
       "version_major": 2,
       "version_minor": 0
      },
      "text/plain": [
       "Validation: |          | 0/? [00:00<?, ?it/s]"
      ]
     },
     "metadata": {},
     "output_type": "display_data"
    },
    {
     "data": {
      "application/vnd.jupyter.widget-view+json": {
       "model_id": "74ceac8abd8f4f899c577e572427fffc",
       "version_major": 2,
       "version_minor": 0
      },
      "text/plain": [
       "Validation: |          | 0/? [00:00<?, ?it/s]"
      ]
     },
     "metadata": {},
     "output_type": "display_data"
    },
    {
     "data": {
      "application/vnd.jupyter.widget-view+json": {
       "model_id": "47fe47d67c544b498288a33b8ca9fd4d",
       "version_major": 2,
       "version_minor": 0
      },
      "text/plain": [
       "Validation: |          | 0/? [00:00<?, ?it/s]"
      ]
     },
     "metadata": {},
     "output_type": "display_data"
    },
    {
     "data": {
      "application/vnd.jupyter.widget-view+json": {
       "model_id": "d9640fa581e6443ab20d9d0d81a2550f",
       "version_major": 2,
       "version_minor": 0
      },
      "text/plain": [
       "Validation: |          | 0/? [00:00<?, ?it/s]"
      ]
     },
     "metadata": {},
     "output_type": "display_data"
    },
    {
     "data": {
      "application/vnd.jupyter.widget-view+json": {
       "model_id": "6adbcccb13054ab0addb699afe1417e1",
       "version_major": 2,
       "version_minor": 0
      },
      "text/plain": [
       "Validation: |          | 0/? [00:00<?, ?it/s]"
      ]
     },
     "metadata": {},
     "output_type": "display_data"
    },
    {
     "data": {
      "application/vnd.jupyter.widget-view+json": {
       "model_id": "6ea4b66bbfbf445d8fe781c8705a1e2b",
       "version_major": 2,
       "version_minor": 0
      },
      "text/plain": [
       "Validation: |          | 0/? [00:00<?, ?it/s]"
      ]
     },
     "metadata": {},
     "output_type": "display_data"
    },
    {
     "data": {
      "application/vnd.jupyter.widget-view+json": {
       "model_id": "9585af97d48f47bf85aeda91faa60e77",
       "version_major": 2,
       "version_minor": 0
      },
      "text/plain": [
       "Validation: |          | 0/? [00:00<?, ?it/s]"
      ]
     },
     "metadata": {},
     "output_type": "display_data"
    },
    {
     "data": {
      "application/vnd.jupyter.widget-view+json": {
       "model_id": "5f70abd3d7224eff874f868db63f5d0d",
       "version_major": 2,
       "version_minor": 0
      },
      "text/plain": [
       "Validation: |          | 0/? [00:00<?, ?it/s]"
      ]
     },
     "metadata": {},
     "output_type": "display_data"
    },
    {
     "data": {
      "application/vnd.jupyter.widget-view+json": {
       "model_id": "7b931e2f46a44df9811771935f2a6562",
       "version_major": 2,
       "version_minor": 0
      },
      "text/plain": [
       "Validation: |          | 0/? [00:00<?, ?it/s]"
      ]
     },
     "metadata": {},
     "output_type": "display_data"
    },
    {
     "data": {
      "application/vnd.jupyter.widget-view+json": {
       "model_id": "842f1505f6b4455fb720805999b80511",
       "version_major": 2,
       "version_minor": 0
      },
      "text/plain": [
       "Validation: |          | 0/? [00:00<?, ?it/s]"
      ]
     },
     "metadata": {},
     "output_type": "display_data"
    },
    {
     "data": {
      "application/vnd.jupyter.widget-view+json": {
       "model_id": "efa96ecc406f42ebb6dd7a9addfec7b9",
       "version_major": 2,
       "version_minor": 0
      },
      "text/plain": [
       "Validation: |          | 0/? [00:00<?, ?it/s]"
      ]
     },
     "metadata": {},
     "output_type": "display_data"
    },
    {
     "data": {
      "application/vnd.jupyter.widget-view+json": {
       "model_id": "2620209a60a644db8b5eecf1b05af40a",
       "version_major": 2,
       "version_minor": 0
      },
      "text/plain": [
       "Validation: |          | 0/? [00:00<?, ?it/s]"
      ]
     },
     "metadata": {},
     "output_type": "display_data"
    },
    {
     "data": {
      "application/vnd.jupyter.widget-view+json": {
       "model_id": "437d163dc96140f4aefe99c16ac7d375",
       "version_major": 2,
       "version_minor": 0
      },
      "text/plain": [
       "Validation: |          | 0/? [00:00<?, ?it/s]"
      ]
     },
     "metadata": {},
     "output_type": "display_data"
    },
    {
     "data": {
      "application/vnd.jupyter.widget-view+json": {
       "model_id": "61348a65e7c74ef8b30304ca0e94c01f",
       "version_major": 2,
       "version_minor": 0
      },
      "text/plain": [
       "Validation: |          | 0/? [00:00<?, ?it/s]"
      ]
     },
     "metadata": {},
     "output_type": "display_data"
    },
    {
     "data": {
      "application/vnd.jupyter.widget-view+json": {
       "model_id": "5f94c8c3ff344ae6a829f2b15f6045ae",
       "version_major": 2,
       "version_minor": 0
      },
      "text/plain": [
       "Validation: |          | 0/? [00:00<?, ?it/s]"
      ]
     },
     "metadata": {},
     "output_type": "display_data"
    },
    {
     "data": {
      "application/vnd.jupyter.widget-view+json": {
       "model_id": "0a7b7c6e2acd4bc69a337514c94f301e",
       "version_major": 2,
       "version_minor": 0
      },
      "text/plain": [
       "Validation: |          | 0/? [00:00<?, ?it/s]"
      ]
     },
     "metadata": {},
     "output_type": "display_data"
    },
    {
     "data": {
      "application/vnd.jupyter.widget-view+json": {
       "model_id": "53dacb5e4bbe4b759599ba22e1ae4160",
       "version_major": 2,
       "version_minor": 0
      },
      "text/plain": [
       "Validation: |          | 0/? [00:00<?, ?it/s]"
      ]
     },
     "metadata": {},
     "output_type": "display_data"
    },
    {
     "data": {
      "application/vnd.jupyter.widget-view+json": {
       "model_id": "8f52b26aacf54448b8cc30aa10689464",
       "version_major": 2,
       "version_minor": 0
      },
      "text/plain": [
       "Validation: |          | 0/? [00:00<?, ?it/s]"
      ]
     },
     "metadata": {},
     "output_type": "display_data"
    },
    {
     "data": {
      "application/vnd.jupyter.widget-view+json": {
       "model_id": "0d3ea54d65734705b556e60fb95e7564",
       "version_major": 2,
       "version_minor": 0
      },
      "text/plain": [
       "Validation: |          | 0/? [00:00<?, ?it/s]"
      ]
     },
     "metadata": {},
     "output_type": "display_data"
    },
    {
     "data": {
      "application/vnd.jupyter.widget-view+json": {
       "model_id": "eb79ad09549e426cb15aaa7631f807dc",
       "version_major": 2,
       "version_minor": 0
      },
      "text/plain": [
       "Validation: |          | 0/? [00:00<?, ?it/s]"
      ]
     },
     "metadata": {},
     "output_type": "display_data"
    },
    {
     "data": {
      "application/vnd.jupyter.widget-view+json": {
       "model_id": "eec9f1d49c6a46c0946075780a9d9ccd",
       "version_major": 2,
       "version_minor": 0
      },
      "text/plain": [
       "Validation: |          | 0/? [00:00<?, ?it/s]"
      ]
     },
     "metadata": {},
     "output_type": "display_data"
    },
    {
     "data": {
      "application/vnd.jupyter.widget-view+json": {
       "model_id": "1e25819e72cc4e349810bd3364bad728",
       "version_major": 2,
       "version_minor": 0
      },
      "text/plain": [
       "Validation: |          | 0/? [00:00<?, ?it/s]"
      ]
     },
     "metadata": {},
     "output_type": "display_data"
    },
    {
     "data": {
      "application/vnd.jupyter.widget-view+json": {
       "model_id": "ab9ef00f8a754a7abe3538850f07faae",
       "version_major": 2,
       "version_minor": 0
      },
      "text/plain": [
       "Validation: |          | 0/? [00:00<?, ?it/s]"
      ]
     },
     "metadata": {},
     "output_type": "display_data"
    },
    {
     "data": {
      "application/vnd.jupyter.widget-view+json": {
       "model_id": "205dc0a16393419980f47edc92fd34eb",
       "version_major": 2,
       "version_minor": 0
      },
      "text/plain": [
       "Validation: |          | 0/? [00:00<?, ?it/s]"
      ]
     },
     "metadata": {},
     "output_type": "display_data"
    },
    {
     "data": {
      "application/vnd.jupyter.widget-view+json": {
       "model_id": "5c82614919b4449eb5d7cfc2761c0eb2",
       "version_major": 2,
       "version_minor": 0
      },
      "text/plain": [
       "Validation: |          | 0/? [00:00<?, ?it/s]"
      ]
     },
     "metadata": {},
     "output_type": "display_data"
    },
    {
     "data": {
      "application/vnd.jupyter.widget-view+json": {
       "model_id": "763c8d8efca642adaca9de68a5fa0bad",
       "version_major": 2,
       "version_minor": 0
      },
      "text/plain": [
       "Validation: |          | 0/? [00:00<?, ?it/s]"
      ]
     },
     "metadata": {},
     "output_type": "display_data"
    },
    {
     "data": {
      "application/vnd.jupyter.widget-view+json": {
       "model_id": "10a24ba357f0478390a3546d0b93a8ef",
       "version_major": 2,
       "version_minor": 0
      },
      "text/plain": [
       "Validation: |          | 0/? [00:00<?, ?it/s]"
      ]
     },
     "metadata": {},
     "output_type": "display_data"
    },
    {
     "data": {
      "application/vnd.jupyter.widget-view+json": {
       "model_id": "d9191a10670c4e2089be138c879a8ddf",
       "version_major": 2,
       "version_minor": 0
      },
      "text/plain": [
       "Validation: |          | 0/? [00:00<?, ?it/s]"
      ]
     },
     "metadata": {},
     "output_type": "display_data"
    },
    {
     "data": {
      "application/vnd.jupyter.widget-view+json": {
       "model_id": "d412a2dc343d4a24be9070baa25d4488",
       "version_major": 2,
       "version_minor": 0
      },
      "text/plain": [
       "Validation: |          | 0/? [00:00<?, ?it/s]"
      ]
     },
     "metadata": {},
     "output_type": "display_data"
    },
    {
     "data": {
      "application/vnd.jupyter.widget-view+json": {
       "model_id": "f3dd319f7dd34cd090245a1ec5dbfbab",
       "version_major": 2,
       "version_minor": 0
      },
      "text/plain": [
       "Validation: |          | 0/? [00:00<?, ?it/s]"
      ]
     },
     "metadata": {},
     "output_type": "display_data"
    },
    {
     "data": {
      "application/vnd.jupyter.widget-view+json": {
       "model_id": "a8fe0c498da74e81a9198081e5d224af",
       "version_major": 2,
       "version_minor": 0
      },
      "text/plain": [
       "Validation: |          | 0/? [00:00<?, ?it/s]"
      ]
     },
     "metadata": {},
     "output_type": "display_data"
    },
    {
     "data": {
      "application/vnd.jupyter.widget-view+json": {
       "model_id": "f1d23931652a4562a8521119e1f41f83",
       "version_major": 2,
       "version_minor": 0
      },
      "text/plain": [
       "Validation: |          | 0/? [00:00<?, ?it/s]"
      ]
     },
     "metadata": {},
     "output_type": "display_data"
    },
    {
     "data": {
      "application/vnd.jupyter.widget-view+json": {
       "model_id": "22d04ca52d1a46588e062680d78cd651",
       "version_major": 2,
       "version_minor": 0
      },
      "text/plain": [
       "Validation: |          | 0/? [00:00<?, ?it/s]"
      ]
     },
     "metadata": {},
     "output_type": "display_data"
    },
    {
     "data": {
      "application/vnd.jupyter.widget-view+json": {
       "model_id": "0db049c050104412b7754830144eda4c",
       "version_major": 2,
       "version_minor": 0
      },
      "text/plain": [
       "Validation: |          | 0/? [00:00<?, ?it/s]"
      ]
     },
     "metadata": {},
     "output_type": "display_data"
    },
    {
     "data": {
      "application/vnd.jupyter.widget-view+json": {
       "model_id": "4c57d0489fb4453fad3b11f626438aed",
       "version_major": 2,
       "version_minor": 0
      },
      "text/plain": [
       "Validation: |          | 0/? [00:00<?, ?it/s]"
      ]
     },
     "metadata": {},
     "output_type": "display_data"
    },
    {
     "data": {
      "application/vnd.jupyter.widget-view+json": {
       "model_id": "85f084036d6f492699b0970ed006d8a6",
       "version_major": 2,
       "version_minor": 0
      },
      "text/plain": [
       "Validation: |          | 0/? [00:00<?, ?it/s]"
      ]
     },
     "metadata": {},
     "output_type": "display_data"
    },
    {
     "data": {
      "application/vnd.jupyter.widget-view+json": {
       "model_id": "9636bb4bb381497babb215e762fec236",
       "version_major": 2,
       "version_minor": 0
      },
      "text/plain": [
       "Validation: |          | 0/? [00:00<?, ?it/s]"
      ]
     },
     "metadata": {},
     "output_type": "display_data"
    },
    {
     "data": {
      "application/vnd.jupyter.widget-view+json": {
       "model_id": "885ae3924ee54cbb8c8bf25287c4ecf8",
       "version_major": 2,
       "version_minor": 0
      },
      "text/plain": [
       "Validation: |          | 0/? [00:00<?, ?it/s]"
      ]
     },
     "metadata": {},
     "output_type": "display_data"
    },
    {
     "data": {
      "application/vnd.jupyter.widget-view+json": {
       "model_id": "b23d604d1c3342b4aa3038c26a9644a2",
       "version_major": 2,
       "version_minor": 0
      },
      "text/plain": [
       "Validation: |          | 0/? [00:00<?, ?it/s]"
      ]
     },
     "metadata": {},
     "output_type": "display_data"
    },
    {
     "data": {
      "application/vnd.jupyter.widget-view+json": {
       "model_id": "444b2ba125514517989c1e8f16268420",
       "version_major": 2,
       "version_minor": 0
      },
      "text/plain": [
       "Validation: |          | 0/? [00:00<?, ?it/s]"
      ]
     },
     "metadata": {},
     "output_type": "display_data"
    },
    {
     "data": {
      "application/vnd.jupyter.widget-view+json": {
       "model_id": "325e12e653704652a8bb531b427961a1",
       "version_major": 2,
       "version_minor": 0
      },
      "text/plain": [
       "Validation: |          | 0/? [00:00<?, ?it/s]"
      ]
     },
     "metadata": {},
     "output_type": "display_data"
    },
    {
     "data": {
      "application/vnd.jupyter.widget-view+json": {
       "model_id": "9ff2f845372b41528db1f8a37bef5825",
       "version_major": 2,
       "version_minor": 0
      },
      "text/plain": [
       "Validation: |          | 0/? [00:00<?, ?it/s]"
      ]
     },
     "metadata": {},
     "output_type": "display_data"
    },
    {
     "data": {
      "application/vnd.jupyter.widget-view+json": {
       "model_id": "8e4f1c32c44547d7a22f2cd1b9a8bc36",
       "version_major": 2,
       "version_minor": 0
      },
      "text/plain": [
       "Validation: |          | 0/? [00:00<?, ?it/s]"
      ]
     },
     "metadata": {},
     "output_type": "display_data"
    },
    {
     "data": {
      "application/vnd.jupyter.widget-view+json": {
       "model_id": "d09cd0278bde4545a3e598dfe8ffdbef",
       "version_major": 2,
       "version_minor": 0
      },
      "text/plain": [
       "Validation: |          | 0/? [00:00<?, ?it/s]"
      ]
     },
     "metadata": {},
     "output_type": "display_data"
    },
    {
     "data": {
      "application/vnd.jupyter.widget-view+json": {
       "model_id": "68cad42ebd1f4b388cd9099100b0cdb5",
       "version_major": 2,
       "version_minor": 0
      },
      "text/plain": [
       "Validation: |          | 0/? [00:00<?, ?it/s]"
      ]
     },
     "metadata": {},
     "output_type": "display_data"
    },
    {
     "data": {
      "application/vnd.jupyter.widget-view+json": {
       "model_id": "5970a497413845819c9a0685608a835f",
       "version_major": 2,
       "version_minor": 0
      },
      "text/plain": [
       "Validation: |          | 0/? [00:00<?, ?it/s]"
      ]
     },
     "metadata": {},
     "output_type": "display_data"
    },
    {
     "data": {
      "application/vnd.jupyter.widget-view+json": {
       "model_id": "beab95fd7c534d309e79d5922d8e8b4c",
       "version_major": 2,
       "version_minor": 0
      },
      "text/plain": [
       "Validation: |          | 0/? [00:00<?, ?it/s]"
      ]
     },
     "metadata": {},
     "output_type": "display_data"
    },
    {
     "data": {
      "application/vnd.jupyter.widget-view+json": {
       "model_id": "8efce1eeac70490cae30f021db41ad87",
       "version_major": 2,
       "version_minor": 0
      },
      "text/plain": [
       "Validation: |          | 0/? [00:00<?, ?it/s]"
      ]
     },
     "metadata": {},
     "output_type": "display_data"
    },
    {
     "data": {
      "application/vnd.jupyter.widget-view+json": {
       "model_id": "6b4e2d41a9ed49b295e79a5619c9c552",
       "version_major": 2,
       "version_minor": 0
      },
      "text/plain": [
       "Validation: |          | 0/? [00:00<?, ?it/s]"
      ]
     },
     "metadata": {},
     "output_type": "display_data"
    },
    {
     "data": {
      "application/vnd.jupyter.widget-view+json": {
       "model_id": "e1664a9873e44f83b20db2066d2c97c8",
       "version_major": 2,
       "version_minor": 0
      },
      "text/plain": [
       "Validation: |          | 0/? [00:00<?, ?it/s]"
      ]
     },
     "metadata": {},
     "output_type": "display_data"
    },
    {
     "data": {
      "application/vnd.jupyter.widget-view+json": {
       "model_id": "8491eb05741842719c3660308ab277e1",
       "version_major": 2,
       "version_minor": 0
      },
      "text/plain": [
       "Validation: |          | 0/? [00:00<?, ?it/s]"
      ]
     },
     "metadata": {},
     "output_type": "display_data"
    },
    {
     "data": {
      "application/vnd.jupyter.widget-view+json": {
       "model_id": "4415149fdf4c4f798ea63c4e039d5ad9",
       "version_major": 2,
       "version_minor": 0
      },
      "text/plain": [
       "Validation: |          | 0/? [00:00<?, ?it/s]"
      ]
     },
     "metadata": {},
     "output_type": "display_data"
    },
    {
     "data": {
      "application/vnd.jupyter.widget-view+json": {
       "model_id": "132a14536492450e8801777adb36e0ee",
       "version_major": 2,
       "version_minor": 0
      },
      "text/plain": [
       "Validation: |          | 0/? [00:00<?, ?it/s]"
      ]
     },
     "metadata": {},
     "output_type": "display_data"
    },
    {
     "data": {
      "application/vnd.jupyter.widget-view+json": {
       "model_id": "7b34a34e811b4ca3b2f041d9f6d4557a",
       "version_major": 2,
       "version_minor": 0
      },
      "text/plain": [
       "Validation: |          | 0/? [00:00<?, ?it/s]"
      ]
     },
     "metadata": {},
     "output_type": "display_data"
    },
    {
     "data": {
      "application/vnd.jupyter.widget-view+json": {
       "model_id": "02bcda890ed0455988a4f6488637f8ed",
       "version_major": 2,
       "version_minor": 0
      },
      "text/plain": [
       "Validation: |          | 0/? [00:00<?, ?it/s]"
      ]
     },
     "metadata": {},
     "output_type": "display_data"
    },
    {
     "data": {
      "application/vnd.jupyter.widget-view+json": {
       "model_id": "ea8fdde1b60d431eb512aa2396cba5a9",
       "version_major": 2,
       "version_minor": 0
      },
      "text/plain": [
       "Validation: |          | 0/? [00:00<?, ?it/s]"
      ]
     },
     "metadata": {},
     "output_type": "display_data"
    },
    {
     "data": {
      "application/vnd.jupyter.widget-view+json": {
       "model_id": "47db48e886ec4043a4920b792abada67",
       "version_major": 2,
       "version_minor": 0
      },
      "text/plain": [
       "Validation: |          | 0/? [00:00<?, ?it/s]"
      ]
     },
     "metadata": {},
     "output_type": "display_data"
    },
    {
     "data": {
      "application/vnd.jupyter.widget-view+json": {
       "model_id": "8e9a25586d57417797fb53854a4d1760",
       "version_major": 2,
       "version_minor": 0
      },
      "text/plain": [
       "Validation: |          | 0/? [00:00<?, ?it/s]"
      ]
     },
     "metadata": {},
     "output_type": "display_data"
    },
    {
     "data": {
      "application/vnd.jupyter.widget-view+json": {
       "model_id": "acb2c6b701a24c309e6d33278c74b69e",
       "version_major": 2,
       "version_minor": 0
      },
      "text/plain": [
       "Validation: |          | 0/? [00:00<?, ?it/s]"
      ]
     },
     "metadata": {},
     "output_type": "display_data"
    },
    {
     "data": {
      "application/vnd.jupyter.widget-view+json": {
       "model_id": "5236f17c98ed4d8ab748c9b950e4f903",
       "version_major": 2,
       "version_minor": 0
      },
      "text/plain": [
       "Validation: |          | 0/? [00:00<?, ?it/s]"
      ]
     },
     "metadata": {},
     "output_type": "display_data"
    },
    {
     "data": {
      "application/vnd.jupyter.widget-view+json": {
       "model_id": "0e46a2a092ed4a80b773d3bdb0038c53",
       "version_major": 2,
       "version_minor": 0
      },
      "text/plain": [
       "Validation: |          | 0/? [00:00<?, ?it/s]"
      ]
     },
     "metadata": {},
     "output_type": "display_data"
    },
    {
     "data": {
      "application/vnd.jupyter.widget-view+json": {
       "model_id": "31184ddf251c4a4e933f9d9ca86c08a5",
       "version_major": 2,
       "version_minor": 0
      },
      "text/plain": [
       "Validation: |          | 0/? [00:00<?, ?it/s]"
      ]
     },
     "metadata": {},
     "output_type": "display_data"
    },
    {
     "data": {
      "application/vnd.jupyter.widget-view+json": {
       "model_id": "b3696e8b462945c48016c1e49098b0f5",
       "version_major": 2,
       "version_minor": 0
      },
      "text/plain": [
       "Validation: |          | 0/? [00:00<?, ?it/s]"
      ]
     },
     "metadata": {},
     "output_type": "display_data"
    },
    {
     "data": {
      "application/vnd.jupyter.widget-view+json": {
       "model_id": "47d190d91aeb426daeb7d1bbf114a50c",
       "version_major": 2,
       "version_minor": 0
      },
      "text/plain": [
       "Validation: |          | 0/? [00:00<?, ?it/s]"
      ]
     },
     "metadata": {},
     "output_type": "display_data"
    },
    {
     "data": {
      "application/vnd.jupyter.widget-view+json": {
       "model_id": "aa3f4275e34c4a2788a4297fd01ab8c3",
       "version_major": 2,
       "version_minor": 0
      },
      "text/plain": [
       "Validation: |          | 0/? [00:00<?, ?it/s]"
      ]
     },
     "metadata": {},
     "output_type": "display_data"
    },
    {
     "data": {
      "application/vnd.jupyter.widget-view+json": {
       "model_id": "1f92293ca28e490da23746a7e1af9c3e",
       "version_major": 2,
       "version_minor": 0
      },
      "text/plain": [
       "Validation: |          | 0/? [00:00<?, ?it/s]"
      ]
     },
     "metadata": {},
     "output_type": "display_data"
    },
    {
     "data": {
      "application/vnd.jupyter.widget-view+json": {
       "model_id": "466923efddf942e1b52828913a99f2f3",
       "version_major": 2,
       "version_minor": 0
      },
      "text/plain": [
       "Validation: |          | 0/? [00:00<?, ?it/s]"
      ]
     },
     "metadata": {},
     "output_type": "display_data"
    },
    {
     "data": {
      "application/vnd.jupyter.widget-view+json": {
       "model_id": "bcea9b60b85f4d5096b03266f55d69ae",
       "version_major": 2,
       "version_minor": 0
      },
      "text/plain": [
       "Validation: |          | 0/? [00:00<?, ?it/s]"
      ]
     },
     "metadata": {},
     "output_type": "display_data"
    },
    {
     "data": {
      "application/vnd.jupyter.widget-view+json": {
       "model_id": "fccea895cb854e37a0fe86c581ded828",
       "version_major": 2,
       "version_minor": 0
      },
      "text/plain": [
       "Validation: |          | 0/? [00:00<?, ?it/s]"
      ]
     },
     "metadata": {},
     "output_type": "display_data"
    },
    {
     "data": {
      "application/vnd.jupyter.widget-view+json": {
       "model_id": "f2f05c12a77041d694f37cdb5604a291",
       "version_major": 2,
       "version_minor": 0
      },
      "text/plain": [
       "Validation: |          | 0/? [00:00<?, ?it/s]"
      ]
     },
     "metadata": {},
     "output_type": "display_data"
    },
    {
     "data": {
      "application/vnd.jupyter.widget-view+json": {
       "model_id": "b152c78df62544f5b8d77ad27d70ed68",
       "version_major": 2,
       "version_minor": 0
      },
      "text/plain": [
       "Validation: |          | 0/? [00:00<?, ?it/s]"
      ]
     },
     "metadata": {},
     "output_type": "display_data"
    },
    {
     "data": {
      "application/vnd.jupyter.widget-view+json": {
       "model_id": "98b1a8f227ea40a49145105ba80d4b20",
       "version_major": 2,
       "version_minor": 0
      },
      "text/plain": [
       "Validation: |          | 0/? [00:00<?, ?it/s]"
      ]
     },
     "metadata": {},
     "output_type": "display_data"
    },
    {
     "data": {
      "application/vnd.jupyter.widget-view+json": {
       "model_id": "7c6fcd46e7d643e08634669b4015943f",
       "version_major": 2,
       "version_minor": 0
      },
      "text/plain": [
       "Validation: |          | 0/? [00:00<?, ?it/s]"
      ]
     },
     "metadata": {},
     "output_type": "display_data"
    },
    {
     "data": {
      "application/vnd.jupyter.widget-view+json": {
       "model_id": "39bf1b88056c43f2b69ef56cde18c519",
       "version_major": 2,
       "version_minor": 0
      },
      "text/plain": [
       "Validation: |          | 0/? [00:00<?, ?it/s]"
      ]
     },
     "metadata": {},
     "output_type": "display_data"
    },
    {
     "data": {
      "application/vnd.jupyter.widget-view+json": {
       "model_id": "b9f11e7088c34727baf9ffce7591d748",
       "version_major": 2,
       "version_minor": 0
      },
      "text/plain": [
       "Validation: |          | 0/? [00:00<?, ?it/s]"
      ]
     },
     "metadata": {},
     "output_type": "display_data"
    },
    {
     "data": {
      "application/vnd.jupyter.widget-view+json": {
       "model_id": "52d17136c0ad47f79177f316b883f04b",
       "version_major": 2,
       "version_minor": 0
      },
      "text/plain": [
       "Validation: |          | 0/? [00:00<?, ?it/s]"
      ]
     },
     "metadata": {},
     "output_type": "display_data"
    },
    {
     "data": {
      "application/vnd.jupyter.widget-view+json": {
       "model_id": "47aa668ab92c4cb68eff43726eea8994",
       "version_major": 2,
       "version_minor": 0
      },
      "text/plain": [
       "Validation: |          | 0/? [00:00<?, ?it/s]"
      ]
     },
     "metadata": {},
     "output_type": "display_data"
    },
    {
     "data": {
      "application/vnd.jupyter.widget-view+json": {
       "model_id": "14c9cbe5385f40219504e92a9ebd2e74",
       "version_major": 2,
       "version_minor": 0
      },
      "text/plain": [
       "Validation: |          | 0/? [00:00<?, ?it/s]"
      ]
     },
     "metadata": {},
     "output_type": "display_data"
    },
    {
     "data": {
      "application/vnd.jupyter.widget-view+json": {
       "model_id": "b357149eeeb044cbaab11f5e36d24e26",
       "version_major": 2,
       "version_minor": 0
      },
      "text/plain": [
       "Validation: |          | 0/? [00:00<?, ?it/s]"
      ]
     },
     "metadata": {},
     "output_type": "display_data"
    },
    {
     "data": {
      "application/vnd.jupyter.widget-view+json": {
       "model_id": "6e3a2ca0cd83455d87345213d94f096f",
       "version_major": 2,
       "version_minor": 0
      },
      "text/plain": [
       "Validation: |          | 0/? [00:00<?, ?it/s]"
      ]
     },
     "metadata": {},
     "output_type": "display_data"
    },
    {
     "data": {
      "application/vnd.jupyter.widget-view+json": {
       "model_id": "2532bc2f8644485da3606f7b4cae044f",
       "version_major": 2,
       "version_minor": 0
      },
      "text/plain": [
       "Validation: |          | 0/? [00:00<?, ?it/s]"
      ]
     },
     "metadata": {},
     "output_type": "display_data"
    },
    {
     "data": {
      "application/vnd.jupyter.widget-view+json": {
       "model_id": "deb7aadfc44d4e0a8c1e6c3f22d9fe95",
       "version_major": 2,
       "version_minor": 0
      },
      "text/plain": [
       "Validation: |          | 0/? [00:00<?, ?it/s]"
      ]
     },
     "metadata": {},
     "output_type": "display_data"
    },
    {
     "data": {
      "application/vnd.jupyter.widget-view+json": {
       "model_id": "61aed14d6e5f4c5d9bef59c9cdf827d4",
       "version_major": 2,
       "version_minor": 0
      },
      "text/plain": [
       "Validation: |          | 0/? [00:00<?, ?it/s]"
      ]
     },
     "metadata": {},
     "output_type": "display_data"
    },
    {
     "data": {
      "application/vnd.jupyter.widget-view+json": {
       "model_id": "14130ed5f5804540a71e50d6dcec25c9",
       "version_major": 2,
       "version_minor": 0
      },
      "text/plain": [
       "Validation: |          | 0/? [00:00<?, ?it/s]"
      ]
     },
     "metadata": {},
     "output_type": "display_data"
    },
    {
     "data": {
      "application/vnd.jupyter.widget-view+json": {
       "model_id": "e4bbcae09071459c8692c2313926e9f4",
       "version_major": 2,
       "version_minor": 0
      },
      "text/plain": [
       "Validation: |          | 0/? [00:00<?, ?it/s]"
      ]
     },
     "metadata": {},
     "output_type": "display_data"
    },
    {
     "data": {
      "application/vnd.jupyter.widget-view+json": {
       "model_id": "8a36f8bbb9c94822a5e32e900ccceefd",
       "version_major": 2,
       "version_minor": 0
      },
      "text/plain": [
       "Validation: |          | 0/? [00:00<?, ?it/s]"
      ]
     },
     "metadata": {},
     "output_type": "display_data"
    },
    {
     "data": {
      "application/vnd.jupyter.widget-view+json": {
       "model_id": "a4fadf4c7b4144a6935e2638041fd335",
       "version_major": 2,
       "version_minor": 0
      },
      "text/plain": [
       "Validation: |          | 0/? [00:00<?, ?it/s]"
      ]
     },
     "metadata": {},
     "output_type": "display_data"
    },
    {
     "data": {
      "application/vnd.jupyter.widget-view+json": {
       "model_id": "f4fca9d32a714cf9b18ebe8f37de62cf",
       "version_major": 2,
       "version_minor": 0
      },
      "text/plain": [
       "Validation: |          | 0/? [00:00<?, ?it/s]"
      ]
     },
     "metadata": {},
     "output_type": "display_data"
    },
    {
     "data": {
      "application/vnd.jupyter.widget-view+json": {
       "model_id": "cd967a5c2cdc4318a70f69e7f29acc23",
       "version_major": 2,
       "version_minor": 0
      },
      "text/plain": [
       "Validation: |          | 0/? [00:00<?, ?it/s]"
      ]
     },
     "metadata": {},
     "output_type": "display_data"
    },
    {
     "data": {
      "application/vnd.jupyter.widget-view+json": {
       "model_id": "8161239a12344567a37eab742c3bd455",
       "version_major": 2,
       "version_minor": 0
      },
      "text/plain": [
       "Validation: |          | 0/? [00:00<?, ?it/s]"
      ]
     },
     "metadata": {},
     "output_type": "display_data"
    },
    {
     "data": {
      "application/vnd.jupyter.widget-view+json": {
       "model_id": "eece63526f714becb591deaa8914004c",
       "version_major": 2,
       "version_minor": 0
      },
      "text/plain": [
       "Validation: |          | 0/? [00:00<?, ?it/s]"
      ]
     },
     "metadata": {},
     "output_type": "display_data"
    },
    {
     "data": {
      "application/vnd.jupyter.widget-view+json": {
       "model_id": "c14d8053a35e47aa88940a0a782bf679",
       "version_major": 2,
       "version_minor": 0
      },
      "text/plain": [
       "Validation: |          | 0/? [00:00<?, ?it/s]"
      ]
     },
     "metadata": {},
     "output_type": "display_data"
    },
    {
     "data": {
      "application/vnd.jupyter.widget-view+json": {
       "model_id": "6cb6c5fdc08c471bbb40c27e10fc22f4",
       "version_major": 2,
       "version_minor": 0
      },
      "text/plain": [
       "Validation: |          | 0/? [00:00<?, ?it/s]"
      ]
     },
     "metadata": {},
     "output_type": "display_data"
    },
    {
     "data": {
      "application/vnd.jupyter.widget-view+json": {
       "model_id": "42ae8625ce7143e58ed201c7fd5eb12c",
       "version_major": 2,
       "version_minor": 0
      },
      "text/plain": [
       "Validation: |          | 0/? [00:00<?, ?it/s]"
      ]
     },
     "metadata": {},
     "output_type": "display_data"
    },
    {
     "data": {
      "application/vnd.jupyter.widget-view+json": {
       "model_id": "8bbc5d427cbc4b0bbf77f19e47d3856d",
       "version_major": 2,
       "version_minor": 0
      },
      "text/plain": [
       "Validation: |          | 0/? [00:00<?, ?it/s]"
      ]
     },
     "metadata": {},
     "output_type": "display_data"
    },
    {
     "data": {
      "application/vnd.jupyter.widget-view+json": {
       "model_id": "a814aeec779f40a5bb7b98808de2f457",
       "version_major": 2,
       "version_minor": 0
      },
      "text/plain": [
       "Validation: |          | 0/? [00:00<?, ?it/s]"
      ]
     },
     "metadata": {},
     "output_type": "display_data"
    },
    {
     "data": {
      "application/vnd.jupyter.widget-view+json": {
       "model_id": "cc493794232b4b6390e41709c71cd035",
       "version_major": 2,
       "version_minor": 0
      },
      "text/plain": [
       "Validation: |          | 0/? [00:00<?, ?it/s]"
      ]
     },
     "metadata": {},
     "output_type": "display_data"
    },
    {
     "data": {
      "application/vnd.jupyter.widget-view+json": {
       "model_id": "561843b1f9234432bb61e24a9f5105ce",
       "version_major": 2,
       "version_minor": 0
      },
      "text/plain": [
       "Validation: |          | 0/? [00:00<?, ?it/s]"
      ]
     },
     "metadata": {},
     "output_type": "display_data"
    },
    {
     "data": {
      "application/vnd.jupyter.widget-view+json": {
       "model_id": "a6846979d7be47f49d00e772684759d2",
       "version_major": 2,
       "version_minor": 0
      },
      "text/plain": [
       "Validation: |          | 0/? [00:00<?, ?it/s]"
      ]
     },
     "metadata": {},
     "output_type": "display_data"
    },
    {
     "data": {
      "application/vnd.jupyter.widget-view+json": {
       "model_id": "c2d0f5dee37f4961a956813d2ac51f57",
       "version_major": 2,
       "version_minor": 0
      },
      "text/plain": [
       "Validation: |          | 0/? [00:00<?, ?it/s]"
      ]
     },
     "metadata": {},
     "output_type": "display_data"
    },
    {
     "data": {
      "application/vnd.jupyter.widget-view+json": {
       "model_id": "75b04d2a28e8476aa951508d2ae03813",
       "version_major": 2,
       "version_minor": 0
      },
      "text/plain": [
       "Validation: |          | 0/? [00:00<?, ?it/s]"
      ]
     },
     "metadata": {},
     "output_type": "display_data"
    },
    {
     "data": {
      "application/vnd.jupyter.widget-view+json": {
       "model_id": "e8e208fede0847babd1ed13960288abf",
       "version_major": 2,
       "version_minor": 0
      },
      "text/plain": [
       "Validation: |          | 0/? [00:00<?, ?it/s]"
      ]
     },
     "metadata": {},
     "output_type": "display_data"
    },
    {
     "data": {
      "application/vnd.jupyter.widget-view+json": {
       "model_id": "cbe6f32168cc465a9af9db3c521b59ff",
       "version_major": 2,
       "version_minor": 0
      },
      "text/plain": [
       "Validation: |          | 0/? [00:00<?, ?it/s]"
      ]
     },
     "metadata": {},
     "output_type": "display_data"
    },
    {
     "data": {
      "application/vnd.jupyter.widget-view+json": {
       "model_id": "21e5d8f8f4334507adca2176256f1bd5",
       "version_major": 2,
       "version_minor": 0
      },
      "text/plain": [
       "Validation: |          | 0/? [00:00<?, ?it/s]"
      ]
     },
     "metadata": {},
     "output_type": "display_data"
    },
    {
     "data": {
      "application/vnd.jupyter.widget-view+json": {
       "model_id": "9119b93059494a4c8258d3ab236f9bec",
       "version_major": 2,
       "version_minor": 0
      },
      "text/plain": [
       "Validation: |          | 0/? [00:00<?, ?it/s]"
      ]
     },
     "metadata": {},
     "output_type": "display_data"
    },
    {
     "data": {
      "application/vnd.jupyter.widget-view+json": {
       "model_id": "e6c9b1f5c1c44f20b8695974c9ac336f",
       "version_major": 2,
       "version_minor": 0
      },
      "text/plain": [
       "Validation: |          | 0/? [00:00<?, ?it/s]"
      ]
     },
     "metadata": {},
     "output_type": "display_data"
    },
    {
     "data": {
      "application/vnd.jupyter.widget-view+json": {
       "model_id": "7cbf027933184250949e4c7fe9469c84",
       "version_major": 2,
       "version_minor": 0
      },
      "text/plain": [
       "Validation: |          | 0/? [00:00<?, ?it/s]"
      ]
     },
     "metadata": {},
     "output_type": "display_data"
    },
    {
     "data": {
      "application/vnd.jupyter.widget-view+json": {
       "model_id": "f9df23ec45894b6eb1df1d1c428d1891",
       "version_major": 2,
       "version_minor": 0
      },
      "text/plain": [
       "Validation: |          | 0/? [00:00<?, ?it/s]"
      ]
     },
     "metadata": {},
     "output_type": "display_data"
    },
    {
     "data": {
      "application/vnd.jupyter.widget-view+json": {
       "model_id": "5ae3c1b71c304901a0b944b4547acedc",
       "version_major": 2,
       "version_minor": 0
      },
      "text/plain": [
       "Validation: |          | 0/? [00:00<?, ?it/s]"
      ]
     },
     "metadata": {},
     "output_type": "display_data"
    },
    {
     "data": {
      "application/vnd.jupyter.widget-view+json": {
       "model_id": "12876604575c40e5ae2dc18f65d83939",
       "version_major": 2,
       "version_minor": 0
      },
      "text/plain": [
       "Validation: |          | 0/? [00:00<?, ?it/s]"
      ]
     },
     "metadata": {},
     "output_type": "display_data"
    },
    {
     "data": {
      "application/vnd.jupyter.widget-view+json": {
       "model_id": "527b043d9e7b498793eda143ba8b9c9e",
       "version_major": 2,
       "version_minor": 0
      },
      "text/plain": [
       "Validation: |          | 0/? [00:00<?, ?it/s]"
      ]
     },
     "metadata": {},
     "output_type": "display_data"
    },
    {
     "data": {
      "application/vnd.jupyter.widget-view+json": {
       "model_id": "3e5dda612f7d4f0e99dec684d19161f9",
       "version_major": 2,
       "version_minor": 0
      },
      "text/plain": [
       "Validation: |          | 0/? [00:00<?, ?it/s]"
      ]
     },
     "metadata": {},
     "output_type": "display_data"
    },
    {
     "data": {
      "application/vnd.jupyter.widget-view+json": {
       "model_id": "97c90e836aeb4ae59ee4b5b2f547de82",
       "version_major": 2,
       "version_minor": 0
      },
      "text/plain": [
       "Validation: |          | 0/? [00:00<?, ?it/s]"
      ]
     },
     "metadata": {},
     "output_type": "display_data"
    },
    {
     "data": {
      "application/vnd.jupyter.widget-view+json": {
       "model_id": "18529b19bd894960b415bc3e4f05d2ff",
       "version_major": 2,
       "version_minor": 0
      },
      "text/plain": [
       "Validation: |          | 0/? [00:00<?, ?it/s]"
      ]
     },
     "metadata": {},
     "output_type": "display_data"
    },
    {
     "data": {
      "application/vnd.jupyter.widget-view+json": {
       "model_id": "377878d8c3cf4c5baf5573ae49c667a3",
       "version_major": 2,
       "version_minor": 0
      },
      "text/plain": [
       "Validation: |          | 0/? [00:00<?, ?it/s]"
      ]
     },
     "metadata": {},
     "output_type": "display_data"
    },
    {
     "data": {
      "application/vnd.jupyter.widget-view+json": {
       "model_id": "22ed7c99875e4898b4654ca40b8a40cf",
       "version_major": 2,
       "version_minor": 0
      },
      "text/plain": [
       "Validation: |          | 0/? [00:00<?, ?it/s]"
      ]
     },
     "metadata": {},
     "output_type": "display_data"
    },
    {
     "data": {
      "application/vnd.jupyter.widget-view+json": {
       "model_id": "81870fc98eee4bb99a8c24540c5341cb",
       "version_major": 2,
       "version_minor": 0
      },
      "text/plain": [
       "Validation: |          | 0/? [00:00<?, ?it/s]"
      ]
     },
     "metadata": {},
     "output_type": "display_data"
    },
    {
     "data": {
      "application/vnd.jupyter.widget-view+json": {
       "model_id": "fd49cc7b08b64274be8e88a5cbba3ee8",
       "version_major": 2,
       "version_minor": 0
      },
      "text/plain": [
       "Validation: |          | 0/? [00:00<?, ?it/s]"
      ]
     },
     "metadata": {},
     "output_type": "display_data"
    },
    {
     "data": {
      "application/vnd.jupyter.widget-view+json": {
       "model_id": "2510a96306164540b7c0ac0e60bf88e5",
       "version_major": 2,
       "version_minor": 0
      },
      "text/plain": [
       "Validation: |          | 0/? [00:00<?, ?it/s]"
      ]
     },
     "metadata": {},
     "output_type": "display_data"
    },
    {
     "data": {
      "application/vnd.jupyter.widget-view+json": {
       "model_id": "07f9a90781304470bce57bbd665ecb52",
       "version_major": 2,
       "version_minor": 0
      },
      "text/plain": [
       "Validation: |          | 0/? [00:00<?, ?it/s]"
      ]
     },
     "metadata": {},
     "output_type": "display_data"
    },
    {
     "data": {
      "application/vnd.jupyter.widget-view+json": {
       "model_id": "59ce0a3958504f85952750645856d329",
       "version_major": 2,
       "version_minor": 0
      },
      "text/plain": [
       "Validation: |          | 0/? [00:00<?, ?it/s]"
      ]
     },
     "metadata": {},
     "output_type": "display_data"
    },
    {
     "data": {
      "application/vnd.jupyter.widget-view+json": {
       "model_id": "fa8ae7e310c74b4094f84e51c491ba55",
       "version_major": 2,
       "version_minor": 0
      },
      "text/plain": [
       "Validation: |          | 0/? [00:00<?, ?it/s]"
      ]
     },
     "metadata": {},
     "output_type": "display_data"
    },
    {
     "data": {
      "application/vnd.jupyter.widget-view+json": {
       "model_id": "cf726f74d3c14f44af4cd8957df9b814",
       "version_major": 2,
       "version_minor": 0
      },
      "text/plain": [
       "Validation: |          | 0/? [00:00<?, ?it/s]"
      ]
     },
     "metadata": {},
     "output_type": "display_data"
    },
    {
     "data": {
      "application/vnd.jupyter.widget-view+json": {
       "model_id": "0ecece09f81441fb91a1d23906e1f970",
       "version_major": 2,
       "version_minor": 0
      },
      "text/plain": [
       "Validation: |          | 0/? [00:00<?, ?it/s]"
      ]
     },
     "metadata": {},
     "output_type": "display_data"
    },
    {
     "data": {
      "application/vnd.jupyter.widget-view+json": {
       "model_id": "d40d506e387547b59f2d7156f3f6d7c5",
       "version_major": 2,
       "version_minor": 0
      },
      "text/plain": [
       "Validation: |          | 0/? [00:00<?, ?it/s]"
      ]
     },
     "metadata": {},
     "output_type": "display_data"
    },
    {
     "data": {
      "application/vnd.jupyter.widget-view+json": {
       "model_id": "59d0126ba6604eff8e5c6319f9c5947b",
       "version_major": 2,
       "version_minor": 0
      },
      "text/plain": [
       "Validation: |          | 0/? [00:00<?, ?it/s]"
      ]
     },
     "metadata": {},
     "output_type": "display_data"
    },
    {
     "data": {
      "application/vnd.jupyter.widget-view+json": {
       "model_id": "7e04269e4c7e41c29cc5cd79cda477e8",
       "version_major": 2,
       "version_minor": 0
      },
      "text/plain": [
       "Validation: |          | 0/? [00:00<?, ?it/s]"
      ]
     },
     "metadata": {},
     "output_type": "display_data"
    },
    {
     "data": {
      "application/vnd.jupyter.widget-view+json": {
       "model_id": "3e8138ae7e474b3c86b21723f3572d7c",
       "version_major": 2,
       "version_minor": 0
      },
      "text/plain": [
       "Validation: |          | 0/? [00:00<?, ?it/s]"
      ]
     },
     "metadata": {},
     "output_type": "display_data"
    },
    {
     "data": {
      "application/vnd.jupyter.widget-view+json": {
       "model_id": "303a356af50f46d08b57deb906525e6e",
       "version_major": 2,
       "version_minor": 0
      },
      "text/plain": [
       "Validation: |          | 0/? [00:00<?, ?it/s]"
      ]
     },
     "metadata": {},
     "output_type": "display_data"
    },
    {
     "data": {
      "application/vnd.jupyter.widget-view+json": {
       "model_id": "698399c5233a48eb88a135adc5822c9e",
       "version_major": 2,
       "version_minor": 0
      },
      "text/plain": [
       "Validation: |          | 0/? [00:00<?, ?it/s]"
      ]
     },
     "metadata": {},
     "output_type": "display_data"
    },
    {
     "data": {
      "application/vnd.jupyter.widget-view+json": {
       "model_id": "8a4cac8d6eda45a2882de9cd918bb922",
       "version_major": 2,
       "version_minor": 0
      },
      "text/plain": [
       "Validation: |          | 0/? [00:00<?, ?it/s]"
      ]
     },
     "metadata": {},
     "output_type": "display_data"
    },
    {
     "data": {
      "application/vnd.jupyter.widget-view+json": {
       "model_id": "83ed0d3b03884311b5cf58467e611197",
       "version_major": 2,
       "version_minor": 0
      },
      "text/plain": [
       "Validation: |          | 0/? [00:00<?, ?it/s]"
      ]
     },
     "metadata": {},
     "output_type": "display_data"
    },
    {
     "data": {
      "application/vnd.jupyter.widget-view+json": {
       "model_id": "f3c68cf690b84f95b12be120a4c3a61e",
       "version_major": 2,
       "version_minor": 0
      },
      "text/plain": [
       "Validation: |          | 0/? [00:00<?, ?it/s]"
      ]
     },
     "metadata": {},
     "output_type": "display_data"
    },
    {
     "data": {
      "application/vnd.jupyter.widget-view+json": {
       "model_id": "95d6294718da4c7a856172e6a69e7acd",
       "version_major": 2,
       "version_minor": 0
      },
      "text/plain": [
       "Validation: |          | 0/? [00:00<?, ?it/s]"
      ]
     },
     "metadata": {},
     "output_type": "display_data"
    },
    {
     "data": {
      "application/vnd.jupyter.widget-view+json": {
       "model_id": "bd835324d50349b2b11b496e49712330",
       "version_major": 2,
       "version_minor": 0
      },
      "text/plain": [
       "Validation: |          | 0/? [00:00<?, ?it/s]"
      ]
     },
     "metadata": {},
     "output_type": "display_data"
    },
    {
     "data": {
      "application/vnd.jupyter.widget-view+json": {
       "model_id": "4c39974a57244e62a86d1d662e6ae2f9",
       "version_major": 2,
       "version_minor": 0
      },
      "text/plain": [
       "Validation: |          | 0/? [00:00<?, ?it/s]"
      ]
     },
     "metadata": {},
     "output_type": "display_data"
    },
    {
     "data": {
      "application/vnd.jupyter.widget-view+json": {
       "model_id": "035c8ba807a24f2ba31eff7be06416b3",
       "version_major": 2,
       "version_minor": 0
      },
      "text/plain": [
       "Validation: |          | 0/? [00:00<?, ?it/s]"
      ]
     },
     "metadata": {},
     "output_type": "display_data"
    },
    {
     "data": {
      "application/vnd.jupyter.widget-view+json": {
       "model_id": "c0d2eb316dd340238522b193645904ae",
       "version_major": 2,
       "version_minor": 0
      },
      "text/plain": [
       "Validation: |          | 0/? [00:00<?, ?it/s]"
      ]
     },
     "metadata": {},
     "output_type": "display_data"
    },
    {
     "data": {
      "application/vnd.jupyter.widget-view+json": {
       "model_id": "ef41f74d59414c6eadf65ebdd9bf48f0",
       "version_major": 2,
       "version_minor": 0
      },
      "text/plain": [
       "Validation: |          | 0/? [00:00<?, ?it/s]"
      ]
     },
     "metadata": {},
     "output_type": "display_data"
    },
    {
     "data": {
      "application/vnd.jupyter.widget-view+json": {
       "model_id": "004cf61c68b14295abbf25defc78602e",
       "version_major": 2,
       "version_minor": 0
      },
      "text/plain": [
       "Validation: |          | 0/? [00:00<?, ?it/s]"
      ]
     },
     "metadata": {},
     "output_type": "display_data"
    },
    {
     "data": {
      "application/vnd.jupyter.widget-view+json": {
       "model_id": "86086f9921cd4c349845f2dece3ff6a0",
       "version_major": 2,
       "version_minor": 0
      },
      "text/plain": [
       "Validation: |          | 0/? [00:00<?, ?it/s]"
      ]
     },
     "metadata": {},
     "output_type": "display_data"
    },
    {
     "data": {
      "application/vnd.jupyter.widget-view+json": {
       "model_id": "abbe930f19dc4e938482e850e89a0bfb",
       "version_major": 2,
       "version_minor": 0
      },
      "text/plain": [
       "Validation: |          | 0/? [00:00<?, ?it/s]"
      ]
     },
     "metadata": {},
     "output_type": "display_data"
    },
    {
     "data": {
      "application/vnd.jupyter.widget-view+json": {
       "model_id": "b27b025022cb40248e387b9e55b412c9",
       "version_major": 2,
       "version_minor": 0
      },
      "text/plain": [
       "Validation: |          | 0/? [00:00<?, ?it/s]"
      ]
     },
     "metadata": {},
     "output_type": "display_data"
    },
    {
     "data": {
      "application/vnd.jupyter.widget-view+json": {
       "model_id": "60790278424b48f5a5b64bdbdcf700d0",
       "version_major": 2,
       "version_minor": 0
      },
      "text/plain": [
       "Validation: |          | 0/? [00:00<?, ?it/s]"
      ]
     },
     "metadata": {},
     "output_type": "display_data"
    },
    {
     "data": {
      "application/vnd.jupyter.widget-view+json": {
       "model_id": "3054987e280e4f228614541fbcb79e1c",
       "version_major": 2,
       "version_minor": 0
      },
      "text/plain": [
       "Validation: |          | 0/? [00:00<?, ?it/s]"
      ]
     },
     "metadata": {},
     "output_type": "display_data"
    },
    {
     "data": {
      "application/vnd.jupyter.widget-view+json": {
       "model_id": "87059c6f9df14bd292531be44d9bdf9c",
       "version_major": 2,
       "version_minor": 0
      },
      "text/plain": [
       "Validation: |          | 0/? [00:00<?, ?it/s]"
      ]
     },
     "metadata": {},
     "output_type": "display_data"
    },
    {
     "data": {
      "application/vnd.jupyter.widget-view+json": {
       "model_id": "382df6811ecf48018cc9b0749798ec80",
       "version_major": 2,
       "version_minor": 0
      },
      "text/plain": [
       "Validation: |          | 0/? [00:00<?, ?it/s]"
      ]
     },
     "metadata": {},
     "output_type": "display_data"
    },
    {
     "data": {
      "application/vnd.jupyter.widget-view+json": {
       "model_id": "76e59f205ba045ce9ea94b328e6e3fe3",
       "version_major": 2,
       "version_minor": 0
      },
      "text/plain": [
       "Validation: |          | 0/? [00:00<?, ?it/s]"
      ]
     },
     "metadata": {},
     "output_type": "display_data"
    },
    {
     "data": {
      "application/vnd.jupyter.widget-view+json": {
       "model_id": "74dbba4e1e094e4bb598272dcf471692",
       "version_major": 2,
       "version_minor": 0
      },
      "text/plain": [
       "Validation: |          | 0/? [00:00<?, ?it/s]"
      ]
     },
     "metadata": {},
     "output_type": "display_data"
    },
    {
     "data": {
      "application/vnd.jupyter.widget-view+json": {
       "model_id": "9b0d3e4dbfe141c18068c008ad353081",
       "version_major": 2,
       "version_minor": 0
      },
      "text/plain": [
       "Validation: |          | 0/? [00:00<?, ?it/s]"
      ]
     },
     "metadata": {},
     "output_type": "display_data"
    },
    {
     "data": {
      "application/vnd.jupyter.widget-view+json": {
       "model_id": "3bd9d3b282734aeb9bbcead8d6eaca99",
       "version_major": 2,
       "version_minor": 0
      },
      "text/plain": [
       "Validation: |          | 0/? [00:00<?, ?it/s]"
      ]
     },
     "metadata": {},
     "output_type": "display_data"
    },
    {
     "data": {
      "application/vnd.jupyter.widget-view+json": {
       "model_id": "6ca25b58f2b84bf484a69cf1a2a08dd9",
       "version_major": 2,
       "version_minor": 0
      },
      "text/plain": [
       "Validation: |          | 0/? [00:00<?, ?it/s]"
      ]
     },
     "metadata": {},
     "output_type": "display_data"
    },
    {
     "data": {
      "application/vnd.jupyter.widget-view+json": {
       "model_id": "93153703e138422f9dff58cc9ca2ff4a",
       "version_major": 2,
       "version_minor": 0
      },
      "text/plain": [
       "Validation: |          | 0/? [00:00<?, ?it/s]"
      ]
     },
     "metadata": {},
     "output_type": "display_data"
    },
    {
     "data": {
      "application/vnd.jupyter.widget-view+json": {
       "model_id": "b81dae6b246b4af79927b7a6840b3cb4",
       "version_major": 2,
       "version_minor": 0
      },
      "text/plain": [
       "Validation: |          | 0/? [00:00<?, ?it/s]"
      ]
     },
     "metadata": {},
     "output_type": "display_data"
    },
    {
     "data": {
      "application/vnd.jupyter.widget-view+json": {
       "model_id": "03971e65f4c941a199928a26b6d3a73e",
       "version_major": 2,
       "version_minor": 0
      },
      "text/plain": [
       "Validation: |          | 0/? [00:00<?, ?it/s]"
      ]
     },
     "metadata": {},
     "output_type": "display_data"
    },
    {
     "data": {
      "application/vnd.jupyter.widget-view+json": {
       "model_id": "7703fda73ac9408e94420bd16e3d166f",
       "version_major": 2,
       "version_minor": 0
      },
      "text/plain": [
       "Validation: |          | 0/? [00:00<?, ?it/s]"
      ]
     },
     "metadata": {},
     "output_type": "display_data"
    },
    {
     "data": {
      "application/vnd.jupyter.widget-view+json": {
       "model_id": "7042b759c31b499fa0bf4716d7cc8aac",
       "version_major": 2,
       "version_minor": 0
      },
      "text/plain": [
       "Validation: |          | 0/? [00:00<?, ?it/s]"
      ]
     },
     "metadata": {},
     "output_type": "display_data"
    },
    {
     "data": {
      "application/vnd.jupyter.widget-view+json": {
       "model_id": "5660650e04774cb7810a7f3f45feb6af",
       "version_major": 2,
       "version_minor": 0
      },
      "text/plain": [
       "Validation: |          | 0/? [00:00<?, ?it/s]"
      ]
     },
     "metadata": {},
     "output_type": "display_data"
    },
    {
     "data": {
      "application/vnd.jupyter.widget-view+json": {
       "model_id": "3489be010f6d4fc98d6383ae3e79c044",
       "version_major": 2,
       "version_minor": 0
      },
      "text/plain": [
       "Validation: |          | 0/? [00:00<?, ?it/s]"
      ]
     },
     "metadata": {},
     "output_type": "display_data"
    },
    {
     "data": {
      "application/vnd.jupyter.widget-view+json": {
       "model_id": "2a21e3dbbac6421abb0920338dc6cd69",
       "version_major": 2,
       "version_minor": 0
      },
      "text/plain": [
       "Validation: |          | 0/? [00:00<?, ?it/s]"
      ]
     },
     "metadata": {},
     "output_type": "display_data"
    },
    {
     "data": {
      "application/vnd.jupyter.widget-view+json": {
       "model_id": "e5e1e63a6dba4a80a3dfc67cdfb6fe2f",
       "version_major": 2,
       "version_minor": 0
      },
      "text/plain": [
       "Validation: |          | 0/? [00:00<?, ?it/s]"
      ]
     },
     "metadata": {},
     "output_type": "display_data"
    },
    {
     "data": {
      "application/vnd.jupyter.widget-view+json": {
       "model_id": "c4e83ba2d1114443ae7be94d7c33747e",
       "version_major": 2,
       "version_minor": 0
      },
      "text/plain": [
       "Validation: |          | 0/? [00:00<?, ?it/s]"
      ]
     },
     "metadata": {},
     "output_type": "display_data"
    },
    {
     "data": {
      "application/vnd.jupyter.widget-view+json": {
       "model_id": "6334ed56dbc244a5a855033ac4f19783",
       "version_major": 2,
       "version_minor": 0
      },
      "text/plain": [
       "Validation: |          | 0/? [00:00<?, ?it/s]"
      ]
     },
     "metadata": {},
     "output_type": "display_data"
    },
    {
     "data": {
      "application/vnd.jupyter.widget-view+json": {
       "model_id": "fca54862418046058bf17a74197f9a06",
       "version_major": 2,
       "version_minor": 0
      },
      "text/plain": [
       "Validation: |          | 0/? [00:00<?, ?it/s]"
      ]
     },
     "metadata": {},
     "output_type": "display_data"
    },
    {
     "data": {
      "application/vnd.jupyter.widget-view+json": {
       "model_id": "f49f9685ec3d4d0b864827cbbb16ae7f",
       "version_major": 2,
       "version_minor": 0
      },
      "text/plain": [
       "Validation: |          | 0/? [00:00<?, ?it/s]"
      ]
     },
     "metadata": {},
     "output_type": "display_data"
    },
    {
     "data": {
      "application/vnd.jupyter.widget-view+json": {
       "model_id": "c6c8a3143ebd44e29ccd15e032a27af6",
       "version_major": 2,
       "version_minor": 0
      },
      "text/plain": [
       "Validation: |          | 0/? [00:00<?, ?it/s]"
      ]
     },
     "metadata": {},
     "output_type": "display_data"
    },
    {
     "data": {
      "application/vnd.jupyter.widget-view+json": {
       "model_id": "29f7a317a64946b5a83f81db0e572858",
       "version_major": 2,
       "version_minor": 0
      },
      "text/plain": [
       "Validation: |          | 0/? [00:00<?, ?it/s]"
      ]
     },
     "metadata": {},
     "output_type": "display_data"
    },
    {
     "data": {
      "application/vnd.jupyter.widget-view+json": {
       "model_id": "f42f8114150e46e28dd25da5c0ab65b3",
       "version_major": 2,
       "version_minor": 0
      },
      "text/plain": [
       "Validation: |          | 0/? [00:00<?, ?it/s]"
      ]
     },
     "metadata": {},
     "output_type": "display_data"
    },
    {
     "data": {
      "application/vnd.jupyter.widget-view+json": {
       "model_id": "f62fc1932069464caedfb752ff121396",
       "version_major": 2,
       "version_minor": 0
      },
      "text/plain": [
       "Validation: |          | 0/? [00:00<?, ?it/s]"
      ]
     },
     "metadata": {},
     "output_type": "display_data"
    },
    {
     "data": {
      "application/vnd.jupyter.widget-view+json": {
       "model_id": "9ca77430c3e644ae882f116ed2b0d3f7",
       "version_major": 2,
       "version_minor": 0
      },
      "text/plain": [
       "Validation: |          | 0/? [00:00<?, ?it/s]"
      ]
     },
     "metadata": {},
     "output_type": "display_data"
    },
    {
     "data": {
      "application/vnd.jupyter.widget-view+json": {
       "model_id": "d914074eb5ee4be89a67bf16dd895a4c",
       "version_major": 2,
       "version_minor": 0
      },
      "text/plain": [
       "Validation: |          | 0/? [00:00<?, ?it/s]"
      ]
     },
     "metadata": {},
     "output_type": "display_data"
    },
    {
     "data": {
      "application/vnd.jupyter.widget-view+json": {
       "model_id": "8944bf87aa544a8087cb56e40d3f4681",
       "version_major": 2,
       "version_minor": 0
      },
      "text/plain": [
       "Validation: |          | 0/? [00:00<?, ?it/s]"
      ]
     },
     "metadata": {},
     "output_type": "display_data"
    },
    {
     "data": {
      "application/vnd.jupyter.widget-view+json": {
       "model_id": "567a991e51e5466caa9ad31cb44a6b06",
       "version_major": 2,
       "version_minor": 0
      },
      "text/plain": [
       "Validation: |          | 0/? [00:00<?, ?it/s]"
      ]
     },
     "metadata": {},
     "output_type": "display_data"
    },
    {
     "data": {
      "application/vnd.jupyter.widget-view+json": {
       "model_id": "62e2d80bb46747878d03acc375dd82c9",
       "version_major": 2,
       "version_minor": 0
      },
      "text/plain": [
       "Validation: |          | 0/? [00:00<?, ?it/s]"
      ]
     },
     "metadata": {},
     "output_type": "display_data"
    },
    {
     "data": {
      "application/vnd.jupyter.widget-view+json": {
       "model_id": "0691780cd2624e2c82c89efc443fc4f8",
       "version_major": 2,
       "version_minor": 0
      },
      "text/plain": [
       "Validation: |          | 0/? [00:00<?, ?it/s]"
      ]
     },
     "metadata": {},
     "output_type": "display_data"
    },
    {
     "data": {
      "application/vnd.jupyter.widget-view+json": {
       "model_id": "b76a2779069d4e0ba9cbcf47bf9588fe",
       "version_major": 2,
       "version_minor": 0
      },
      "text/plain": [
       "Validation: |          | 0/? [00:00<?, ?it/s]"
      ]
     },
     "metadata": {},
     "output_type": "display_data"
    },
    {
     "data": {
      "application/vnd.jupyter.widget-view+json": {
       "model_id": "fba619bbcac54a0cbd3a7989b9053e8b",
       "version_major": 2,
       "version_minor": 0
      },
      "text/plain": [
       "Validation: |          | 0/? [00:00<?, ?it/s]"
      ]
     },
     "metadata": {},
     "output_type": "display_data"
    },
    {
     "data": {
      "application/vnd.jupyter.widget-view+json": {
       "model_id": "39737ab283a545de9e0cf49d7f21b85d",
       "version_major": 2,
       "version_minor": 0
      },
      "text/plain": [
       "Validation: |          | 0/? [00:00<?, ?it/s]"
      ]
     },
     "metadata": {},
     "output_type": "display_data"
    },
    {
     "data": {
      "application/vnd.jupyter.widget-view+json": {
       "model_id": "86bc09f2460b49e5bd53376ff844780b",
       "version_major": 2,
       "version_minor": 0
      },
      "text/plain": [
       "Validation: |          | 0/? [00:00<?, ?it/s]"
      ]
     },
     "metadata": {},
     "output_type": "display_data"
    },
    {
     "data": {
      "application/vnd.jupyter.widget-view+json": {
       "model_id": "330127d7729b4ac4a422b334dcbbd96d",
       "version_major": 2,
       "version_minor": 0
      },
      "text/plain": [
       "Validation: |          | 0/? [00:00<?, ?it/s]"
      ]
     },
     "metadata": {},
     "output_type": "display_data"
    },
    {
     "data": {
      "application/vnd.jupyter.widget-view+json": {
       "model_id": "9a0222cfc3444d5aa04d421b30f3a670",
       "version_major": 2,
       "version_minor": 0
      },
      "text/plain": [
       "Validation: |          | 0/? [00:00<?, ?it/s]"
      ]
     },
     "metadata": {},
     "output_type": "display_data"
    },
    {
     "data": {
      "application/vnd.jupyter.widget-view+json": {
       "model_id": "417f8e00d8684c79aab91717ae0c9bdc",
       "version_major": 2,
       "version_minor": 0
      },
      "text/plain": [
       "Validation: |          | 0/? [00:00<?, ?it/s]"
      ]
     },
     "metadata": {},
     "output_type": "display_data"
    },
    {
     "data": {
      "application/vnd.jupyter.widget-view+json": {
       "model_id": "582c9491fc7f444683e4a80bb5c06a45",
       "version_major": 2,
       "version_minor": 0
      },
      "text/plain": [
       "Validation: |          | 0/? [00:00<?, ?it/s]"
      ]
     },
     "metadata": {},
     "output_type": "display_data"
    },
    {
     "data": {
      "application/vnd.jupyter.widget-view+json": {
       "model_id": "e866db9db4d94997b109c720f0dc9014",
       "version_major": 2,
       "version_minor": 0
      },
      "text/plain": [
       "Validation: |          | 0/? [00:00<?, ?it/s]"
      ]
     },
     "metadata": {},
     "output_type": "display_data"
    },
    {
     "data": {
      "application/vnd.jupyter.widget-view+json": {
       "model_id": "14f1516cf6b645dcb12f21483934e731",
       "version_major": 2,
       "version_minor": 0
      },
      "text/plain": [
       "Validation: |          | 0/? [00:00<?, ?it/s]"
      ]
     },
     "metadata": {},
     "output_type": "display_data"
    },
    {
     "data": {
      "application/vnd.jupyter.widget-view+json": {
       "model_id": "123cf0eda18d4f91a960087370287008",
       "version_major": 2,
       "version_minor": 0
      },
      "text/plain": [
       "Validation: |          | 0/? [00:00<?, ?it/s]"
      ]
     },
     "metadata": {},
     "output_type": "display_data"
    },
    {
     "data": {
      "application/vnd.jupyter.widget-view+json": {
       "model_id": "d06cb8cdb5884d1fb0d4b688f7d84bec",
       "version_major": 2,
       "version_minor": 0
      },
      "text/plain": [
       "Validation: |          | 0/? [00:00<?, ?it/s]"
      ]
     },
     "metadata": {},
     "output_type": "display_data"
    },
    {
     "data": {
      "application/vnd.jupyter.widget-view+json": {
       "model_id": "7183f907a06341268c2f1d04f411baca",
       "version_major": 2,
       "version_minor": 0
      },
      "text/plain": [
       "Validation: |          | 0/? [00:00<?, ?it/s]"
      ]
     },
     "metadata": {},
     "output_type": "display_data"
    },
    {
     "data": {
      "application/vnd.jupyter.widget-view+json": {
       "model_id": "446d8e0947a4403cb4d193e140cc399c",
       "version_major": 2,
       "version_minor": 0
      },
      "text/plain": [
       "Validation: |          | 0/? [00:00<?, ?it/s]"
      ]
     },
     "metadata": {},
     "output_type": "display_data"
    },
    {
     "data": {
      "application/vnd.jupyter.widget-view+json": {
       "model_id": "22d1c62f9f6c400dbc49b57529b97561",
       "version_major": 2,
       "version_minor": 0
      },
      "text/plain": [
       "Validation: |          | 0/? [00:00<?, ?it/s]"
      ]
     },
     "metadata": {},
     "output_type": "display_data"
    },
    {
     "data": {
      "application/vnd.jupyter.widget-view+json": {
       "model_id": "0a8cbb1447a0471ba8b4a88a3256497b",
       "version_major": 2,
       "version_minor": 0
      },
      "text/plain": [
       "Validation: |          | 0/? [00:00<?, ?it/s]"
      ]
     },
     "metadata": {},
     "output_type": "display_data"
    },
    {
     "data": {
      "application/vnd.jupyter.widget-view+json": {
       "model_id": "e5cf49fd475e4e5981a932e29d9dd0e8",
       "version_major": 2,
       "version_minor": 0
      },
      "text/plain": [
       "Validation: |          | 0/? [00:00<?, ?it/s]"
      ]
     },
     "metadata": {},
     "output_type": "display_data"
    },
    {
     "data": {
      "application/vnd.jupyter.widget-view+json": {
       "model_id": "5ab665e81c464cab8e08e941bd4f591a",
       "version_major": 2,
       "version_minor": 0
      },
      "text/plain": [
       "Validation: |          | 0/? [00:00<?, ?it/s]"
      ]
     },
     "metadata": {},
     "output_type": "display_data"
    },
    {
     "data": {
      "application/vnd.jupyter.widget-view+json": {
       "model_id": "62b72e8a4dce4e7f82027fdc47f07b26",
       "version_major": 2,
       "version_minor": 0
      },
      "text/plain": [
       "Validation: |          | 0/? [00:00<?, ?it/s]"
      ]
     },
     "metadata": {},
     "output_type": "display_data"
    },
    {
     "data": {
      "application/vnd.jupyter.widget-view+json": {
       "model_id": "67d9942e13ce4142ae354a36ed23953b",
       "version_major": 2,
       "version_minor": 0
      },
      "text/plain": [
       "Validation: |          | 0/? [00:00<?, ?it/s]"
      ]
     },
     "metadata": {},
     "output_type": "display_data"
    },
    {
     "data": {
      "application/vnd.jupyter.widget-view+json": {
       "model_id": "0eda6483f4f347e79fe85501fe8434ce",
       "version_major": 2,
       "version_minor": 0
      },
      "text/plain": [
       "Validation: |          | 0/? [00:00<?, ?it/s]"
      ]
     },
     "metadata": {},
     "output_type": "display_data"
    },
    {
     "data": {
      "application/vnd.jupyter.widget-view+json": {
       "model_id": "18ef5b5768a74939b78cd39db051e0ab",
       "version_major": 2,
       "version_minor": 0
      },
      "text/plain": [
       "Validation: |          | 0/? [00:00<?, ?it/s]"
      ]
     },
     "metadata": {},
     "output_type": "display_data"
    },
    {
     "data": {
      "application/vnd.jupyter.widget-view+json": {
       "model_id": "4ba08440e1894ebe80601446461c63dd",
       "version_major": 2,
       "version_minor": 0
      },
      "text/plain": [
       "Validation: |          | 0/? [00:00<?, ?it/s]"
      ]
     },
     "metadata": {},
     "output_type": "display_data"
    },
    {
     "data": {
      "application/vnd.jupyter.widget-view+json": {
       "model_id": "d203cc905f58464fa520592389bc1df9",
       "version_major": 2,
       "version_minor": 0
      },
      "text/plain": [
       "Validation: |          | 0/? [00:00<?, ?it/s]"
      ]
     },
     "metadata": {},
     "output_type": "display_data"
    },
    {
     "data": {
      "application/vnd.jupyter.widget-view+json": {
       "model_id": "9a563227aa584363aa661ac78a6e0882",
       "version_major": 2,
       "version_minor": 0
      },
      "text/plain": [
       "Validation: |          | 0/? [00:00<?, ?it/s]"
      ]
     },
     "metadata": {},
     "output_type": "display_data"
    },
    {
     "data": {
      "application/vnd.jupyter.widget-view+json": {
       "model_id": "ced0558c59184bd3bd4fc35654c02e13",
       "version_major": 2,
       "version_minor": 0
      },
      "text/plain": [
       "Validation: |          | 0/? [00:00<?, ?it/s]"
      ]
     },
     "metadata": {},
     "output_type": "display_data"
    },
    {
     "data": {
      "application/vnd.jupyter.widget-view+json": {
       "model_id": "f145e45707d548938ea48f38b2247228",
       "version_major": 2,
       "version_minor": 0
      },
      "text/plain": [
       "Validation: |          | 0/? [00:00<?, ?it/s]"
      ]
     },
     "metadata": {},
     "output_type": "display_data"
    },
    {
     "data": {
      "application/vnd.jupyter.widget-view+json": {
       "model_id": "8af0ce32e434468bb150071a3fcfff2d",
       "version_major": 2,
       "version_minor": 0
      },
      "text/plain": [
       "Validation: |          | 0/? [00:00<?, ?it/s]"
      ]
     },
     "metadata": {},
     "output_type": "display_data"
    },
    {
     "data": {
      "application/vnd.jupyter.widget-view+json": {
       "model_id": "998420f817924d22991728981e8d00c1",
       "version_major": 2,
       "version_minor": 0
      },
      "text/plain": [
       "Validation: |          | 0/? [00:00<?, ?it/s]"
      ]
     },
     "metadata": {},
     "output_type": "display_data"
    },
    {
     "data": {
      "application/vnd.jupyter.widget-view+json": {
       "model_id": "4a47f102e1be4fe78ee763440319470b",
       "version_major": 2,
       "version_minor": 0
      },
      "text/plain": [
       "Validation: |          | 0/? [00:00<?, ?it/s]"
      ]
     },
     "metadata": {},
     "output_type": "display_data"
    },
    {
     "data": {
      "application/vnd.jupyter.widget-view+json": {
       "model_id": "f09c83cc00ff44ca84e7e228a90ac8de",
       "version_major": 2,
       "version_minor": 0
      },
      "text/plain": [
       "Validation: |          | 0/? [00:00<?, ?it/s]"
      ]
     },
     "metadata": {},
     "output_type": "display_data"
    },
    {
     "data": {
      "application/vnd.jupyter.widget-view+json": {
       "model_id": "88f561496adf41478dd3557659d20d7f",
       "version_major": 2,
       "version_minor": 0
      },
      "text/plain": [
       "Validation: |          | 0/? [00:00<?, ?it/s]"
      ]
     },
     "metadata": {},
     "output_type": "display_data"
    },
    {
     "data": {
      "application/vnd.jupyter.widget-view+json": {
       "model_id": "5aaf1467f5ba4b04bef0b19b71dc426a",
       "version_major": 2,
       "version_minor": 0
      },
      "text/plain": [
       "Validation: |          | 0/? [00:00<?, ?it/s]"
      ]
     },
     "metadata": {},
     "output_type": "display_data"
    },
    {
     "data": {
      "application/vnd.jupyter.widget-view+json": {
       "model_id": "1d3c16669e1f431d9b34ff378458a1ba",
       "version_major": 2,
       "version_minor": 0
      },
      "text/plain": [
       "Validation: |          | 0/? [00:00<?, ?it/s]"
      ]
     },
     "metadata": {},
     "output_type": "display_data"
    },
    {
     "data": {
      "application/vnd.jupyter.widget-view+json": {
       "model_id": "f0a90768564546b1890622a84ca887e7",
       "version_major": 2,
       "version_minor": 0
      },
      "text/plain": [
       "Validation: |          | 0/? [00:00<?, ?it/s]"
      ]
     },
     "metadata": {},
     "output_type": "display_data"
    },
    {
     "data": {
      "application/vnd.jupyter.widget-view+json": {
       "model_id": "c6aa3109e6074b42a8aa8625be04d0e5",
       "version_major": 2,
       "version_minor": 0
      },
      "text/plain": [
       "Validation: |          | 0/? [00:00<?, ?it/s]"
      ]
     },
     "metadata": {},
     "output_type": "display_data"
    },
    {
     "data": {
      "application/vnd.jupyter.widget-view+json": {
       "model_id": "0e1cf8df7f564eee9d7592fa0b3ab999",
       "version_major": 2,
       "version_minor": 0
      },
      "text/plain": [
       "Validation: |          | 0/? [00:00<?, ?it/s]"
      ]
     },
     "metadata": {},
     "output_type": "display_data"
    },
    {
     "data": {
      "application/vnd.jupyter.widget-view+json": {
       "model_id": "f6a0f63702c64fac873b99fa824d80a2",
       "version_major": 2,
       "version_minor": 0
      },
      "text/plain": [
       "Validation: |          | 0/? [00:00<?, ?it/s]"
      ]
     },
     "metadata": {},
     "output_type": "display_data"
    },
    {
     "data": {
      "application/vnd.jupyter.widget-view+json": {
       "model_id": "904a436cd6504bef84943cd1f4a72217",
       "version_major": 2,
       "version_minor": 0
      },
      "text/plain": [
       "Validation: |          | 0/? [00:00<?, ?it/s]"
      ]
     },
     "metadata": {},
     "output_type": "display_data"
    },
    {
     "data": {
      "application/vnd.jupyter.widget-view+json": {
       "model_id": "cc30c19c355f4cddbbe439abf5677a43",
       "version_major": 2,
       "version_minor": 0
      },
      "text/plain": [
       "Validation: |          | 0/? [00:00<?, ?it/s]"
      ]
     },
     "metadata": {},
     "output_type": "display_data"
    },
    {
     "data": {
      "application/vnd.jupyter.widget-view+json": {
       "model_id": "f6c4360c44934d32aeeca36a0ff2e403",
       "version_major": 2,
       "version_minor": 0
      },
      "text/plain": [
       "Validation: |          | 0/? [00:00<?, ?it/s]"
      ]
     },
     "metadata": {},
     "output_type": "display_data"
    },
    {
     "data": {
      "application/vnd.jupyter.widget-view+json": {
       "model_id": "3e0d60dc7f13453792200fb38fd20f7a",
       "version_major": 2,
       "version_minor": 0
      },
      "text/plain": [
       "Validation: |          | 0/? [00:00<?, ?it/s]"
      ]
     },
     "metadata": {},
     "output_type": "display_data"
    },
    {
     "name": "stderr",
     "output_type": "stream",
     "text": [
      "`Trainer.fit` stopped: `max_epochs=300` reached.\n"
     ]
    },
    {
     "name": "stdout",
     "output_type": "stream",
     "text": [
      "Best model checkpoint path: logs/contrastive_loss_pretext_task/version_2/checkpoints/epoch=0-train_loss=6.89-train_f1=0.00-val_loss=8.00-val_f1=0.00.ckpt\n"
     ]
    }
   ],
   "source": [
    "# train pretext model with default parameters\n",
    "model = train_pretext_model(\n",
    "    pretext_task_title='morenoise_contrastive_loss_ShallowNet_pretext_model',\n",
    "    pretext_task='contrastive_loss',\n",
    "    max_epochs=300,\n",
    "    data_train=data_train,\n",
    "    data_val=data_val,\n",
    "    batch_size=1244,\n",
    "    learning_rate=0.001,\n",
    "    dropout=0.25,\n",
    "    weight_decay=0,\n",
    "    store_weights=(True, True),\n",
    "    pretext_model='ShallowNet',\n",
    "    loss='contrastive_loss',\n",
    ")"
   ]
  },
  {
   "cell_type": "code",
   "execution_count": 12,
   "metadata": {
    "execution": {
     "iopub.execute_input": "2024-10-21T09:36:40.055500Z",
     "iopub.status.busy": "2024-10-21T09:36:40.055338Z",
     "iopub.status.idle": "2024-10-21T09:36:40.332607Z",
     "shell.execute_reply": "2024-10-21T09:36:40.332189Z",
     "shell.execute_reply.started": "2024-10-21T09:36:40.055482Z"
    }
   },
   "outputs": [
    {
     "name": "stdout",
     "output_type": "stream",
     "text": [
      "F1 score columns not found in the metrics file.\n"
     ]
    },
    {
     "data": {
      "image/png": "[encoded data removed]",
      "text/plain": [
       "<Figure size 1000x1000 with 2 Axes>"
      ]
     },
     "metadata": {},
     "output_type": "display_data"
    }
   ],
   "source": [
    "# plot training curves\n",
    "plot_training_curves('logs/contrastive_loss_pretext_task/version_2/metrics.csv')"
   ]
  },
  {
   "cell_type": "code",
   "execution_count": 13,
   "metadata": {
    "execution": {
     "iopub.execute_input": "2024-10-21T09:36:40.333313Z",
     "iopub.status.busy": "2024-10-21T09:36:40.333163Z",
     "iopub.status.idle": "2024-10-21T09:36:40.337638Z",
     "shell.execute_reply": "2024-10-21T09:36:40.337235Z",
     "shell.execute_reply.started": "2024-10-21T09:36:40.333297Z"
    }
   },
   "outputs": [],
   "source": [
    "# clear GPU memory after training the model\n",
    "del dataset\n",
    "del data_train\n",
    "del data_val\n",
    "del data_test\n",
    "torch.cuda.empty_cache()"
   ]
  }
 ],
 "metadata": {
  "kernelspec": {
   "display_name": "py3117",
   "language": "python",
   "name": "py3117"
  },
  "language_info": {
   "codemirror_mode": {
    "name": "ipython",
    "version": 3
   },
   "file_extension": ".py",
   "mimetype": "text/x-python",
   "name": "python",
   "nbconvert_exporter": "python",
   "pygments_lexer": "ipython3",
   "version": "3.11.7"
  }
 },
 "nbformat": 4,
 "nbformat_minor": 4
}
